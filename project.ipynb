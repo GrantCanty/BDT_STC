{
  "nbformat": 4,
  "nbformat_minor": 0,
  "metadata": {
    "colab": {
      "provenance": [],
      "collapsed_sections": [
        "O-6yNFg6jypx",
        "RcFKCshBj4CL",
        "Y2e07NAJ97N0",
        "9YiVrXxiobGV",
        "_b6Vgh1xaqE0",
        "pUw60XWjiQi1",
        "FPa0zISypAH3",
        "H4p631oWdXVm",
        "5Wv0zQKu52-X",
        "bChvmyL49vU7",
        "be4_1uDk3STj",
        "MF6wh5X2R3tL"
      ],
      "gpuType": "T4",
      "include_colab_link": true
    },
    "kernelspec": {
      "name": "python3",
      "display_name": "Python 3"
    },
    "language_info": {
      "name": "python"
    },
    "accelerator": "GPU"
  },
  "cells": [
    {
      "cell_type": "markdown",
      "metadata": {
        "id": "view-in-github",
        "colab_type": "text"
      },
      "source": [
        "<a href=\"https://colab.research.google.com/github/GrantCanty/BDT_STC/blob/main/project.ipynb\" target=\"_parent\"><img src=\"https://colab.research.google.com/assets/colab-badge.svg\" alt=\"Open In Colab\"/></a>"
      ]
    },
    {
      "cell_type": "markdown",
      "source": [
        "#Getting Started"
      ],
      "metadata": {
        "id": "me_vG3OPjvMt"
      }
    },
    {
      "cell_type": "markdown",
      "source": [
        "##Import needed modules"
      ],
      "metadata": {
        "id": "O-6yNFg6jypx"
      }
    },
    {
      "cell_type": "code",
      "source": [
        "! pip install opencage\n",
        "! pip install herepy"
      ],
      "metadata": {
        "colab": {
          "base_uri": "https://localhost:8080/"
        },
        "id": "aMGviaalXpkU",
        "outputId": "8cd70fb6-18a6-4575-86ee-3897e7d3ffb8"
      },
      "execution_count": 4,
      "outputs": [
        {
          "output_type": "stream",
          "name": "stdout",
          "text": [
            "Requirement already satisfied: opencage in /usr/local/lib/python3.11/dist-packages (3.0.4)\n",
            "Requirement already satisfied: Requests>=2.31.0 in /usr/local/lib/python3.11/dist-packages (from opencage) (2.32.3)\n",
            "Requirement already satisfied: backoff>=2.2.1 in /usr/local/lib/python3.11/dist-packages (from opencage) (2.2.1)\n",
            "Requirement already satisfied: tqdm>=4.66.4 in /usr/local/lib/python3.11/dist-packages (from opencage) (4.67.1)\n",
            "Requirement already satisfied: certifi>=2024.07.04 in /usr/local/lib/python3.11/dist-packages (from opencage) (2025.1.31)\n",
            "Requirement already satisfied: aiohttp>=3.10.5 in /usr/local/lib/python3.11/dist-packages (from opencage) (3.11.12)\n",
            "Requirement already satisfied: aiohappyeyeballs>=2.3.0 in /usr/local/lib/python3.11/dist-packages (from aiohttp>=3.10.5->opencage) (2.4.6)\n",
            "Requirement already satisfied: aiosignal>=1.1.2 in /usr/local/lib/python3.11/dist-packages (from aiohttp>=3.10.5->opencage) (1.3.2)\n",
            "Requirement already satisfied: attrs>=17.3.0 in /usr/local/lib/python3.11/dist-packages (from aiohttp>=3.10.5->opencage) (25.1.0)\n",
            "Requirement already satisfied: frozenlist>=1.1.1 in /usr/local/lib/python3.11/dist-packages (from aiohttp>=3.10.5->opencage) (1.5.0)\n",
            "Requirement already satisfied: multidict<7.0,>=4.5 in /usr/local/lib/python3.11/dist-packages (from aiohttp>=3.10.5->opencage) (6.1.0)\n",
            "Requirement already satisfied: propcache>=0.2.0 in /usr/local/lib/python3.11/dist-packages (from aiohttp>=3.10.5->opencage) (0.2.1)\n",
            "Requirement already satisfied: yarl<2.0,>=1.17.0 in /usr/local/lib/python3.11/dist-packages (from aiohttp>=3.10.5->opencage) (1.18.3)\n",
            "Requirement already satisfied: charset-normalizer<4,>=2 in /usr/local/lib/python3.11/dist-packages (from Requests>=2.31.0->opencage) (3.4.1)\n",
            "Requirement already satisfied: idna<4,>=2.5 in /usr/local/lib/python3.11/dist-packages (from Requests>=2.31.0->opencage) (3.10)\n",
            "Requirement already satisfied: urllib3<3,>=1.21.1 in /usr/local/lib/python3.11/dist-packages (from Requests>=2.31.0->opencage) (2.3.0)\n",
            "Requirement already satisfied: herepy in /usr/local/lib/python3.11/dist-packages (3.6.5)\n",
            "Requirement already satisfied: Requests<3,>=2.25.1 in /usr/local/lib/python3.11/dist-packages (from herepy) (2.32.3)\n",
            "Requirement already satisfied: charset-normalizer<4,>=2 in /usr/local/lib/python3.11/dist-packages (from Requests<3,>=2.25.1->herepy) (3.4.1)\n",
            "Requirement already satisfied: idna<4,>=2.5 in /usr/local/lib/python3.11/dist-packages (from Requests<3,>=2.25.1->herepy) (3.10)\n",
            "Requirement already satisfied: urllib3<3,>=1.21.1 in /usr/local/lib/python3.11/dist-packages (from Requests<3,>=2.25.1->herepy) (2.3.0)\n",
            "Requirement already satisfied: certifi>=2017.4.17 in /usr/local/lib/python3.11/dist-packages (from Requests<3,>=2.25.1->herepy) (2025.1.31)\n"
          ]
        }
      ]
    },
    {
      "cell_type": "code",
      "execution_count": 5,
      "metadata": {
        "id": "iAw2eknPhuqc"
      },
      "outputs": [],
      "source": [
        "import duckdb\n",
        "from google.colab import drive\n",
        "import pandas as pd\n",
        "import calendar\n",
        "import gdown\n",
        "import matplotlib.pyplot as plt\n",
        "import seaborn as sns\n",
        "import re\n",
        "import herepy\n",
        "import time as t\n",
        "from opencage.geocoder import OpenCageGeocode\n",
        "import numpy as np\n",
        "from packaging import version\n",
        "import tensorflow as tf\n",
        "import sys\n",
        "import sklearn.preprocessing as pre\n",
        "\n",
        "assert version.parse(tf.__version__) >= version.parse(\"2.8.0\")"
      ]
    },
    {
      "cell_type": "code",
      "source": [
        "if not tf.config.list_physical_devices('GPU'):\n",
        "    print(\"No GPU was detected. Neural nets can be very slow without a GPU.\")\n",
        "    if \"google.colab\" in sys.modules:\n",
        "        print(\"Go to Runtime > Change runtime and select a GPU hardware \"\n",
        "              \"accelerator.\")\n",
        "    if \"kaggle_secrets\" in sys.modules:\n",
        "        print(\"Go to Settings > Accelerator and select GPU.\")"
      ],
      "metadata": {
        "id": "F3opzYCW9vYE"
      },
      "execution_count": 6,
      "outputs": []
    },
    {
      "cell_type": "markdown",
      "source": [
        "#Create data warehouse"
      ],
      "metadata": {
        "id": "RcFKCshBj4CL"
      }
    },
    {
      "cell_type": "markdown",
      "source": [
        "##Download files"
      ],
      "metadata": {
        "id": "Y2e07NAJ97N0"
      }
    },
    {
      "cell_type": "code",
      "source": [
        "SHARED_FOLDER_ID = \"13rT3mFZ2AKhQe3BOQkAxn8mnN3-kd3Yt\"\n",
        "gdown.download_folder(f'https://drive.google.com/drive/folders/{SHARED_FOLDER_ID}')\n",
        "conn = duckdb.connect('bdt_project/my_database.db')"
      ],
      "metadata": {
        "id": "STBjTsBRiWZH",
        "colab": {
          "base_uri": "https://localhost:8080/"
        },
        "outputId": "5b607590-5c5b-4600-a35c-7ae1a83b399a"
      },
      "execution_count": 7,
      "outputs": [
        {
          "output_type": "stream",
          "name": "stderr",
          "text": [
            "Retrieving folder contents\n"
          ]
        },
        {
          "output_type": "stream",
          "name": "stdout",
          "text": [
            "Processing file 15GNjvmlMb9bgIf6VFXlKDoiU-m1oo7Td 1-s2.0-S0303264718301333-main.pdf\n",
            "Processing file 1xczJQ7N_H_UrnMnmrT0NR0bZuLeZVAQZNWvgsUvmoEE BDT - Slide report template\n",
            "Processing file 1sXnmIhCoVRuZmQPhT8enRk8_eNkMM3mT bins_and_garages.csv\n",
            "Processing file 1GCJjr8yJR23ZWTgM-gX5Z3FFQU42-v70 Borough_And_Community_District_Size.csv\n",
            "Processing file 1WrFDqdkVc1PEjRj7jSlKQw-1XI6ZDzOPUUFqcFmODYs Borough_And_Community_zip\n",
            "Processing file 1OAr8CDu9FRQ62HRzCgvHcvit9Cfpz4Mx DSNY_Frequencies_20250210.csv\n",
            "Processing file 1ov7qV3Pl1Qx9d4Gt9OGhh-NbQVBP_KMm DSNY_Garages_20250210.csv\n",
            "Processing file 1e_sRi1MpDGDQApu0641nGqHs0Nyfy-2j DSNY_Monthly_Tonnage_Data.csv\n",
            "Processing file 1TZ46-LAHdmNyt_ct4XIas9Ab_NlT3GZL DSNY_Special_Waste_Drop-off_Sites_20250204.csv\n",
            "Processing file 1LBRYIoisJE1dy8ohYHrPRwpPLygpqNng graph.json\n",
            "Processing file 1cXXZSKWFNU2snujiczMLpifFkM5V8Ob_ Location_of_Disposal_Facilities_and_Sites_Used_for_DSNY-Managed_Waste_20250210.csv\n",
            "Processing file 1-47JasxsUfpjP6NDFrWzRugeXIq_JiZe my_database.db\n",
            "Processing file 1-5pMsQii9m8v0gunEwGMUmhhzTayEp4C my_database.db.wal\n",
            "Processing file 17kZ7i96GNCG-OkOdPf8FbiWX-I9Iooyp New_York_City_Population_by_Borough__1950_-_2040_20250204.csv\n",
            "Processing file 1t9IYm5ekME8iiLPRpQWA8AJRejLlSvna New_York_City_Population_By_Community_Districts_20250204.csv\n",
            "Processing file 1njgBPWDGzw-Lmh-Y6Dq1HN_h4qBEWX3e NYC_Central_Park_weather_1869-2022.csv\n",
            "Processing file 13QI7r0Mu7qkGmZA22i_Zas5ou0Suz9D4 project.ipynb\n",
            "Processing file 1vp10FXPs9NAIDJ5Hda3uTAZ5WV9WM7Jg Public_Recycling_Bins_20250204.csv\n",
            "Processing file 1iIxXFSzpR-u9jFPisP_5r28K7YP3JcTy Recycling_Diversion_and_Capture_Rates_20250204.csv\n",
            "Processing file 1jLw-TiFTbzCGt-HwXmVGfEiDUHOLsGXc temp_df.csv\n",
            "Processing file 174A6eZ2LeuB7iLWVoMvmFeQZf9pbYhgn temp_scaled_test.csv\n",
            "Processing file 1pQUoptdM2DJJ5S88LRSzk2o_1NAvkeVv temp_scaled_train.csv\n"
          ]
        },
        {
          "output_type": "stream",
          "name": "stderr",
          "text": [
            "Retrieving folder contents completed\n",
            "Building directory structure\n",
            "Building directory structure completed\n",
            "Downloading...\n",
            "From: https://drive.google.com/uc?id=15GNjvmlMb9bgIf6VFXlKDoiU-m1oo7Td\n",
            "To: /content/bdt_project/1-s2.0-S0303264718301333-main.pdf\n",
            "100%|██████████| 2.83M/2.83M [00:00<00:00, 35.5MB/s]\n",
            "Downloading...\n",
            "From (original): https://drive.google.com/uc?id=1xczJQ7N_H_UrnMnmrT0NR0bZuLeZVAQZNWvgsUvmoEE\n",
            "From (redirected): https://docs.google.com/presentation/d/1xczJQ7N_H_UrnMnmrT0NR0bZuLeZVAQZNWvgsUvmoEE/export?format=pptx\n",
            "To: /content/bdt_project/BDT - Slide report template\n",
            "60.0kB [00:00, 1.49MB/s]\n",
            "Downloading...\n",
            "From: https://drive.google.com/uc?id=1sXnmIhCoVRuZmQPhT8enRk8_eNkMM3mT\n",
            "To: /content/bdt_project/bins_and_garages.csv\n",
            "100%|██████████| 8.86k/8.86k [00:00<00:00, 21.7MB/s]\n",
            "Downloading...\n",
            "From: https://drive.google.com/uc?id=1GCJjr8yJR23ZWTgM-gX5Z3FFQU42-v70\n",
            "To: /content/bdt_project/Borough_And_Community_District_Size.csv\n",
            "100%|██████████| 946/946 [00:00<00:00, 3.83MB/s]\n",
            "Downloading...\n",
            "From (original): https://drive.google.com/uc?id=1WrFDqdkVc1PEjRj7jSlKQw-1XI6ZDzOPUUFqcFmODYs\n",
            "From (redirected): https://docs.google.com/spreadsheets/d/1WrFDqdkVc1PEjRj7jSlKQw-1XI6ZDzOPUUFqcFmODYs/export?format=xlsx\n",
            "To: /content/bdt_project/Borough_And_Community_zip\n",
            "5.67kB [00:00, 19.8MB/s]\n",
            "Downloading...\n",
            "From: https://drive.google.com/uc?id=1OAr8CDu9FRQ62HRzCgvHcvit9Cfpz4Mx\n",
            "To: /content/bdt_project/DSNY_Frequencies_20250210.csv\n",
            "100%|██████████| 16.1M/16.1M [00:00<00:00, 35.9MB/s]\n",
            "Downloading...\n",
            "From: https://drive.google.com/uc?id=1ov7qV3Pl1Qx9d4Gt9OGhh-NbQVBP_KMm\n",
            "To: /content/bdt_project/DSNY_Garages_20250210.csv\n",
            "100%|██████████| 9.91k/9.91k [00:00<00:00, 27.1MB/s]\n",
            "Downloading...\n",
            "From: https://drive.google.com/uc?id=1e_sRi1MpDGDQApu0641nGqHs0Nyfy-2j\n",
            "To: /content/bdt_project/DSNY_Monthly_Tonnage_Data.csv\n",
            "100%|██████████| 1.12M/1.12M [00:00<00:00, 109MB/s]\n",
            "Downloading...\n",
            "From: https://drive.google.com/uc?id=1TZ46-LAHdmNyt_ct4XIas9Ab_NlT3GZL\n",
            "To: /content/bdt_project/DSNY_Special_Waste_Drop-off_Sites_20250204.csv\n",
            "100%|██████████| 891/891 [00:00<00:00, 3.86MB/s]\n",
            "Downloading...\n",
            "From: https://drive.google.com/uc?id=1LBRYIoisJE1dy8ohYHrPRwpPLygpqNng\n",
            "To: /content/bdt_project/graph.json\n",
            "100%|██████████| 163k/163k [00:00<00:00, 67.6MB/s]\n",
            "Downloading...\n",
            "From: https://drive.google.com/uc?id=1cXXZSKWFNU2snujiczMLpifFkM5V8Ob_\n",
            "To: /content/bdt_project/Location_of_Disposal_Facilities_and_Sites_Used_for_DSNY-Managed_Waste_20250210.csv\n",
            "100%|██████████| 5.70k/5.70k [00:00<00:00, 5.28MB/s]\n",
            "Downloading...\n",
            "From: https://drive.google.com/uc?id=1-47JasxsUfpjP6NDFrWzRugeXIq_JiZe\n",
            "To: /content/bdt_project/my_database.db\n",
            "100%|██████████| 12.3k/12.3k [00:00<00:00, 30.6MB/s]\n",
            "Downloading...\n",
            "From: https://drive.google.com/uc?id=1-5pMsQii9m8v0gunEwGMUmhhzTayEp4C\n",
            "To: /content/bdt_project/my_database.db.wal\n",
            "100%|██████████| 15.8M/15.8M [00:00<00:00, 26.8MB/s]\n",
            "Downloading...\n",
            "From: https://drive.google.com/uc?id=17kZ7i96GNCG-OkOdPf8FbiWX-I9Iooyp\n",
            "To: /content/bdt_project/New_York_City_Population_by_Borough__1950_-_2040_20250204.csv\n",
            "100%|██████████| 1.34k/1.34k [00:00<00:00, 3.85MB/s]\n",
            "Downloading...\n",
            "From: https://drive.google.com/uc?id=1t9IYm5ekME8iiLPRpQWA8AJRejLlSvna\n",
            "To: /content/bdt_project/New_York_City_Population_By_Community_Districts_20250204.csv\n",
            "100%|██████████| 4.38k/4.38k [00:00<00:00, 3.83MB/s]\n",
            "Downloading...\n",
            "From: https://drive.google.com/uc?id=1njgBPWDGzw-Lmh-Y6Dq1HN_h4qBEWX3e\n",
            "To: /content/bdt_project/NYC_Central_Park_weather_1869-2022.csv\n",
            "100%|██████████| 1.33M/1.33M [00:00<00:00, 143MB/s]\n",
            "Downloading...\n",
            "From: https://drive.google.com/uc?id=13QI7r0Mu7qkGmZA22i_Zas5ou0Suz9D4\n",
            "To: /content/bdt_project/project.ipynb\n",
            "100%|██████████| 278k/278k [00:00<00:00, 86.9MB/s]\n",
            "Downloading...\n",
            "From: https://drive.google.com/uc?id=1vp10FXPs9NAIDJ5Hda3uTAZ5WV9WM7Jg\n",
            "To: /content/bdt_project/Public_Recycling_Bins_20250204.csv\n",
            "100%|██████████| 9.55k/9.55k [00:00<00:00, 16.2MB/s]\n",
            "Downloading...\n",
            "From: https://drive.google.com/uc?id=1iIxXFSzpR-u9jFPisP_5r28K7YP3JcTy\n",
            "To: /content/bdt_project/Recycling_Diversion_and_Capture_Rates_20250204.csv\n",
            "100%|██████████| 145k/145k [00:00<00:00, 57.9MB/s]\n",
            "Downloading...\n",
            "From: https://drive.google.com/uc?id=1jLw-TiFTbzCGt-HwXmVGfEiDUHOLsGXc\n",
            "To: /content/bdt_project/temp_df.csv\n",
            "100%|██████████| 75.2M/75.2M [00:01<00:00, 67.1MB/s]\n",
            "Downloading...\n",
            "From: https://drive.google.com/uc?id=174A6eZ2LeuB7iLWVoMvmFeQZf9pbYhgn\n",
            "To: /content/bdt_project/temp_scaled_test.csv\n",
            "100%|██████████| 26.5M/26.5M [00:00<00:00, 55.8MB/s]\n",
            "Downloading...\n",
            "From (original): https://drive.google.com/uc?id=1pQUoptdM2DJJ5S88LRSzk2o_1NAvkeVv\n",
            "From (redirected): https://drive.google.com/uc?id=1pQUoptdM2DJJ5S88LRSzk2o_1NAvkeVv&confirm=t&uuid=00046bc4-e9bd-462d-bbc4-447182357f09\n",
            "To: /content/bdt_project/temp_scaled_train.csv\n",
            "100%|██████████| 177M/177M [00:02<00:00, 77.9MB/s]\n",
            "Download completed\n"
          ]
        }
      ]
    },
    {
      "cell_type": "markdown",
      "source": [
        "##Make tables"
      ],
      "metadata": {
        "id": "9YiVrXxiobGV"
      }
    },
    {
      "cell_type": "markdown",
      "source": [
        "###Make Weather table"
      ],
      "metadata": {
        "id": "3YWYLR88sVHs"
      }
    },
    {
      "cell_type": "code",
      "source": [
        "table_name = \"weather\"\n",
        "conn.execute(f\"\"\"\n",
        "CREATE TABLE IF NOT EXISTS {table_name} (\n",
        "  date DATE,\n",
        "  precipitation FLOAT,\n",
        "  snow_fall FLOAT,\n",
        "  snow_depth FLOAT,\n",
        "  min_temp FLOAT,\n",
        "  max_temp FLOAT,\n",
        ");\"\"\"\n",
        ")"
      ],
      "metadata": {
        "colab": {
          "base_uri": "https://localhost:8080/"
        },
        "id": "Dfzcbc-Qn3Fv",
        "outputId": "d6aa2ee5-b079-4450-b058-852139b86bf8"
      },
      "execution_count": null,
      "outputs": [
        {
          "output_type": "execute_result",
          "data": {
            "text/plain": [
              "<duckdb.duckdb.DuckDBPyConnection at 0x7edfffeb05f0>"
            ]
          },
          "metadata": {},
          "execution_count": 6
        }
      ]
    },
    {
      "cell_type": "code",
      "source": [
        "# clear table and load data\n",
        "conn.execute(f\"TRUNCATE TABLE {table_name};\")\n",
        "conn.execute(f\"COPY {table_name} FROM '/content/bdt_project/NYC_Central_Park_weather_1869-2022.csv' (AUTO_DETECT TRUE, HEADER TRUE);\")"
      ],
      "metadata": {
        "colab": {
          "base_uri": "https://localhost:8080/"
        },
        "id": "KIWfj6ClzgdG",
        "outputId": "9157d336-93a1-49c8-e706-a13fa3ae0225"
      },
      "execution_count": null,
      "outputs": [
        {
          "output_type": "execute_result",
          "data": {
            "text/plain": [
              "<duckdb.duckdb.DuckDBPyConnection at 0x7edfffeb05f0>"
            ]
          },
          "metadata": {},
          "execution_count": 7
        }
      ]
    },
    {
      "cell_type": "markdown",
      "source": [
        "###Make tonnage table\n",
        "mgp tons is metal, glass, plastic\n"
      ],
      "metadata": {
        "id": "IZUEKQkpowKR"
      }
    },
    {
      "cell_type": "code",
      "source": [
        "table_name = \"tonnage\"\n",
        "conn.execute(f\"\"\"\n",
        "CREATE TABLE IF NOT EXISTS {table_name} (\n",
        "  date DATE,\n",
        "  borough_name STRING,\n",
        "  community_district STRING,\n",
        "  refuse_tons DOUBLE,\n",
        "  paper_tons DOUBLE,\n",
        "  mgp_tons DOUBLE,\n",
        "  res_organic_tons DOUBLE,\n",
        "  school_organic_tons DOUBLE,\n",
        "  leaves_tons DOUBLE,\n",
        "  xmas_tree_tons DOUBLE,\n",
        "  borough_id INTEGER\n",
        ");\"\"\"\n",
        ")"
      ],
      "metadata": {
        "colab": {
          "base_uri": "https://localhost:8080/"
        },
        "id": "vt_pf-WCo1Bw",
        "outputId": "93cd3736-c81a-4a03-8d7d-870a39a8f7ab"
      },
      "execution_count": null,
      "outputs": [
        {
          "output_type": "execute_result",
          "data": {
            "text/plain": [
              "<duckdb.duckdb.DuckDBPyConnection at 0x7edfffeb05f0>"
            ]
          },
          "metadata": {},
          "execution_count": 8
        }
      ]
    },
    {
      "cell_type": "code",
      "source": [
        "transform = pd.read_csv('/content/bdt_project/DSNY_Monthly_Tonnage_Data.csv')\n",
        "\n",
        "transform.rename(columns={\n",
        "    'MONTH': 'date',\n",
        "    'BOROUGH': 'borough_name',\n",
        "    'COMMUNITYDISTRICT': 'community_district',\n",
        "    'REFUSETONSCOLLECTED': 'refuse_tons',\n",
        "    'PAPERTONSCOLLECTED': 'paper_tons',\n",
        "    'MGPTONSCOLLECTED': 'mgp_tons',\n",
        "    'RESORGANICSTONS': 'res_organic_tons',\n",
        "    'SCHOOLORGANICTONS': 'school_organic_tons',\n",
        "    'LEAVESORGANICTONS': 'leaves_tons',\n",
        "    'XMASTREETONS': 'xmas_tree_tons',\n",
        "    'BOROUGH_ID': 'borough_id'\n",
        "}, inplace=True)\n",
        "\n",
        "transform['date'] = transform['date'].apply(lambda x: f\"{x} / {calendar.monthrange(int(x[:4]), int(x[-2:]))[1]}\")\n",
        "transform['date'] = pd.to_datetime(transform['date'], format='%Y / %m / %d')\n",
        "\n",
        "transform.to_csv('temp_tonnage_data.csv', index=False)"
      ],
      "metadata": {
        "id": "npZZ6X1azpTj"
      },
      "execution_count": null,
      "outputs": []
    },
    {
      "cell_type": "code",
      "source": [
        "conn.execute(f\"TRUNCATE TABLE {table_name};\")\n",
        "conn.execute(f\"COPY {table_name} FROM 'temp_tonnage_data.csv' (AUTO_DETECT TRUE, HEADER TRUE)\")"
      ],
      "metadata": {
        "colab": {
          "base_uri": "https://localhost:8080/"
        },
        "id": "CfzPZB0zzsbj",
        "outputId": "92689580-7c36-41b4-8ee9-ef733019fd79"
      },
      "execution_count": null,
      "outputs": [
        {
          "output_type": "execute_result",
          "data": {
            "text/plain": [
              "<duckdb.duckdb.DuckDBPyConnection at 0x7edfffeb05f0>"
            ]
          },
          "metadata": {},
          "execution_count": 10
        }
      ]
    },
    {
      "cell_type": "markdown",
      "source": [
        "###Make recycling and diversion rates tables"
      ],
      "metadata": {
        "id": "VLsHaPxy-aFx"
      }
    },
    {
      "cell_type": "code",
      "source": [
        "table_name = \"recycling\"\n",
        "conn.execute(f\"\"\"\n",
        "CREATE TABLE IF NOT EXISTS {table_name} (\n",
        "  zone STRING,\n",
        "  district STRING,\n",
        "  total_diversion_rate FLOAT,\n",
        "  paper_capture_rate FLOAT,\n",
        "  mgp_capture_rate FLOAT,\n",
        "  total_caputre_rate FLOAT,\n",
        "  date DATE\n",
        ");\"\"\"\n",
        ")"
      ],
      "metadata": {
        "colab": {
          "base_uri": "https://localhost:8080/"
        },
        "id": "b4UDl0mt-zj-",
        "outputId": "8b0312af-da81-47f1-b287-7c5fba6af086"
      },
      "execution_count": null,
      "outputs": [
        {
          "output_type": "execute_result",
          "data": {
            "text/plain": [
              "<duckdb.duckdb.DuckDBPyConnection at 0x7edfffeb05f0>"
            ]
          },
          "metadata": {},
          "execution_count": 11
        }
      ]
    },
    {
      "cell_type": "code",
      "source": [
        "transform = pd.read_csv('/content/bdt_project/Recycling_Diversion_and_Capture_Rates_20250204.csv')\n",
        "\n",
        "transform.rename(columns={\n",
        "    'Zone': 'zone',\n",
        "    'District': 'district',\n",
        "    'Fiscal Month Number': 'month',\n",
        "    'Fiscal Year': 'year',\n",
        "    'Month Name': 'month_name',\n",
        "    'Diversion Rate-Total (Total Recycling / Total Waste)': 'total_diversion_rate',\n",
        "    'Capture Rate-Paper (Total Paper / Max Paper)': 'paper_capture_rate',\n",
        "    'Capture Rate-MGP (Total MGP / Max MGP)': 'mgp_capture_rate',\n",
        "    'Capture Rate-Total ((Total Recycling - Leaves (Recycling)) / (Max Paper + Max MGP))x100': 'total_caputre_rate'\n",
        "}, inplace=True)\n",
        "\n",
        "transform['month'] = transform['month'].apply(lambda x: (x + 6) % 12)\n",
        "transform['month'] = transform['month'].apply(lambda x: 12 if x == 0 else x)\n",
        "\n",
        "transform['date'] = transform.apply(lambda x: f\"{x['year']}-{x['month']}-{calendar.monthrange(x['year'], x['month'])[1] }\", axis=1)\n",
        "transform['date'] = pd.to_datetime(transform['date'], format='%Y-%m-%d')\n",
        "transform.drop(columns=['month', 'month_name', 'year'], inplace=True)\n",
        "\n",
        "transform.to_csv('temp_recycling_data.csv', index=False)"
      ],
      "metadata": {
        "id": "WwSw-XAK_wBE"
      },
      "execution_count": null,
      "outputs": []
    },
    {
      "cell_type": "code",
      "source": [
        "conn.execute(f\"TRUNCATE TABLE {table_name};\")\n",
        "conn.execute(f\"COPY {table_name} FROM 'temp_recycling_data.csv' (AUTO_DETECT TRUE, HEADER TRUE)\")"
      ],
      "metadata": {
        "colab": {
          "base_uri": "https://localhost:8080/"
        },
        "id": "MsGnhObMISxm",
        "outputId": "6dd974cf-69a7-4b37-eae7-343cd3b0e14f"
      },
      "execution_count": null,
      "outputs": [
        {
          "output_type": "execute_result",
          "data": {
            "text/plain": [
              "<duckdb.duckdb.DuckDBPyConnection at 0x7edfffeb05f0>"
            ]
          },
          "metadata": {},
          "execution_count": 13
        }
      ]
    },
    {
      "cell_type": "markdown",
      "source": [
        "###Make population table"
      ],
      "metadata": {
        "id": "cuOh_4RdzzcM"
      }
    },
    {
      "cell_type": "code",
      "source": [
        "table_name = \"population\"\n",
        "conn.execute(f\"\"\"\n",
        "CREATE TABLE IF NOT EXISTS {table_name} (\n",
        "  Borough STRING,\n",
        "  CD_Number INTEGER,\n",
        "  CD_Name STRING,\n",
        "  Population_1970 INTEGER,\n",
        "  Population_1980 INTEGER,\n",
        "  Population_1990 INTEGER,\n",
        "  Population_2000 INTEGER,\n",
        "  Population_2010 INTEGER,\n",
        ");\"\"\"\n",
        ")"
      ],
      "metadata": {
        "colab": {
          "base_uri": "https://localhost:8080/"
        },
        "id": "g0BdGppN0Vqf",
        "outputId": "df44f5a0-5c9d-4496-a72e-0da502de7bad"
      },
      "execution_count": null,
      "outputs": [
        {
          "output_type": "execute_result",
          "data": {
            "text/plain": [
              "<duckdb.duckdb.DuckDBPyConnection at 0x7edfffeb05f0>"
            ]
          },
          "metadata": {},
          "execution_count": 14
        }
      ]
    },
    {
      "cell_type": "code",
      "source": [
        "transform = pd.read_csv('/content/bdt_project/New_York_City_Population_By_Community_Districts_20250204.csv')\n",
        "\n",
        "transform.rename(columns={\n",
        "    'Borough': 'Borough',\n",
        "    'CD Number': 'CD_Number',\n",
        "    'CD Name': 'CD_Name',\n",
        "    '1970 Population': 'Population_1970',\n",
        "    '1980 Population': 'Population_1980',\n",
        "    '1990 Population': 'Population_1990',\n",
        "    '2000 Population': 'Population_2000',\n",
        "    '2010 Population': 'Population_2010'\n",
        "}, inplace=True)\n",
        "\n",
        "transform.to_csv('temp_community_population.csv', index=False)"
      ],
      "metadata": {
        "id": "s7WDgcIL9Cao"
      },
      "execution_count": null,
      "outputs": []
    },
    {
      "cell_type": "code",
      "source": [
        "conn.execute(f\"TRUNCATE TABLE {table_name};\")\n",
        "conn.execute(f\"COPY {table_name} FROM 'temp_community_population.csv' (AUTO_DETECT TRUE, HEADER TRUE)\")"
      ],
      "metadata": {
        "colab": {
          "base_uri": "https://localhost:8080/"
        },
        "id": "NPfANQvj9uCA",
        "outputId": "2acd0f4a-58ec-4860-845d-e679bc2d6b41"
      },
      "execution_count": null,
      "outputs": [
        {
          "output_type": "execute_result",
          "data": {
            "text/plain": [
              "<duckdb.duckdb.DuckDBPyConnection at 0x7edfffeb05f0>"
            ]
          },
          "metadata": {},
          "execution_count": 16
        }
      ]
    },
    {
      "cell_type": "markdown",
      "source": [
        "###Make Area Table"
      ],
      "metadata": {
        "id": "0d7kjEj6NOIm"
      }
    },
    {
      "cell_type": "code",
      "source": [
        "table_name = \"area\"\n",
        "conn.execute(f\"\"\"\n",
        "CREATE TABLE IF NOT EXISTS {table_name} (\n",
        "  Borough STRING,\n",
        "  CD_Number INTEGER,\n",
        "  Square_Miles FLOAT\n",
        ");\"\"\"\n",
        ")"
      ],
      "metadata": {
        "colab": {
          "base_uri": "https://localhost:8080/"
        },
        "id": "5LzybXtnNUk8",
        "outputId": "19c82411-29b7-4410-a779-7501f9bc177b"
      },
      "execution_count": null,
      "outputs": [
        {
          "output_type": "execute_result",
          "data": {
            "text/plain": [
              "<duckdb.duckdb.DuckDBPyConnection at 0x7edfffeb05f0>"
            ]
          },
          "metadata": {},
          "execution_count": 17
        }
      ]
    },
    {
      "cell_type": "code",
      "source": [
        "transform = pd.read_csv('/content/bdt_project/Borough_And_Community_District_Size.csv')\n",
        "\n",
        "transform.rename(columns={\n",
        "    'Borough': 'Borough',\n",
        "    'CD Number': 'CD_Number',\n",
        "    'Square Miles': 'Square_Miles'\n",
        "}, inplace=True)\n",
        "\n",
        "transform.to_csv('temp_size.csv', index=False)"
      ],
      "metadata": {
        "id": "J3C1af48Nffd"
      },
      "execution_count": null,
      "outputs": []
    },
    {
      "cell_type": "code",
      "source": [
        "conn.execute(f\"TRUNCATE TABLE {table_name};\")\n",
        "conn.execute(f\"COPY {table_name} FROM 'temp_size.csv' (AUTO_DETECT TRUE, HEADER TRUE)\")"
      ],
      "metadata": {
        "colab": {
          "base_uri": "https://localhost:8080/"
        },
        "id": "l2r_f9VTN7_D",
        "outputId": "b5e8dcc3-ddc4-4175-b087-8e57c4d57349"
      },
      "execution_count": null,
      "outputs": [
        {
          "output_type": "execute_result",
          "data": {
            "text/plain": [
              "<duckdb.duckdb.DuckDBPyConnection at 0x7edfffeb05f0>"
            ]
          },
          "metadata": {},
          "execution_count": 19
        }
      ]
    },
    {
      "cell_type": "markdown",
      "source": [
        "###Make Bins table"
      ],
      "metadata": {
        "id": "RtmO8TDMXsFx"
      }
    },
    {
      "cell_type": "code",
      "source": [
        "table_name = \"bins\"\n",
        "conn.execute(f\"\"\"\n",
        "CREATE TABLE IF NOT EXISTS {table_name} (\n",
        "  dsny_zone STRING,\n",
        "  dsny_district VARCHAR,\n",
        "  site_type STRING,\n",
        "  site_location VARCHAR,\n",
        "  partner STRING,\n",
        "  paper_bins INTEGER,\n",
        "  mgp_bins INTEGER\n",
        ");\"\"\"\n",
        ")"
      ],
      "metadata": {
        "colab": {
          "base_uri": "https://localhost:8080/"
        },
        "id": "Is6DM7-qXuDv",
        "outputId": "7d29b507-7205-42ca-9e2c-a18a3cfc5c83"
      },
      "execution_count": null,
      "outputs": [
        {
          "output_type": "execute_result",
          "data": {
            "text/plain": [
              "<duckdb.duckdb.DuckDBPyConnection at 0x7edfffeb05f0>"
            ]
          },
          "metadata": {},
          "execution_count": 20
        }
      ]
    },
    {
      "cell_type": "code",
      "source": [
        "transform = pd.read_csv('/content/bdt_project/Public_Recycling_Bins_20250204.csv')\n",
        "\n",
        "transform.rename(columns={\n",
        "    'DSNY Zone': 'dsny_zone',\n",
        "    'DSNY District': 'dsny_district',\n",
        "    'Site type': 'site_type',\n",
        "    'Site Location': 'site_location',\n",
        "    'Partner': 'partner',\n",
        "    'Paper Bins': 'paper_bins',\n",
        "    'MGP Bins': 'mgp_bins'\n",
        "}, inplace=True)\n",
        "\n",
        "transform.to_csv('temp_public_recycling_bins.csv', index=False)"
      ],
      "metadata": {
        "id": "W2ImTQCNYMEa"
      },
      "execution_count": null,
      "outputs": []
    },
    {
      "cell_type": "code",
      "source": [
        "conn.execute(f\"TRUNCATE TABLE {table_name};\")\n",
        "conn.execute(f\"COPY {table_name} FROM 'temp_public_recycling_bins.csv' (AUTO_DETECT TRUE, HEADER TRUE)\")"
      ],
      "metadata": {
        "colab": {
          "base_uri": "https://localhost:8080/"
        },
        "id": "glsZhtaYZWZN",
        "outputId": "cc91a273-9bc8-4665-a7ff-dab5a7b4ebc8"
      },
      "execution_count": null,
      "outputs": [
        {
          "output_type": "execute_result",
          "data": {
            "text/plain": [
              "<duckdb.duckdb.DuckDBPyConnection at 0x7edfffeb05f0>"
            ]
          },
          "metadata": {},
          "execution_count": 22
        }
      ]
    },
    {
      "cell_type": "markdown",
      "source": [
        "###Make Garages Table"
      ],
      "metadata": {
        "id": "6xqaiQTFkPX0"
      }
    },
    {
      "cell_type": "code",
      "source": [
        "table_name = \"garages\"\n",
        "conn.execute(f\"\"\"\n",
        "  CREATE TABLE IF NOT EXISTS {table_name} (\n",
        "    address STRING,\n",
        "    boro INTEGER,\n",
        "    borocd INTEGER,\n",
        "    city STRING,\n",
        "    distrtict_code VARCHAR,\n",
        "    name VARCHAR,\n",
        "    object_id INTEGER,\n",
        "    state STRING,\n",
        "    zip INTEGER,\n",
        "    longitude FLOAT,\n",
        "    latitude FLOAT\n",
        ");\"\"\"\n",
        ")"
      ],
      "metadata": {
        "colab": {
          "base_uri": "https://localhost:8080/"
        },
        "id": "g8Ap6O9Bq2ND",
        "outputId": "db130931-5e48-41cd-a79d-1af699363775"
      },
      "execution_count": null,
      "outputs": [
        {
          "output_type": "execute_result",
          "data": {
            "text/plain": [
              "<duckdb.duckdb.DuckDBPyConnection at 0x7edfffeb05f0>"
            ]
          },
          "metadata": {},
          "execution_count": 23
        }
      ]
    },
    {
      "cell_type": "code",
      "source": [
        "transform = pd.read_csv('/content/bdt_project/DSNY_Garages_20250210.csv')\n",
        "\n",
        "#transform.new_column = transform.apply(lambda row: f\"POINT({row['longitude']} {row['latitude']})\", axis=1)\n",
        "transform.loc[transform['point'] != ' ', 'longitude'] = ' '\n",
        "transform.loc[transform['point'] != ' ', 'latitude'] = ' '\n",
        "\n",
        "def add_lat_and_long(row):\n",
        "  #print(row['point'][7:-1].split(' '))\n",
        "  row['longitude'] = row['point'][7:-1].split(' ')[0]\n",
        "  row['latitude'] = row['point'][7:-1].split(' ')[1]\n",
        "  #print(long, lat)\n",
        "  return row\n",
        "\n",
        "transform = transform.apply(add_lat_and_long, axis=1)"
      ],
      "metadata": {
        "id": "DvlI6CCRr5ax"
      },
      "execution_count": null,
      "outputs": []
    },
    {
      "cell_type": "code",
      "source": [
        "transform.drop(columns=['BBL', 'BIN', 'TYPE', 'point'], inplace=True)\n",
        "\n",
        "transform.rename(columns={\n",
        "    'ADDRESS': 'address',\n",
        "    'BORO': 'boro',\n",
        "    'BOROCD': 'borocd',\n",
        "    'CITY': 'city',\n",
        "    'DISTRICTCODE': 'distrtict_code',\n",
        "    'NAME': 'name',\n",
        "    'OBJECTID': 'object_id',\n",
        "    'STATE': 'state',\n",
        "    'ZIP': 'zip',\n",
        "}, inplace=True)\n",
        "\n",
        "transform.to_csv('temp_public_garages.csv', index=False)"
      ],
      "metadata": {
        "id": "3Zr5agR11-mE"
      },
      "execution_count": null,
      "outputs": []
    },
    {
      "cell_type": "code",
      "source": [
        "conn.execute(f\"TRUNCATE TABLE {table_name};\")\n",
        "conn.execute(f\"COPY {table_name} FROM 'temp_public_garages.csv' (AUTO_DETECT TRUE, HEADER TRUE)\")"
      ],
      "metadata": {
        "colab": {
          "base_uri": "https://localhost:8080/"
        },
        "id": "BBPPSbVQ6n5w",
        "outputId": "da319515-c2ea-4dae-f823-a88889f5c584"
      },
      "execution_count": null,
      "outputs": [
        {
          "output_type": "execute_result",
          "data": {
            "text/plain": [
              "<duckdb.duckdb.DuckDBPyConnection at 0x7edfffeb05f0>"
            ]
          },
          "metadata": {},
          "execution_count": 26
        }
      ]
    },
    {
      "cell_type": "markdown",
      "source": [
        "###Make Frequencies table?\n",
        "how often different routes happen"
      ],
      "metadata": {
        "id": "fSIE9VEVkSnp"
      }
    },
    {
      "cell_type": "markdown",
      "source": [
        "###Make Location of Dispoal Facilities Tables"
      ],
      "metadata": {
        "id": "5NTg7EUmlIQ5"
      }
    },
    {
      "cell_type": "code",
      "source": [
        "table_name = 'disposal_facilities'\n",
        "\n",
        "conn.execute(f\"\"\"\n",
        "  CREATE TABLE IF NOT EXISTS {table_name} (\n",
        "    name VARCHAR,\n",
        "    unique_id INTEGER,\n",
        "    type STRING,\n",
        "    address STRING,\n",
        "    borough STRING,\n",
        "    state STRING,\n",
        "    zip INTEGER,\n",
        "    latitude FLOAT,\n",
        "    longitude FLOAT\n",
        ");\"\"\")"
      ],
      "metadata": {
        "colab": {
          "base_uri": "https://localhost:8080/"
        },
        "id": "Tm5OTo_V71AL",
        "outputId": "f1955397-367c-45a0-81d0-5792c1d2538f"
      },
      "execution_count": null,
      "outputs": [
        {
          "output_type": "execute_result",
          "data": {
            "text/plain": [
              "<duckdb.duckdb.DuckDBPyConnection at 0x7edfffeb05f0>"
            ]
          },
          "metadata": {},
          "execution_count": 27
        }
      ]
    },
    {
      "cell_type": "code",
      "source": [
        "transform = pd.read_csv('/content/bdt_project/Location_of_Disposal_Facilities_and_Sites_Used_for_DSNY-Managed_Waste_20250210.csv')\n",
        "transform.drop(columns=['Point'], inplace=True)\n",
        "\n",
        "transform.rename(columns={\n",
        "    'Name': 'address',\n",
        "    'Unique ID': 'boro',\n",
        "    'Type': 'borocd',\n",
        "    'Street Address': 'city',\n",
        "    'Borough/City': 'distrtict_code',\n",
        "    'State': 'name',\n",
        "    'Zipcod': 'object_id',\n",
        "    'Latitude': 'state',\n",
        "    'Longitude': 'zip',\n",
        "}, inplace=True)\n",
        "\n",
        "\n",
        "transform.to_csv('temp_disposal_facilities.csv', index=False)"
      ],
      "metadata": {
        "id": "KV5ZDN-l8kT8"
      },
      "execution_count": null,
      "outputs": []
    },
    {
      "cell_type": "code",
      "source": [
        "conn.execute(f\"TRUNCATE TABLE {table_name};\")\n",
        "conn.execute(f\"COPY {table_name} FROM 'temp_disposal_facilities.csv' (AUTO_DETECT TRUE, HEADER TRUE)\")"
      ],
      "metadata": {
        "colab": {
          "base_uri": "https://localhost:8080/"
        },
        "id": "G6iZaT0n9dpC",
        "outputId": "9a53312b-8d1b-43ec-f753-c36900b63c19"
      },
      "execution_count": null,
      "outputs": [
        {
          "output_type": "execute_result",
          "data": {
            "text/plain": [
              "<duckdb.duckdb.DuckDBPyConnection at 0x7edfffeb05f0>"
            ]
          },
          "metadata": {},
          "execution_count": 29
        }
      ]
    },
    {
      "cell_type": "markdown",
      "source": [
        "##Data Validation\n",
        "write a function that checks each column to see if there are missing values"
      ],
      "metadata": {
        "id": "_b6Vgh1xaqE0"
      }
    },
    {
      "cell_type": "code",
      "source": [
        "\"\"\"tables = conn.execute(\"SHOW ALL;\").fetchdf()['name']\n",
        "\n",
        "# Loop through each table\n",
        "for table_name in tables:\n",
        "    print(f\"📌 Table Name: {table_name}\")\n",
        "\n",
        "    # Get column names and types\n",
        "    columns_info = conn.execute(f\"PRAGMA table_info('{table_name}')\").fetchall()\n",
        "    columns = [col[1] for col in columns_info]  # Column names\n",
        "    column_types = {col[1]: col[2] for col in columns_info}  # Column name -> Data type\n",
        "\n",
        "    # Query to count NULL values\n",
        "    null_query = \"SELECT \" + \", \".join([f\"SUM(CASE WHEN {col} IS NULL THEN 1 ELSE 0 END) AS {col}_nulls\" for col in columns]) + f\" FROM {table_name}\"\n",
        "    missing_values = conn.execute(null_query).fetchdf()\n",
        "    print(missing_values)\n",
        "\n",
        "    # Fetch full table data\n",
        "    df = conn.execute(f\"SELECT * FROM {table_name}\").fetchdf()\n",
        "\n",
        "    # Loop through numeric columns and plot histograms & boxplots\n",
        "    for col in columns:\n",
        "        if column_types[col] in ('INTEGER', 'BIGINT', 'DOUBLE', 'FLOAT', 'DECIMAL'):  # Check if numeric\n",
        "            print(f\"🔹 Plotting distribution for column: {col}\")\n",
        "\n",
        "            # Create figure for plots\n",
        "            fig, axes = plt.subplots(1, 2, figsize=(12, 4))\n",
        "\n",
        "            # Histogram with KDE\n",
        "            sns.histplot(df[col].dropna(), kde=True, ax=axes[0], bins=20, color='blue')\n",
        "            axes[0].set_title(f\"Histogram: {col}\")\n",
        "\n",
        "            # Boxplot\n",
        "            sns.boxplot(x=df[col].dropna(), ax=axes[1], color='orange')\n",
        "            axes[1].set_title(f\"Boxplot: {col}\")\n",
        "\n",
        "            plt.show()\"\"\""
      ],
      "metadata": {
        "colab": {
          "base_uri": "https://localhost:8080/"
        },
        "id": "CGosYD2DauWt",
        "outputId": "1423ef20-d76e-4a1c-f2d7-9b9bd03761da"
      },
      "execution_count": null,
      "outputs": [
        {
          "output_type": "execute_result",
          "data": {
            "text/plain": [
              "'tables = conn.execute(\"SHOW ALL;\").fetchdf()[\\'name\\']\\n\\n# Loop through each table\\nfor table_name in tables:\\n    print(f\"📌 Table Name: {table_name}\")\\n\\n    # Get column names and types\\n    columns_info = conn.execute(f\"PRAGMA table_info(\\'{table_name}\\')\").fetchall()\\n    columns = [col[1] for col in columns_info]  # Column names\\n    column_types = {col[1]: col[2] for col in columns_info}  # Column name -> Data type\\n\\n    # Query to count NULL values\\n    null_query = \"SELECT \" + \", \".join([f\"SUM(CASE WHEN {col} IS NULL THEN 1 ELSE 0 END) AS {col}_nulls\" for col in columns]) + f\" FROM {table_name}\"\\n    missing_values = conn.execute(null_query).fetchdf()\\n    print(missing_values)\\n\\n    # Fetch full table data\\n    df = conn.execute(f\"SELECT * FROM {table_name}\").fetchdf()\\n\\n    # Loop through numeric columns and plot histograms & boxplots\\n    for col in columns:\\n        if column_types[col] in (\\'INTEGER\\', \\'BIGINT\\', \\'DOUBLE\\', \\'FLOAT\\', \\'DECIMAL\\'):  # Check if numeric\\n            print(f\"🔹 Plotting distribution for column: {col}\")\\n\\n            # Create figure for plots\\n            fig, axes = plt.subplots(1, 2, figsize=(12, 4))\\n\\n            # Histogram with KDE\\n            sns.histplot(df[col].dropna(), kde=True, ax=axes[0], bins=20, color=\\'blue\\')\\n            axes[0].set_title(f\"Histogram: {col}\")\\n\\n            # Boxplot\\n            sns.boxplot(x=df[col].dropna(), ax=axes[1], color=\\'orange\\')\\n            axes[1].set_title(f\"Boxplot: {col}\")\\n\\n            plt.show()'"
            ],
            "application/vnd.google.colaboratory.intrinsic+json": {
              "type": "string"
            }
          },
          "metadata": {},
          "execution_count": 30
        }
      ]
    },
    {
      "cell_type": "markdown",
      "source": [
        "#Clean Data"
      ],
      "metadata": {
        "id": "pUw60XWjiQi1"
      }
    },
    {
      "cell_type": "markdown",
      "source": [
        "##Clean Bins Data"
      ],
      "metadata": {
        "id": "FPa0zISypAH3"
      }
    },
    {
      "cell_type": "code",
      "source": [
        "bins = conn.execute(\"SELECT * FROM bins\").fetchdf()\n",
        "\n",
        "bins = bins.dropna()\n",
        "\n",
        "bins.to_csv('temp_bins.csv', index=False)"
      ],
      "metadata": {
        "id": "ZiQ3QXOQpC1X"
      },
      "execution_count": null,
      "outputs": []
    },
    {
      "cell_type": "code",
      "source": [
        "# clear out data before saving new data\n",
        "conn.execute(\"TRUNCATE TABLE bins;\")\n",
        "conn.execute(f\"COPY bins FROM 'temp_bins.csv' (AUTO_DETECT TRUE, HEADER TRUE);\")"
      ],
      "metadata": {
        "colab": {
          "base_uri": "https://localhost:8080/"
        },
        "id": "xw-kAk54pmhK",
        "outputId": "83d3a84b-ccfb-49e6-c005-b975d2154b59"
      },
      "execution_count": null,
      "outputs": [
        {
          "output_type": "execute_result",
          "data": {
            "text/plain": [
              "<duckdb.duckdb.DuckDBPyConnection at 0x7edfffeb05f0>"
            ]
          },
          "metadata": {},
          "execution_count": 32
        }
      ]
    },
    {
      "cell_type": "markdown",
      "source": [
        "##Clean Weather Data"
      ],
      "metadata": {
        "id": "H4p631oWdXVm"
      }
    },
    {
      "cell_type": "markdown",
      "source": [
        "###Snow Depth Projections\n",
        "take yesterday's snow depth and add today's snowfall"
      ],
      "metadata": {
        "id": "LUzZzDWpscy0"
      }
    },
    {
      "cell_type": "code",
      "source": [
        "weather = conn.execute(\"SELECT * FROM weather\").fetchdf()\n",
        "weather['snow_fall'] = weather['snow_fall'].fillna(0)\n",
        "weather['snow_depth_t-1'] = weather['snow_depth'].shift(1)\n",
        "weather['snow_depth_t-1'] = weather['snow_depth_t-1'].fillna(0)"
      ],
      "metadata": {
        "id": "eb4oqL2Vsgb2"
      },
      "execution_count": null,
      "outputs": []
    },
    {
      "cell_type": "code",
      "source": [
        "weather['snow_depth'] = weather['snow_depth'].fillna(weather['snow_depth_t-1'] + weather['snow_fall'])\n",
        "weather.drop(columns=['snow_depth_t-1'], inplace=True)\n",
        "\n",
        "# weather.head(16649)"
      ],
      "metadata": {
        "id": "6MmVwQhqbn8Z"
      },
      "execution_count": null,
      "outputs": []
    },
    {
      "cell_type": "markdown",
      "source": [
        "###Clean Max & Min Missing Temps"
      ],
      "metadata": {
        "id": "5Wv0zQKu52-X"
      }
    },
    {
      "cell_type": "markdown",
      "source": [
        "do average of future few years for max and min temp. we would look at the past but the missing data is from 1869, the first year when data started being collected. no way to look at past data in this case"
      ],
      "metadata": {
        "id": "sXkPOam_8ywY"
      }
    },
    {
      "cell_type": "code",
      "source": [
        "# Ensure that 'date' is in datetime format\n",
        "weather['date'] = pd.to_datetime(weather['date'])\n",
        "\n",
        "# Extract the year and month from the 'date' column\n",
        "weather['year'] = weather['date'].dt.year\n",
        "weather['month'] = weather['date'].dt.month\n",
        "\n",
        "# Function to fill missing values using data from the next 3 years for the same month\n",
        "def fill_missing_with_future_years_mean(row, temp_column):\n",
        "    # Get the year and month of the row with missing value\n",
        "    year = row['year']\n",
        "    month = row['month']\n",
        "\n",
        "    # Filter data for the next 3 years (including the current row's year)\n",
        "    future_years_data = weather[(weather['year'] >= year) & (weather['year'] <= year + 2) & (weather['month'] == month)]\n",
        "\n",
        "    # Calculate the mean of the next 3 years for that month\n",
        "    mean_value = future_years_data[temp_column].mean() if not future_years_data[temp_column].isnull().all() else None\n",
        "\n",
        "    return mean_value\n",
        "\n",
        "# Apply the function to fill missing values for 'max_temp' and 'min_temp'\n",
        "for idx, row in weather[weather['max_temp'].isnull()].iterrows():\n",
        "    weather.at[idx, 'max_temp'] = fill_missing_with_future_years_mean(row, 'max_temp')\n",
        "\n",
        "for idx, row in weather[weather['min_temp'].isnull()].iterrows():\n",
        "    weather.at[idx, 'min_temp'] = fill_missing_with_future_years_mean(row, 'min_temp')\n",
        "\n",
        "# drop the 'year' and 'month' columns\n",
        "weather = weather.drop(columns=['year', 'month'])\n",
        "\n",
        "\n",
        "# Check the result\n",
        "#weather.head(124)"
      ],
      "metadata": {
        "id": "Fdi94YQg57uS"
      },
      "execution_count": null,
      "outputs": []
    },
    {
      "cell_type": "markdown",
      "source": [
        "make csv file and save csv to database"
      ],
      "metadata": {
        "id": "XtU4M2ab9qo1"
      }
    },
    {
      "cell_type": "code",
      "source": [
        "weather.to_csv('temp_weather.csv', index=False)"
      ],
      "metadata": {
        "id": "ulsoE4iQ9eBJ"
      },
      "execution_count": null,
      "outputs": []
    },
    {
      "cell_type": "code",
      "source": [
        "# clear out data before saving new data\n",
        "conn.execute(\"TRUNCATE TABLE weather;\")\n",
        "conn.execute(f\"COPY weather FROM 'temp_weather.csv' (AUTO_DETECT TRUE, HEADER TRUE);\")"
      ],
      "metadata": {
        "colab": {
          "base_uri": "https://localhost:8080/"
        },
        "id": "uagNwGFY9nhA",
        "outputId": "925c771c-1d9f-4b2e-db35-5a743955c61e"
      },
      "execution_count": null,
      "outputs": [
        {
          "output_type": "execute_result",
          "data": {
            "text/plain": [
              "<duckdb.duckdb.DuckDBPyConnection at 0x7edfffeb05f0>"
            ]
          },
          "metadata": {},
          "execution_count": 37
        }
      ]
    },
    {
      "cell_type": "markdown",
      "source": [
        "##Clean Tonnage Data"
      ],
      "metadata": {
        "id": "bChvmyL49vU7"
      }
    },
    {
      "cell_type": "code",
      "source": [
        "tonnage = conn.execute(\"SELECT * FROM tonnage\").fetchdf()"
      ],
      "metadata": {
        "id": "jrjbpCIx9yFP"
      },
      "execution_count": null,
      "outputs": []
    },
    {
      "cell_type": "code",
      "source": [
        "tonnage['xmas_tree_tons'] = tonnage['xmas_tree_tons'].fillna(0)\n",
        "tonnage['leaves_tons'] = tonnage['leaves_tons'].fillna(0)"
      ],
      "metadata": {
        "id": "8VoI2JPf95FK"
      },
      "execution_count": null,
      "outputs": []
    },
    {
      "cell_type": "markdown",
      "source": [
        "borough_id\n",
        "Staten Island = 5, Queens = 4, Brooklyn = 3, Bronx = 2, Manhattan = 1"
      ],
      "metadata": {
        "id": "5AT2_xQVAt3b"
      }
    },
    {
      "cell_type": "code",
      "source": [
        "tonnage['borough_id'] = tonnage['borough_name'].apply(lambda x: 1 if x == 'Manhattan' else (2 if x == 'Bronx' else (3 if x == 'Brooklyn' else (4 if x == 'Queens' else 5))))"
      ],
      "metadata": {
        "id": "5PYge0C0As7A"
      },
      "execution_count": null,
      "outputs": []
    },
    {
      "cell_type": "markdown",
      "source": [
        "finds rows where there is a missing value for refuse_tons and replaces null value with avg of its borough_id"
      ],
      "metadata": {
        "id": "Q8IIVlJKGS_9"
      }
    },
    {
      "cell_type": "code",
      "source": [
        "missing_vals = tonnage[tonnage['refuse_tons'].isnull()]\n",
        "\n",
        "for idx, missing_val in missing_vals.iterrows():\n",
        "    borough_id = missing_val['borough_id']\n",
        "    community_district = missing_val['community_district']\n",
        "\n",
        "    mean_refuse_tons = tonnage[tonnage['borough_id'] == 4]['refuse_tons'].mean()\n",
        "\n",
        "    # Update the original tonnage DataFrame with the mean value for 'refuse_tons'\n",
        "    tonnage.loc[idx, 'refuse_tons'] = mean_refuse_tons"
      ],
      "metadata": {
        "id": "utBxBsFN-Zvj"
      },
      "execution_count": null,
      "outputs": []
    },
    {
      "cell_type": "markdown",
      "source": [
        "replace missing school organic tons with 0 if between june and august. else, median of borough_id and community_district"
      ],
      "metadata": {
        "id": "YnXkrIOlHD2I"
      }
    },
    {
      "cell_type": "code",
      "source": [
        "tonnage['month'] = tonnage['date'].dt.month\n",
        "\n",
        "# Function to replace missing values based on conditions\n",
        "def replace_missing_school_organic(row):\n",
        "    if pd.isnull(row['school_organic_tons']):\n",
        "        if row['month'] in [6, 7, 8]:  # June, July, August\n",
        "            return 0\n",
        "        else:\n",
        "            # Get the median for the specific borough_id and community_district\n",
        "            median_value = tonnage[(tonnage['borough_id'] == row['borough_id']) &\n",
        "                                   (tonnage['community_district'] == row['community_district'])]['school_organic_tons'].median()\n",
        "            return median_value if pd.notnull(median_value) else 0\n",
        "    return row['school_organic_tons']\n",
        "\n",
        "# Apply the function row by row\n",
        "tonnage['school_organic_tons'] = tonnage.apply(replace_missing_school_organic, axis=1)"
      ],
      "metadata": {
        "id": "X5hHikIaIiDf"
      },
      "execution_count": null,
      "outputs": []
    },
    {
      "cell_type": "code",
      "source": [
        "def replace_missing_res_organic(row):\n",
        "  if pd.isnull(row['res_organic_tons']):\n",
        "    median_value = tonnage[(tonnage['borough_id'] == row['borough_id']) & (tonnage['community_district'] == row['community_district'])]['res_organic_tons'].median()\n",
        "    return median_value if pd.notnull(median_value) else 0\n",
        "  return row['res_organic_tons']\n",
        "\n",
        "tonnage['res_organic_tons'] = tonnage.apply(replace_missing_res_organic, axis=1)"
      ],
      "metadata": {
        "id": "w01iNPC3hUdO"
      },
      "execution_count": null,
      "outputs": []
    },
    {
      "cell_type": "code",
      "source": [
        "def replace_missing_paper(row):\n",
        "  if pd.isnull(row['paper_tons']):\n",
        "    median_value = tonnage[(tonnage['borough_id'] == row['borough_id']) & (tonnage['community_district'] == row['community_district'])]['paper_tons'].median()\n",
        "    return median_value if pd.notnull(median_value) else 0\n",
        "  return row['paper_tons']\n",
        "\n",
        "tonnage['paper_tons'] = tonnage.apply(replace_missing_paper, axis=1)"
      ],
      "metadata": {
        "id": "Rzg5fSF8mBMI"
      },
      "execution_count": null,
      "outputs": []
    },
    {
      "cell_type": "code",
      "source": [
        "def replace_missing_mgp(row):\n",
        "  if pd.isnull(row['mgp_tons']):\n",
        "    median_value = tonnage[(tonnage['borough_id'] == row['borough_id']) & (tonnage['community_district'] == row['community_district'])]['mgp_tons'].median()\n",
        "    return median_value if pd.notnull(median_value) else 0\n",
        "  return row['mgp_tons']\n",
        "\n",
        "tonnage['mgp_tons'] = tonnage.apply(replace_missing_mgp, axis=1)"
      ],
      "metadata": {
        "id": "Ewq3rOE6nKcW"
      },
      "execution_count": null,
      "outputs": []
    },
    {
      "cell_type": "code",
      "source": [
        "tonnage.drop(columns=['month'], inplace=True)\n",
        "\n",
        "tonnage.to_csv('temp_tonnage.csv', index=False)"
      ],
      "metadata": {
        "id": "yqwDDYBvkpt1"
      },
      "execution_count": null,
      "outputs": []
    },
    {
      "cell_type": "code",
      "source": [
        "# clear out data before saving new data\n",
        "conn.execute(\"TRUNCATE TABLE tonnage;\")\n",
        "conn.execute(f\"COPY tonnage FROM 'temp_tonnage.csv' (AUTO_DETECT TRUE, HEADER TRUE);\")"
      ],
      "metadata": {
        "colab": {
          "base_uri": "https://localhost:8080/"
        },
        "id": "BBj9nDqAk7tT",
        "outputId": "db7de548-dad7-4769-9ef9-32ff0c7ea822"
      },
      "execution_count": null,
      "outputs": [
        {
          "output_type": "execute_result",
          "data": {
            "text/plain": [
              "<duckdb.duckdb.DuckDBPyConnection at 0x7edfffeb05f0>"
            ]
          },
          "metadata": {},
          "execution_count": 47
        }
      ]
    },
    {
      "cell_type": "markdown",
      "source": [
        "#Data Processing"
      ],
      "metadata": {
        "id": "r7w-zZ5ZaLah"
      }
    },
    {
      "cell_type": "markdown",
      "source": [
        "##normalize frequency of data\n",
        "making all data daily frequency so it can be properly ingested by our ml model"
      ],
      "metadata": {
        "id": "be4_1uDk3STj"
      }
    },
    {
      "cell_type": "markdown",
      "source": [
        "###normalize tonnage frequency"
      ],
      "metadata": {
        "id": "jFZl6mMT3ndy"
      }
    },
    {
      "cell_type": "markdown",
      "source": [
        "gives us the daily rates for each waste type"
      ],
      "metadata": {
        "id": "Ov9EQ2Gl9EwY"
      }
    },
    {
      "cell_type": "code",
      "source": [
        "tons = conn.execute(\"SELECT date, borough_name, borough_id, community_district, mode(refuse_tons), mode(paper_tons), mode(mgp_tons), mode(res_organic_tons), mode(school_organic_tons), mode(leaves_tons), mode(xmas_tree_tons) FROM tonnage GROUP BY date, borough_name, borough_id, community_district ORDER BY date, borough_id, community_district\").fetchdf()\n",
        "tons_daily = tons.copy()\n",
        "tons_daily['date'] = pd.to_datetime(tons_daily['date'])  # Convert to datetime if not already\n",
        "tons_daily['day'] = pd.to_datetime(tons_daily['date']).dt.day\n",
        "\n",
        "# poor reporting in earlier data. only using data from 2000 and newer\n",
        "tons_daily = tons_daily[tons_daily['date'] >= \"2000-01-01\"]\n",
        "\n",
        "tons_daily['daily_refuse'] = tons_daily['\"mode\"(refuse_tons)'] / tons_daily['day']\n",
        "tons_daily['daily_paper'] = tons_daily['\"mode\"(paper_tons)'] / tons_daily['day']\n",
        "tons_daily['daily_mgp'] = tons_daily['\"mode\"(mgp_tons)'] / tons_daily['day']\n",
        "tons_daily['daily_res_organic'] = tons_daily['\"mode\"(res_organic_tons)'] / tons_daily['day']\n",
        "tons_daily['daily_school_organic'] = tons_daily['\"mode\"(school_organic_tons)'] / tons_daily['day']\n",
        "tons_daily['daily_leaves'] = tons_daily['\"mode\"(leaves_tons)'] / tons_daily['day']\n",
        "tons_daily['daily_xmas'] = tons_daily['\"mode\"(xmas_tree_tons)'] / tons_daily['day']\n",
        "\n",
        "tons_daily.drop(columns=['\"mode\"(refuse_tons)', '\"mode\"(paper_tons)', '\"mode\"(mgp_tons)', '\"mode\"(res_organic_tons)', '\"mode\"(school_organic_tons)', '\"mode\"(leaves_tons)', '\"mode\"(xmas_tree_tons)'], inplace=True)"
      ],
      "metadata": {
        "id": "5d3_Sy7T3hyM",
        "colab": {
          "base_uri": "https://localhost:8080/"
        },
        "outputId": "28f07a94-d069-4f05-9df0-4e293a6e6798"
      },
      "execution_count": null,
      "outputs": [
        {
          "output_type": "stream",
          "name": "stderr",
          "text": [
            "<ipython-input-48-4032c8818b94>:9: SettingWithCopyWarning: \n",
            "A value is trying to be set on a copy of a slice from a DataFrame.\n",
            "Try using .loc[row_indexer,col_indexer] = value instead\n",
            "\n",
            "See the caveats in the documentation: https://pandas.pydata.org/pandas-docs/stable/user_guide/indexing.html#returning-a-view-versus-a-copy\n",
            "  tons_daily['daily_refuse'] = tons_daily['\"mode\"(refuse_tons)'] / tons_daily['day']\n",
            "<ipython-input-48-4032c8818b94>:10: SettingWithCopyWarning: \n",
            "A value is trying to be set on a copy of a slice from a DataFrame.\n",
            "Try using .loc[row_indexer,col_indexer] = value instead\n",
            "\n",
            "See the caveats in the documentation: https://pandas.pydata.org/pandas-docs/stable/user_guide/indexing.html#returning-a-view-versus-a-copy\n",
            "  tons_daily['daily_paper'] = tons_daily['\"mode\"(paper_tons)'] / tons_daily['day']\n",
            "<ipython-input-48-4032c8818b94>:11: SettingWithCopyWarning: \n",
            "A value is trying to be set on a copy of a slice from a DataFrame.\n",
            "Try using .loc[row_indexer,col_indexer] = value instead\n",
            "\n",
            "See the caveats in the documentation: https://pandas.pydata.org/pandas-docs/stable/user_guide/indexing.html#returning-a-view-versus-a-copy\n",
            "  tons_daily['daily_mgp'] = tons_daily['\"mode\"(mgp_tons)'] / tons_daily['day']\n",
            "<ipython-input-48-4032c8818b94>:12: SettingWithCopyWarning: \n",
            "A value is trying to be set on a copy of a slice from a DataFrame.\n",
            "Try using .loc[row_indexer,col_indexer] = value instead\n",
            "\n",
            "See the caveats in the documentation: https://pandas.pydata.org/pandas-docs/stable/user_guide/indexing.html#returning-a-view-versus-a-copy\n",
            "  tons_daily['daily_res_organic'] = tons_daily['\"mode\"(res_organic_tons)'] / tons_daily['day']\n",
            "<ipython-input-48-4032c8818b94>:13: SettingWithCopyWarning: \n",
            "A value is trying to be set on a copy of a slice from a DataFrame.\n",
            "Try using .loc[row_indexer,col_indexer] = value instead\n",
            "\n",
            "See the caveats in the documentation: https://pandas.pydata.org/pandas-docs/stable/user_guide/indexing.html#returning-a-view-versus-a-copy\n",
            "  tons_daily['daily_school_organic'] = tons_daily['\"mode\"(school_organic_tons)'] / tons_daily['day']\n",
            "<ipython-input-48-4032c8818b94>:14: SettingWithCopyWarning: \n",
            "A value is trying to be set on a copy of a slice from a DataFrame.\n",
            "Try using .loc[row_indexer,col_indexer] = value instead\n",
            "\n",
            "See the caveats in the documentation: https://pandas.pydata.org/pandas-docs/stable/user_guide/indexing.html#returning-a-view-versus-a-copy\n",
            "  tons_daily['daily_leaves'] = tons_daily['\"mode\"(leaves_tons)'] / tons_daily['day']\n",
            "<ipython-input-48-4032c8818b94>:15: SettingWithCopyWarning: \n",
            "A value is trying to be set on a copy of a slice from a DataFrame.\n",
            "Try using .loc[row_indexer,col_indexer] = value instead\n",
            "\n",
            "See the caveats in the documentation: https://pandas.pydata.org/pandas-docs/stable/user_guide/indexing.html#returning-a-view-versus-a-copy\n",
            "  tons_daily['daily_xmas'] = tons_daily['\"mode\"(xmas_tree_tons)'] / tons_daily['day']\n",
            "<ipython-input-48-4032c8818b94>:17: SettingWithCopyWarning: \n",
            "A value is trying to be set on a copy of a slice from a DataFrame\n",
            "\n",
            "See the caveats in the documentation: https://pandas.pydata.org/pandas-docs/stable/user_guide/indexing.html#returning-a-view-versus-a-copy\n",
            "  tons_daily.drop(columns=['\"mode\"(refuse_tons)', '\"mode\"(paper_tons)', '\"mode\"(mgp_tons)', '\"mode\"(res_organic_tons)', '\"mode\"(school_organic_tons)', '\"mode\"(leaves_tons)', '\"mode\"(xmas_tree_tons)'], inplace=True)\n"
          ]
        }
      ]
    },
    {
      "cell_type": "code",
      "source": [
        "df = tons_daily.copy()\n",
        "df['date'] = pd.to_datetime(df['date'])\n",
        "\n",
        "# Extract year & month\n",
        "df['year'] = df['date'].dt.year\n",
        "df['month'] = df['date'].dt.month\n",
        "\n",
        "# Generate full daily date range for each (year, month)\n",
        "expanded_rows = []\n",
        "for _, row in df.iterrows():\n",
        "    start_date = pd.Timestamp(year=row['year'], month=row['month'], day=1)\n",
        "    end_date = row['date']  # The original month-end date\n",
        "\n",
        "    # Create a daily date range\n",
        "    daily_dates = pd.date_range(start=start_date, end=end_date, freq='D')\n",
        "\n",
        "    # Expand while keeping borough_id & community_id\n",
        "    for day in daily_dates:\n",
        "        expanded_rows.append({'date': day, 'borough_id': row['borough_id'], 'community_district': row['community_district']})\n",
        "\n",
        "# Create new DataFrame\n",
        "df_daily = pd.DataFrame(expanded_rows)"
      ],
      "metadata": {
        "id": "iPldviVwCzXd"
      },
      "execution_count": null,
      "outputs": []
    },
    {
      "cell_type": "code",
      "source": [
        "# sorting data set by date, then borough_id, then community_district\n",
        "df_sorted = df_daily.sort_values(by=['date', 'borough_id', 'community_district'])\n",
        "df_sorted = df_sorted.reset_index(drop=True)"
      ],
      "metadata": {
        "id": "FEcI6aGTDK6X"
      },
      "execution_count": null,
      "outputs": []
    },
    {
      "cell_type": "code",
      "source": [
        "## working\n",
        "\n",
        "# Ensure date columns are in datetime format\n",
        "df_sorted['date'] = pd.to_datetime(df_sorted['date'])\n",
        "tons_daily['date'] = pd.to_datetime(tons_daily['date'])\n",
        "\n",
        "# Extract Year and Month for merging\n",
        "df_sorted['year'] = df_sorted['date'].dt.year\n",
        "df_sorted['month'] = df_sorted['date'].dt.month\n",
        "tons_daily['year'] = tons_daily['date'].dt.year\n",
        "tons_daily['month'] = tons_daily['date'].dt.month\n",
        "\n",
        "# Perform the merge on matching columns\n",
        "tonnage_df = df_sorted.merge(\n",
        "    tons_daily[['year', 'month', 'borough_id', 'community_district', 'date', 'daily_refuse', 'daily_paper', 'daily_mgp', 'daily_res_organic', 'daily_school_organic', 'daily_leaves', 'daily_xmas']],\n",
        "    on=['year', 'month', 'borough_id', 'community_district'],\n",
        "    how='left'\n",
        ")\n",
        "\n",
        "# Drop any duplicated 'date' columns from the merge (if they exist)\n",
        "tonnage_df.drop(columns=['date_y'], inplace=True)\n",
        "\n",
        "# Fill missing daily values (if applicable)\n",
        "tonnage_df['daily_refuse'] = tonnage_df['daily_refuse'].fillna(0)\n",
        "tonnage_df['daily_paper'] = tonnage_df['daily_paper'].fillna(0)\n",
        "tonnage_df['daily_mgp'] = tonnage_df['daily_mgp'].fillna(0)\n",
        "tonnage_df['daily_res_organic'] = tonnage_df['daily_res_organic'].fillna(0)\n",
        "tonnage_df['daily_school_organic'] = tonnage_df['daily_school_organic'].fillna(0)\n",
        "tonnage_df['daily_leaves'] = tonnage_df['daily_leaves'].fillna(0)\n",
        "tonnage_df['daily_xmas'] = tonnage_df['daily_xmas'].fillna(0)\n",
        "\n",
        "# Calculate cumulative sums for each category, resetting each month\n",
        "tonnage_df['refuse'] = tonnage_df.groupby(['borough_id', 'community_district', 'year', 'month'])['daily_refuse'].cumsum()\n",
        "tonnage_df['paper'] = tonnage_df.groupby(['borough_id', 'community_district', 'year', 'month'])['daily_paper'].cumsum()\n",
        "tonnage_df['mgp'] = tonnage_df.groupby(['borough_id', 'community_district', 'year', 'month'])['daily_mgp'].cumsum()\n",
        "tonnage_df['res_organic'] = tonnage_df.groupby(['borough_id', 'community_district', 'year', 'month'])['daily_res_organic'].cumsum()\n",
        "tonnage_df['school_organic'] = tonnage_df.groupby(['borough_id', 'community_district', 'year', 'month'])['daily_school_organic'].cumsum()\n",
        "tonnage_df['leaves'] = tonnage_df.groupby(['borough_id', 'community_district', 'year', 'month'])['daily_leaves'].cumsum()\n",
        "tonnage_df['xmas'] = tonnage_df.groupby(['borough_id', 'community_district', 'year', 'month'])['daily_xmas'].cumsum()\n",
        "\n",
        "# Drop temporary columns that are no longer needed\n",
        "tonnage_df.drop(columns=['year', 'month', 'daily_refuse', 'daily_paper', 'daily_mgp',\n",
        "                         'daily_res_organic', 'daily_school_organic', 'daily_leaves', 'daily_xmas'], inplace=True)\n",
        "\n",
        "tonnage_df.rename(columns={\n",
        "    'date_x': 'date'\n",
        "}, inplace=True)\n",
        "\n",
        "# Display the result\n",
        "# tonnage_df\n"
      ],
      "metadata": {
        "id": "okH_T1q4QaK5"
      },
      "execution_count": null,
      "outputs": []
    },
    {
      "cell_type": "markdown",
      "source": [
        "###normalize population data frequency"
      ],
      "metadata": {
        "id": "tCgppZJ3T_MK"
      }
    },
    {
      "cell_type": "code",
      "source": [
        "populations = conn.execute(\"SELECT * FROM population\").fetchdf()"
      ],
      "metadata": {
        "id": "F4qaHU3PUbeZ"
      },
      "execution_count": null,
      "outputs": []
    },
    {
      "cell_type": "code",
      "source": [
        "area = conn.execute(\"SELECT * FROM area\").fetchdf()"
      ],
      "metadata": {
        "id": "H60TbNYosTMI"
      },
      "execution_count": null,
      "outputs": []
    },
    {
      "cell_type": "code",
      "source": [
        "# add the change in population from each year\n",
        "df_population_change = pd.DataFrame({\n",
        "    'Borough': populations['Borough'],\n",
        "    'community_district': populations['CD_Number'],\n",
        "    'CD_Name': populations['CD_Name'],\n",
        "    'Change_1970_1980': populations['Population_1980'] - populations['Population_1970'],\n",
        "    'Change_1980_1990': populations['Population_1990'] - populations['Population_1980'],\n",
        "    'Change_1990_2000': populations['Population_2000'] - populations['Population_1990'],\n",
        "    'Change_2000_2010': populations['Population_2010'] - populations['Population_2000']\n",
        "})"
      ],
      "metadata": {
        "id": "7CeQ8me2V_PA"
      },
      "execution_count": null,
      "outputs": []
    },
    {
      "cell_type": "markdown",
      "source": [
        "project the growth from 2000 to 2010 onto the data on a yearly basis. growth continues after 2010 as we have no newer values to use"
      ],
      "metadata": {
        "id": "zJGHBfrwuWc0"
      }
    },
    {
      "cell_type": "code",
      "source": [
        "df_population = populations.copy()\n",
        "\n",
        "df_population['Change_2000_2010'] = df_population['Population_2010'] - df_population['Population_2000']\n",
        "\n",
        "# Calculate the annual growth rate (growth per year between 2000 and 2010). keep using this factor for growth after 2010 as well\n",
        "df_population['Annual_Growth_Rate'] = df_population['Change_2000_2010'] / 10\n",
        "\n",
        "# Set the starting year to 2000 and the target years 2000-2025\n",
        "start_year = 2000\n",
        "end_year = 2025\n",
        "\n",
        "# Create a list to hold the daily projected data\n",
        "daily_data = []\n",
        "\n",
        "# Loop through each row of the population DataFrame to project data for each Borough and CD\n",
        "for _, row in df_population.iterrows():\n",
        "    # Starting population from 2000\n",
        "    population_2000 = row['Population_2000']\n",
        "    growth_rate = row['Annual_Growth_Rate']\n",
        "\n",
        "    # Loop through each year and calculate the projected population for each day\n",
        "    for year in range(start_year, end_year + 1):\n",
        "        # Generate a date range for the current year (January 1 to December 31)\n",
        "        date_range = pd.date_range(start=f'{year}-01-01', end=f'{year}-12-31', freq='D')\n",
        "\n",
        "        # Calculate the projected population for this year (using the annual growth rate)\n",
        "        projected_population = population_2000 + (year - start_year) * growth_rate\n",
        "\n",
        "        # get the value for area of the resulting borough and cd_number\n",
        "        area_value = area.loc[(area['Borough'] == row['Borough']) & (area['CD_Number'] == row['CD_Number']), 'Square_Miles'].values[0]\n",
        "\n",
        "        # Create a DataFrame for this year's daily population data\n",
        "        temp_df = pd.DataFrame({\n",
        "            'date': date_range,\n",
        "            'Borough': row['Borough'],\n",
        "            'community_district': row['CD_Number'],\n",
        "            'CD_Name': row['CD_Name'],\n",
        "            'Projected_Population': projected_population,\n",
        "            'projected_density': projected_population / area_value\n",
        "        })\n",
        "\n",
        "        # Append the data to the list\n",
        "        daily_data.append(temp_df)\n",
        "\n",
        "# Concatenate all the daily data into one DataFrame\n",
        "population_df = pd.concat(daily_data, ignore_index=True)"
      ],
      "metadata": {
        "id": "pvkuiklNWUKf"
      },
      "execution_count": null,
      "outputs": []
    },
    {
      "cell_type": "markdown",
      "source": [],
      "metadata": {
        "id": "ZjmB2f3SmtAI"
      }
    },
    {
      "cell_type": "code",
      "source": [
        "population_df['borough_id'] = population_df['Borough'].apply(lambda x: 1 if x == 'Manhattan' else (2 if x == 'Bronx' else (3 if x == 'Brooklyn' else (4 if x == 'Queens' else 5))))\n",
        "population_df.drop(columns=['Borough', \"CD_Name\"], inplace=True)"
      ],
      "metadata": {
        "id": "93J6vhS9msvg"
      },
      "execution_count": null,
      "outputs": []
    },
    {
      "cell_type": "markdown",
      "source": [],
      "metadata": {
        "id": "sFP2SWCCaJHH"
      }
    },
    {
      "cell_type": "markdown",
      "source": [
        "##Data Preprocessing Before the Model"
      ],
      "metadata": {
        "id": "Y2qwcgwicQ5R"
      }
    },
    {
      "cell_type": "code",
      "source": [
        "weather_df = conn.execute(\"SELECT * FROM weather\").fetchdf()\n",
        "weather_df = weather_df[weather_df[\"date\"] >= \"2000-01-01\"]"
      ],
      "metadata": {
        "id": "fe4Ey5xzekM6"
      },
      "execution_count": null,
      "outputs": []
    },
    {
      "cell_type": "code",
      "source": [
        "# asserting community_district row in tonnage_df as an int\n",
        "# necessary to ensure that merge works correctly\n",
        "print(len(tonnage))\n",
        "tonnage_df = tonnage_df.dropna()\n",
        "print(len(tonnage))\n",
        "\n",
        "tonnage_df['community_district'] = pd.to_numeric(tonnage_df['community_district'], errors='coerce')\n",
        "\n",
        "print(len(tonnage))\n",
        "tonnage_df = tonnage_df.dropna()\n",
        "print(len(tonnage))\n",
        "\n",
        "tonnage_df['community_district'] = tonnage_df['community_district'].astype(int)"
      ],
      "metadata": {
        "colab": {
          "base_uri": "https://localhost:8080/"
        },
        "id": "7UjpvXvkrFE-",
        "outputId": "8f16af21-d1d7-4266-dd5d-46e4a20570b6"
      },
      "execution_count": null,
      "outputs": [
        {
          "output_type": "stream",
          "name": "stdout",
          "text": [
            "24122\n",
            "24122\n",
            "24122\n",
            "24122\n"
          ]
        },
        {
          "output_type": "stream",
          "name": "stderr",
          "text": [
            "<ipython-input-58-d72f820da649>:13: SettingWithCopyWarning: \n",
            "A value is trying to be set on a copy of a slice from a DataFrame.\n",
            "Try using .loc[row_indexer,col_indexer] = value instead\n",
            "\n",
            "See the caveats in the documentation: https://pandas.pydata.org/pandas-docs/stable/user_guide/indexing.html#returning-a-view-versus-a-copy\n",
            "  tonnage_df['community_district'] = tonnage_df['community_district'].astype(int)\n"
          ]
        }
      ]
    },
    {
      "cell_type": "code",
      "source": [
        "# merge weather_df and population_df together\n",
        "df = pd.merge(weather_df, population_df, on=['date'] , how='left')\n",
        "\n",
        "# merge the result with tonnage_df\n",
        "df = pd.merge(df, tonnage_df, on=['date', 'borough_id', 'community_district'], how='left')\n",
        "\n",
        "# Ensure the 'date' column is datetime type\n",
        "df['date'] = pd.to_datetime(df['date'])"
      ],
      "metadata": {
        "id": "lOx0fOYdcXH-"
      },
      "execution_count": null,
      "outputs": []
    },
    {
      "cell_type": "markdown",
      "source": [
        "###Data Splitting and Normalization"
      ],
      "metadata": {
        "id": "F6slPNHEzZhH"
      }
    },
    {
      "cell_type": "code",
      "source": [
        "# ensure values are sorted properly\n",
        "df.sort_values('date')\n",
        "\n",
        "split_date = \"2020-01-01\"\n",
        "train_df = df[df['date'] < split_date]\n",
        "\n",
        "train_df = train_df[train_df['date'] >= \"2008-01-01\"]\n",
        "test_df = df[df['date'] >= split_date]"
      ],
      "metadata": {
        "id": "Rh6R-3vCzbFj"
      },
      "execution_count": null,
      "outputs": []
    },
    {
      "cell_type": "code",
      "source": [
        "scaler = pre.StandardScaler()\n",
        "scaled_train = scaler.fit_transform(train_df[['borough_id', 'community_district', 'refuse', 'paper', 'mgp', 'res_organic', 'school_organic', 'leaves', 'xmas', 'precipitation', 'snow_fall', 'snow_depth', 'max_temp', 'min_temp', 'Projected_Population', 'projected_density']])\n",
        "\n",
        "scaled_test = scaler.transform(test_df[['borough_id', 'community_district', 'refuse', 'paper', 'mgp', 'res_organic', 'school_organic', 'leaves', 'xmas', 'precipitation', 'snow_fall', 'snow_depth', 'max_temp', 'min_temp', 'Projected_Population', 'projected_density']])"
      ],
      "metadata": {
        "id": "thonDUWt2hxG"
      },
      "execution_count": null,
      "outputs": []
    },
    {
      "cell_type": "code",
      "source": [
        "#np.savetxt(\"temp_scaled_train.csv\", scaled_train, delimiter=\",\")\n",
        "#np.savetxt('temp_scaled_test.csv', scaled_test, delimiter=\",\")"
      ],
      "metadata": {
        "id": "Zx_NNRHcCm10"
      },
      "execution_count": null,
      "outputs": []
    },
    {
      "cell_type": "code",
      "source": [
        "target_cols = ['refuse', 'paper', 'mgp', 'res_organic', 'school_organic', 'leaves', 'xmas']\n",
        "\n",
        "X_train_full = scaled_train\n",
        "y_train_no_scale = train_df[target_cols].values\n",
        "\n",
        "X_test_full = scaled_test\n",
        "y_test_no_scale = test_df[target_cols].values"
      ],
      "metadata": {
        "id": "-4MoVshOB9BS"
      },
      "execution_count": null,
      "outputs": []
    },
    {
      "cell_type": "code",
      "source": [
        "y_scaler = pre.StandardScaler()\n",
        "\n",
        "\n",
        "y_train_reduced = y_scaler.fit_transform(y_train_no_scale)\n",
        "y_test_reduced = y_scaler.transform(y_test_no_scale)"
      ],
      "metadata": {
        "id": "rjHjXTlbAzGL"
      },
      "execution_count": null,
      "outputs": []
    },
    {
      "cell_type": "markdown",
      "source": [
        "#Make ML Model\n",
        "LSTM: Slow and inaccurate\n",
        "ARMA: look into this"
      ],
      "metadata": {
        "id": "Ja5craJU9jp0"
      }
    },
    {
      "cell_type": "markdown",
      "source": [
        "###Functions for testing"
      ],
      "metadata": {
        "id": "36B_0QGC8yzf"
      }
    },
    {
      "cell_type": "markdown",
      "source": [
        "Sequencing, and Reshaping"
      ],
      "metadata": {
        "id": "BoROVnRujgUt"
      }
    },
    {
      "cell_type": "code",
      "source": [
        "def create_sequences(X, y, time_steps):\n",
        "    X_seq, y_seq = [], []\n",
        "    for i in range(len(X) - time_steps):\n",
        "        X_seq.append(X[i:i+time_steps])  # Input sequence\n",
        "        y_seq.append(y[i+time_steps])    # Target at future time step\n",
        "    return np.array(X_seq), np.array(y_seq)"
      ],
      "metadata": {
        "id": "NSlpENWEjoZE"
      },
      "execution_count": null,
      "outputs": []
    },
    {
      "cell_type": "code",
      "source": [
        "time_steps = 32\n",
        "\n",
        "X_train, y_train = create_sequences(X_train_full, y_train_reduced, time_steps)\n",
        "X_test, y_test = create_sequences(X_test_full, y_test_reduced, time_steps)"
      ],
      "metadata": {
        "id": "fk9Akdo3jsTa"
      },
      "execution_count": null,
      "outputs": []
    },
    {
      "cell_type": "code",
      "source": [
        "X_train = X_train.reshape((X_train.shape[0], X_train.shape[1], X_train.shape[2]))\n",
        "X_test = X_test.reshape((X_test.shape[0], X_test.shape[1], X_test.shape[2]))"
      ],
      "metadata": {
        "id": "D-GILJNDjpIM"
      },
      "execution_count": null,
      "outputs": []
    },
    {
      "cell_type": "code",
      "source": [
        "print(X_train.shape)\n",
        "print(y_train.shape)\n",
        "print(X_test.shape)\n",
        "print(y_test.shape)"
      ],
      "metadata": {
        "colab": {
          "base_uri": "https://localhost:8080/"
        },
        "id": "T-KoDtGRQIH8",
        "outputId": "d15bd37e-6be7-47ec-ce6a-a1c29f3b1ade"
      },
      "execution_count": null,
      "outputs": [
        {
          "output_type": "stream",
          "name": "stdout",
          "text": [
            "(258565, 32, 16)\n",
            "(258565, 7)\n",
            "(64514, 32, 16)\n",
            "(64514, 7)\n"
          ]
        }
      ]
    },
    {
      "cell_type": "code",
      "source": [
        "# reduce ram usage\n",
        "\n",
        "X_train = X_train.astype('float16')\n",
        "y_train = y_train.astype('float16')\n",
        "X_test = X_test.astype('float16')\n",
        "y_test = y_test.astype('float16')"
      ],
      "metadata": {
        "id": "_g2xTSa7j21U"
      },
      "execution_count": null,
      "outputs": []
    },
    {
      "cell_type": "code",
      "source": [
        "def fit_and_evaluate(model, X_train, y_train, X_test, y_test, learning_rate, epochs):\n",
        "    early_stopping_cb = tf.keras.callbacks.EarlyStopping(\n",
        "        monitor=\"val_mae\", patience=50, restore_best_weights=True)\n",
        "\n",
        "    opt = tf.keras.optimizers.Adam(learning_rate=learning_rate)\n",
        "\n",
        "    model.compile(loss=\"mae\", optimizer=opt, metrics=[\"mae\"])\n",
        "\n",
        "    history = model.fit(X_train, y_train, validation_data=(X_test, y_test), epochs=epochs,\n",
        "                        callbacks=[early_stopping_cb])\n",
        "\n",
        "    # Evaluate on test set\n",
        "    valid_loss, valid_mae = model.evaluate(X_test, y_test)\n",
        "\n",
        "    # Generate predictions\n",
        "    predictions = model.predict(X_test)\n",
        "\n",
        "    return valid_mae, predictions"
      ],
      "metadata": {
        "id": "eWOqEWsX81OT"
      },
      "execution_count": null,
      "outputs": []
    },
    {
      "cell_type": "markdown",
      "source": [
        "###building model"
      ],
      "metadata": {
        "id": "gG2iBJpxak6Q"
      }
    },
    {
      "cell_type": "code",
      "source": [
        "target_cols_len = len(target_cols)"
      ],
      "metadata": {
        "id": "1doxcbmP8A8K"
      },
      "execution_count": null,
      "outputs": []
    },
    {
      "cell_type": "code",
      "source": [
        "tf.random.set_seed(42)  # extra code – ensures reproducibility\n",
        "lstm_model = tf.keras.models.Sequential([\n",
        "    tf.keras.layers.LSTM(45, return_sequences=True, activation='tanh', input_shape=[X_train.shape[1], X_train.shape[2]]),\n",
        "    tf.keras.layers.LSTM(15, return_sequences=False, activation='tanh'),\n",
        "    tf.keras.layers.Dense(target_cols_len)\n",
        "])"
      ],
      "metadata": {
        "id": "1GnNOUrNahiR"
      },
      "execution_count": null,
      "outputs": []
    },
    {
      "cell_type": "code",
      "source": [
        "lstm_model.summary()"
      ],
      "metadata": {
        "colab": {
          "base_uri": "https://localhost:8080/",
          "height": 232
        },
        "id": "PeZYsYmNO_Mc",
        "outputId": "a1e45950-184c-48cf-e8ae-ccec25141b45"
      },
      "execution_count": null,
      "outputs": [
        {
          "output_type": "display_data",
          "data": {
            "text/plain": [
              "\u001b[1mModel: \"sequential_8\"\u001b[0m\n"
            ],
            "text/html": [
              "<pre style=\"white-space:pre;overflow-x:auto;line-height:normal;font-family:Menlo,'DejaVu Sans Mono',consolas,'Courier New',monospace\"><span style=\"font-weight: bold\">Model: \"sequential_8\"</span>\n",
              "</pre>\n"
            ]
          },
          "metadata": {}
        },
        {
          "output_type": "display_data",
          "data": {
            "text/plain": [
              "┏━━━━━━━━━━━━━━━━━━━━━━━━━━━━━━━━━━━━━━┳━━━━━━━━━━━━━━━━━━━━━━━━━━━━━┳━━━━━━━━━━━━━━━━━┓\n",
              "┃\u001b[1m \u001b[0m\u001b[1mLayer (type)                        \u001b[0m\u001b[1m \u001b[0m┃\u001b[1m \u001b[0m\u001b[1mOutput Shape               \u001b[0m\u001b[1m \u001b[0m┃\u001b[1m \u001b[0m\u001b[1m        Param #\u001b[0m\u001b[1m \u001b[0m┃\n",
              "┡━━━━━━━━━━━━━━━━━━━━━━━━━━━━━━━━━━━━━━╇━━━━━━━━━━━━━━━━━━━━━━━━━━━━━╇━━━━━━━━━━━━━━━━━┩\n",
              "│ lstm_17 (\u001b[38;5;33mLSTM\u001b[0m)                       │ (\u001b[38;5;45mNone\u001b[0m, \u001b[38;5;34m32\u001b[0m, \u001b[38;5;34m45\u001b[0m)              │          \u001b[38;5;34m11,160\u001b[0m │\n",
              "├──────────────────────────────────────┼─────────────────────────────┼─────────────────┤\n",
              "│ lstm_18 (\u001b[38;5;33mLSTM\u001b[0m)                       │ (\u001b[38;5;45mNone\u001b[0m, \u001b[38;5;34m15\u001b[0m)                  │           \u001b[38;5;34m3,660\u001b[0m │\n",
              "├──────────────────────────────────────┼─────────────────────────────┼─────────────────┤\n",
              "│ dense_8 (\u001b[38;5;33mDense\u001b[0m)                      │ (\u001b[38;5;45mNone\u001b[0m, \u001b[38;5;34m7\u001b[0m)                   │             \u001b[38;5;34m112\u001b[0m │\n",
              "└──────────────────────────────────────┴─────────────────────────────┴─────────────────┘\n"
            ],
            "text/html": [
              "<pre style=\"white-space:pre;overflow-x:auto;line-height:normal;font-family:Menlo,'DejaVu Sans Mono',consolas,'Courier New',monospace\">┏━━━━━━━━━━━━━━━━━━━━━━━━━━━━━━━━━━━━━━┳━━━━━━━━━━━━━━━━━━━━━━━━━━━━━┳━━━━━━━━━━━━━━━━━┓\n",
              "┃<span style=\"font-weight: bold\"> Layer (type)                         </span>┃<span style=\"font-weight: bold\"> Output Shape                </span>┃<span style=\"font-weight: bold\">         Param # </span>┃\n",
              "┡━━━━━━━━━━━━━━━━━━━━━━━━━━━━━━━━━━━━━━╇━━━━━━━━━━━━━━━━━━━━━━━━━━━━━╇━━━━━━━━━━━━━━━━━┩\n",
              "│ lstm_17 (<span style=\"color: #0087ff; text-decoration-color: #0087ff\">LSTM</span>)                       │ (<span style=\"color: #00d7ff; text-decoration-color: #00d7ff\">None</span>, <span style=\"color: #00af00; text-decoration-color: #00af00\">32</span>, <span style=\"color: #00af00; text-decoration-color: #00af00\">45</span>)              │          <span style=\"color: #00af00; text-decoration-color: #00af00\">11,160</span> │\n",
              "├──────────────────────────────────────┼─────────────────────────────┼─────────────────┤\n",
              "│ lstm_18 (<span style=\"color: #0087ff; text-decoration-color: #0087ff\">LSTM</span>)                       │ (<span style=\"color: #00d7ff; text-decoration-color: #00d7ff\">None</span>, <span style=\"color: #00af00; text-decoration-color: #00af00\">15</span>)                  │           <span style=\"color: #00af00; text-decoration-color: #00af00\">3,660</span> │\n",
              "├──────────────────────────────────────┼─────────────────────────────┼─────────────────┤\n",
              "│ dense_8 (<span style=\"color: #0087ff; text-decoration-color: #0087ff\">Dense</span>)                      │ (<span style=\"color: #00d7ff; text-decoration-color: #00d7ff\">None</span>, <span style=\"color: #00af00; text-decoration-color: #00af00\">7</span>)                   │             <span style=\"color: #00af00; text-decoration-color: #00af00\">112</span> │\n",
              "└──────────────────────────────────────┴─────────────────────────────┴─────────────────┘\n",
              "</pre>\n"
            ]
          },
          "metadata": {}
        },
        {
          "output_type": "display_data",
          "data": {
            "text/plain": [
              "\u001b[1m Total params: \u001b[0m\u001b[38;5;34m14,932\u001b[0m (58.33 KB)\n"
            ],
            "text/html": [
              "<pre style=\"white-space:pre;overflow-x:auto;line-height:normal;font-family:Menlo,'DejaVu Sans Mono',consolas,'Courier New',monospace\"><span style=\"font-weight: bold\"> Total params: </span><span style=\"color: #00af00; text-decoration-color: #00af00\">14,932</span> (58.33 KB)\n",
              "</pre>\n"
            ]
          },
          "metadata": {}
        },
        {
          "output_type": "display_data",
          "data": {
            "text/plain": [
              "\u001b[1m Trainable params: \u001b[0m\u001b[38;5;34m14,932\u001b[0m (58.33 KB)\n"
            ],
            "text/html": [
              "<pre style=\"white-space:pre;overflow-x:auto;line-height:normal;font-family:Menlo,'DejaVu Sans Mono',consolas,'Courier New',monospace\"><span style=\"font-weight: bold\"> Trainable params: </span><span style=\"color: #00af00; text-decoration-color: #00af00\">14,932</span> (58.33 KB)\n",
              "</pre>\n"
            ]
          },
          "metadata": {}
        },
        {
          "output_type": "display_data",
          "data": {
            "text/plain": [
              "\u001b[1m Non-trainable params: \u001b[0m\u001b[38;5;34m0\u001b[0m (0.00 B)\n"
            ],
            "text/html": [
              "<pre style=\"white-space:pre;overflow-x:auto;line-height:normal;font-family:Menlo,'DejaVu Sans Mono',consolas,'Courier New',monospace\"><span style=\"font-weight: bold\"> Non-trainable params: </span><span style=\"color: #00af00; text-decoration-color: #00af00\">0</span> (0.00 B)\n",
              "</pre>\n"
            ]
          },
          "metadata": {}
        }
      ]
    },
    {
      "cell_type": "markdown",
      "source": [
        "###evaluate model"
      ],
      "metadata": {
        "id": "wxJKozWb8548"
      }
    },
    {
      "cell_type": "code",
      "source": [
        "# size of X_train in bytes\n",
        "print(X_train.itemsize * X_train.size)"
      ],
      "metadata": {
        "colab": {
          "base_uri": "https://localhost:8080/"
        },
        "id": "xFyfw8VHQswP",
        "outputId": "bc8bd397-8bde-4fd7-94d0-474a51d7d84a"
      },
      "execution_count": null,
      "outputs": [
        {
          "output_type": "stream",
          "name": "stdout",
          "text": [
            "264770560\n"
          ]
        }
      ]
    },
    {
      "cell_type": "code",
      "source": [
        "mae, preds = fit_and_evaluate(lstm_model, X_train, y_train, X_test, y_test, .00062, 15)"
      ],
      "metadata": {
        "colab": {
          "base_uri": "https://localhost:8080/"
        },
        "id": "ZSWC6gje-Kj-",
        "outputId": "6039edad-6778-4df7-df0d-7da3ecc3116f"
      },
      "execution_count": null,
      "outputs": [
        {
          "output_type": "stream",
          "name": "stdout",
          "text": [
            "Epoch 1/15\n",
            "\u001b[1m8081/8081\u001b[0m \u001b[32m━━━━━━━━━━━━━━━━━━━━\u001b[0m\u001b[37m\u001b[0m \u001b[1m67s\u001b[0m 8ms/step - loss: 0.2789 - mae: 0.2789 - val_loss: 0.1587 - val_mae: 0.1587\n",
            "Epoch 2/15\n",
            "\u001b[1m8081/8081\u001b[0m \u001b[32m━━━━━━━━━━━━━━━━━━━━\u001b[0m\u001b[37m\u001b[0m \u001b[1m70s\u001b[0m 9ms/step - loss: 0.1027 - mae: 0.1027 - val_loss: 0.1183 - val_mae: 0.1183\n",
            "Epoch 3/15\n",
            "\u001b[1m8081/8081\u001b[0m \u001b[32m━━━━━━━━━━━━━━━━━━━━\u001b[0m\u001b[37m\u001b[0m \u001b[1m68s\u001b[0m 8ms/step - loss: 0.0755 - mae: 0.0755 - val_loss: 0.1089 - val_mae: 0.1089\n",
            "Epoch 4/15\n",
            "\u001b[1m8081/8081\u001b[0m \u001b[32m━━━━━━━━━━━━━━━━━━━━\u001b[0m\u001b[37m\u001b[0m \u001b[1m82s\u001b[0m 8ms/step - loss: 0.0680 - mae: 0.0680 - val_loss: 0.1043 - val_mae: 0.1043\n",
            "Epoch 5/15\n",
            "\u001b[1m8081/8081\u001b[0m \u001b[32m━━━━━━━━━━━━━━━━━━━━\u001b[0m\u001b[37m\u001b[0m \u001b[1m81s\u001b[0m 8ms/step - loss: 0.0639 - mae: 0.0639 - val_loss: 0.1027 - val_mae: 0.1027\n",
            "Epoch 6/15\n",
            "\u001b[1m8081/8081\u001b[0m \u001b[32m━━━━━━━━━━━━━━━━━━━━\u001b[0m\u001b[37m\u001b[0m \u001b[1m78s\u001b[0m 8ms/step - loss: 0.0610 - mae: 0.0610 - val_loss: 0.0997 - val_mae: 0.0997\n",
            "Epoch 7/15\n",
            "\u001b[1m8081/8081\u001b[0m \u001b[32m━━━━━━━━━━━━━━━━━━━━\u001b[0m\u001b[37m\u001b[0m \u001b[1m82s\u001b[0m 8ms/step - loss: 0.0587 - mae: 0.0587 - val_loss: 0.0984 - val_mae: 0.0984\n",
            "Epoch 8/15\n",
            "\u001b[1m8081/8081\u001b[0m \u001b[32m━━━━━━━━━━━━━━━━━━━━\u001b[0m\u001b[37m\u001b[0m \u001b[1m85s\u001b[0m 8ms/step - loss: 0.0569 - mae: 0.0569 - val_loss: 0.0976 - val_mae: 0.0976\n",
            "Epoch 9/15\n",
            "\u001b[1m8081/8081\u001b[0m \u001b[32m━━━━━━━━━━━━━━━━━━━━\u001b[0m\u001b[37m\u001b[0m \u001b[1m79s\u001b[0m 8ms/step - loss: 0.0556 - mae: 0.0556 - val_loss: 0.0958 - val_mae: 0.0958\n",
            "Epoch 10/15\n",
            "\u001b[1m8081/8081\u001b[0m \u001b[32m━━━━━━━━━━━━━━━━━━━━\u001b[0m\u001b[37m\u001b[0m \u001b[1m84s\u001b[0m 8ms/step - loss: 0.0544 - mae: 0.0544 - val_loss: 0.0957 - val_mae: 0.0957\n",
            "Epoch 11/15\n",
            "\u001b[1m8081/8081\u001b[0m \u001b[32m━━━━━━━━━━━━━━━━━━━━\u001b[0m\u001b[37m\u001b[0m \u001b[1m79s\u001b[0m 8ms/step - loss: 0.0534 - mae: 0.0534 - val_loss: 0.0950 - val_mae: 0.0950\n",
            "Epoch 12/15\n",
            "\u001b[1m8081/8081\u001b[0m \u001b[32m━━━━━━━━━━━━━━━━━━━━\u001b[0m\u001b[37m\u001b[0m \u001b[1m85s\u001b[0m 8ms/step - loss: 0.0526 - mae: 0.0526 - val_loss: 0.0955 - val_mae: 0.0955\n",
            "Epoch 13/15\n",
            "\u001b[1m8081/8081\u001b[0m \u001b[32m━━━━━━━━━━━━━━━━━━━━\u001b[0m\u001b[37m\u001b[0m \u001b[1m78s\u001b[0m 8ms/step - loss: 0.0519 - mae: 0.0519 - val_loss: 0.0961 - val_mae: 0.0961\n",
            "Epoch 14/15\n",
            "\u001b[1m8081/8081\u001b[0m \u001b[32m━━━━━━━━━━━━━━━━━━━━\u001b[0m\u001b[37m\u001b[0m \u001b[1m85s\u001b[0m 8ms/step - loss: 0.0513 - mae: 0.0513 - val_loss: 0.0954 - val_mae: 0.0954\n",
            "Epoch 15/15\n",
            "\u001b[1m8081/8081\u001b[0m \u001b[32m━━━━━━━━━━━━━━━━━━━━\u001b[0m\u001b[37m\u001b[0m \u001b[1m82s\u001b[0m 8ms/step - loss: 0.0507 - mae: 0.0507 - val_loss: 0.0955 - val_mae: 0.0955\n",
            "\u001b[1m2017/2017\u001b[0m \u001b[32m━━━━━━━━━━━━━━━━━━━━\u001b[0m\u001b[37m\u001b[0m \u001b[1m9s\u001b[0m 4ms/step - loss: 0.0903 - mae: 0.0903\n",
            "\u001b[1m2017/2017\u001b[0m \u001b[32m━━━━━━━━━━━━━━━━━━━━\u001b[0m\u001b[37m\u001b[0m \u001b[1m5s\u001b[0m 2ms/step\n"
          ]
        }
      ]
    },
    {
      "cell_type": "code",
      "source": [
        "print(f\"Validation MAE: {mae}\")"
      ],
      "metadata": {
        "colab": {
          "base_uri": "https://localhost:8080/"
        },
        "id": "sOkAheWZgU90",
        "outputId": "7dc650e1-4468-4d75-9bd2-d671d3613a1b"
      },
      "execution_count": null,
      "outputs": [
        {
          "output_type": "stream",
          "name": "stdout",
          "text": [
            "Validation MAE: 0.09503576159477234\n"
          ]
        }
      ]
    },
    {
      "cell_type": "code",
      "source": [
        "lstm_model.save_weights(\"lstm_1.weights.h5\")"
      ],
      "metadata": {
        "id": "zGL-tCToYudC"
      },
      "execution_count": null,
      "outputs": []
    },
    {
      "cell_type": "code",
      "source": [
        "np.set_printoptions(formatter={'float_kind':'{:f}'.format})\n",
        "\n",
        "# inverse scale the predictions and y_testing values for comparison\n",
        "y_pred_final = y_scaler.inverse_transform(preds)\n",
        "y_test_final = y_scaler.inverse_transform(y_test)\n",
        "\n",
        "# print first few results\n",
        "print(y_pred_final[:10], '\\n')\n",
        "print(y_test_final[:10])"
      ],
      "metadata": {
        "colab": {
          "base_uri": "https://localhost:8080/"
        },
        "id": "zES7OAcPINYN",
        "outputId": "0eff44d2-1214-4782-a111-17932eed14a8"
      },
      "execution_count": null,
      "outputs": [
        {
          "output_type": "stream",
          "name": "stdout",
          "text": [
            "[[101.980972 10.610936 12.571704 1.412910 1.499741 -0.000872 0.566490]\n",
            " [84.304825 19.034140 19.218189 1.866226 1.202553 -0.000593 0.715896]\n",
            " [40.738056 10.832723 10.999484 0.763954 -0.120512 -0.000678 0.638877]\n",
            " [71.912857 12.185018 12.044452 1.176536 0.259899 -0.000608 1.037861]\n",
            " [151.297379 32.715473 31.795277 2.009889 1.500889 -0.000386 2.343065]\n",
            " [155.556900 38.495930 35.393299 1.694896 0.217928 -0.000046 3.422964]\n",
            " [93.013565 11.312139 16.027332 1.044181 2.751992 0.000147 1.192321]\n",
            " [113.308487 14.391255 15.172091 1.580497 1.380709 -0.000277 1.212865]\n",
            " [101.064224 11.448216 9.352923 0.945228 1.240088 -0.000011 0.772497]\n",
            " [169.645523 17.507589 18.723362 1.498306 1.348845 0.000347 0.819178]] \n",
            "\n",
            "[[92.312500 12.414062 11.789062 0.646973 1.742188 -0.000189 0.645508]\n",
            " [74.312500 17.546875 14.789062 1.147461 0.757812 -0.000189 0.958008]\n",
            " [42.343750 9.539062 6.542969 0.147095 0.007801 -0.000189 0.722656]\n",
            " [89.312500 19.921875 15.789062 1.241211 0.007801 -0.000189 1.322266]\n",
            " [151.375000 36.781250 27.671875 1.366211 1.601562 -0.000189 2.613281]\n",
            " [163.375000 40.781250 29.421875 0.771973 0.007801 -0.000189 5.226562]\n",
            " [68.312500 9.289062 9.914062 1.147461 2.039062 -0.000189 0.661133]\n",
            " [84.312500 10.164062 10.164062 0.584473 1.054688 -0.000189 0.812988]\n",
            " [72.312500 8.539062 7.667969 0.303467 0.773438 -0.000189 0.403076]\n",
            " [149.375000 16.421875 19.796875 0.959473 1.398438 -0.000189 1.032227]]\n"
          ]
        }
      ]
    },
    {
      "cell_type": "code",
      "source": [
        "plt.scatter(y_test[:, 0], y_pred_final[:, 0], label=\"refuse\")"
      ],
      "metadata": {
        "colab": {
          "base_uri": "https://localhost:8080/",
          "height": 448
        },
        "id": "MGbfrw8qJmLL",
        "outputId": "3a2880d6-6324-4355-abe7-876a4c67f742"
      },
      "execution_count": null,
      "outputs": [
        {
          "output_type": "execute_result",
          "data": {
            "text/plain": [
              "<matplotlib.collections.PathCollection at 0x7edf08677a50>"
            ]
          },
          "metadata": {},
          "execution_count": 127
        },
        {
          "output_type": "display_data",
          "data": {
            "text/plain": [
              "<Figure size 640x480 with 1 Axes>"
            ],
            "image/png": "[encoded data removed]"
          },
          "metadata": {}
        }
      ]
    },
    {
      "cell_type": "code",
      "source": [
        "from sklearn.metrics import r2_score\n",
        "\n",
        "r2_score(y_test_final[:, 0], y_pred_final[:, 0])"
      ],
      "metadata": {
        "colab": {
          "base_uri": "https://localhost:8080/"
        },
        "id": "00X0b8ElgFu-",
        "outputId": "f6d4e3aa-4a38-4b15-c2e3-4969838fa2f1"
      },
      "execution_count": null,
      "outputs": [
        {
          "output_type": "execute_result",
          "data": {
            "text/plain": [
              "0.9894976019859314"
            ]
          },
          "metadata": {},
          "execution_count": 128
        }
      ]
    },
    {
      "cell_type": "markdown",
      "source": [
        "#Build a graph"
      ],
      "metadata": {
        "id": "MF6wh5X2R3tL"
      }
    },
    {
      "cell_type": "markdown",
      "source": [
        "##Processing data to be ready for a graph"
      ],
      "metadata": {
        "id": "_K9Z0Mmh1isY"
      }
    },
    {
      "cell_type": "markdown",
      "source": [
        "Staten Island = 5, Queens = 4, Brooklyn = 3, Bronx = 2, Manhattan = 1"
      ],
      "metadata": {
        "id": "f5qHTRP6UopP"
      }
    },
    {
      "cell_type": "code",
      "source": [
        "locations = pd.DataFrame()\n",
        "recycling_bins = conn.execute(\"SELECT * FROM bins\").fetchdf()\n",
        "\n",
        "# switch from abreviation to true value\n",
        "recycling_bins['borough'] = recycling_bins['dsny_zone'].apply(lambda x: 'Manhattan' if x == 'MAN' else ('Bronx' if x == 'BX' else ('Brooklyn' if x == 'BKN' else ('Queens' if x == 'QE' else ('Queens' if x == 'QW' else( 'Staten Island'))))))\n",
        "\n",
        "# give numeric value for true value\n",
        "recycling_bins['borough_id'] = recycling_bins['dsny_zone'].apply(lambda x: 1 if x == 'Manhattan' else (2 if x == 'Bronx' else (3 if x == 'Brooklyn' else (4 if x == 'Queens' else 5))))\n",
        "\n",
        "# clean up address formatting. better for making queries to the address api\n",
        "recycling_bins['site_location'] = recycling_bins['site_location'].apply(lambda x: x.split(' -')[0])\n",
        "\n",
        "# drop duplicate values from the dataset\n",
        "recycling_bins = recycling_bins.drop_duplicates(subset=['site_location'], keep='first')"
      ],
      "metadata": {
        "id": "1cYPKcQteNQk"
      },
      "execution_count": 8,
      "outputs": []
    },
    {
      "cell_type": "code",
      "source": [
        "HERE_API_KEY = \"1-CBnuUnC7zb-P-9Lw5kaUWT0bF70gN72NOEaJtrBAc\"\n",
        "geocoder = herepy.GeocoderApi(HERE_API_KEY)\n",
        "\n",
        "def get_lat_lon_here(address):\n",
        "    response = geocoder.free_form(address)\n",
        "    if response.as_dict()['items']:\n",
        "        location = response.as_dict()['items'][0]['position']\n",
        "        return location['lat'], location['lng']\n",
        "    return None"
      ],
      "metadata": {
        "id": "nopbI1LVJxIb"
      },
      "execution_count": 9,
      "outputs": []
    },
    {
      "cell_type": "code",
      "source": [
        "OPENCAGE_API_KEY = \"596740f709444a94a58777ea23b70c5e\"\n",
        "geocoder = OpenCageGeocode(OPENCAGE_API_KEY)\n",
        "\n",
        "def get_lat_lon_opencage(address):\n",
        "    result = geocoder.geocode(address)\n",
        "    if result:\n",
        "        return result[0][\"geometry\"][\"lat\"], result[0][\"geometry\"][\"lng\"]\n",
        "    print(\"no result\")\n",
        "    return None\n"
      ],
      "metadata": {
        "id": "gkmENouzPcoG"
      },
      "execution_count": 44,
      "outputs": []
    },
    {
      "cell_type": "code",
      "source": [
        "for index, row in recycling_bins.iterrows():\n",
        "  point = f\"{row['site_location']}, {row['borough']}, NY\"\n",
        "\n",
        "  # clean up address formatting\n",
        "  point = point.replace('/', ' ')\n",
        "\n",
        "  # some address start with a letter and then integers. ex: 'b17'. splits up chars and numbers\n",
        "  match = re.match(r\"([a-z]+)([0-9]+)\", point, re.I)\n",
        "  if match:\n",
        "    # gets chars and numbers\n",
        "    items = match.groups()\n",
        "    # split on the character. keep the remainder of the string\n",
        "    point = point.split(items[0], 1)[1]\n",
        "  #t.sleep(1)\n",
        "  location = get_lat_lon_opencage(point)\n",
        "  # print(f\"{location} - {point}\")\n",
        "  if location:\n",
        "    locations.loc[index, 'latitude'] = location[0]\n",
        "    locations.loc[index, 'longitude'] = location[1]\n",
        "    locations.loc[index, 'type'] = 'recycling_bin'\n",
        "\n",
        "    match = re.match(r\"([a-z]+)([0-9]+)\", row['dsny_district'], re.I)\n",
        "    items = match.groups()\n",
        "    locations.loc[index, 'cd_number'] = int(items[1])"
      ],
      "metadata": {
        "id": "6DcWk2YsKDrr"
      },
      "execution_count": 11,
      "outputs": []
    },
    {
      "cell_type": "code",
      "source": [
        "#get_lat_lon_here(\"New York NY, 10278, USA\")"
      ],
      "metadata": {
        "id": "2X2W9WiVqAHe"
      },
      "execution_count": 13,
      "outputs": []
    },
    {
      "cell_type": "code",
      "source": [
        "# dropping duplicates\n",
        "# duplicates are just a general value for the address. specific address can't be found\n",
        "locations = locations.drop_duplicates(subset=['latitude', 'longitude'], keep=False)"
      ],
      "metadata": {
        "id": "QHAPpuRHKrOZ"
      },
      "execution_count": 14,
      "outputs": []
    },
    {
      "cell_type": "code",
      "source": [
        "locations['borough_id'] = recycling_bins['borough_id']\n",
        "locations['borough'] = recycling_bins['borough']"
      ],
      "metadata": {
        "id": "FRTx815mfmWV"
      },
      "execution_count": 15,
      "outputs": []
    },
    {
      "cell_type": "code",
      "source": [
        "garages = conn.execute(\"SELECT * FROM garages\").fetchdf()\n",
        "\n",
        "for index, row in garages.iterrows():\n",
        "  garages.loc[index, 'borocd'] = (int(str(garages['borocd'][index])[1:]))\n",
        "  garages.loc[index, 'type'] = 'garage'\n",
        "\n",
        "garages.rename(columns={'boro': 'borough_id', 'borocd': 'cd_number'}, inplace=True)"
      ],
      "metadata": {
        "id": "fHcA_yIghujD"
      },
      "execution_count": 16,
      "outputs": []
    },
    {
      "cell_type": "code",
      "source": [
        "common_cols = list(set(locations.columns).intersection(garages.columns))\n",
        "locations_shared = locations[common_cols]\n",
        "garages_shared = garages[common_cols]\n",
        "\n",
        "merged = pd.concat([locations_shared, garages_shared], ignore_index=True)"
      ],
      "metadata": {
        "id": "Dv_sf-pKxk0I"
      },
      "execution_count": 17,
      "outputs": []
    },
    {
      "cell_type": "code",
      "source": [
        "# removes outlier\n",
        "merged = merged[merged['longitude'] >= -75]\n",
        "merged.reset_index(inplace=True)"
      ],
      "metadata": {
        "id": "blhN_lZyZkoT"
      },
      "execution_count": 18,
      "outputs": []
    },
    {
      "cell_type": "code",
      "source": [
        "plt.figure(figsize=(15,8))\n",
        "ax = sns.scatterplot(data=merged, x='longitude', y='latitude', hue='cd_number', style='borough_id', palette='Set1', legend=False)\n",
        "ax"
      ],
      "metadata": {
        "colab": {
          "base_uri": "https://localhost:8080/",
          "height": 625
        },
        "id": "P0Om4I_IU4Bg",
        "outputId": "d71b0d59-285e-4169-bd73-8498d28e9e93"
      },
      "execution_count": 19,
      "outputs": [
        {
          "output_type": "execute_result",
          "data": {
            "text/plain": [
              "<Axes: xlabel='longitude', ylabel='latitude'>"
            ]
          },
          "metadata": {},
          "execution_count": 19
        },
        {
          "output_type": "display_data",
          "data": {
            "text/plain": [
              "<Figure size 1500x800 with 1 Axes>"
            ],
            "image/png": "[encoded data removed]"
          },
          "metadata": {}
        }
      ]
    },
    {
      "cell_type": "markdown",
      "source": [
        "might need to do some sort of k-clustering for borough and community district ids. some of the spots don't seem to add up to where they should be\n",
        "\n",
        "random lat/long generator for spots within each boroguh and community id for the bins. take max of the monthly tonnage for each cd and borough and divide by 2.5 then 5.\n",
        "- dumpsters usually hold 2-3 tons. we'll group 5 dumpsters together at a time"
      ],
      "metadata": {
        "id": "65cZR4Q5dBGA"
      }
    },
    {
      "cell_type": "code",
      "source": [],
      "metadata": {
        "id": "KHt9Sgthp0QZ"
      },
      "execution_count": null,
      "outputs": []
    },
    {
      "cell_type": "code",
      "source": [
        "garages = merged[merged['type'] == 'recycling_bin']\n",
        "print(len(garages))"
      ],
      "metadata": {
        "colab": {
          "base_uri": "https://localhost:8080/"
        },
        "id": "LfDeOn8REaTg",
        "outputId": "88c7c268-e673-4a00-ccc2-a386f77b720d"
      },
      "execution_count": 20,
      "outputs": [
        {
          "output_type": "stream",
          "name": "stdout",
          "text": [
            "87\n"
          ]
        }
      ]
    },
    {
      "cell_type": "markdown",
      "source": [
        "##Adding points to the graph for tonnage pick up points"
      ],
      "metadata": {
        "id": "atk6WLjuMH-D"
      }
    },
    {
      "cell_type": "code",
      "source": [
        "bins_per_comm = conn.execute(\"SELECT borough_name, borough_id, community_district, mean(refuse_tons)  from tonnage GROUP BY borough_name, borough_id, community_district ORDER BY borough_id, community_district;\").fetchdf()\n",
        "bins_per_comm['bins_needed'] = bins_per_comm['mean(refuse_tons)'] / 75 / 3\n",
        "bins_per_comm['bins_needed'] = np.ceil(bins_per_comm['bins_needed']).astype(int)\n",
        "\n",
        "total = sum(bins_per_comm['bins_needed'])\n",
        "print(total)\n",
        "\n",
        "bins_per_comm.head(25)"
      ],
      "metadata": {
        "colab": {
          "base_uri": "https://localhost:8080/",
          "height": 851
        },
        "id": "N0T3fXGPMNAc",
        "outputId": "4f018403-057f-4450-ac7b-f5a31ca3df3b"
      },
      "execution_count": 21,
      "outputs": [
        {
          "output_type": "stream",
          "name": "stdout",
          "text": [
            "1027\n"
          ]
        },
        {
          "output_type": "execute_result",
          "data": {
            "text/plain": [
              "   borough_name  borough_id community_district  mean(refuse_tons)  bins_needed\n",
              "0     Manhattan           1                 01        1069.761893            5\n",
              "1     Manhattan           1                 02        2305.918204           11\n",
              "2     Manhattan           1                 03        3216.525542           15\n",
              "3     Manhattan           1                 04        2205.774272           10\n",
              "4     Manhattan           1                 05        1335.512560            6\n",
              "5     Manhattan           1                 06        3254.282850           15\n",
              "6     Manhattan           1                 07        5453.392961           25\n",
              "7     Manhattan           1                 08        5812.325604           26\n",
              "8     Manhattan           1                 09        2777.819903           13\n",
              "9     Manhattan           1                 10        2909.235990           13\n",
              "10    Manhattan           1                 11        2594.750966           12\n",
              "11    Manhattan           1                 12        5509.331068           25\n",
              "12        Bronx           2                 01        2042.065025           10\n",
              "13        Bronx           2                 02        1544.881527            7\n",
              "14        Bronx           2                 03        1936.033086            9\n",
              "15        Bronx           2                 04        4216.267980           19\n",
              "16        Bronx           2                 05        3563.504926           16\n",
              "17        Bronx           2                 06        2198.582396           10\n",
              "18        Bronx           2                 07        3785.697783           17\n",
              "19        Bronx           2                 08        2504.831941           12\n",
              "20        Bronx           2                 09        4365.465526           20\n",
              "21        Bronx           2                 10        2541.445721           12\n",
              "22        Bronx           2                 11        3059.975306           14\n",
              "23        Bronx           2                 12        3972.487286           18\n",
              "24     Brooklyn           3                 01        4921.857531           22"
            ],
            "text/html": [
              "\n",
              "  <div id=\"df-5fb13b4a-1ce1-49e3-b758-3045c89da29b\" class=\"colab-df-container\">\n",
              "    <div>\n",
              "<style scoped>\n",
              "    .dataframe tbody tr th:only-of-type {\n",
              "        vertical-align: middle;\n",
              "    }\n",
              "\n",
              "    .dataframe tbody tr th {\n",
              "        vertical-align: top;\n",
              "    }\n",
              "\n",
              "    .dataframe thead th {\n",
              "        text-align: right;\n",
              "    }\n",
              "</style>\n",
              "<table border=\"1\" class=\"dataframe\">\n",
              "  <thead>\n",
              "    <tr style=\"text-align: right;\">\n",
              "      <th></th>\n",
              "      <th>borough_name</th>\n",
              "      <th>borough_id</th>\n",
              "      <th>community_district</th>\n",
              "      <th>mean(refuse_tons)</th>\n",
              "      <th>bins_needed</th>\n",
              "    </tr>\n",
              "  </thead>\n",
              "  <tbody>\n",
              "    <tr>\n",
              "      <th>0</th>\n",
              "      <td>Manhattan</td>\n",
              "      <td>1</td>\n",
              "      <td>01</td>\n",
              "      <td>1069.761893</td>\n",
              "      <td>5</td>\n",
              "    </tr>\n",
              "    <tr>\n",
              "      <th>1</th>\n",
              "      <td>Manhattan</td>\n",
              "      <td>1</td>\n",
              "      <td>02</td>\n",
              "      <td>2305.918204</td>\n",
              "      <td>11</td>\n",
              "    </tr>\n",
              "    <tr>\n",
              "      <th>2</th>\n",
              "      <td>Manhattan</td>\n",
              "      <td>1</td>\n",
              "      <td>03</td>\n",
              "      <td>3216.525542</td>\n",
              "      <td>15</td>\n",
              "    </tr>\n",
              "    <tr>\n",
              "      <th>3</th>\n",
              "      <td>Manhattan</td>\n",
              "      <td>1</td>\n",
              "      <td>04</td>\n",
              "      <td>2205.774272</td>\n",
              "      <td>10</td>\n",
              "    </tr>\n",
              "    <tr>\n",
              "      <th>4</th>\n",
              "      <td>Manhattan</td>\n",
              "      <td>1</td>\n",
              "      <td>05</td>\n",
              "      <td>1335.512560</td>\n",
              "      <td>6</td>\n",
              "    </tr>\n",
              "    <tr>\n",
              "      <th>5</th>\n",
              "      <td>Manhattan</td>\n",
              "      <td>1</td>\n",
              "      <td>06</td>\n",
              "      <td>3254.282850</td>\n",
              "      <td>15</td>\n",
              "    </tr>\n",
              "    <tr>\n",
              "      <th>6</th>\n",
              "      <td>Manhattan</td>\n",
              "      <td>1</td>\n",
              "      <td>07</td>\n",
              "      <td>5453.392961</td>\n",
              "      <td>25</td>\n",
              "    </tr>\n",
              "    <tr>\n",
              "      <th>7</th>\n",
              "      <td>Manhattan</td>\n",
              "      <td>1</td>\n",
              "      <td>08</td>\n",
              "      <td>5812.325604</td>\n",
              "      <td>26</td>\n",
              "    </tr>\n",
              "    <tr>\n",
              "      <th>8</th>\n",
              "      <td>Manhattan</td>\n",
              "      <td>1</td>\n",
              "      <td>09</td>\n",
              "      <td>2777.819903</td>\n",
              "      <td>13</td>\n",
              "    </tr>\n",
              "    <tr>\n",
              "      <th>9</th>\n",
              "      <td>Manhattan</td>\n",
              "      <td>1</td>\n",
              "      <td>10</td>\n",
              "      <td>2909.235990</td>\n",
              "      <td>13</td>\n",
              "    </tr>\n",
              "    <tr>\n",
              "      <th>10</th>\n",
              "      <td>Manhattan</td>\n",
              "      <td>1</td>\n",
              "      <td>11</td>\n",
              "      <td>2594.750966</td>\n",
              "      <td>12</td>\n",
              "    </tr>\n",
              "    <tr>\n",
              "      <th>11</th>\n",
              "      <td>Manhattan</td>\n",
              "      <td>1</td>\n",
              "      <td>12</td>\n",
              "      <td>5509.331068</td>\n",
              "      <td>25</td>\n",
              "    </tr>\n",
              "    <tr>\n",
              "      <th>12</th>\n",
              "      <td>Bronx</td>\n",
              "      <td>2</td>\n",
              "      <td>01</td>\n",
              "      <td>2042.065025</td>\n",
              "      <td>10</td>\n",
              "    </tr>\n",
              "    <tr>\n",
              "      <th>13</th>\n",
              "      <td>Bronx</td>\n",
              "      <td>2</td>\n",
              "      <td>02</td>\n",
              "      <td>1544.881527</td>\n",
              "      <td>7</td>\n",
              "    </tr>\n",
              "    <tr>\n",
              "      <th>14</th>\n",
              "      <td>Bronx</td>\n",
              "      <td>2</td>\n",
              "      <td>03</td>\n",
              "      <td>1936.033086</td>\n",
              "      <td>9</td>\n",
              "    </tr>\n",
              "    <tr>\n",
              "      <th>15</th>\n",
              "      <td>Bronx</td>\n",
              "      <td>2</td>\n",
              "      <td>04</td>\n",
              "      <td>4216.267980</td>\n",
              "      <td>19</td>\n",
              "    </tr>\n",
              "    <tr>\n",
              "      <th>16</th>\n",
              "      <td>Bronx</td>\n",
              "      <td>2</td>\n",
              "      <td>05</td>\n",
              "      <td>3563.504926</td>\n",
              "      <td>16</td>\n",
              "    </tr>\n",
              "    <tr>\n",
              "      <th>17</th>\n",
              "      <td>Bronx</td>\n",
              "      <td>2</td>\n",
              "      <td>06</td>\n",
              "      <td>2198.582396</td>\n",
              "      <td>10</td>\n",
              "    </tr>\n",
              "    <tr>\n",
              "      <th>18</th>\n",
              "      <td>Bronx</td>\n",
              "      <td>2</td>\n",
              "      <td>07</td>\n",
              "      <td>3785.697783</td>\n",
              "      <td>17</td>\n",
              "    </tr>\n",
              "    <tr>\n",
              "      <th>19</th>\n",
              "      <td>Bronx</td>\n",
              "      <td>2</td>\n",
              "      <td>08</td>\n",
              "      <td>2504.831941</td>\n",
              "      <td>12</td>\n",
              "    </tr>\n",
              "    <tr>\n",
              "      <th>20</th>\n",
              "      <td>Bronx</td>\n",
              "      <td>2</td>\n",
              "      <td>09</td>\n",
              "      <td>4365.465526</td>\n",
              "      <td>20</td>\n",
              "    </tr>\n",
              "    <tr>\n",
              "      <th>21</th>\n",
              "      <td>Bronx</td>\n",
              "      <td>2</td>\n",
              "      <td>10</td>\n",
              "      <td>2541.445721</td>\n",
              "      <td>12</td>\n",
              "    </tr>\n",
              "    <tr>\n",
              "      <th>22</th>\n",
              "      <td>Bronx</td>\n",
              "      <td>2</td>\n",
              "      <td>11</td>\n",
              "      <td>3059.975306</td>\n",
              "      <td>14</td>\n",
              "    </tr>\n",
              "    <tr>\n",
              "      <th>23</th>\n",
              "      <td>Bronx</td>\n",
              "      <td>2</td>\n",
              "      <td>12</td>\n",
              "      <td>3972.487286</td>\n",
              "      <td>18</td>\n",
              "    </tr>\n",
              "    <tr>\n",
              "      <th>24</th>\n",
              "      <td>Brooklyn</td>\n",
              "      <td>3</td>\n",
              "      <td>01</td>\n",
              "      <td>4921.857531</td>\n",
              "      <td>22</td>\n",
              "    </tr>\n",
              "  </tbody>\n",
              "</table>\n",
              "</div>\n",
              "    <div class=\"colab-df-buttons\">\n",
              "\n",
              "  <div class=\"colab-df-container\">\n",
              "    <button class=\"colab-df-convert\" onclick=\"convertToInteractive('df-5fb13b4a-1ce1-49e3-b758-3045c89da29b')\"\n",
              "            title=\"Convert this dataframe to an interactive table.\"\n",
              "            style=\"display:none;\">\n",
              "\n",
              "  <svg xmlns=\"http://www.w3.org/2000/svg\" height=\"24px\" viewBox=\"0 -960 960 960\">\n",
              "    <path d=\"M120-120v-720h720v720H120Zm60-500h600v-160H180v160Zm220 220h160v-160H400v160Zm0 220h160v-160H400v160ZM180-400h160v-160H180v160Zm440 0h160v-160H620v160ZM180-180h160v-160H180v160Zm440 0h160v-160H620v160Z\"/>\n",
              "  </svg>\n",
              "    </button>\n",
              "\n",
              "  <style>\n",
              "    .colab-df-container {\n",
              "      display:flex;\n",
              "      gap: 12px;\n",
              "    }\n",
              "\n",
              "    .colab-df-convert {\n",
              "      background-color: #E8F0FE;\n",
              "      border: none;\n",
              "      border-radius: 50%;\n",
              "      cursor: pointer;\n",
              "      display: none;\n",
              "      fill: #1967D2;\n",
              "      height: 32px;\n",
              "      padding: 0 0 0 0;\n",
              "      width: 32px;\n",
              "    }\n",
              "\n",
              "    .colab-df-convert:hover {\n",
              "      background-color: #E2EBFA;\n",
              "      box-shadow: 0px 1px 2px rgba(60, 64, 67, 0.3), 0px 1px 3px 1px rgba(60, 64, 67, 0.15);\n",
              "      fill: #174EA6;\n",
              "    }\n",
              "\n",
              "    .colab-df-buttons div {\n",
              "      margin-bottom: 4px;\n",
              "    }\n",
              "\n",
              "    [theme=dark] .colab-df-convert {\n",
              "      background-color: #3B4455;\n",
              "      fill: #D2E3FC;\n",
              "    }\n",
              "\n",
              "    [theme=dark] .colab-df-convert:hover {\n",
              "      background-color: #434B5C;\n",
              "      box-shadow: 0px 1px 3px 1px rgba(0, 0, 0, 0.15);\n",
              "      filter: drop-shadow(0px 1px 2px rgba(0, 0, 0, 0.3));\n",
              "      fill: #FFFFFF;\n",
              "    }\n",
              "  </style>\n",
              "\n",
              "    <script>\n",
              "      const buttonEl =\n",
              "        document.querySelector('#df-5fb13b4a-1ce1-49e3-b758-3045c89da29b button.colab-df-convert');\n",
              "      buttonEl.style.display =\n",
              "        google.colab.kernel.accessAllowed ? 'block' : 'none';\n",
              "\n",
              "      async function convertToInteractive(key) {\n",
              "        const element = document.querySelector('#df-5fb13b4a-1ce1-49e3-b758-3045c89da29b');\n",
              "        const dataTable =\n",
              "          await google.colab.kernel.invokeFunction('convertToInteractive',\n",
              "                                                    [key], {});\n",
              "        if (!dataTable) return;\n",
              "\n",
              "        const docLinkHtml = 'Like what you see? Visit the ' +\n",
              "          '<a target=\"_blank\" href=https://colab.research.google.com/notebooks/data_table.ipynb>data table notebook</a>'\n",
              "          + ' to learn more about interactive tables.';\n",
              "        element.innerHTML = '';\n",
              "        dataTable['output_type'] = 'display_data';\n",
              "        await google.colab.output.renderOutput(dataTable, element);\n",
              "        const docLink = document.createElement('div');\n",
              "        docLink.innerHTML = docLinkHtml;\n",
              "        element.appendChild(docLink);\n",
              "      }\n",
              "    </script>\n",
              "  </div>\n",
              "\n",
              "\n",
              "<div id=\"df-acee94af-3070-445c-a1af-0c8ce09761a2\">\n",
              "  <button class=\"colab-df-quickchart\" onclick=\"quickchart('df-acee94af-3070-445c-a1af-0c8ce09761a2')\"\n",
              "            title=\"Suggest charts\"\n",
              "            style=\"display:none;\">\n",
              "\n",
              "<svg xmlns=\"http://www.w3.org/2000/svg\" height=\"24px\"viewBox=\"0 0 24 24\"\n",
              "     width=\"24px\">\n",
              "    <g>\n",
              "        <path d=\"M19 3H5c-1.1 0-2 .9-2 2v14c0 1.1.9 2 2 2h14c1.1 0 2-.9 2-2V5c0-1.1-.9-2-2-2zM9 17H7v-7h2v7zm4 0h-2V7h2v10zm4 0h-2v-4h2v4z\"/>\n",
              "    </g>\n",
              "</svg>\n",
              "  </button>\n",
              "\n",
              "<style>\n",
              "  .colab-df-quickchart {\n",
              "      --bg-color: #E8F0FE;\n",
              "      --fill-color: #1967D2;\n",
              "      --hover-bg-color: #E2EBFA;\n",
              "      --hover-fill-color: #174EA6;\n",
              "      --disabled-fill-color: #AAA;\n",
              "      --disabled-bg-color: #DDD;\n",
              "  }\n",
              "\n",
              "  [theme=dark] .colab-df-quickchart {\n",
              "      --bg-color: #3B4455;\n",
              "      --fill-color: #D2E3FC;\n",
              "      --hover-bg-color: #434B5C;\n",
              "      --hover-fill-color: #FFFFFF;\n",
              "      --disabled-bg-color: #3B4455;\n",
              "      --disabled-fill-color: #666;\n",
              "  }\n",
              "\n",
              "  .colab-df-quickchart {\n",
              "    background-color: var(--bg-color);\n",
              "    border: none;\n",
              "    border-radius: 50%;\n",
              "    cursor: pointer;\n",
              "    display: none;\n",
              "    fill: var(--fill-color);\n",
              "    height: 32px;\n",
              "    padding: 0;\n",
              "    width: 32px;\n",
              "  }\n",
              "\n",
              "  .colab-df-quickchart:hover {\n",
              "    background-color: var(--hover-bg-color);\n",
              "    box-shadow: 0 1px 2px rgba(60, 64, 67, 0.3), 0 1px 3px 1px rgba(60, 64, 67, 0.15);\n",
              "    fill: var(--button-hover-fill-color);\n",
              "  }\n",
              "\n",
              "  .colab-df-quickchart-complete:disabled,\n",
              "  .colab-df-quickchart-complete:disabled:hover {\n",
              "    background-color: var(--disabled-bg-color);\n",
              "    fill: var(--disabled-fill-color);\n",
              "    box-shadow: none;\n",
              "  }\n",
              "\n",
              "  .colab-df-spinner {\n",
              "    border: 2px solid var(--fill-color);\n",
              "    border-color: transparent;\n",
              "    border-bottom-color: var(--fill-color);\n",
              "    animation:\n",
              "      spin 1s steps(1) infinite;\n",
              "  }\n",
              "\n",
              "  @keyframes spin {\n",
              "    0% {\n",
              "      border-color: transparent;\n",
              "      border-bottom-color: var(--fill-color);\n",
              "      border-left-color: var(--fill-color);\n",
              "    }\n",
              "    20% {\n",
              "      border-color: transparent;\n",
              "      border-left-color: var(--fill-color);\n",
              "      border-top-color: var(--fill-color);\n",
              "    }\n",
              "    30% {\n",
              "      border-color: transparent;\n",
              "      border-left-color: var(--fill-color);\n",
              "      border-top-color: var(--fill-color);\n",
              "      border-right-color: var(--fill-color);\n",
              "    }\n",
              "    40% {\n",
              "      border-color: transparent;\n",
              "      border-right-color: var(--fill-color);\n",
              "      border-top-color: var(--fill-color);\n",
              "    }\n",
              "    60% {\n",
              "      border-color: transparent;\n",
              "      border-right-color: var(--fill-color);\n",
              "    }\n",
              "    80% {\n",
              "      border-color: transparent;\n",
              "      border-right-color: var(--fill-color);\n",
              "      border-bottom-color: var(--fill-color);\n",
              "    }\n",
              "    90% {\n",
              "      border-color: transparent;\n",
              "      border-bottom-color: var(--fill-color);\n",
              "    }\n",
              "  }\n",
              "</style>\n",
              "\n",
              "  <script>\n",
              "    async function quickchart(key) {\n",
              "      const quickchartButtonEl =\n",
              "        document.querySelector('#' + key + ' button');\n",
              "      quickchartButtonEl.disabled = true;  // To prevent multiple clicks.\n",
              "      quickchartButtonEl.classList.add('colab-df-spinner');\n",
              "      try {\n",
              "        const charts = await google.colab.kernel.invokeFunction(\n",
              "            'suggestCharts', [key], {});\n",
              "      } catch (error) {\n",
              "        console.error('Error during call to suggestCharts:', error);\n",
              "      }\n",
              "      quickchartButtonEl.classList.remove('colab-df-spinner');\n",
              "      quickchartButtonEl.classList.add('colab-df-quickchart-complete');\n",
              "    }\n",
              "    (() => {\n",
              "      let quickchartButtonEl =\n",
              "        document.querySelector('#df-acee94af-3070-445c-a1af-0c8ce09761a2 button');\n",
              "      quickchartButtonEl.style.display =\n",
              "        google.colab.kernel.accessAllowed ? 'block' : 'none';\n",
              "    })();\n",
              "  </script>\n",
              "</div>\n",
              "\n",
              "    </div>\n",
              "  </div>\n"
            ],
            "application/vnd.google.colaboratory.intrinsic+json": {
              "type": "dataframe",
              "variable_name": "bins_per_comm",
              "summary": "{\n  \"name\": \"bins_per_comm\",\n  \"rows\": 60,\n  \"fields\": [\n    {\n      \"column\": \"borough_name\",\n      \"properties\": {\n        \"dtype\": \"category\",\n        \"num_unique_values\": 5,\n        \"samples\": [\n          \"Bronx\",\n          \"Staten Island\",\n          \"Brooklyn\"\n        ],\n        \"semantic_type\": \"\",\n        \"description\": \"\"\n      }\n    },\n    {\n      \"column\": \"borough_id\",\n      \"properties\": {\n        \"dtype\": \"int32\",\n        \"num_unique_values\": 5,\n        \"samples\": [\n          2,\n          5,\n          3\n        ],\n        \"semantic_type\": \"\",\n        \"description\": \"\"\n      }\n    },\n    {\n      \"column\": \"community_district\",\n      \"properties\": {\n        \"dtype\": \"category\",\n        \"num_unique_values\": 19,\n        \"samples\": [\n          \"01\",\n          \"06\",\n          \"12\"\n        ],\n        \"semantic_type\": \"\",\n        \"description\": \"\"\n      }\n    },\n    {\n      \"column\": \"mean(refuse_tons)\",\n      \"properties\": {\n        \"dtype\": \"number\",\n        \"std\": 1358.8714620824294,\n        \"min\": 1069.761893203884,\n        \"max\": 6962.491019417472,\n        \"num_unique_values\": 60,\n        \"samples\": [\n          1069.761893203884,\n          3254.282850241547,\n          2229.461728395061\n        ],\n        \"semantic_type\": \"\",\n        \"description\": \"\"\n      }\n    },\n    {\n      \"column\": \"bins_needed\",\n      \"properties\": {\n        \"dtype\": \"number\",\n        \"std\": 6,\n        \"min\": 5,\n        \"max\": 31,\n        \"num_unique_values\": 23,\n        \"samples\": [\n          14,\n          7,\n          5\n        ],\n        \"semantic_type\": \"\",\n        \"description\": \"\"\n      }\n    }\n  ]\n}"
            }
          },
          "metadata": {},
          "execution_count": 21
        }
      ]
    },
    {
      "cell_type": "code",
      "source": [
        "bins_per_comm = conn.execute(\"SELECT borough_name, community_district from tonnage GROUP BY borough_name, community_district ORDER BY borough_name, community_district;\").fetchdf()\n",
        "bins_per_comm"
      ],
      "metadata": {
        "colab": {
          "base_uri": "https://localhost:8080/",
          "height": 1000
        },
        "id": "237SsSqvk9Gu",
        "outputId": "7da7eb1d-4489-4ee5-d0e6-602711c7b19d"
      },
      "execution_count": 22,
      "outputs": [
        {
          "output_type": "execute_result",
          "data": {
            "text/plain": [
              "     borough_name community_district\n",
              "0           Bronx                 01\n",
              "1           Bronx                 02\n",
              "2           Bronx                 03\n",
              "3           Bronx                 04\n",
              "4           Bronx                 05\n",
              "5           Bronx                 06\n",
              "6           Bronx                 07\n",
              "7           Bronx                 08\n",
              "8           Bronx                 09\n",
              "9           Bronx                 10\n",
              "10          Bronx                 11\n",
              "11          Bronx                 12\n",
              "12       Brooklyn                 01\n",
              "13       Brooklyn                 02\n",
              "14       Brooklyn                 03\n",
              "15       Brooklyn                 04\n",
              "16       Brooklyn                 05\n",
              "17       Brooklyn                 06\n",
              "18       Brooklyn                 07\n",
              "19       Brooklyn                 08\n",
              "20       Brooklyn                 09\n",
              "21       Brooklyn                 10\n",
              "22       Brooklyn                 11\n",
              "23       Brooklyn                 12\n",
              "24       Brooklyn                 13\n",
              "25       Brooklyn                 14\n",
              "26       Brooklyn                 15\n",
              "27       Brooklyn                 16\n",
              "28       Brooklyn                 17\n",
              "29       Brooklyn                 18\n",
              "30      Manhattan                 01\n",
              "31      Manhattan                 02\n",
              "32      Manhattan                 03\n",
              "33      Manhattan                 04\n",
              "34      Manhattan                 05\n",
              "35      Manhattan                 06\n",
              "36      Manhattan                 07\n",
              "37      Manhattan                 08\n",
              "38      Manhattan                 09\n",
              "39      Manhattan                 10\n",
              "40      Manhattan                 11\n",
              "41      Manhattan                 12\n",
              "42         Queens                 01\n",
              "43         Queens                 02\n",
              "44         Queens                 03\n",
              "45         Queens                 04\n",
              "46         Queens                 05\n",
              "47         Queens                 06\n",
              "48         Queens                 07\n",
              "49         Queens                 08\n",
              "50         Queens                 09\n",
              "51         Queens                 10\n",
              "52         Queens                 11\n",
              "53         Queens                 12\n",
              "54         Queens                 13\n",
              "55         Queens                 14\n",
              "56         Queens                 7A\n",
              "57  Staten Island                 01\n",
              "58  Staten Island                 02\n",
              "59  Staten Island                 03"
            ],
            "text/html": [
              "\n",
              "  <div id=\"df-6d82b781-71f3-4880-907b-6494af00d48c\" class=\"colab-df-container\">\n",
              "    <div>\n",
              "<style scoped>\n",
              "    .dataframe tbody tr th:only-of-type {\n",
              "        vertical-align: middle;\n",
              "    }\n",
              "\n",
              "    .dataframe tbody tr th {\n",
              "        vertical-align: top;\n",
              "    }\n",
              "\n",
              "    .dataframe thead th {\n",
              "        text-align: right;\n",
              "    }\n",
              "</style>\n",
              "<table border=\"1\" class=\"dataframe\">\n",
              "  <thead>\n",
              "    <tr style=\"text-align: right;\">\n",
              "      <th></th>\n",
              "      <th>borough_name</th>\n",
              "      <th>community_district</th>\n",
              "    </tr>\n",
              "  </thead>\n",
              "  <tbody>\n",
              "    <tr>\n",
              "      <th>0</th>\n",
              "      <td>Bronx</td>\n",
              "      <td>01</td>\n",
              "    </tr>\n",
              "    <tr>\n",
              "      <th>1</th>\n",
              "      <td>Bronx</td>\n",
              "      <td>02</td>\n",
              "    </tr>\n",
              "    <tr>\n",
              "      <th>2</th>\n",
              "      <td>Bronx</td>\n",
              "      <td>03</td>\n",
              "    </tr>\n",
              "    <tr>\n",
              "      <th>3</th>\n",
              "      <td>Bronx</td>\n",
              "      <td>04</td>\n",
              "    </tr>\n",
              "    <tr>\n",
              "      <th>4</th>\n",
              "      <td>Bronx</td>\n",
              "      <td>05</td>\n",
              "    </tr>\n",
              "    <tr>\n",
              "      <th>5</th>\n",
              "      <td>Bronx</td>\n",
              "      <td>06</td>\n",
              "    </tr>\n",
              "    <tr>\n",
              "      <th>6</th>\n",
              "      <td>Bronx</td>\n",
              "      <td>07</td>\n",
              "    </tr>\n",
              "    <tr>\n",
              "      <th>7</th>\n",
              "      <td>Bronx</td>\n",
              "      <td>08</td>\n",
              "    </tr>\n",
              "    <tr>\n",
              "      <th>8</th>\n",
              "      <td>Bronx</td>\n",
              "      <td>09</td>\n",
              "    </tr>\n",
              "    <tr>\n",
              "      <th>9</th>\n",
              "      <td>Bronx</td>\n",
              "      <td>10</td>\n",
              "    </tr>\n",
              "    <tr>\n",
              "      <th>10</th>\n",
              "      <td>Bronx</td>\n",
              "      <td>11</td>\n",
              "    </tr>\n",
              "    <tr>\n",
              "      <th>11</th>\n",
              "      <td>Bronx</td>\n",
              "      <td>12</td>\n",
              "    </tr>\n",
              "    <tr>\n",
              "      <th>12</th>\n",
              "      <td>Brooklyn</td>\n",
              "      <td>01</td>\n",
              "    </tr>\n",
              "    <tr>\n",
              "      <th>13</th>\n",
              "      <td>Brooklyn</td>\n",
              "      <td>02</td>\n",
              "    </tr>\n",
              "    <tr>\n",
              "      <th>14</th>\n",
              "      <td>Brooklyn</td>\n",
              "      <td>03</td>\n",
              "    </tr>\n",
              "    <tr>\n",
              "      <th>15</th>\n",
              "      <td>Brooklyn</td>\n",
              "      <td>04</td>\n",
              "    </tr>\n",
              "    <tr>\n",
              "      <th>16</th>\n",
              "      <td>Brooklyn</td>\n",
              "      <td>05</td>\n",
              "    </tr>\n",
              "    <tr>\n",
              "      <th>17</th>\n",
              "      <td>Brooklyn</td>\n",
              "      <td>06</td>\n",
              "    </tr>\n",
              "    <tr>\n",
              "      <th>18</th>\n",
              "      <td>Brooklyn</td>\n",
              "      <td>07</td>\n",
              "    </tr>\n",
              "    <tr>\n",
              "      <th>19</th>\n",
              "      <td>Brooklyn</td>\n",
              "      <td>08</td>\n",
              "    </tr>\n",
              "    <tr>\n",
              "      <th>20</th>\n",
              "      <td>Brooklyn</td>\n",
              "      <td>09</td>\n",
              "    </tr>\n",
              "    <tr>\n",
              "      <th>21</th>\n",
              "      <td>Brooklyn</td>\n",
              "      <td>10</td>\n",
              "    </tr>\n",
              "    <tr>\n",
              "      <th>22</th>\n",
              "      <td>Brooklyn</td>\n",
              "      <td>11</td>\n",
              "    </tr>\n",
              "    <tr>\n",
              "      <th>23</th>\n",
              "      <td>Brooklyn</td>\n",
              "      <td>12</td>\n",
              "    </tr>\n",
              "    <tr>\n",
              "      <th>24</th>\n",
              "      <td>Brooklyn</td>\n",
              "      <td>13</td>\n",
              "    </tr>\n",
              "    <tr>\n",
              "      <th>25</th>\n",
              "      <td>Brooklyn</td>\n",
              "      <td>14</td>\n",
              "    </tr>\n",
              "    <tr>\n",
              "      <th>26</th>\n",
              "      <td>Brooklyn</td>\n",
              "      <td>15</td>\n",
              "    </tr>\n",
              "    <tr>\n",
              "      <th>27</th>\n",
              "      <td>Brooklyn</td>\n",
              "      <td>16</td>\n",
              "    </tr>\n",
              "    <tr>\n",
              "      <th>28</th>\n",
              "      <td>Brooklyn</td>\n",
              "      <td>17</td>\n",
              "    </tr>\n",
              "    <tr>\n",
              "      <th>29</th>\n",
              "      <td>Brooklyn</td>\n",
              "      <td>18</td>\n",
              "    </tr>\n",
              "    <tr>\n",
              "      <th>30</th>\n",
              "      <td>Manhattan</td>\n",
              "      <td>01</td>\n",
              "    </tr>\n",
              "    <tr>\n",
              "      <th>31</th>\n",
              "      <td>Manhattan</td>\n",
              "      <td>02</td>\n",
              "    </tr>\n",
              "    <tr>\n",
              "      <th>32</th>\n",
              "      <td>Manhattan</td>\n",
              "      <td>03</td>\n",
              "    </tr>\n",
              "    <tr>\n",
              "      <th>33</th>\n",
              "      <td>Manhattan</td>\n",
              "      <td>04</td>\n",
              "    </tr>\n",
              "    <tr>\n",
              "      <th>34</th>\n",
              "      <td>Manhattan</td>\n",
              "      <td>05</td>\n",
              "    </tr>\n",
              "    <tr>\n",
              "      <th>35</th>\n",
              "      <td>Manhattan</td>\n",
              "      <td>06</td>\n",
              "    </tr>\n",
              "    <tr>\n",
              "      <th>36</th>\n",
              "      <td>Manhattan</td>\n",
              "      <td>07</td>\n",
              "    </tr>\n",
              "    <tr>\n",
              "      <th>37</th>\n",
              "      <td>Manhattan</td>\n",
              "      <td>08</td>\n",
              "    </tr>\n",
              "    <tr>\n",
              "      <th>38</th>\n",
              "      <td>Manhattan</td>\n",
              "      <td>09</td>\n",
              "    </tr>\n",
              "    <tr>\n",
              "      <th>39</th>\n",
              "      <td>Manhattan</td>\n",
              "      <td>10</td>\n",
              "    </tr>\n",
              "    <tr>\n",
              "      <th>40</th>\n",
              "      <td>Manhattan</td>\n",
              "      <td>11</td>\n",
              "    </tr>\n",
              "    <tr>\n",
              "      <th>41</th>\n",
              "      <td>Manhattan</td>\n",
              "      <td>12</td>\n",
              "    </tr>\n",
              "    <tr>\n",
              "      <th>42</th>\n",
              "      <td>Queens</td>\n",
              "      <td>01</td>\n",
              "    </tr>\n",
              "    <tr>\n",
              "      <th>43</th>\n",
              "      <td>Queens</td>\n",
              "      <td>02</td>\n",
              "    </tr>\n",
              "    <tr>\n",
              "      <th>44</th>\n",
              "      <td>Queens</td>\n",
              "      <td>03</td>\n",
              "    </tr>\n",
              "    <tr>\n",
              "      <th>45</th>\n",
              "      <td>Queens</td>\n",
              "      <td>04</td>\n",
              "    </tr>\n",
              "    <tr>\n",
              "      <th>46</th>\n",
              "      <td>Queens</td>\n",
              "      <td>05</td>\n",
              "    </tr>\n",
              "    <tr>\n",
              "      <th>47</th>\n",
              "      <td>Queens</td>\n",
              "      <td>06</td>\n",
              "    </tr>\n",
              "    <tr>\n",
              "      <th>48</th>\n",
              "      <td>Queens</td>\n",
              "      <td>07</td>\n",
              "    </tr>\n",
              "    <tr>\n",
              "      <th>49</th>\n",
              "      <td>Queens</td>\n",
              "      <td>08</td>\n",
              "    </tr>\n",
              "    <tr>\n",
              "      <th>50</th>\n",
              "      <td>Queens</td>\n",
              "      <td>09</td>\n",
              "    </tr>\n",
              "    <tr>\n",
              "      <th>51</th>\n",
              "      <td>Queens</td>\n",
              "      <td>10</td>\n",
              "    </tr>\n",
              "    <tr>\n",
              "      <th>52</th>\n",
              "      <td>Queens</td>\n",
              "      <td>11</td>\n",
              "    </tr>\n",
              "    <tr>\n",
              "      <th>53</th>\n",
              "      <td>Queens</td>\n",
              "      <td>12</td>\n",
              "    </tr>\n",
              "    <tr>\n",
              "      <th>54</th>\n",
              "      <td>Queens</td>\n",
              "      <td>13</td>\n",
              "    </tr>\n",
              "    <tr>\n",
              "      <th>55</th>\n",
              "      <td>Queens</td>\n",
              "      <td>14</td>\n",
              "    </tr>\n",
              "    <tr>\n",
              "      <th>56</th>\n",
              "      <td>Queens</td>\n",
              "      <td>7A</td>\n",
              "    </tr>\n",
              "    <tr>\n",
              "      <th>57</th>\n",
              "      <td>Staten Island</td>\n",
              "      <td>01</td>\n",
              "    </tr>\n",
              "    <tr>\n",
              "      <th>58</th>\n",
              "      <td>Staten Island</td>\n",
              "      <td>02</td>\n",
              "    </tr>\n",
              "    <tr>\n",
              "      <th>59</th>\n",
              "      <td>Staten Island</td>\n",
              "      <td>03</td>\n",
              "    </tr>\n",
              "  </tbody>\n",
              "</table>\n",
              "</div>\n",
              "    <div class=\"colab-df-buttons\">\n",
              "\n",
              "  <div class=\"colab-df-container\">\n",
              "    <button class=\"colab-df-convert\" onclick=\"convertToInteractive('df-6d82b781-71f3-4880-907b-6494af00d48c')\"\n",
              "            title=\"Convert this dataframe to an interactive table.\"\n",
              "            style=\"display:none;\">\n",
              "\n",
              "  <svg xmlns=\"http://www.w3.org/2000/svg\" height=\"24px\" viewBox=\"0 -960 960 960\">\n",
              "    <path d=\"M120-120v-720h720v720H120Zm60-500h600v-160H180v160Zm220 220h160v-160H400v160Zm0 220h160v-160H400v160ZM180-400h160v-160H180v160Zm440 0h160v-160H620v160ZM180-180h160v-160H180v160Zm440 0h160v-160H620v160Z\"/>\n",
              "  </svg>\n",
              "    </button>\n",
              "\n",
              "  <style>\n",
              "    .colab-df-container {\n",
              "      display:flex;\n",
              "      gap: 12px;\n",
              "    }\n",
              "\n",
              "    .colab-df-convert {\n",
              "      background-color: #E8F0FE;\n",
              "      border: none;\n",
              "      border-radius: 50%;\n",
              "      cursor: pointer;\n",
              "      display: none;\n",
              "      fill: #1967D2;\n",
              "      height: 32px;\n",
              "      padding: 0 0 0 0;\n",
              "      width: 32px;\n",
              "    }\n",
              "\n",
              "    .colab-df-convert:hover {\n",
              "      background-color: #E2EBFA;\n",
              "      box-shadow: 0px 1px 2px rgba(60, 64, 67, 0.3), 0px 1px 3px 1px rgba(60, 64, 67, 0.15);\n",
              "      fill: #174EA6;\n",
              "    }\n",
              "\n",
              "    .colab-df-buttons div {\n",
              "      margin-bottom: 4px;\n",
              "    }\n",
              "\n",
              "    [theme=dark] .colab-df-convert {\n",
              "      background-color: #3B4455;\n",
              "      fill: #D2E3FC;\n",
              "    }\n",
              "\n",
              "    [theme=dark] .colab-df-convert:hover {\n",
              "      background-color: #434B5C;\n",
              "      box-shadow: 0px 1px 3px 1px rgba(0, 0, 0, 0.15);\n",
              "      filter: drop-shadow(0px 1px 2px rgba(0, 0, 0, 0.3));\n",
              "      fill: #FFFFFF;\n",
              "    }\n",
              "  </style>\n",
              "\n",
              "    <script>\n",
              "      const buttonEl =\n",
              "        document.querySelector('#df-6d82b781-71f3-4880-907b-6494af00d48c button.colab-df-convert');\n",
              "      buttonEl.style.display =\n",
              "        google.colab.kernel.accessAllowed ? 'block' : 'none';\n",
              "\n",
              "      async function convertToInteractive(key) {\n",
              "        const element = document.querySelector('#df-6d82b781-71f3-4880-907b-6494af00d48c');\n",
              "        const dataTable =\n",
              "          await google.colab.kernel.invokeFunction('convertToInteractive',\n",
              "                                                    [key], {});\n",
              "        if (!dataTable) return;\n",
              "\n",
              "        const docLinkHtml = 'Like what you see? Visit the ' +\n",
              "          '<a target=\"_blank\" href=https://colab.research.google.com/notebooks/data_table.ipynb>data table notebook</a>'\n",
              "          + ' to learn more about interactive tables.';\n",
              "        element.innerHTML = '';\n",
              "        dataTable['output_type'] = 'display_data';\n",
              "        await google.colab.output.renderOutput(dataTable, element);\n",
              "        const docLink = document.createElement('div');\n",
              "        docLink.innerHTML = docLinkHtml;\n",
              "        element.appendChild(docLink);\n",
              "      }\n",
              "    </script>\n",
              "  </div>\n",
              "\n",
              "\n",
              "<div id=\"df-659a0b66-4774-4400-ab1f-84d97da8fb59\">\n",
              "  <button class=\"colab-df-quickchart\" onclick=\"quickchart('df-659a0b66-4774-4400-ab1f-84d97da8fb59')\"\n",
              "            title=\"Suggest charts\"\n",
              "            style=\"display:none;\">\n",
              "\n",
              "<svg xmlns=\"http://www.w3.org/2000/svg\" height=\"24px\"viewBox=\"0 0 24 24\"\n",
              "     width=\"24px\">\n",
              "    <g>\n",
              "        <path d=\"M19 3H5c-1.1 0-2 .9-2 2v14c0 1.1.9 2 2 2h14c1.1 0 2-.9 2-2V5c0-1.1-.9-2-2-2zM9 17H7v-7h2v7zm4 0h-2V7h2v10zm4 0h-2v-4h2v4z\"/>\n",
              "    </g>\n",
              "</svg>\n",
              "  </button>\n",
              "\n",
              "<style>\n",
              "  .colab-df-quickchart {\n",
              "      --bg-color: #E8F0FE;\n",
              "      --fill-color: #1967D2;\n",
              "      --hover-bg-color: #E2EBFA;\n",
              "      --hover-fill-color: #174EA6;\n",
              "      --disabled-fill-color: #AAA;\n",
              "      --disabled-bg-color: #DDD;\n",
              "  }\n",
              "\n",
              "  [theme=dark] .colab-df-quickchart {\n",
              "      --bg-color: #3B4455;\n",
              "      --fill-color: #D2E3FC;\n",
              "      --hover-bg-color: #434B5C;\n",
              "      --hover-fill-color: #FFFFFF;\n",
              "      --disabled-bg-color: #3B4455;\n",
              "      --disabled-fill-color: #666;\n",
              "  }\n",
              "\n",
              "  .colab-df-quickchart {\n",
              "    background-color: var(--bg-color);\n",
              "    border: none;\n",
              "    border-radius: 50%;\n",
              "    cursor: pointer;\n",
              "    display: none;\n",
              "    fill: var(--fill-color);\n",
              "    height: 32px;\n",
              "    padding: 0;\n",
              "    width: 32px;\n",
              "  }\n",
              "\n",
              "  .colab-df-quickchart:hover {\n",
              "    background-color: var(--hover-bg-color);\n",
              "    box-shadow: 0 1px 2px rgba(60, 64, 67, 0.3), 0 1px 3px 1px rgba(60, 64, 67, 0.15);\n",
              "    fill: var(--button-hover-fill-color);\n",
              "  }\n",
              "\n",
              "  .colab-df-quickchart-complete:disabled,\n",
              "  .colab-df-quickchart-complete:disabled:hover {\n",
              "    background-color: var(--disabled-bg-color);\n",
              "    fill: var(--disabled-fill-color);\n",
              "    box-shadow: none;\n",
              "  }\n",
              "\n",
              "  .colab-df-spinner {\n",
              "    border: 2px solid var(--fill-color);\n",
              "    border-color: transparent;\n",
              "    border-bottom-color: var(--fill-color);\n",
              "    animation:\n",
              "      spin 1s steps(1) infinite;\n",
              "  }\n",
              "\n",
              "  @keyframes spin {\n",
              "    0% {\n",
              "      border-color: transparent;\n",
              "      border-bottom-color: var(--fill-color);\n",
              "      border-left-color: var(--fill-color);\n",
              "    }\n",
              "    20% {\n",
              "      border-color: transparent;\n",
              "      border-left-color: var(--fill-color);\n",
              "      border-top-color: var(--fill-color);\n",
              "    }\n",
              "    30% {\n",
              "      border-color: transparent;\n",
              "      border-left-color: var(--fill-color);\n",
              "      border-top-color: var(--fill-color);\n",
              "      border-right-color: var(--fill-color);\n",
              "    }\n",
              "    40% {\n",
              "      border-color: transparent;\n",
              "      border-right-color: var(--fill-color);\n",
              "      border-top-color: var(--fill-color);\n",
              "    }\n",
              "    60% {\n",
              "      border-color: transparent;\n",
              "      border-right-color: var(--fill-color);\n",
              "    }\n",
              "    80% {\n",
              "      border-color: transparent;\n",
              "      border-right-color: var(--fill-color);\n",
              "      border-bottom-color: var(--fill-color);\n",
              "    }\n",
              "    90% {\n",
              "      border-color: transparent;\n",
              "      border-bottom-color: var(--fill-color);\n",
              "    }\n",
              "  }\n",
              "</style>\n",
              "\n",
              "  <script>\n",
              "    async function quickchart(key) {\n",
              "      const quickchartButtonEl =\n",
              "        document.querySelector('#' + key + ' button');\n",
              "      quickchartButtonEl.disabled = true;  // To prevent multiple clicks.\n",
              "      quickchartButtonEl.classList.add('colab-df-spinner');\n",
              "      try {\n",
              "        const charts = await google.colab.kernel.invokeFunction(\n",
              "            'suggestCharts', [key], {});\n",
              "      } catch (error) {\n",
              "        console.error('Error during call to suggestCharts:', error);\n",
              "      }\n",
              "      quickchartButtonEl.classList.remove('colab-df-spinner');\n",
              "      quickchartButtonEl.classList.add('colab-df-quickchart-complete');\n",
              "    }\n",
              "    (() => {\n",
              "      let quickchartButtonEl =\n",
              "        document.querySelector('#df-659a0b66-4774-4400-ab1f-84d97da8fb59 button');\n",
              "      quickchartButtonEl.style.display =\n",
              "        google.colab.kernel.accessAllowed ? 'block' : 'none';\n",
              "    })();\n",
              "  </script>\n",
              "</div>\n",
              "\n",
              "  <div id=\"id_7b122be2-c1ba-4038-9593-57fd42b2abad\">\n",
              "    <style>\n",
              "      .colab-df-generate {\n",
              "        background-color: #E8F0FE;\n",
              "        border: none;\n",
              "        border-radius: 50%;\n",
              "        cursor: pointer;\n",
              "        display: none;\n",
              "        fill: #1967D2;\n",
              "        height: 32px;\n",
              "        padding: 0 0 0 0;\n",
              "        width: 32px;\n",
              "      }\n",
              "\n",
              "      .colab-df-generate:hover {\n",
              "        background-color: #E2EBFA;\n",
              "        box-shadow: 0px 1px 2px rgba(60, 64, 67, 0.3), 0px 1px 3px 1px rgba(60, 64, 67, 0.15);\n",
              "        fill: #174EA6;\n",
              "      }\n",
              "\n",
              "      [theme=dark] .colab-df-generate {\n",
              "        background-color: #3B4455;\n",
              "        fill: #D2E3FC;\n",
              "      }\n",
              "\n",
              "      [theme=dark] .colab-df-generate:hover {\n",
              "        background-color: #434B5C;\n",
              "        box-shadow: 0px 1px 3px 1px rgba(0, 0, 0, 0.15);\n",
              "        filter: drop-shadow(0px 1px 2px rgba(0, 0, 0, 0.3));\n",
              "        fill: #FFFFFF;\n",
              "      }\n",
              "    </style>\n",
              "    <button class=\"colab-df-generate\" onclick=\"generateWithVariable('bins_per_comm')\"\n",
              "            title=\"Generate code using this dataframe.\"\n",
              "            style=\"display:none;\">\n",
              "\n",
              "  <svg xmlns=\"http://www.w3.org/2000/svg\" height=\"24px\"viewBox=\"0 0 24 24\"\n",
              "       width=\"24px\">\n",
              "    <path d=\"M7,19H8.4L18.45,9,17,7.55,7,17.6ZM5,21V16.75L18.45,3.32a2,2,0,0,1,2.83,0l1.4,1.43a1.91,1.91,0,0,1,.58,1.4,1.91,1.91,0,0,1-.58,1.4L9.25,21ZM18.45,9,17,7.55Zm-12,3A5.31,5.31,0,0,0,4.9,8.1,5.31,5.31,0,0,0,1,6.5,5.31,5.31,0,0,0,4.9,4.9,5.31,5.31,0,0,0,6.5,1,5.31,5.31,0,0,0,8.1,4.9,5.31,5.31,0,0,0,12,6.5,5.46,5.46,0,0,0,6.5,12Z\"/>\n",
              "  </svg>\n",
              "    </button>\n",
              "    <script>\n",
              "      (() => {\n",
              "      const buttonEl =\n",
              "        document.querySelector('#id_7b122be2-c1ba-4038-9593-57fd42b2abad button.colab-df-generate');\n",
              "      buttonEl.style.display =\n",
              "        google.colab.kernel.accessAllowed ? 'block' : 'none';\n",
              "\n",
              "      buttonEl.onclick = () => {\n",
              "        google.colab.notebook.generateWithVariable('bins_per_comm');\n",
              "      }\n",
              "      })();\n",
              "    </script>\n",
              "  </div>\n",
              "\n",
              "    </div>\n",
              "  </div>\n"
            ],
            "application/vnd.google.colaboratory.intrinsic+json": {
              "type": "dataframe",
              "variable_name": "bins_per_comm",
              "summary": "{\n  \"name\": \"bins_per_comm\",\n  \"rows\": 60,\n  \"fields\": [\n    {\n      \"column\": \"borough_name\",\n      \"properties\": {\n        \"dtype\": \"category\",\n        \"num_unique_values\": 5,\n        \"samples\": [\n          \"Brooklyn\",\n          \"Staten Island\",\n          \"Manhattan\"\n        ],\n        \"semantic_type\": \"\",\n        \"description\": \"\"\n      }\n    },\n    {\n      \"column\": \"community_district\",\n      \"properties\": {\n        \"dtype\": \"category\",\n        \"num_unique_values\": 19,\n        \"samples\": [\n          \"01\",\n          \"06\",\n          \"12\"\n        ],\n        \"semantic_type\": \"\",\n        \"description\": \"\"\n      }\n    }\n  ]\n}"
            }
          },
          "metadata": {},
          "execution_count": 22
        }
      ]
    },
    {
      "cell_type": "code",
      "source": [],
      "metadata": {
        "id": "ORDSVSsRSOX4"
      },
      "execution_count": null,
      "outputs": []
    },
    {
      "cell_type": "code",
      "source": [
        "np.random.uniform(-0.01, 0.01)"
      ],
      "metadata": {
        "colab": {
          "base_uri": "https://localhost:8080/"
        },
        "id": "DSHVN60jTbN-",
        "outputId": "a971eec5-d4f5-4bd4-9fb2-c66a24c4c57f"
      },
      "execution_count": 23,
      "outputs": [
        {
          "output_type": "execute_result",
          "data": {
            "text/plain": [
              "-0.005422202479374829"
            ]
          },
          "metadata": {},
          "execution_count": 23
        }
      ]
    },
    {
      "cell_type": "code",
      "source": [
        "get_lat_lon_opencage(\"New York, NY 11237, USA\")"
      ],
      "metadata": {
        "colab": {
          "base_uri": "https://localhost:8080/"
        },
        "id": "nI22-sgevmlL",
        "outputId": "acbe21e8-0ebc-41b2-92b6-8280a07e67e7"
      },
      "execution_count": 46,
      "outputs": [
        {
          "output_type": "execute_result",
          "data": {
            "text/plain": [
              "(40.7127281, -74.0060152)"
            ]
          },
          "metadata": {},
          "execution_count": 46
        }
      ]
    },
    {
      "cell_type": "code",
      "source": [
        "!pip install pgeocode\n",
        "import pgeocode\n",
        "\n",
        "def get_lat_lon_offline(zip_code, country=\"US\"):\n",
        "    nomi = pgeocode.Nominatim(country)\n",
        "    location = nomi.query_postal_code(zip_code)\n",
        "    if location.latitude and location.longitude:\n",
        "        return location.latitude, location.longitude\n",
        "    else:\n",
        "        return None\n",
        "\n",
        "zip_code = \"10013\"\n",
        "coordinates = get_lat_lon_offline(zip_code)\n",
        "print(f\"Coordinates for {zip_code}: {coordinates}\")\n"
      ],
      "metadata": {
        "colab": {
          "base_uri": "https://localhost:8080/"
        },
        "id": "kEIrx9nhStmb",
        "outputId": "7395f8a8-5edc-40c4-9c1b-087f8db3734e"
      },
      "execution_count": 52,
      "outputs": [
        {
          "output_type": "stream",
          "name": "stdout",
          "text": [
            "Requirement already satisfied: pgeocode in /usr/local/lib/python3.11/dist-packages (0.5.0)\n",
            "Requirement already satisfied: requests in /usr/local/lib/python3.11/dist-packages (from pgeocode) (2.32.3)\n",
            "Requirement already satisfied: numpy in /usr/local/lib/python3.11/dist-packages (from pgeocode) (1.26.4)\n",
            "Requirement already satisfied: pandas in /usr/local/lib/python3.11/dist-packages (from pgeocode) (2.2.2)\n",
            "Requirement already satisfied: python-dateutil>=2.8.2 in /usr/local/lib/python3.11/dist-packages (from pandas->pgeocode) (2.8.2)\n",
            "Requirement already satisfied: pytz>=2020.1 in /usr/local/lib/python3.11/dist-packages (from pandas->pgeocode) (2025.1)\n",
            "Requirement already satisfied: tzdata>=2022.7 in /usr/local/lib/python3.11/dist-packages (from pandas->pgeocode) (2025.1)\n",
            "Requirement already satisfied: charset-normalizer<4,>=2 in /usr/local/lib/python3.11/dist-packages (from requests->pgeocode) (3.4.1)\n",
            "Requirement already satisfied: idna<4,>=2.5 in /usr/local/lib/python3.11/dist-packages (from requests->pgeocode) (3.10)\n",
            "Requirement already satisfied: urllib3<3,>=1.21.1 in /usr/local/lib/python3.11/dist-packages (from requests->pgeocode) (2.3.0)\n",
            "Requirement already satisfied: certifi>=2017.4.17 in /usr/local/lib/python3.11/dist-packages (from requests->pgeocode) (2025.1.31)\n",
            "Requirement already satisfied: six>=1.5 in /usr/local/lib/python3.11/dist-packages (from python-dateutil>=2.8.2->pandas->pgeocode) (1.17.0)\n",
            "Coordinates for 10013: (40.7185, -74.0025)\n"
          ]
        }
      ]
    },
    {
      "cell_type": "code",
      "source": [
        "merged"
      ],
      "metadata": {
        "colab": {
          "base_uri": "https://localhost:8080/",
          "height": 424
        },
        "id": "0K-xrfjdRfSf",
        "outputId": "15278804-4866-47dc-fdf2-3a3417446769"
      },
      "execution_count": 38,
      "outputs": [
        {
          "output_type": "execute_result",
          "data": {
            "text/plain": [
              "     index  cd_number  longitude  borough_id   latitude           type\n",
              "0        0        2.0 -73.988736           5  40.689939  recycling_bin\n",
              "1        1        2.0 -73.988201           5  40.690874  recycling_bin\n",
              "2        2        2.0 -73.988580           5  40.692760  recycling_bin\n",
              "3        3        2.0 -73.989387           5  40.693898  recycling_bin\n",
              "4        4        2.0 -73.973354           5  40.682831  recycling_bin\n",
              "..     ...        ...        ...         ...        ...            ...\n",
              "162    163       12.0 -73.826637           2  40.888348         garage\n",
              "163    164        7.0 -73.846428           4  40.769077         garage\n",
              "164    165        2.0 -73.905304           4  40.733543         garage\n",
              "165    166       18.0 -73.927986           3  40.618069         garage\n",
              "166    167        5.0 -73.922523           4  40.720562         garage\n",
              "\n",
              "[167 rows x 6 columns]"
            ],
            "text/html": [
              "\n",
              "  <div id=\"df-37657731-76c8-4429-a5a0-a3b1b4a9d61e\" class=\"colab-df-container\">\n",
              "    <div>\n",
              "<style scoped>\n",
              "    .dataframe tbody tr th:only-of-type {\n",
              "        vertical-align: middle;\n",
              "    }\n",
              "\n",
              "    .dataframe tbody tr th {\n",
              "        vertical-align: top;\n",
              "    }\n",
              "\n",
              "    .dataframe thead th {\n",
              "        text-align: right;\n",
              "    }\n",
              "</style>\n",
              "<table border=\"1\" class=\"dataframe\">\n",
              "  <thead>\n",
              "    <tr style=\"text-align: right;\">\n",
              "      <th></th>\n",
              "      <th>index</th>\n",
              "      <th>cd_number</th>\n",
              "      <th>longitude</th>\n",
              "      <th>borough_id</th>\n",
              "      <th>latitude</th>\n",
              "      <th>type</th>\n",
              "    </tr>\n",
              "  </thead>\n",
              "  <tbody>\n",
              "    <tr>\n",
              "      <th>0</th>\n",
              "      <td>0</td>\n",
              "      <td>2.0</td>\n",
              "      <td>-73.988736</td>\n",
              "      <td>5</td>\n",
              "      <td>40.689939</td>\n",
              "      <td>recycling_bin</td>\n",
              "    </tr>\n",
              "    <tr>\n",
              "      <th>1</th>\n",
              "      <td>1</td>\n",
              "      <td>2.0</td>\n",
              "      <td>-73.988201</td>\n",
              "      <td>5</td>\n",
              "      <td>40.690874</td>\n",
              "      <td>recycling_bin</td>\n",
              "    </tr>\n",
              "    <tr>\n",
              "      <th>2</th>\n",
              "      <td>2</td>\n",
              "      <td>2.0</td>\n",
              "      <td>-73.988580</td>\n",
              "      <td>5</td>\n",
              "      <td>40.692760</td>\n",
              "      <td>recycling_bin</td>\n",
              "    </tr>\n",
              "    <tr>\n",
              "      <th>3</th>\n",
              "      <td>3</td>\n",
              "      <td>2.0</td>\n",
              "      <td>-73.989387</td>\n",
              "      <td>5</td>\n",
              "      <td>40.693898</td>\n",
              "      <td>recycling_bin</td>\n",
              "    </tr>\n",
              "    <tr>\n",
              "      <th>4</th>\n",
              "      <td>4</td>\n",
              "      <td>2.0</td>\n",
              "      <td>-73.973354</td>\n",
              "      <td>5</td>\n",
              "      <td>40.682831</td>\n",
              "      <td>recycling_bin</td>\n",
              "    </tr>\n",
              "    <tr>\n",
              "      <th>...</th>\n",
              "      <td>...</td>\n",
              "      <td>...</td>\n",
              "      <td>...</td>\n",
              "      <td>...</td>\n",
              "      <td>...</td>\n",
              "      <td>...</td>\n",
              "    </tr>\n",
              "    <tr>\n",
              "      <th>162</th>\n",
              "      <td>163</td>\n",
              "      <td>12.0</td>\n",
              "      <td>-73.826637</td>\n",
              "      <td>2</td>\n",
              "      <td>40.888348</td>\n",
              "      <td>garage</td>\n",
              "    </tr>\n",
              "    <tr>\n",
              "      <th>163</th>\n",
              "      <td>164</td>\n",
              "      <td>7.0</td>\n",
              "      <td>-73.846428</td>\n",
              "      <td>4</td>\n",
              "      <td>40.769077</td>\n",
              "      <td>garage</td>\n",
              "    </tr>\n",
              "    <tr>\n",
              "      <th>164</th>\n",
              "      <td>165</td>\n",
              "      <td>2.0</td>\n",
              "      <td>-73.905304</td>\n",
              "      <td>4</td>\n",
              "      <td>40.733543</td>\n",
              "      <td>garage</td>\n",
              "    </tr>\n",
              "    <tr>\n",
              "      <th>165</th>\n",
              "      <td>166</td>\n",
              "      <td>18.0</td>\n",
              "      <td>-73.927986</td>\n",
              "      <td>3</td>\n",
              "      <td>40.618069</td>\n",
              "      <td>garage</td>\n",
              "    </tr>\n",
              "    <tr>\n",
              "      <th>166</th>\n",
              "      <td>167</td>\n",
              "      <td>5.0</td>\n",
              "      <td>-73.922523</td>\n",
              "      <td>4</td>\n",
              "      <td>40.720562</td>\n",
              "      <td>garage</td>\n",
              "    </tr>\n",
              "  </tbody>\n",
              "</table>\n",
              "<p>167 rows × 6 columns</p>\n",
              "</div>\n",
              "    <div class=\"colab-df-buttons\">\n",
              "\n",
              "  <div class=\"colab-df-container\">\n",
              "    <button class=\"colab-df-convert\" onclick=\"convertToInteractive('df-37657731-76c8-4429-a5a0-a3b1b4a9d61e')\"\n",
              "            title=\"Convert this dataframe to an interactive table.\"\n",
              "            style=\"display:none;\">\n",
              "\n",
              "  <svg xmlns=\"http://www.w3.org/2000/svg\" height=\"24px\" viewBox=\"0 -960 960 960\">\n",
              "    <path d=\"M120-120v-720h720v720H120Zm60-500h600v-160H180v160Zm220 220h160v-160H400v160Zm0 220h160v-160H400v160ZM180-400h160v-160H180v160Zm440 0h160v-160H620v160ZM180-180h160v-160H180v160Zm440 0h160v-160H620v160Z\"/>\n",
              "  </svg>\n",
              "    </button>\n",
              "\n",
              "  <style>\n",
              "    .colab-df-container {\n",
              "      display:flex;\n",
              "      gap: 12px;\n",
              "    }\n",
              "\n",
              "    .colab-df-convert {\n",
              "      background-color: #E8F0FE;\n",
              "      border: none;\n",
              "      border-radius: 50%;\n",
              "      cursor: pointer;\n",
              "      display: none;\n",
              "      fill: #1967D2;\n",
              "      height: 32px;\n",
              "      padding: 0 0 0 0;\n",
              "      width: 32px;\n",
              "    }\n",
              "\n",
              "    .colab-df-convert:hover {\n",
              "      background-color: #E2EBFA;\n",
              "      box-shadow: 0px 1px 2px rgba(60, 64, 67, 0.3), 0px 1px 3px 1px rgba(60, 64, 67, 0.15);\n",
              "      fill: #174EA6;\n",
              "    }\n",
              "\n",
              "    .colab-df-buttons div {\n",
              "      margin-bottom: 4px;\n",
              "    }\n",
              "\n",
              "    [theme=dark] .colab-df-convert {\n",
              "      background-color: #3B4455;\n",
              "      fill: #D2E3FC;\n",
              "    }\n",
              "\n",
              "    [theme=dark] .colab-df-convert:hover {\n",
              "      background-color: #434B5C;\n",
              "      box-shadow: 0px 1px 3px 1px rgba(0, 0, 0, 0.15);\n",
              "      filter: drop-shadow(0px 1px 2px rgba(0, 0, 0, 0.3));\n",
              "      fill: #FFFFFF;\n",
              "    }\n",
              "  </style>\n",
              "\n",
              "    <script>\n",
              "      const buttonEl =\n",
              "        document.querySelector('#df-37657731-76c8-4429-a5a0-a3b1b4a9d61e button.colab-df-convert');\n",
              "      buttonEl.style.display =\n",
              "        google.colab.kernel.accessAllowed ? 'block' : 'none';\n",
              "\n",
              "      async function convertToInteractive(key) {\n",
              "        const element = document.querySelector('#df-37657731-76c8-4429-a5a0-a3b1b4a9d61e');\n",
              "        const dataTable =\n",
              "          await google.colab.kernel.invokeFunction('convertToInteractive',\n",
              "                                                    [key], {});\n",
              "        if (!dataTable) return;\n",
              "\n",
              "        const docLinkHtml = 'Like what you see? Visit the ' +\n",
              "          '<a target=\"_blank\" href=https://colab.research.google.com/notebooks/data_table.ipynb>data table notebook</a>'\n",
              "          + ' to learn more about interactive tables.';\n",
              "        element.innerHTML = '';\n",
              "        dataTable['output_type'] = 'display_data';\n",
              "        await google.colab.output.renderOutput(dataTable, element);\n",
              "        const docLink = document.createElement('div');\n",
              "        docLink.innerHTML = docLinkHtml;\n",
              "        element.appendChild(docLink);\n",
              "      }\n",
              "    </script>\n",
              "  </div>\n",
              "\n",
              "\n",
              "<div id=\"df-fb5954e8-7a0d-47cc-9a34-a9985f8b54fb\">\n",
              "  <button class=\"colab-df-quickchart\" onclick=\"quickchart('df-fb5954e8-7a0d-47cc-9a34-a9985f8b54fb')\"\n",
              "            title=\"Suggest charts\"\n",
              "            style=\"display:none;\">\n",
              "\n",
              "<svg xmlns=\"http://www.w3.org/2000/svg\" height=\"24px\"viewBox=\"0 0 24 24\"\n",
              "     width=\"24px\">\n",
              "    <g>\n",
              "        <path d=\"M19 3H5c-1.1 0-2 .9-2 2v14c0 1.1.9 2 2 2h14c1.1 0 2-.9 2-2V5c0-1.1-.9-2-2-2zM9 17H7v-7h2v7zm4 0h-2V7h2v10zm4 0h-2v-4h2v4z\"/>\n",
              "    </g>\n",
              "</svg>\n",
              "  </button>\n",
              "\n",
              "<style>\n",
              "  .colab-df-quickchart {\n",
              "      --bg-color: #E8F0FE;\n",
              "      --fill-color: #1967D2;\n",
              "      --hover-bg-color: #E2EBFA;\n",
              "      --hover-fill-color: #174EA6;\n",
              "      --disabled-fill-color: #AAA;\n",
              "      --disabled-bg-color: #DDD;\n",
              "  }\n",
              "\n",
              "  [theme=dark] .colab-df-quickchart {\n",
              "      --bg-color: #3B4455;\n",
              "      --fill-color: #D2E3FC;\n",
              "      --hover-bg-color: #434B5C;\n",
              "      --hover-fill-color: #FFFFFF;\n",
              "      --disabled-bg-color: #3B4455;\n",
              "      --disabled-fill-color: #666;\n",
              "  }\n",
              "\n",
              "  .colab-df-quickchart {\n",
              "    background-color: var(--bg-color);\n",
              "    border: none;\n",
              "    border-radius: 50%;\n",
              "    cursor: pointer;\n",
              "    display: none;\n",
              "    fill: var(--fill-color);\n",
              "    height: 32px;\n",
              "    padding: 0;\n",
              "    width: 32px;\n",
              "  }\n",
              "\n",
              "  .colab-df-quickchart:hover {\n",
              "    background-color: var(--hover-bg-color);\n",
              "    box-shadow: 0 1px 2px rgba(60, 64, 67, 0.3), 0 1px 3px 1px rgba(60, 64, 67, 0.15);\n",
              "    fill: var(--button-hover-fill-color);\n",
              "  }\n",
              "\n",
              "  .colab-df-quickchart-complete:disabled,\n",
              "  .colab-df-quickchart-complete:disabled:hover {\n",
              "    background-color: var(--disabled-bg-color);\n",
              "    fill: var(--disabled-fill-color);\n",
              "    box-shadow: none;\n",
              "  }\n",
              "\n",
              "  .colab-df-spinner {\n",
              "    border: 2px solid var(--fill-color);\n",
              "    border-color: transparent;\n",
              "    border-bottom-color: var(--fill-color);\n",
              "    animation:\n",
              "      spin 1s steps(1) infinite;\n",
              "  }\n",
              "\n",
              "  @keyframes spin {\n",
              "    0% {\n",
              "      border-color: transparent;\n",
              "      border-bottom-color: var(--fill-color);\n",
              "      border-left-color: var(--fill-color);\n",
              "    }\n",
              "    20% {\n",
              "      border-color: transparent;\n",
              "      border-left-color: var(--fill-color);\n",
              "      border-top-color: var(--fill-color);\n",
              "    }\n",
              "    30% {\n",
              "      border-color: transparent;\n",
              "      border-left-color: var(--fill-color);\n",
              "      border-top-color: var(--fill-color);\n",
              "      border-right-color: var(--fill-color);\n",
              "    }\n",
              "    40% {\n",
              "      border-color: transparent;\n",
              "      border-right-color: var(--fill-color);\n",
              "      border-top-color: var(--fill-color);\n",
              "    }\n",
              "    60% {\n",
              "      border-color: transparent;\n",
              "      border-right-color: var(--fill-color);\n",
              "    }\n",
              "    80% {\n",
              "      border-color: transparent;\n",
              "      border-right-color: var(--fill-color);\n",
              "      border-bottom-color: var(--fill-color);\n",
              "    }\n",
              "    90% {\n",
              "      border-color: transparent;\n",
              "      border-bottom-color: var(--fill-color);\n",
              "    }\n",
              "  }\n",
              "</style>\n",
              "\n",
              "  <script>\n",
              "    async function quickchart(key) {\n",
              "      const quickchartButtonEl =\n",
              "        document.querySelector('#' + key + ' button');\n",
              "      quickchartButtonEl.disabled = true;  // To prevent multiple clicks.\n",
              "      quickchartButtonEl.classList.add('colab-df-spinner');\n",
              "      try {\n",
              "        const charts = await google.colab.kernel.invokeFunction(\n",
              "            'suggestCharts', [key], {});\n",
              "      } catch (error) {\n",
              "        console.error('Error during call to suggestCharts:', error);\n",
              "      }\n",
              "      quickchartButtonEl.classList.remove('colab-df-spinner');\n",
              "      quickchartButtonEl.classList.add('colab-df-quickchart-complete');\n",
              "    }\n",
              "    (() => {\n",
              "      let quickchartButtonEl =\n",
              "        document.querySelector('#df-fb5954e8-7a0d-47cc-9a34-a9985f8b54fb button');\n",
              "      quickchartButtonEl.style.display =\n",
              "        google.colab.kernel.accessAllowed ? 'block' : 'none';\n",
              "    })();\n",
              "  </script>\n",
              "</div>\n",
              "\n",
              "  <div id=\"id_0fab075f-f198-4b27-9706-5de2c0d9d1c0\">\n",
              "    <style>\n",
              "      .colab-df-generate {\n",
              "        background-color: #E8F0FE;\n",
              "        border: none;\n",
              "        border-radius: 50%;\n",
              "        cursor: pointer;\n",
              "        display: none;\n",
              "        fill: #1967D2;\n",
              "        height: 32px;\n",
              "        padding: 0 0 0 0;\n",
              "        width: 32px;\n",
              "      }\n",
              "\n",
              "      .colab-df-generate:hover {\n",
              "        background-color: #E2EBFA;\n",
              "        box-shadow: 0px 1px 2px rgba(60, 64, 67, 0.3), 0px 1px 3px 1px rgba(60, 64, 67, 0.15);\n",
              "        fill: #174EA6;\n",
              "      }\n",
              "\n",
              "      [theme=dark] .colab-df-generate {\n",
              "        background-color: #3B4455;\n",
              "        fill: #D2E3FC;\n",
              "      }\n",
              "\n",
              "      [theme=dark] .colab-df-generate:hover {\n",
              "        background-color: #434B5C;\n",
              "        box-shadow: 0px 1px 3px 1px rgba(0, 0, 0, 0.15);\n",
              "        filter: drop-shadow(0px 1px 2px rgba(0, 0, 0, 0.3));\n",
              "        fill: #FFFFFF;\n",
              "      }\n",
              "    </style>\n",
              "    <button class=\"colab-df-generate\" onclick=\"generateWithVariable('merged')\"\n",
              "            title=\"Generate code using this dataframe.\"\n",
              "            style=\"display:none;\">\n",
              "\n",
              "  <svg xmlns=\"http://www.w3.org/2000/svg\" height=\"24px\"viewBox=\"0 0 24 24\"\n",
              "       width=\"24px\">\n",
              "    <path d=\"M7,19H8.4L18.45,9,17,7.55,7,17.6ZM5,21V16.75L18.45,3.32a2,2,0,0,1,2.83,0l1.4,1.43a1.91,1.91,0,0,1,.58,1.4,1.91,1.91,0,0,1-.58,1.4L9.25,21ZM18.45,9,17,7.55Zm-12,3A5.31,5.31,0,0,0,4.9,8.1,5.31,5.31,0,0,0,1,6.5,5.31,5.31,0,0,0,4.9,4.9,5.31,5.31,0,0,0,6.5,1,5.31,5.31,0,0,0,8.1,4.9,5.31,5.31,0,0,0,12,6.5,5.46,5.46,0,0,0,6.5,12Z\"/>\n",
              "  </svg>\n",
              "    </button>\n",
              "    <script>\n",
              "      (() => {\n",
              "      const buttonEl =\n",
              "        document.querySelector('#id_0fab075f-f198-4b27-9706-5de2c0d9d1c0 button.colab-df-generate');\n",
              "      buttonEl.style.display =\n",
              "        google.colab.kernel.accessAllowed ? 'block' : 'none';\n",
              "\n",
              "      buttonEl.onclick = () => {\n",
              "        google.colab.notebook.generateWithVariable('merged');\n",
              "      }\n",
              "      })();\n",
              "    </script>\n",
              "  </div>\n",
              "\n",
              "    </div>\n",
              "  </div>\n"
            ],
            "application/vnd.google.colaboratory.intrinsic+json": {
              "type": "dataframe",
              "variable_name": "merged",
              "summary": "{\n  \"name\": \"merged\",\n  \"rows\": 167,\n  \"fields\": [\n    {\n      \"column\": \"index\",\n      \"properties\": {\n        \"dtype\": \"number\",\n        \"std\": 48,\n        \"min\": 0,\n        \"max\": 167,\n        \"num_unique_values\": 167,\n        \"samples\": [\n          102,\n          109,\n          79\n        ],\n        \"semantic_type\": \"\",\n        \"description\": \"\"\n      }\n    },\n    {\n      \"column\": \"cd_number\",\n      \"properties\": {\n        \"dtype\": \"number\",\n        \"std\": 4.557023926409458,\n        \"min\": 1.0,\n        \"max\": 18.0,\n        \"num_unique_values\": 16,\n        \"samples\": [\n          2.0,\n          8.0,\n          10.0\n        ],\n        \"semantic_type\": \"\",\n        \"description\": \"\"\n      }\n    },\n    {\n      \"column\": \"longitude\",\n      \"properties\": {\n        \"dtype\": \"number\",\n        \"std\": 0.09381362522174656,\n        \"min\": -74.19654846191406,\n        \"max\": -73.7334848,\n        \"num_unique_values\": 167,\n        \"samples\": [\n          -73.99365997314453,\n          -73.84243774414062,\n          -73.988402\n        ],\n        \"semantic_type\": \"\",\n        \"description\": \"\"\n      }\n    },\n    {\n      \"column\": \"borough_id\",\n      \"properties\": {\n        \"dtype\": \"number\",\n        \"std\": 1,\n        \"min\": 1,\n        \"max\": 5,\n        \"num_unique_values\": 5,\n        \"samples\": [\n          4,\n          3,\n          2\n        ],\n        \"semantic_type\": \"\",\n        \"description\": \"\"\n      }\n    },\n    {\n      \"column\": \"latitude\",\n      \"properties\": {\n        \"dtype\": \"number\",\n        \"std\": 0.08044854999374358,\n        \"min\": 40.527495,\n        \"max\": 40.912857,\n        \"num_unique_values\": 167,\n        \"samples\": [\n          40.71318817138672,\n          40.82405471801758,\n          40.71189\n        ],\n        \"semantic_type\": \"\",\n        \"description\": \"\"\n      }\n    },\n    {\n      \"column\": \"type\",\n      \"properties\": {\n        \"dtype\": \"category\",\n        \"num_unique_values\": 2,\n        \"samples\": [\n          \"garage\",\n          \"recycling_bin\"\n        ],\n        \"semantic_type\": \"\",\n        \"description\": \"\"\n      }\n    }\n  ]\n}"
            }
          },
          "metadata": {},
          "execution_count": 38
        }
      ]
    },
    {
      "cell_type": "code",
      "source": [
        "merged_copy = merged.copy()\n",
        "\n",
        "for index, row in bins_per_comm.iterrows():\n",
        "  borough_id = row['borough_id']\n",
        "  cd_number = row['community_district']\n",
        "  bins_needed = row['bins_needed']\n",
        "  vals = merged[(merged['borough_id'] == borough_id) & (merged['cd_number'] == cd_number)]\n",
        "  print(borough_id, cd_number)\n",
        "  print(vals)\n",
        "\n",
        "  for _ in range(bins_needed):\n",
        "    random_row = merged.iloc[np.random.randint(0, len(vals))]\n",
        "    lon = random_row['longitude'] + np.random.uniform(-0.01, 0.01)\n",
        "    lat = random_row['latitude'] + np.random.uniform(-0.01, 0.01)\n",
        "\n",
        "    merged_copy.loc[len(merged_copy)] = {'borough_id': borough_id, 'cd_number': cd_number, 'longitude': lon, 'latitude': lat}'''"
      ],
      "metadata": {
        "id": "uQaCO2BgMdDh"
      },
      "execution_count": null,
      "outputs": []
    },
    {
      "cell_type": "markdown",
      "source": [
        "##Building Graph"
      ],
      "metadata": {
        "id": "6BdT53le1eZd"
      }
    },
    {
      "cell_type": "code",
      "source": [
        "import networkx"
      ],
      "metadata": {
        "id": "Ky4Bh5bYqBsy"
      },
      "execution_count": 26,
      "outputs": []
    },
    {
      "cell_type": "code",
      "source": [
        "G = networkx.Graph()\n",
        "for i in range(len(merged)):\n",
        "  #print(i)\n",
        "  #print(i, merged.loc[i, 'longitude'], merged.loc[i, 'latitude'], merged.loc[i, 'borough_id'], merged.loc[i, 'cd_number'])\n",
        "  G.add_node(i, longitude=merged.loc[i, 'longitude'], latitude=merged.loc[i, 'latitude'], borough=merged.loc[i, 'borough_id'], cd_number=merged.loc[i, 'cd_number'])\n"
      ],
      "metadata": {
        "id": "7h-CgBwQqHoT"
      },
      "execution_count": 27,
      "outputs": []
    },
    {
      "cell_type": "code",
      "source": [
        "!pip install haversine\n",
        "import itertools\n",
        "import haversine as hs\n",
        "from haversine import Unit"
      ],
      "metadata": {
        "colab": {
          "base_uri": "https://localhost:8080/"
        },
        "id": "G0p_2vSPz7Xm",
        "outputId": "f5ddc11e-4c80-4a1b-e529-fe62e1d42366"
      },
      "execution_count": 28,
      "outputs": [
        {
          "output_type": "stream",
          "name": "stdout",
          "text": [
            "Collecting haversine\n",
            "  Downloading haversine-2.9.0-py2.py3-none-any.whl.metadata (5.8 kB)\n",
            "Downloading haversine-2.9.0-py2.py3-none-any.whl (7.7 kB)\n",
            "Installing collected packages: haversine\n",
            "Successfully installed haversine-2.9.0\n"
          ]
        }
      ]
    },
    {
      "cell_type": "code",
      "source": [
        "for u, v in itertools.combinations(G.nodes, 2):\n",
        "  if (G.nodes[u]['borough'] == G.nodes[v]['borough'] and G.nodes[u]['cd_number'] == G.nodes[v]['cd_number']):\n",
        "        G.add_edge(u, v)\n",
        "        loc1 = (G.nodes[u]['latitude'], G.nodes[u]['longitude'])\n",
        "        loc2 = (G.nodes[v]['latitude'], G.nodes[v]['longitude'])\n",
        "        distance = hs.haversine(loc1, loc2, unit=Unit.KILOMETERS)\n",
        "        G.edges[u, v]['weight'] = distance"
      ],
      "metadata": {
        "id": "2-rNTJKOsORm"
      },
      "execution_count": 29,
      "outputs": []
    },
    {
      "cell_type": "code",
      "source": [
        "G.nodes(data=True)"
      ],
      "metadata": {
        "colab": {
          "base_uri": "https://localhost:8080/"
        },
        "id": "04qUOBcozEve",
        "outputId": "0c45615d-d7dc-4686-ec0c-237deec46d24"
      },
      "execution_count": 30,
      "outputs": [
        {
          "output_type": "execute_result",
          "data": {
            "text/plain": [
              "NodeDataView({0: {'longitude': -73.9887364, 'latitude': 40.6899394, 'borough': 5, 'cd_number': 2.0}, 1: {'longitude': -73.9882009, 'latitude': 40.6908743, 'borough': 5, 'cd_number': 2.0}, 2: {'longitude': -73.9885801, 'latitude': 40.6927596, 'borough': 5, 'cd_number': 2.0}, 3: {'longitude': -73.989387, 'latitude': 40.693898, 'borough': 5, 'cd_number': 2.0}, 4: {'longitude': -73.9733542, 'latitude': 40.6828309, 'borough': 5, 'cd_number': 2.0}, 5: {'longitude': -74.00171, 'latitude': 40.64994, 'borough': 5, 'cd_number': 2.0}, 6: {'longitude': -73.97552, 'latitude': 40.686757, 'borough': 5, 'cd_number': 2.0}, 7: {'longitude': -73.9885, 'latitude': 40.703823, 'borough': 5, 'cd_number': 2.0}, 8: {'longitude': -73.9999297, 'latitude': 40.6982888, 'borough': 5, 'cd_number': 2.0}, 9: {'longitude': -73.987348, 'latitude': 40.691458, 'borough': 5, 'cd_number': 2.0}, 10: {'longitude': -73.9664761, 'latitude': 40.6833334, 'borough': 5, 'cd_number': 2.0}, 11: {'longitude': -73.973027, 'latitude': 40.684145, 'borough': 5, 'cd_number': 2.0}, 12: {'longitude': -73.9767911, 'latitude': 40.6871933, 'borough': 5, 'cd_number': 2.0}, 13: {'longitude': -73.962753, 'latitude': 40.6726, 'borough': 5, 'cd_number': 2.0}, 14: {'longitude': -73.9717891, 'latitude': 40.6930826, 'borough': 5, 'cd_number': 2.0}, 15: {'longitude': -73.932835, 'latitude': 40.697247, 'borough': 5, 'cd_number': 2.0}, 16: {'longitude': -73.9683779, 'latitude': 40.6931119, 'borough': 5, 'cd_number': 2.0}, 17: {'longitude': -73.966099, 'latitude': 40.716206, 'borough': 5, 'cd_number': 2.0}, 18: {'longitude': -73.994709, 'latitude': 40.702993, 'borough': 5, 'cd_number': 2.0}, 19: {'longitude': -73.987509, 'latitude': 40.70446, 'borough': 5, 'cd_number': 2.0}, 20: {'longitude': -73.966341, 'latitude': 40.695575, 'borough': 5, 'cd_number': 2.0}, 21: {'longitude': -73.962802, 'latitude': 40.691285, 'borough': 5, 'cd_number': 2.0}, 22: {'longitude': -73.980429, 'latitude': 40.689901, 'borough': 5, 'cd_number': 2.0}, 23: {'longitude': -73.988622, 'latitude': 40.699951, 'borough': 5, 'cd_number': 2.0}, 24: {'longitude': -73.9908936, 'latitude': 40.6923237, 'borough': 5, 'cd_number': 2.0}, 25: {'longitude': -73.9644364, 'latitude': 40.6829028, 'borough': 5, 'cd_number': 2.0}, 26: {'longitude': -73.959785, 'latitude': 40.682908, 'borough': 5, 'cd_number': 2.0}, 27: {'longitude': -73.961748, 'latitude': 40.691542, 'borough': 5, 'cd_number': 2.0}, 28: {'longitude': -73.9348989, 'latitude': 40.6738837, 'borough': 5, 'cd_number': 8.0}, 29: {'longitude': -73.9614326, 'latitude': 40.6651476, 'borough': 5, 'cd_number': 9.0}, 30: {'longitude': -73.9650225, 'latitude': 40.6652981, 'borough': 5, 'cd_number': 9.0}, 31: {'longitude': -73.8892384, 'latitude': 40.8149687, 'borough': 5, 'cd_number': 2.0}, 32: {'longitude': -73.8832046, 'latitude': 40.8178714, 'borough': 5, 'cd_number': 2.0}, 33: {'longitude': -73.930545, 'latitude': 40.8134113, 'borough': 5, 'cd_number': 4.0}, 34: {'longitude': -73.8771541, 'latitude': 40.8622431, 'borough': 5, 'cd_number': 6.0}, 35: {'longitude': -73.8771379, 'latitude': 40.8493044, 'borough': 5, 'cd_number': 6.0}, 36: {'longitude': -73.9038791, 'latitude': 40.9033611, 'borough': 5, 'cd_number': 8.0}, 37: {'longitude': -73.906968, 'latitude': 40.912857, 'borough': 5, 'cd_number': 8.0}, 38: {'longitude': -73.989155, 'latitude': 40.74303, 'borough': 5, 'cd_number': 8.0}, 39: {'longitude': -73.8438552, 'latitude': 40.8392643, 'borough': 5, 'cd_number': 10.0}, 40: {'longitude': -73.8015795, 'latitude': 40.8653278, 'borough': 5, 'cd_number': 10.0}, 41: {'longitude': -74.008883, 'latitude': 40.718267, 'borough': 5, 'cd_number': 1.0}, 42: {'longitude': -74.0129447, 'latitude': 40.7012718, 'borough': 5, 'cd_number': 1.0}, 43: {'longitude': -74.018276, 'latitude': 40.6886535, 'borough': 5, 'cd_number': 1.0}, 44: {'longitude': -73.9911909, 'latitude': 40.7482239, 'borough': 5, 'cd_number': 2.0}, 45: {'longitude': -74.00263, 'latitude': 40.735677, 'borough': 5, 'cd_number': 2.0}, 46: {'longitude': -74.0124181, 'latitude': 40.7331703, 'borough': 5, 'cd_number': 2.0}, 47: {'longitude': -74.0107648, 'latitude': 40.7382578, 'borough': 5, 'cd_number': 2.0}, 48: {'longitude': -74.0089389, 'latitude': 40.7431579, 'borough': 5, 'cd_number': 2.0}, 49: {'longitude': -74.0127072, 'latitude': 40.7295142, 'borough': 5, 'cd_number': 2.0}, 50: {'longitude': -73.9479825, 'latitude': 40.817202, 'borough': 5, 'cd_number': 10.0}, 51: {'longitude': -73.9393357, 'latitude': 40.8128392, 'borough': 5, 'cd_number': 10.0}, 52: {'longitude': -73.9176102, 'latitude': 40.793939, 'borough': 5, 'cd_number': 11.0}, 53: {'longitude': -73.964303, 'latitude': 40.794786, 'borough': 5, 'cd_number': 11.0}, 54: {'longitude': -73.928206, 'latitude': 40.863614, 'borough': 5, 'cd_number': 12.0}, 55: {'longitude': -73.8276772, 'latitude': 40.7510959, 'borough': 5, 'cd_number': 7.0}, 56: {'longitude': -73.8147441, 'latitude': 40.7381166, 'borough': 5, 'cd_number': 8.0}, 57: {'longitude': -73.960229, 'latitude': 40.756311, 'borough': 5, 'cd_number': 11.0}, 58: {'longitude': -73.7969783, 'latitude': 40.7296892, 'borough': 5, 'cd_number': 12.0}, 59: {'longitude': -73.7744228, 'latitude': 40.6741003, 'borough': 5, 'cd_number': 12.0}, 60: {'longitude': -73.7698212, 'latitude': 40.6873031, 'borough': 5, 'cd_number': 12.0}, 61: {'longitude': -73.7334848, 'latitude': 40.7391885, 'borough': 5, 'cd_number': 13.0}, 62: {'longitude': -73.840036, 'latitude': 40.655689, 'borough': 5, 'cd_number': 14.0}, 63: {'longitude': -73.8367169, 'latitude': 40.6544339, 'borough': 5, 'cd_number': 14.0}, 64: {'longitude': -73.994118, 'latitude': 40.735313, 'borough': 5, 'cd_number': 14.0}, 65: {'longitude': -73.992224, 'latitude': 40.737916, 'borough': 5, 'cd_number': 14.0}, 66: {'longitude': -73.995914, 'latitude': 40.732847, 'borough': 5, 'cd_number': 14.0}, 67: {'longitude': -73.8467461, 'latitude': 40.7458769, 'borough': 5, 'cd_number': 4.0}, 68: {'longitude': -73.8491284, 'latitude': 40.7453847, 'borough': 5, 'cd_number': 4.0}, 69: {'longitude': -73.8654874, 'latitude': 40.7318714, 'borough': 5, 'cd_number': 6.0}, 70: {'longitude': -74.0744369, 'latitude': 40.6375677, 'borough': 5, 'cd_number': 1.0}, 71: {'longitude': -74.11961, 'latitude': 40.636769, 'borough': 5, 'cd_number': 1.0}, 72: {'longitude': -74.1036657, 'latitude': 40.6167679, 'borough': 5, 'cd_number': 1.0}, 73: {'longitude': -74.0964, 'latitude': 40.622329, 'borough': 5, 'cd_number': 1.0}, 74: {'longitude': -74.108932, 'latitude': 40.634721, 'borough': 5, 'cd_number': 1.0}, 75: {'longitude': -74.1031948, 'latitude': 40.6424825, 'borough': 5, 'cd_number': 1.0}, 76: {'longitude': -74.160092, 'latitude': 40.604255, 'borough': 5, 'cd_number': 2.0}, 77: {'longitude': -74.1391276, 'latitude': 40.5883791, 'borough': 5, 'cd_number': 2.0}, 78: {'longitude': -73.988402, 'latitude': 40.71189, 'borough': 5, 'cd_number': 2.0}, 79: {'longitude': -74.077356, 'latitude': 40.6379196, 'borough': 5, 'cd_number': 2.0}, 80: {'longitude': -74.0722394, 'latitude': 40.5845855, 'borough': 5, 'cd_number': 2.0}, 81: {'longitude': -74.1136528, 'latitude': 40.5725558, 'borough': 5, 'cd_number': 2.0}, 82: {'longitude': -74.161917, 'latitude': 40.527495, 'borough': 5, 'cd_number': 2.0}, 83: {'longitude': -74.150353, 'latitude': 40.6022757, 'borough': 5, 'cd_number': 2.0}, 84: {'longitude': -74.176625, 'latitude': 40.529913, 'borough': 5, 'cd_number': 3.0}, 85: {'longitude': -73.917913, 'latitude': 40.869667, 'borough': 5, 'cd_number': 3.0}, 86: {'longitude': -74.1261469, 'latitude': 40.5436508, 'borough': 5, 'cd_number': 3.0}, 87: {'longitude': -73.8115234375, 'latitude': 40.665435791015625, 'borough': 4, 'cd_number': 10.0}, 88: {'longitude': -73.88949584960938, 'latitude': 40.841880798339844, 'borough': 2, 'cd_number': 6.0}, 89: {'longitude': -73.9329833984375, 'latitude': 40.80454635620117, 'borough': 1, 'cd_number': 11.0}, 90: {'longitude': -73.7335433959961, 'latitude': 40.74365997314453, 'borough': 4, 'cd_number': 11.0}, 91: {'longitude': -73.7348861694336, 'latitude': 40.7429313659668, 'borough': 4, 'cd_number': 11.0}, 92: {'longitude': -74.07750701904297, 'latitude': 40.63441848754883, 'borough': 5, 'cd_number': 1.0}, 93: {'longitude': -74.19654846191406, 'latitude': 40.575347900390625, 'borough': 5, 'cd_number': 3.0}, 94: {'longitude': -73.80992889404297, 'latitude': 40.66512680053711, 'borough': 4, 'cd_number': 10.0}, 95: {'longitude': -73.91927337646484, 'latitude': 40.64251708984375, 'borough': 3, 'cd_number': 18.0}, 96: {'longitude': -73.90690612792969, 'latitude': 40.73382568359375, 'borough': 4, 'cd_number': 2.0}, 97: {'longitude': -73.92887878417969, 'latitude': 40.81925582885742, 'borough': 2, 'cd_number': 4.0}, 98: {'longitude': -73.98680877685547, 'latitude': 40.70957946777344, 'borough': 1, 'cd_number': 3.0}, 99: {'longitude': -74.17049407958984, 'latitude': 40.58671951293945, 'borough': 5, 'cd_number': 2.0}, 100: {'longitude': -74.01992797851562, 'latitude': 40.64920425415039, 'borough': 3, 'cd_number': 7.0}, 101: {'longitude': -73.99365997314453, 'latitude': 40.71318817138672, 'borough': 1, 'cd_number': 3.0}, 102: {'longitude': -73.99411010742188, 'latitude': 40.7695198059082, 'borough': 1, 'cd_number': 4.0}, 103: {'longitude': -73.98519134521484, 'latitude': 40.709716796875, 'borough': 1, 'cd_number': 3.0}, 104: {'longitude': -73.91547393798828, 'latitude': 40.800777435302734, 'borough': 2, 'cd_number': 1.0}, 105: {'longitude': -73.84293365478516, 'latitude': 40.82653045654297, 'borough': 2, 'cd_number': 9.0}, 106: {'longitude': -73.95340728759766, 'latitude': 40.69783020019531, 'borough': 3, 'cd_number': 3.0}, 107: {'longitude': -73.99432373046875, 'latitude': 40.67098617553711, 'borough': 3, 'cd_number': 6.0}, 108: {'longitude': -73.84243774414062, 'latitude': 40.82405471801758, 'borough': 2, 'cd_number': 9.0}, 109: {'longitude': -73.93521118164062, 'latitude': 40.762046813964844, 'borough': 4, 'cd_number': 1.0}, 110: {'longitude': -73.8896255493164, 'latitude': 40.84194564819336, 'borough': 2, 'cd_number': 6.0}, 111: {'longitude': -73.9931640625, 'latitude': 40.77189254760742, 'borough': 1, 'cd_number': 4.0}, 112: {'longitude': -73.93202209472656, 'latitude': 40.59169006347656, 'borough': 3, 'cd_number': 15.0}, 113: {'longitude': -74.01023864746094, 'latitude': 40.726768493652344, 'borough': 1, 'cd_number': 2.0}, 114: {'longitude': -73.92204284667969, 'latitude': 40.721778869628906, 'borough': 4, 'cd_number': 5.0}, 115: {'longitude': -73.84275817871094, 'latitude': 40.825286865234375, 'borough': 2, 'cd_number': 9.0}, 116: {'longitude': -73.9828109741211, 'latitude': 40.62310791015625, 'borough': 3, 'cd_number': 12.0}, 117: {'longitude': -73.8699951171875, 'latitude': 40.66101837158203, 'borough': 3, 'cd_number': 5.0}, 118: {'longitude': -73.78044128417969, 'latitude': 40.60145950317383, 'borough': 4, 'cd_number': 14.0}, 119: {'longitude': -73.84463500976562, 'latitude': 40.770225524902344, 'borough': 4, 'cd_number': 7.0}, 120: {'longitude': -73.91484832763672, 'latitude': 40.801292419433594, 'borough': 2, 'cd_number': 1.0}, 121: {'longitude': -73.91643524169922, 'latitude': 40.80095672607422, 'borough': 2, 'cd_number': 1.0}, 122: {'longitude': -73.92630767822266, 'latitude': 40.70908737182617, 'borough': 3, 'cd_number': 1.0}, 123: {'longitude': -73.91795349121094, 'latitude': 40.80145263671875, 'borough': 2, 'cd_number': 1.0}, 124: {'longitude': -73.92938995361328, 'latitude': 40.71230697631836, 'borough': 3, 'cd_number': 1.0}, 125: {'longitude': -73.86016845703125, 'latitude': 40.66460418701172, 'borough': 3, 'cd_number': 5.0}, 126: {'longitude': -73.80833435058594, 'latitude': 40.664833068847656, 'borough': 4, 'cd_number': 10.0}, 127: {'longitude': -73.88976287841797, 'latitude': 40.81305694580078, 'borough': 2, 'cd_number': 2.0}, 128: {'longitude': -74.01042175292969, 'latitude': 40.725521087646484, 'borough': 1, 'cd_number': 2.0}, 129: {'longitude': -73.90830993652344, 'latitude': 40.732887268066406, 'borough': 4, 'cd_number': 2.0}, 130: {'longitude': -73.78441619873047, 'latitude': 40.665096282958984, 'borough': 4, 'cd_number': 12.0}, 131: {'longitude': -73.81648254394531, 'latitude': 40.69672775268555, 'borough': 4, 'cd_number': 9.0}, 132: {'longitude': -73.99386596679688, 'latitude': 40.77075958251953, 'borough': 1, 'cd_number': 4.0}, 133: {'longitude': -73.921630859375, 'latitude': 40.840065002441406, 'borough': 2, 'cd_number': 4.0}, 134: {'longitude': -73.99253845214844, 'latitude': 40.76970291137695, 'borough': 1, 'cd_number': 4.0}, 135: {'longitude': -73.9372329711914, 'latitude': 40.802764892578125, 'borough': 1, 'cd_number': 11.0}, 136: {'longitude': -73.84770202636719, 'latitude': 40.770931243896484, 'borough': 4, 'cd_number': 7.0}, 137: {'longitude': -74.01004028320312, 'latitude': 40.72801208496094, 'borough': 1, 'cd_number': 2.0}, 138: {'longitude': -73.94395446777344, 'latitude': 40.78568649291992, 'borough': 1, 'cd_number': 11.0}, 139: {'longitude': -74.0207748413086, 'latitude': 40.6502799987793, 'borough': 3, 'cd_number': 7.0}, 140: {'longitude': -73.90001678466797, 'latitude': 40.652587890625, 'borough': 3, 'cd_number': 18.0}, 141: {'longitude': -74.00482940673828, 'latitude': 40.685394287109375, 'borough': 3, 'cd_number': 6.0}, 142: {'longitude': -73.91325378417969, 'latitude': 40.86933898925781, 'borough': 1, 'cd_number': 12.0}, 143: {'longitude': -73.88223266601562, 'latitude': 40.836280822753906, 'borough': 2, 'cd_number': 3.0}, 144: {'longitude': -73.92870330810547, 'latitude': 40.710121154785156, 'borough': 3, 'cd_number': 1.0}, 145: {'longitude': -73.93610382080078, 'latitude': 40.80845642089844, 'borough': 1, 'cd_number': 11.0}, 146: {'longitude': -73.7813949584961, 'latitude': 40.600440979003906, 'borough': 4, 'cd_number': 14.0}, 147: {'longitude': -73.90091705322266, 'latitude': 40.65389633178711, 'borough': 3, 'cd_number': 18.0}, 148: {'longitude': -74.08454132080078, 'latitude': 40.63639450073242, 'borough': 5, 'cd_number': 1.0}, 149: {'longitude': -73.9119644165039, 'latitude': 40.868560791015625, 'borough': 1, 'cd_number': 12.0}, 150: {'longitude': -73.99650573730469, 'latitude': 40.669593811035156, 'borough': 3, 'cd_number': 6.0}, 151: {'longitude': -73.84628295898438, 'latitude': 40.77029800415039, 'borough': 4, 'cd_number': 7.0}, 152: {'longitude': -73.93197631835938, 'latitude': 40.67680740356445, 'borough': 3, 'cd_number': 8.0}, 153: {'longitude': -73.84505462646484, 'latitude': 40.82988357543945, 'borough': 2, 'cd_number': 9.0}, 154: {'longitude': -73.94749450683594, 'latitude': 40.65656280517578, 'borough': 3, 'cd_number': 9.0}, 155: {'longitude': -73.90846252441406, 'latitude': 40.73423767089844, 'borough': 4, 'cd_number': 2.0}, 156: {'longitude': -73.88983917236328, 'latitude': 40.654319763183594, 'borough': 3, 'cd_number': 5.0}, 157: {'longitude': -73.89388275146484, 'latitude': 40.851322174072266, 'borough': 2, 'cd_number': 6.0}, 158: {'longitude': -73.99602508544922, 'latitude': 40.58951950073242, 'borough': 3, 'cd_number': 11.0}, 159: {'longitude': -73.98802185058594, 'latitude': 40.57844543457031, 'borough': 3, 'cd_number': 13.0}, 160: {'longitude': -73.9180908203125, 'latitude': 40.80270004272461, 'borough': 2, 'cd_number': 1.0}, 161: {'longitude': -74.19449615478516, 'latitude': 40.57019805908203, 'borough': 5, 'cd_number': 3.0}, 162: {'longitude': -73.8266372680664, 'latitude': 40.88834762573242, 'borough': 2, 'cd_number': 12.0}, 163: {'longitude': -73.84642791748047, 'latitude': 40.76907730102539, 'borough': 4, 'cd_number': 7.0}, 164: {'longitude': -73.90530395507812, 'latitude': 40.733543395996094, 'borough': 4, 'cd_number': 2.0}, 165: {'longitude': -73.92798614501953, 'latitude': 40.61806869506836, 'borough': 3, 'cd_number': 18.0}, 166: {'longitude': -73.92252349853516, 'latitude': 40.72056198120117, 'borough': 4, 'cd_number': 5.0}})"
            ]
          },
          "metadata": {},
          "execution_count": 30
        }
      ]
    },
    {
      "cell_type": "code",
      "source": [
        "import json\n",
        "from networkx.readwrite import json_graph\n",
        "\n",
        "def convert_attributes(G):\n",
        "    for node, data in G.nodes(data=True):\n",
        "        for key, value in data.items():\n",
        "            if isinstance(value, (np.int64, np.float64)):  # Check for NumPy types\n",
        "                G.nodes[node][key] = value.item()  # Convert to native Python type\n",
        "\n",
        "    for u, v, data in G.edges(data=True):\n",
        "        for key, value in data.items():\n",
        "            if isinstance(value, (np.int64, np.float64)):\n",
        "                G.edges[u, v][key] = value.item()\n",
        "\n",
        "# Convert attributes to JSON-safe types\n",
        "convert_attributes(G)\n",
        "\n",
        "# Convert graph to JSON-compatible format\n",
        "graph_data = json_graph.node_link_data(G)\n",
        "\n",
        "# Save to JSON file\n",
        "with open(\"graph.json\", \"w\") as f:\n",
        "    json.dump(graph_data, f, indent=4)"
      ],
      "metadata": {
        "id": "YZguGQGO-U7M"
      },
      "execution_count": null,
      "outputs": []
    },
    {
      "cell_type": "code",
      "source": [
        "groups = conn.execute(\"SELECT borough_name, borough_id, community_district, mean(refuse_tons)  from tonnage GROUP BY borough_name, borough_id, community_district ORDER BY borough_id, community_district;\").fetchdf()\n",
        "groups['bins_needed'] = groups['mean(refuse_tons)'] / 75 / 3\n",
        "groups['bins_needed'] = np.ceil(groups['bins_needed']).astype(int)\n",
        "\n",
        "total = sum(groups['bins_needed'])\n",
        "print(total)\n",
        "\n",
        "groups.head(25)\n"
      ],
      "metadata": {
        "colab": {
          "base_uri": "https://localhost:8080/",
          "height": 851
        },
        "id": "I7WUZyGuxUuI",
        "outputId": "0c2a962f-8ca8-4a27-ac12-825aa9c1b0d2"
      },
      "execution_count": 31,
      "outputs": [
        {
          "output_type": "stream",
          "name": "stdout",
          "text": [
            "1027\n"
          ]
        },
        {
          "output_type": "execute_result",
          "data": {
            "text/plain": [
              "   borough_name  borough_id community_district  mean(refuse_tons)  bins_needed\n",
              "0     Manhattan           1                 01        1069.761893            5\n",
              "1     Manhattan           1                 02        2305.918204           11\n",
              "2     Manhattan           1                 03        3216.525542           15\n",
              "3     Manhattan           1                 04        2205.774272           10\n",
              "4     Manhattan           1                 05        1335.512560            6\n",
              "5     Manhattan           1                 06        3254.282850           15\n",
              "6     Manhattan           1                 07        5453.392961           25\n",
              "7     Manhattan           1                 08        5812.325604           26\n",
              "8     Manhattan           1                 09        2777.819903           13\n",
              "9     Manhattan           1                 10        2909.235990           13\n",
              "10    Manhattan           1                 11        2594.750966           12\n",
              "11    Manhattan           1                 12        5509.331068           25\n",
              "12        Bronx           2                 01        2042.065025           10\n",
              "13        Bronx           2                 02        1544.881527            7\n",
              "14        Bronx           2                 03        1936.033086            9\n",
              "15        Bronx           2                 04        4216.267980           19\n",
              "16        Bronx           2                 05        3563.504926           16\n",
              "17        Bronx           2                 06        2198.582396           10\n",
              "18        Bronx           2                 07        3785.697783           17\n",
              "19        Bronx           2                 08        2504.831941           12\n",
              "20        Bronx           2                 09        4365.465526           20\n",
              "21        Bronx           2                 10        2541.445721           12\n",
              "22        Bronx           2                 11        3059.975306           14\n",
              "23        Bronx           2                 12        3972.487286           18\n",
              "24     Brooklyn           3                 01        4921.857531           22"
            ],
            "text/html": [
              "\n",
              "  <div id=\"df-5154948c-b79e-4d0a-b482-65ca32504af5\" class=\"colab-df-container\">\n",
              "    <div>\n",
              "<style scoped>\n",
              "    .dataframe tbody tr th:only-of-type {\n",
              "        vertical-align: middle;\n",
              "    }\n",
              "\n",
              "    .dataframe tbody tr th {\n",
              "        vertical-align: top;\n",
              "    }\n",
              "\n",
              "    .dataframe thead th {\n",
              "        text-align: right;\n",
              "    }\n",
              "</style>\n",
              "<table border=\"1\" class=\"dataframe\">\n",
              "  <thead>\n",
              "    <tr style=\"text-align: right;\">\n",
              "      <th></th>\n",
              "      <th>borough_name</th>\n",
              "      <th>borough_id</th>\n",
              "      <th>community_district</th>\n",
              "      <th>mean(refuse_tons)</th>\n",
              "      <th>bins_needed</th>\n",
              "    </tr>\n",
              "  </thead>\n",
              "  <tbody>\n",
              "    <tr>\n",
              "      <th>0</th>\n",
              "      <td>Manhattan</td>\n",
              "      <td>1</td>\n",
              "      <td>01</td>\n",
              "      <td>1069.761893</td>\n",
              "      <td>5</td>\n",
              "    </tr>\n",
              "    <tr>\n",
              "      <th>1</th>\n",
              "      <td>Manhattan</td>\n",
              "      <td>1</td>\n",
              "      <td>02</td>\n",
              "      <td>2305.918204</td>\n",
              "      <td>11</td>\n",
              "    </tr>\n",
              "    <tr>\n",
              "      <th>2</th>\n",
              "      <td>Manhattan</td>\n",
              "      <td>1</td>\n",
              "      <td>03</td>\n",
              "      <td>3216.525542</td>\n",
              "      <td>15</td>\n",
              "    </tr>\n",
              "    <tr>\n",
              "      <th>3</th>\n",
              "      <td>Manhattan</td>\n",
              "      <td>1</td>\n",
              "      <td>04</td>\n",
              "      <td>2205.774272</td>\n",
              "      <td>10</td>\n",
              "    </tr>\n",
              "    <tr>\n",
              "      <th>4</th>\n",
              "      <td>Manhattan</td>\n",
              "      <td>1</td>\n",
              "      <td>05</td>\n",
              "      <td>1335.512560</td>\n",
              "      <td>6</td>\n",
              "    </tr>\n",
              "    <tr>\n",
              "      <th>5</th>\n",
              "      <td>Manhattan</td>\n",
              "      <td>1</td>\n",
              "      <td>06</td>\n",
              "      <td>3254.282850</td>\n",
              "      <td>15</td>\n",
              "    </tr>\n",
              "    <tr>\n",
              "      <th>6</th>\n",
              "      <td>Manhattan</td>\n",
              "      <td>1</td>\n",
              "      <td>07</td>\n",
              "      <td>5453.392961</td>\n",
              "      <td>25</td>\n",
              "    </tr>\n",
              "    <tr>\n",
              "      <th>7</th>\n",
              "      <td>Manhattan</td>\n",
              "      <td>1</td>\n",
              "      <td>08</td>\n",
              "      <td>5812.325604</td>\n",
              "      <td>26</td>\n",
              "    </tr>\n",
              "    <tr>\n",
              "      <th>8</th>\n",
              "      <td>Manhattan</td>\n",
              "      <td>1</td>\n",
              "      <td>09</td>\n",
              "      <td>2777.819903</td>\n",
              "      <td>13</td>\n",
              "    </tr>\n",
              "    <tr>\n",
              "      <th>9</th>\n",
              "      <td>Manhattan</td>\n",
              "      <td>1</td>\n",
              "      <td>10</td>\n",
              "      <td>2909.235990</td>\n",
              "      <td>13</td>\n",
              "    </tr>\n",
              "    <tr>\n",
              "      <th>10</th>\n",
              "      <td>Manhattan</td>\n",
              "      <td>1</td>\n",
              "      <td>11</td>\n",
              "      <td>2594.750966</td>\n",
              "      <td>12</td>\n",
              "    </tr>\n",
              "    <tr>\n",
              "      <th>11</th>\n",
              "      <td>Manhattan</td>\n",
              "      <td>1</td>\n",
              "      <td>12</td>\n",
              "      <td>5509.331068</td>\n",
              "      <td>25</td>\n",
              "    </tr>\n",
              "    <tr>\n",
              "      <th>12</th>\n",
              "      <td>Bronx</td>\n",
              "      <td>2</td>\n",
              "      <td>01</td>\n",
              "      <td>2042.065025</td>\n",
              "      <td>10</td>\n",
              "    </tr>\n",
              "    <tr>\n",
              "      <th>13</th>\n",
              "      <td>Bronx</td>\n",
              "      <td>2</td>\n",
              "      <td>02</td>\n",
              "      <td>1544.881527</td>\n",
              "      <td>7</td>\n",
              "    </tr>\n",
              "    <tr>\n",
              "      <th>14</th>\n",
              "      <td>Bronx</td>\n",
              "      <td>2</td>\n",
              "      <td>03</td>\n",
              "      <td>1936.033086</td>\n",
              "      <td>9</td>\n",
              "    </tr>\n",
              "    <tr>\n",
              "      <th>15</th>\n",
              "      <td>Bronx</td>\n",
              "      <td>2</td>\n",
              "      <td>04</td>\n",
              "      <td>4216.267980</td>\n",
              "      <td>19</td>\n",
              "    </tr>\n",
              "    <tr>\n",
              "      <th>16</th>\n",
              "      <td>Bronx</td>\n",
              "      <td>2</td>\n",
              "      <td>05</td>\n",
              "      <td>3563.504926</td>\n",
              "      <td>16</td>\n",
              "    </tr>\n",
              "    <tr>\n",
              "      <th>17</th>\n",
              "      <td>Bronx</td>\n",
              "      <td>2</td>\n",
              "      <td>06</td>\n",
              "      <td>2198.582396</td>\n",
              "      <td>10</td>\n",
              "    </tr>\n",
              "    <tr>\n",
              "      <th>18</th>\n",
              "      <td>Bronx</td>\n",
              "      <td>2</td>\n",
              "      <td>07</td>\n",
              "      <td>3785.697783</td>\n",
              "      <td>17</td>\n",
              "    </tr>\n",
              "    <tr>\n",
              "      <th>19</th>\n",
              "      <td>Bronx</td>\n",
              "      <td>2</td>\n",
              "      <td>08</td>\n",
              "      <td>2504.831941</td>\n",
              "      <td>12</td>\n",
              "    </tr>\n",
              "    <tr>\n",
              "      <th>20</th>\n",
              "      <td>Bronx</td>\n",
              "      <td>2</td>\n",
              "      <td>09</td>\n",
              "      <td>4365.465526</td>\n",
              "      <td>20</td>\n",
              "    </tr>\n",
              "    <tr>\n",
              "      <th>21</th>\n",
              "      <td>Bronx</td>\n",
              "      <td>2</td>\n",
              "      <td>10</td>\n",
              "      <td>2541.445721</td>\n",
              "      <td>12</td>\n",
              "    </tr>\n",
              "    <tr>\n",
              "      <th>22</th>\n",
              "      <td>Bronx</td>\n",
              "      <td>2</td>\n",
              "      <td>11</td>\n",
              "      <td>3059.975306</td>\n",
              "      <td>14</td>\n",
              "    </tr>\n",
              "    <tr>\n",
              "      <th>23</th>\n",
              "      <td>Bronx</td>\n",
              "      <td>2</td>\n",
              "      <td>12</td>\n",
              "      <td>3972.487286</td>\n",
              "      <td>18</td>\n",
              "    </tr>\n",
              "    <tr>\n",
              "      <th>24</th>\n",
              "      <td>Brooklyn</td>\n",
              "      <td>3</td>\n",
              "      <td>01</td>\n",
              "      <td>4921.857531</td>\n",
              "      <td>22</td>\n",
              "    </tr>\n",
              "  </tbody>\n",
              "</table>\n",
              "</div>\n",
              "    <div class=\"colab-df-buttons\">\n",
              "\n",
              "  <div class=\"colab-df-container\">\n",
              "    <button class=\"colab-df-convert\" onclick=\"convertToInteractive('df-5154948c-b79e-4d0a-b482-65ca32504af5')\"\n",
              "            title=\"Convert this dataframe to an interactive table.\"\n",
              "            style=\"display:none;\">\n",
              "\n",
              "  <svg xmlns=\"http://www.w3.org/2000/svg\" height=\"24px\" viewBox=\"0 -960 960 960\">\n",
              "    <path d=\"M120-120v-720h720v720H120Zm60-500h600v-160H180v160Zm220 220h160v-160H400v160Zm0 220h160v-160H400v160ZM180-400h160v-160H180v160Zm440 0h160v-160H620v160ZM180-180h160v-160H180v160Zm440 0h160v-160H620v160Z\"/>\n",
              "  </svg>\n",
              "    </button>\n",
              "\n",
              "  <style>\n",
              "    .colab-df-container {\n",
              "      display:flex;\n",
              "      gap: 12px;\n",
              "    }\n",
              "\n",
              "    .colab-df-convert {\n",
              "      background-color: #E8F0FE;\n",
              "      border: none;\n",
              "      border-radius: 50%;\n",
              "      cursor: pointer;\n",
              "      display: none;\n",
              "      fill: #1967D2;\n",
              "      height: 32px;\n",
              "      padding: 0 0 0 0;\n",
              "      width: 32px;\n",
              "    }\n",
              "\n",
              "    .colab-df-convert:hover {\n",
              "      background-color: #E2EBFA;\n",
              "      box-shadow: 0px 1px 2px rgba(60, 64, 67, 0.3), 0px 1px 3px 1px rgba(60, 64, 67, 0.15);\n",
              "      fill: #174EA6;\n",
              "    }\n",
              "\n",
              "    .colab-df-buttons div {\n",
              "      margin-bottom: 4px;\n",
              "    }\n",
              "\n",
              "    [theme=dark] .colab-df-convert {\n",
              "      background-color: #3B4455;\n",
              "      fill: #D2E3FC;\n",
              "    }\n",
              "\n",
              "    [theme=dark] .colab-df-convert:hover {\n",
              "      background-color: #434B5C;\n",
              "      box-shadow: 0px 1px 3px 1px rgba(0, 0, 0, 0.15);\n",
              "      filter: drop-shadow(0px 1px 2px rgba(0, 0, 0, 0.3));\n",
              "      fill: #FFFFFF;\n",
              "    }\n",
              "  </style>\n",
              "\n",
              "    <script>\n",
              "      const buttonEl =\n",
              "        document.querySelector('#df-5154948c-b79e-4d0a-b482-65ca32504af5 button.colab-df-convert');\n",
              "      buttonEl.style.display =\n",
              "        google.colab.kernel.accessAllowed ? 'block' : 'none';\n",
              "\n",
              "      async function convertToInteractive(key) {\n",
              "        const element = document.querySelector('#df-5154948c-b79e-4d0a-b482-65ca32504af5');\n",
              "        const dataTable =\n",
              "          await google.colab.kernel.invokeFunction('convertToInteractive',\n",
              "                                                    [key], {});\n",
              "        if (!dataTable) return;\n",
              "\n",
              "        const docLinkHtml = 'Like what you see? Visit the ' +\n",
              "          '<a target=\"_blank\" href=https://colab.research.google.com/notebooks/data_table.ipynb>data table notebook</a>'\n",
              "          + ' to learn more about interactive tables.';\n",
              "        element.innerHTML = '';\n",
              "        dataTable['output_type'] = 'display_data';\n",
              "        await google.colab.output.renderOutput(dataTable, element);\n",
              "        const docLink = document.createElement('div');\n",
              "        docLink.innerHTML = docLinkHtml;\n",
              "        element.appendChild(docLink);\n",
              "      }\n",
              "    </script>\n",
              "  </div>\n",
              "\n",
              "\n",
              "<div id=\"df-99607e8e-bb90-474f-8611-3bafa85accf8\">\n",
              "  <button class=\"colab-df-quickchart\" onclick=\"quickchart('df-99607e8e-bb90-474f-8611-3bafa85accf8')\"\n",
              "            title=\"Suggest charts\"\n",
              "            style=\"display:none;\">\n",
              "\n",
              "<svg xmlns=\"http://www.w3.org/2000/svg\" height=\"24px\"viewBox=\"0 0 24 24\"\n",
              "     width=\"24px\">\n",
              "    <g>\n",
              "        <path d=\"M19 3H5c-1.1 0-2 .9-2 2v14c0 1.1.9 2 2 2h14c1.1 0 2-.9 2-2V5c0-1.1-.9-2-2-2zM9 17H7v-7h2v7zm4 0h-2V7h2v10zm4 0h-2v-4h2v4z\"/>\n",
              "    </g>\n",
              "</svg>\n",
              "  </button>\n",
              "\n",
              "<style>\n",
              "  .colab-df-quickchart {\n",
              "      --bg-color: #E8F0FE;\n",
              "      --fill-color: #1967D2;\n",
              "      --hover-bg-color: #E2EBFA;\n",
              "      --hover-fill-color: #174EA6;\n",
              "      --disabled-fill-color: #AAA;\n",
              "      --disabled-bg-color: #DDD;\n",
              "  }\n",
              "\n",
              "  [theme=dark] .colab-df-quickchart {\n",
              "      --bg-color: #3B4455;\n",
              "      --fill-color: #D2E3FC;\n",
              "      --hover-bg-color: #434B5C;\n",
              "      --hover-fill-color: #FFFFFF;\n",
              "      --disabled-bg-color: #3B4455;\n",
              "      --disabled-fill-color: #666;\n",
              "  }\n",
              "\n",
              "  .colab-df-quickchart {\n",
              "    background-color: var(--bg-color);\n",
              "    border: none;\n",
              "    border-radius: 50%;\n",
              "    cursor: pointer;\n",
              "    display: none;\n",
              "    fill: var(--fill-color);\n",
              "    height: 32px;\n",
              "    padding: 0;\n",
              "    width: 32px;\n",
              "  }\n",
              "\n",
              "  .colab-df-quickchart:hover {\n",
              "    background-color: var(--hover-bg-color);\n",
              "    box-shadow: 0 1px 2px rgba(60, 64, 67, 0.3), 0 1px 3px 1px rgba(60, 64, 67, 0.15);\n",
              "    fill: var(--button-hover-fill-color);\n",
              "  }\n",
              "\n",
              "  .colab-df-quickchart-complete:disabled,\n",
              "  .colab-df-quickchart-complete:disabled:hover {\n",
              "    background-color: var(--disabled-bg-color);\n",
              "    fill: var(--disabled-fill-color);\n",
              "    box-shadow: none;\n",
              "  }\n",
              "\n",
              "  .colab-df-spinner {\n",
              "    border: 2px solid var(--fill-color);\n",
              "    border-color: transparent;\n",
              "    border-bottom-color: var(--fill-color);\n",
              "    animation:\n",
              "      spin 1s steps(1) infinite;\n",
              "  }\n",
              "\n",
              "  @keyframes spin {\n",
              "    0% {\n",
              "      border-color: transparent;\n",
              "      border-bottom-color: var(--fill-color);\n",
              "      border-left-color: var(--fill-color);\n",
              "    }\n",
              "    20% {\n",
              "      border-color: transparent;\n",
              "      border-left-color: var(--fill-color);\n",
              "      border-top-color: var(--fill-color);\n",
              "    }\n",
              "    30% {\n",
              "      border-color: transparent;\n",
              "      border-left-color: var(--fill-color);\n",
              "      border-top-color: var(--fill-color);\n",
              "      border-right-color: var(--fill-color);\n",
              "    }\n",
              "    40% {\n",
              "      border-color: transparent;\n",
              "      border-right-color: var(--fill-color);\n",
              "      border-top-color: var(--fill-color);\n",
              "    }\n",
              "    60% {\n",
              "      border-color: transparent;\n",
              "      border-right-color: var(--fill-color);\n",
              "    }\n",
              "    80% {\n",
              "      border-color: transparent;\n",
              "      border-right-color: var(--fill-color);\n",
              "      border-bottom-color: var(--fill-color);\n",
              "    }\n",
              "    90% {\n",
              "      border-color: transparent;\n",
              "      border-bottom-color: var(--fill-color);\n",
              "    }\n",
              "  }\n",
              "</style>\n",
              "\n",
              "  <script>\n",
              "    async function quickchart(key) {\n",
              "      const quickchartButtonEl =\n",
              "        document.querySelector('#' + key + ' button');\n",
              "      quickchartButtonEl.disabled = true;  // To prevent multiple clicks.\n",
              "      quickchartButtonEl.classList.add('colab-df-spinner');\n",
              "      try {\n",
              "        const charts = await google.colab.kernel.invokeFunction(\n",
              "            'suggestCharts', [key], {});\n",
              "      } catch (error) {\n",
              "        console.error('Error during call to suggestCharts:', error);\n",
              "      }\n",
              "      quickchartButtonEl.classList.remove('colab-df-spinner');\n",
              "      quickchartButtonEl.classList.add('colab-df-quickchart-complete');\n",
              "    }\n",
              "    (() => {\n",
              "      let quickchartButtonEl =\n",
              "        document.querySelector('#df-99607e8e-bb90-474f-8611-3bafa85accf8 button');\n",
              "      quickchartButtonEl.style.display =\n",
              "        google.colab.kernel.accessAllowed ? 'block' : 'none';\n",
              "    })();\n",
              "  </script>\n",
              "</div>\n",
              "\n",
              "    </div>\n",
              "  </div>\n"
            ],
            "application/vnd.google.colaboratory.intrinsic+json": {
              "type": "dataframe",
              "variable_name": "groups",
              "summary": "{\n  \"name\": \"groups\",\n  \"rows\": 60,\n  \"fields\": [\n    {\n      \"column\": \"borough_name\",\n      \"properties\": {\n        \"dtype\": \"category\",\n        \"num_unique_values\": 5,\n        \"samples\": [\n          \"Bronx\",\n          \"Staten Island\",\n          \"Brooklyn\"\n        ],\n        \"semantic_type\": \"\",\n        \"description\": \"\"\n      }\n    },\n    {\n      \"column\": \"borough_id\",\n      \"properties\": {\n        \"dtype\": \"int32\",\n        \"num_unique_values\": 5,\n        \"samples\": [\n          2,\n          5,\n          3\n        ],\n        \"semantic_type\": \"\",\n        \"description\": \"\"\n      }\n    },\n    {\n      \"column\": \"community_district\",\n      \"properties\": {\n        \"dtype\": \"category\",\n        \"num_unique_values\": 19,\n        \"samples\": [\n          \"01\",\n          \"06\",\n          \"12\"\n        ],\n        \"semantic_type\": \"\",\n        \"description\": \"\"\n      }\n    },\n    {\n      \"column\": \"mean(refuse_tons)\",\n      \"properties\": {\n        \"dtype\": \"number\",\n        \"std\": 1358.8714620824294,\n        \"min\": 1069.761893203884,\n        \"max\": 6962.491019417472,\n        \"num_unique_values\": 60,\n        \"samples\": [\n          1069.761893203884,\n          3254.282850241547,\n          2229.461728395061\n        ],\n        \"semantic_type\": \"\",\n        \"description\": \"\"\n      }\n    },\n    {\n      \"column\": \"bins_needed\",\n      \"properties\": {\n        \"dtype\": \"number\",\n        \"std\": 6,\n        \"min\": 5,\n        \"max\": 31,\n        \"num_unique_values\": 23,\n        \"samples\": [\n          14,\n          7,\n          5\n        ],\n        \"semantic_type\": \"\",\n        \"description\": \"\"\n      }\n    }\n  ]\n}"
            }
          },
          "metadata": {},
          "execution_count": 31
        }
      ]
    },
    {
      "cell_type": "code",
      "source": [
        "!pip install pyvis\n",
        "from pyvis.network import Network"
      ],
      "metadata": {
        "colab": {
          "base_uri": "https://localhost:8080/"
        },
        "id": "NT9R_MOEQfMP",
        "outputId": "a09812dd-ca2c-4eaa-d540-6a6df3ca9acc"
      },
      "execution_count": 33,
      "outputs": [
        {
          "output_type": "stream",
          "name": "stdout",
          "text": [
            "Collecting pyvis\n",
            "  Downloading pyvis-0.3.2-py3-none-any.whl.metadata (1.7 kB)\n",
            "Requirement already satisfied: ipython>=5.3.0 in /usr/local/lib/python3.11/dist-packages (from pyvis) (7.34.0)\n",
            "Requirement already satisfied: jinja2>=2.9.6 in /usr/local/lib/python3.11/dist-packages (from pyvis) (3.1.5)\n",
            "Requirement already satisfied: jsonpickle>=1.4.1 in /usr/local/lib/python3.11/dist-packages (from pyvis) (4.0.1)\n",
            "Requirement already satisfied: networkx>=1.11 in /usr/local/lib/python3.11/dist-packages (from pyvis) (3.4.2)\n",
            "Requirement already satisfied: setuptools>=18.5 in /usr/local/lib/python3.11/dist-packages (from ipython>=5.3.0->pyvis) (75.1.0)\n",
            "Collecting jedi>=0.16 (from ipython>=5.3.0->pyvis)\n",
            "  Downloading jedi-0.19.2-py2.py3-none-any.whl.metadata (22 kB)\n",
            "Requirement already satisfied: decorator in /usr/local/lib/python3.11/dist-packages (from ipython>=5.3.0->pyvis) (4.4.2)\n",
            "Requirement already satisfied: pickleshare in /usr/local/lib/python3.11/dist-packages (from ipython>=5.3.0->pyvis) (0.7.5)\n",
            "Requirement already satisfied: traitlets>=4.2 in /usr/local/lib/python3.11/dist-packages (from ipython>=5.3.0->pyvis) (5.7.1)\n",
            "Requirement already satisfied: prompt-toolkit!=3.0.0,!=3.0.1,<3.1.0,>=2.0.0 in /usr/local/lib/python3.11/dist-packages (from ipython>=5.3.0->pyvis) (3.0.50)\n",
            "Requirement already satisfied: pygments in /usr/local/lib/python3.11/dist-packages (from ipython>=5.3.0->pyvis) (2.18.0)\n",
            "Requirement already satisfied: backcall in /usr/local/lib/python3.11/dist-packages (from ipython>=5.3.0->pyvis) (0.2.0)\n",
            "Requirement already satisfied: matplotlib-inline in /usr/local/lib/python3.11/dist-packages (from ipython>=5.3.0->pyvis) (0.1.7)\n",
            "Requirement already satisfied: pexpect>4.3 in /usr/local/lib/python3.11/dist-packages (from ipython>=5.3.0->pyvis) (4.9.0)\n",
            "Requirement already satisfied: MarkupSafe>=2.0 in /usr/local/lib/python3.11/dist-packages (from jinja2>=2.9.6->pyvis) (3.0.2)\n",
            "Requirement already satisfied: parso<0.9.0,>=0.8.4 in /usr/local/lib/python3.11/dist-packages (from jedi>=0.16->ipython>=5.3.0->pyvis) (0.8.4)\n",
            "Requirement already satisfied: ptyprocess>=0.5 in /usr/local/lib/python3.11/dist-packages (from pexpect>4.3->ipython>=5.3.0->pyvis) (0.7.0)\n",
            "Requirement already satisfied: wcwidth in /usr/local/lib/python3.11/dist-packages (from prompt-toolkit!=3.0.0,!=3.0.1,<3.1.0,>=2.0.0->ipython>=5.3.0->pyvis) (0.2.13)\n",
            "Downloading pyvis-0.3.2-py3-none-any.whl (756 kB)\n",
            "\u001b[2K   \u001b[90m━━━━━━━━━━━━━━━━━━━━━━━━━━━━━━━━━━━━━━━━\u001b[0m \u001b[32m756.0/756.0 kB\u001b[0m \u001b[31m18.6 MB/s\u001b[0m eta \u001b[36m0:00:00\u001b[0m\n",
            "\u001b[?25hDownloading jedi-0.19.2-py2.py3-none-any.whl (1.6 MB)\n",
            "\u001b[2K   \u001b[90m━━━━━━━━━━━━━━━━━━━━━━━━━━━━━━━━━━━━━━━━\u001b[0m \u001b[32m1.6/1.6 MB\u001b[0m \u001b[31m59.8 MB/s\u001b[0m eta \u001b[36m0:00:00\u001b[0m\n",
            "\u001b[?25hInstalling collected packages: jedi, pyvis\n",
            "Successfully installed jedi-0.19.2 pyvis-0.3.2\n"
          ]
        }
      ]
    },
    {
      "cell_type": "code",
      "source": [
        "# Convert NetworkX Graph to Pyvis\n",
        "net = Network(notebook=True, height=\"800px\", width=\"100%\", directed=True)\n",
        "\n",
        "# Add Nodes\n",
        "for node, data in G.nodes(data=True):\n",
        "    net.add_node(node, label=f\"Stop {node}\\nBins: {data.get('bins_needed', 0)}\",\n",
        "                 title=f\"CD: {data['cd_number']}, Borough: {data['borough']}\",\n",
        "                 size=data.get('bins_needed', 1) * 5, color=\"blue\")\n",
        "\n",
        "# Add Edges\n",
        "for u, v, data in G.edges(data=True):\n",
        "    net.add_edge(u, v, title=f\"Distance: {data['weight']:.2f} km\", color=\"gray\")\n",
        "\n",
        "# Show Interactive Graph\n",
        "net.show(\"waste_collection_graph.html\")"
      ],
      "metadata": {
        "colab": {
          "base_uri": "https://localhost:8080/",
          "height": 73
        },
        "id": "XSfTXIgxPKbQ",
        "outputId": "6bb6c51e-a1b9-49a4-8d84-9f871fbcfea0"
      },
      "execution_count": 34,
      "outputs": [
        {
          "output_type": "stream",
          "name": "stdout",
          "text": [
            "Warning: When  cdn_resources is 'local' jupyter notebook has issues displaying graphics on chrome/safari. Use cdn_resources='in_line' or cdn_resources='remote' if you have issues viewing graphics in a notebook.\n",
            "waste_collection_graph.html\n"
          ]
        },
        {
          "output_type": "execute_result",
          "data": {
            "text/plain": [
              "<IPython.lib.display.IFrame at 0x7cf22d974490>"
            ],
            "text/html": [
              "\n",
              "        <iframe\n",
              "            width=\"100%\"\n",
              "            height=\"800px\"\n",
              "            src=\"waste_collection_graph.html\"\n",
              "            frameborder=\"0\"\n",
              "            allowfullscreen\n",
              "            \n",
              "        ></iframe>\n",
              "        "
            ]
          },
          "metadata": {},
          "execution_count": 34
        }
      ]
    },
    {
      "cell_type": "code",
      "source": [
        "# Plot total waste collection per borough\n",
        "#import seaborn as sns\n",
        "#import matplotlib.pyplot as plt\n",
        "\n",
        "plt.figure(figsize=(10, 5))\n",
        "sns.barplot(data=groups, x=\"borough_name\", y=\"mean(refuse_tons)\", palette=\"coolwarm\")\n",
        "plt.title(\"Average Waste Collected Per Borough\")\n",
        "plt.ylabel(\"Mean Refuse Tons\")\n",
        "plt.xlabel(\"Borough\")\n",
        "plt.xticks(rotation=45)\n",
        "plt.show()"
      ],
      "metadata": {
        "colab": {
          "base_uri": "https://localhost:8080/",
          "height": 657
        },
        "id": "uqdA7M2UQi-7",
        "outputId": "bf97b8a2-4655-4098-c792-b2eab7db4025"
      },
      "execution_count": 35,
      "outputs": [
        {
          "output_type": "stream",
          "name": "stderr",
          "text": [
            "<ipython-input-35-0b5c6f7cea3b>:6: FutureWarning: \n",
            "\n",
            "Passing `palette` without assigning `hue` is deprecated and will be removed in v0.14.0. Assign the `x` variable to `hue` and set `legend=False` for the same effect.\n",
            "\n",
            "  sns.barplot(data=groups, x=\"borough_name\", y=\"mean(refuse_tons)\", palette=\"coolwarm\")\n"
          ]
        },
        {
          "output_type": "display_data",
          "data": {
            "text/plain": [
              "<Figure size 1000x500 with 1 Axes>"
            ],
            "image/png": "[encoded data removed]"
          },
          "metadata": {}
        }
      ]
    },
    {
      "cell_type": "code",
      "source": [
        "groups"
      ],
      "metadata": {
        "colab": {
          "base_uri": "https://localhost:8080/",
          "height": 1000
        },
        "id": "effdrDcgRDB7",
        "outputId": "8d42c48c-a4c3-4edc-93c2-3643e2a2962f"
      },
      "execution_count": 37,
      "outputs": [
        {
          "output_type": "execute_result",
          "data": {
            "text/plain": [
              "     borough_name  borough_id community_district  mean(refuse_tons)  \\\n",
              "0       Manhattan           1                 01        1069.761893   \n",
              "1       Manhattan           1                 02        2305.918204   \n",
              "2       Manhattan           1                 03        3216.525542   \n",
              "3       Manhattan           1                 04        2205.774272   \n",
              "4       Manhattan           1                 05        1335.512560   \n",
              "5       Manhattan           1                 06        3254.282850   \n",
              "6       Manhattan           1                 07        5453.392961   \n",
              "7       Manhattan           1                 08        5812.325604   \n",
              "8       Manhattan           1                 09        2777.819903   \n",
              "9       Manhattan           1                 10        2909.235990   \n",
              "10      Manhattan           1                 11        2594.750966   \n",
              "11      Manhattan           1                 12        5509.331068   \n",
              "12          Bronx           2                 01        2042.065025   \n",
              "13          Bronx           2                 02        1544.881527   \n",
              "14          Bronx           2                 03        1936.033086   \n",
              "15          Bronx           2                 04        4216.267980   \n",
              "16          Bronx           2                 05        3563.504926   \n",
              "17          Bronx           2                 06        2198.582396   \n",
              "18          Bronx           2                 07        3785.697783   \n",
              "19          Bronx           2                 08        2504.831941   \n",
              "20          Bronx           2                 09        4365.465526   \n",
              "21          Bronx           2                 10        2541.445721   \n",
              "22          Bronx           2                 11        3059.975306   \n",
              "23          Bronx           2                 12        3972.487286   \n",
              "24       Brooklyn           3                 01        4921.857531   \n",
              "25       Brooklyn           3                 02        2426.484691   \n",
              "26       Brooklyn           3                 03        4294.400000   \n",
              "27       Brooklyn           3                 04        3230.309136   \n",
              "28       Brooklyn           3                 05        4640.654074   \n",
              "29       Brooklyn           3                 06        2502.728186   \n",
              "30       Brooklyn           3                 07        3352.908578   \n",
              "31       Brooklyn           3                 08        2845.687901   \n",
              "32       Brooklyn           3                 09        3190.817574   \n",
              "33       Brooklyn           3                 10        3342.574328   \n",
              "34       Brooklyn           3                 11        4961.332353   \n",
              "35       Brooklyn           3                 12        5828.264951   \n",
              "36       Brooklyn           3                 13        2229.461728   \n",
              "37       Brooklyn           3                 14        4966.869802   \n",
              "38       Brooklyn           3                 15        4747.046287   \n",
              "39       Brooklyn           3                 16        2189.822277   \n",
              "40       Brooklyn           3                 17        4720.567327   \n",
              "41       Brooklyn           3                 18        5544.201241   \n",
              "42         Queens           4                 01        4568.468305   \n",
              "43         Queens           4                 02        2830.204187   \n",
              "44         Queens           4                 03        4789.291626   \n",
              "45         Queens           4                 04        4204.518473   \n",
              "46         Queens           4                 05        4905.951232   \n",
              "47         Queens           4                 06        2884.821429   \n",
              "48         Queens           4                 07        6431.688107   \n",
              "49         Queens           4                 08        3666.370874   \n",
              "50         Queens           4                 09        4084.060345   \n",
              "51         Queens           4                 10        3949.136010   \n",
              "52         Queens           4                 11        3188.377427   \n",
              "53         Queens           4                 12        6962.491019   \n",
              "54         Queens           4                 13        5787.649148   \n",
              "55         Queens           4                 14        2915.089781   \n",
              "56         Queens           4                 7A        4371.694147   \n",
              "57  Staten Island           5                 01        5360.826683   \n",
              "58  Staten Island           5                 02        4412.305036   \n",
              "59  Staten Island           5                 03        5810.388462   \n",
              "\n",
              "    bins_needed  \n",
              "0             5  \n",
              "1            11  \n",
              "2            15  \n",
              "3            10  \n",
              "4             6  \n",
              "5            15  \n",
              "6            25  \n",
              "7            26  \n",
              "8            13  \n",
              "9            13  \n",
              "10           12  \n",
              "11           25  \n",
              "12           10  \n",
              "13            7  \n",
              "14            9  \n",
              "15           19  \n",
              "16           16  \n",
              "17           10  \n",
              "18           17  \n",
              "19           12  \n",
              "20           20  \n",
              "21           12  \n",
              "22           14  \n",
              "23           18  \n",
              "24           22  \n",
              "25           11  \n",
              "26           20  \n",
              "27           15  \n",
              "28           21  \n",
              "29           12  \n",
              "30           15  \n",
              "31           13  \n",
              "32           15  \n",
              "33           15  \n",
              "34           23  \n",
              "35           26  \n",
              "36           10  \n",
              "37           23  \n",
              "38           22  \n",
              "39           10  \n",
              "40           21  \n",
              "41           25  \n",
              "42           21  \n",
              "43           13  \n",
              "44           22  \n",
              "45           19  \n",
              "46           22  \n",
              "47           13  \n",
              "48           29  \n",
              "49           17  \n",
              "50           19  \n",
              "51           18  \n",
              "52           15  \n",
              "53           31  \n",
              "54           26  \n",
              "55           13  \n",
              "56           20  \n",
              "57           24  \n",
              "58           20  \n",
              "59           26  "
            ],
            "text/html": [
              "\n",
              "  <div id=\"df-dd1c453b-425a-45cc-b259-131d29adfe8f\" class=\"colab-df-container\">\n",
              "    <div>\n",
              "<style scoped>\n",
              "    .dataframe tbody tr th:only-of-type {\n",
              "        vertical-align: middle;\n",
              "    }\n",
              "\n",
              "    .dataframe tbody tr th {\n",
              "        vertical-align: top;\n",
              "    }\n",
              "\n",
              "    .dataframe thead th {\n",
              "        text-align: right;\n",
              "    }\n",
              "</style>\n",
              "<table border=\"1\" class=\"dataframe\">\n",
              "  <thead>\n",
              "    <tr style=\"text-align: right;\">\n",
              "      <th></th>\n",
              "      <th>borough_name</th>\n",
              "      <th>borough_id</th>\n",
              "      <th>community_district</th>\n",
              "      <th>mean(refuse_tons)</th>\n",
              "      <th>bins_needed</th>\n",
              "    </tr>\n",
              "  </thead>\n",
              "  <tbody>\n",
              "    <tr>\n",
              "      <th>0</th>\n",
              "      <td>Manhattan</td>\n",
              "      <td>1</td>\n",
              "      <td>01</td>\n",
              "      <td>1069.761893</td>\n",
              "      <td>5</td>\n",
              "    </tr>\n",
              "    <tr>\n",
              "      <th>1</th>\n",
              "      <td>Manhattan</td>\n",
              "      <td>1</td>\n",
              "      <td>02</td>\n",
              "      <td>2305.918204</td>\n",
              "      <td>11</td>\n",
              "    </tr>\n",
              "    <tr>\n",
              "      <th>2</th>\n",
              "      <td>Manhattan</td>\n",
              "      <td>1</td>\n",
              "      <td>03</td>\n",
              "      <td>3216.525542</td>\n",
              "      <td>15</td>\n",
              "    </tr>\n",
              "    <tr>\n",
              "      <th>3</th>\n",
              "      <td>Manhattan</td>\n",
              "      <td>1</td>\n",
              "      <td>04</td>\n",
              "      <td>2205.774272</td>\n",
              "      <td>10</td>\n",
              "    </tr>\n",
              "    <tr>\n",
              "      <th>4</th>\n",
              "      <td>Manhattan</td>\n",
              "      <td>1</td>\n",
              "      <td>05</td>\n",
              "      <td>1335.512560</td>\n",
              "      <td>6</td>\n",
              "    </tr>\n",
              "    <tr>\n",
              "      <th>5</th>\n",
              "      <td>Manhattan</td>\n",
              "      <td>1</td>\n",
              "      <td>06</td>\n",
              "      <td>3254.282850</td>\n",
              "      <td>15</td>\n",
              "    </tr>\n",
              "    <tr>\n",
              "      <th>6</th>\n",
              "      <td>Manhattan</td>\n",
              "      <td>1</td>\n",
              "      <td>07</td>\n",
              "      <td>5453.392961</td>\n",
              "      <td>25</td>\n",
              "    </tr>\n",
              "    <tr>\n",
              "      <th>7</th>\n",
              "      <td>Manhattan</td>\n",
              "      <td>1</td>\n",
              "      <td>08</td>\n",
              "      <td>5812.325604</td>\n",
              "      <td>26</td>\n",
              "    </tr>\n",
              "    <tr>\n",
              "      <th>8</th>\n",
              "      <td>Manhattan</td>\n",
              "      <td>1</td>\n",
              "      <td>09</td>\n",
              "      <td>2777.819903</td>\n",
              "      <td>13</td>\n",
              "    </tr>\n",
              "    <tr>\n",
              "      <th>9</th>\n",
              "      <td>Manhattan</td>\n",
              "      <td>1</td>\n",
              "      <td>10</td>\n",
              "      <td>2909.235990</td>\n",
              "      <td>13</td>\n",
              "    </tr>\n",
              "    <tr>\n",
              "      <th>10</th>\n",
              "      <td>Manhattan</td>\n",
              "      <td>1</td>\n",
              "      <td>11</td>\n",
              "      <td>2594.750966</td>\n",
              "      <td>12</td>\n",
              "    </tr>\n",
              "    <tr>\n",
              "      <th>11</th>\n",
              "      <td>Manhattan</td>\n",
              "      <td>1</td>\n",
              "      <td>12</td>\n",
              "      <td>5509.331068</td>\n",
              "      <td>25</td>\n",
              "    </tr>\n",
              "    <tr>\n",
              "      <th>12</th>\n",
              "      <td>Bronx</td>\n",
              "      <td>2</td>\n",
              "      <td>01</td>\n",
              "      <td>2042.065025</td>\n",
              "      <td>10</td>\n",
              "    </tr>\n",
              "    <tr>\n",
              "      <th>13</th>\n",
              "      <td>Bronx</td>\n",
              "      <td>2</td>\n",
              "      <td>02</td>\n",
              "      <td>1544.881527</td>\n",
              "      <td>7</td>\n",
              "    </tr>\n",
              "    <tr>\n",
              "      <th>14</th>\n",
              "      <td>Bronx</td>\n",
              "      <td>2</td>\n",
              "      <td>03</td>\n",
              "      <td>1936.033086</td>\n",
              "      <td>9</td>\n",
              "    </tr>\n",
              "    <tr>\n",
              "      <th>15</th>\n",
              "      <td>Bronx</td>\n",
              "      <td>2</td>\n",
              "      <td>04</td>\n",
              "      <td>4216.267980</td>\n",
              "      <td>19</td>\n",
              "    </tr>\n",
              "    <tr>\n",
              "      <th>16</th>\n",
              "      <td>Bronx</td>\n",
              "      <td>2</td>\n",
              "      <td>05</td>\n",
              "      <td>3563.504926</td>\n",
              "      <td>16</td>\n",
              "    </tr>\n",
              "    <tr>\n",
              "      <th>17</th>\n",
              "      <td>Bronx</td>\n",
              "      <td>2</td>\n",
              "      <td>06</td>\n",
              "      <td>2198.582396</td>\n",
              "      <td>10</td>\n",
              "    </tr>\n",
              "    <tr>\n",
              "      <th>18</th>\n",
              "      <td>Bronx</td>\n",
              "      <td>2</td>\n",
              "      <td>07</td>\n",
              "      <td>3785.697783</td>\n",
              "      <td>17</td>\n",
              "    </tr>\n",
              "    <tr>\n",
              "      <th>19</th>\n",
              "      <td>Bronx</td>\n",
              "      <td>2</td>\n",
              "      <td>08</td>\n",
              "      <td>2504.831941</td>\n",
              "      <td>12</td>\n",
              "    </tr>\n",
              "    <tr>\n",
              "      <th>20</th>\n",
              "      <td>Bronx</td>\n",
              "      <td>2</td>\n",
              "      <td>09</td>\n",
              "      <td>4365.465526</td>\n",
              "      <td>20</td>\n",
              "    </tr>\n",
              "    <tr>\n",
              "      <th>21</th>\n",
              "      <td>Bronx</td>\n",
              "      <td>2</td>\n",
              "      <td>10</td>\n",
              "      <td>2541.445721</td>\n",
              "      <td>12</td>\n",
              "    </tr>\n",
              "    <tr>\n",
              "      <th>22</th>\n",
              "      <td>Bronx</td>\n",
              "      <td>2</td>\n",
              "      <td>11</td>\n",
              "      <td>3059.975306</td>\n",
              "      <td>14</td>\n",
              "    </tr>\n",
              "    <tr>\n",
              "      <th>23</th>\n",
              "      <td>Bronx</td>\n",
              "      <td>2</td>\n",
              "      <td>12</td>\n",
              "      <td>3972.487286</td>\n",
              "      <td>18</td>\n",
              "    </tr>\n",
              "    <tr>\n",
              "      <th>24</th>\n",
              "      <td>Brooklyn</td>\n",
              "      <td>3</td>\n",
              "      <td>01</td>\n",
              "      <td>4921.857531</td>\n",
              "      <td>22</td>\n",
              "    </tr>\n",
              "    <tr>\n",
              "      <th>25</th>\n",
              "      <td>Brooklyn</td>\n",
              "      <td>3</td>\n",
              "      <td>02</td>\n",
              "      <td>2426.484691</td>\n",
              "      <td>11</td>\n",
              "    </tr>\n",
              "    <tr>\n",
              "      <th>26</th>\n",
              "      <td>Brooklyn</td>\n",
              "      <td>3</td>\n",
              "      <td>03</td>\n",
              "      <td>4294.400000</td>\n",
              "      <td>20</td>\n",
              "    </tr>\n",
              "    <tr>\n",
              "      <th>27</th>\n",
              "      <td>Brooklyn</td>\n",
              "      <td>3</td>\n",
              "      <td>04</td>\n",
              "      <td>3230.309136</td>\n",
              "      <td>15</td>\n",
              "    </tr>\n",
              "    <tr>\n",
              "      <th>28</th>\n",
              "      <td>Brooklyn</td>\n",
              "      <td>3</td>\n",
              "      <td>05</td>\n",
              "      <td>4640.654074</td>\n",
              "      <td>21</td>\n",
              "    </tr>\n",
              "    <tr>\n",
              "      <th>29</th>\n",
              "      <td>Brooklyn</td>\n",
              "      <td>3</td>\n",
              "      <td>06</td>\n",
              "      <td>2502.728186</td>\n",
              "      <td>12</td>\n",
              "    </tr>\n",
              "    <tr>\n",
              "      <th>30</th>\n",
              "      <td>Brooklyn</td>\n",
              "      <td>3</td>\n",
              "      <td>07</td>\n",
              "      <td>3352.908578</td>\n",
              "      <td>15</td>\n",
              "    </tr>\n",
              "    <tr>\n",
              "      <th>31</th>\n",
              "      <td>Brooklyn</td>\n",
              "      <td>3</td>\n",
              "      <td>08</td>\n",
              "      <td>2845.687901</td>\n",
              "      <td>13</td>\n",
              "    </tr>\n",
              "    <tr>\n",
              "      <th>32</th>\n",
              "      <td>Brooklyn</td>\n",
              "      <td>3</td>\n",
              "      <td>09</td>\n",
              "      <td>3190.817574</td>\n",
              "      <td>15</td>\n",
              "    </tr>\n",
              "    <tr>\n",
              "      <th>33</th>\n",
              "      <td>Brooklyn</td>\n",
              "      <td>3</td>\n",
              "      <td>10</td>\n",
              "      <td>3342.574328</td>\n",
              "      <td>15</td>\n",
              "    </tr>\n",
              "    <tr>\n",
              "      <th>34</th>\n",
              "      <td>Brooklyn</td>\n",
              "      <td>3</td>\n",
              "      <td>11</td>\n",
              "      <td>4961.332353</td>\n",
              "      <td>23</td>\n",
              "    </tr>\n",
              "    <tr>\n",
              "      <th>35</th>\n",
              "      <td>Brooklyn</td>\n",
              "      <td>3</td>\n",
              "      <td>12</td>\n",
              "      <td>5828.264951</td>\n",
              "      <td>26</td>\n",
              "    </tr>\n",
              "    <tr>\n",
              "      <th>36</th>\n",
              "      <td>Brooklyn</td>\n",
              "      <td>3</td>\n",
              "      <td>13</td>\n",
              "      <td>2229.461728</td>\n",
              "      <td>10</td>\n",
              "    </tr>\n",
              "    <tr>\n",
              "      <th>37</th>\n",
              "      <td>Brooklyn</td>\n",
              "      <td>3</td>\n",
              "      <td>14</td>\n",
              "      <td>4966.869802</td>\n",
              "      <td>23</td>\n",
              "    </tr>\n",
              "    <tr>\n",
              "      <th>38</th>\n",
              "      <td>Brooklyn</td>\n",
              "      <td>3</td>\n",
              "      <td>15</td>\n",
              "      <td>4747.046287</td>\n",
              "      <td>22</td>\n",
              "    </tr>\n",
              "    <tr>\n",
              "      <th>39</th>\n",
              "      <td>Brooklyn</td>\n",
              "      <td>3</td>\n",
              "      <td>16</td>\n",
              "      <td>2189.822277</td>\n",
              "      <td>10</td>\n",
              "    </tr>\n",
              "    <tr>\n",
              "      <th>40</th>\n",
              "      <td>Brooklyn</td>\n",
              "      <td>3</td>\n",
              "      <td>17</td>\n",
              "      <td>4720.567327</td>\n",
              "      <td>21</td>\n",
              "    </tr>\n",
              "    <tr>\n",
              "      <th>41</th>\n",
              "      <td>Brooklyn</td>\n",
              "      <td>3</td>\n",
              "      <td>18</td>\n",
              "      <td>5544.201241</td>\n",
              "      <td>25</td>\n",
              "    </tr>\n",
              "    <tr>\n",
              "      <th>42</th>\n",
              "      <td>Queens</td>\n",
              "      <td>4</td>\n",
              "      <td>01</td>\n",
              "      <td>4568.468305</td>\n",
              "      <td>21</td>\n",
              "    </tr>\n",
              "    <tr>\n",
              "      <th>43</th>\n",
              "      <td>Queens</td>\n",
              "      <td>4</td>\n",
              "      <td>02</td>\n",
              "      <td>2830.204187</td>\n",
              "      <td>13</td>\n",
              "    </tr>\n",
              "    <tr>\n",
              "      <th>44</th>\n",
              "      <td>Queens</td>\n",
              "      <td>4</td>\n",
              "      <td>03</td>\n",
              "      <td>4789.291626</td>\n",
              "      <td>22</td>\n",
              "    </tr>\n",
              "    <tr>\n",
              "      <th>45</th>\n",
              "      <td>Queens</td>\n",
              "      <td>4</td>\n",
              "      <td>04</td>\n",
              "      <td>4204.518473</td>\n",
              "      <td>19</td>\n",
              "    </tr>\n",
              "    <tr>\n",
              "      <th>46</th>\n",
              "      <td>Queens</td>\n",
              "      <td>4</td>\n",
              "      <td>05</td>\n",
              "      <td>4905.951232</td>\n",
              "      <td>22</td>\n",
              "    </tr>\n",
              "    <tr>\n",
              "      <th>47</th>\n",
              "      <td>Queens</td>\n",
              "      <td>4</td>\n",
              "      <td>06</td>\n",
              "      <td>2884.821429</td>\n",
              "      <td>13</td>\n",
              "    </tr>\n",
              "    <tr>\n",
              "      <th>48</th>\n",
              "      <td>Queens</td>\n",
              "      <td>4</td>\n",
              "      <td>07</td>\n",
              "      <td>6431.688107</td>\n",
              "      <td>29</td>\n",
              "    </tr>\n",
              "    <tr>\n",
              "      <th>49</th>\n",
              "      <td>Queens</td>\n",
              "      <td>4</td>\n",
              "      <td>08</td>\n",
              "      <td>3666.370874</td>\n",
              "      <td>17</td>\n",
              "    </tr>\n",
              "    <tr>\n",
              "      <th>50</th>\n",
              "      <td>Queens</td>\n",
              "      <td>4</td>\n",
              "      <td>09</td>\n",
              "      <td>4084.060345</td>\n",
              "      <td>19</td>\n",
              "    </tr>\n",
              "    <tr>\n",
              "      <th>51</th>\n",
              "      <td>Queens</td>\n",
              "      <td>4</td>\n",
              "      <td>10</td>\n",
              "      <td>3949.136010</td>\n",
              "      <td>18</td>\n",
              "    </tr>\n",
              "    <tr>\n",
              "      <th>52</th>\n",
              "      <td>Queens</td>\n",
              "      <td>4</td>\n",
              "      <td>11</td>\n",
              "      <td>3188.377427</td>\n",
              "      <td>15</td>\n",
              "    </tr>\n",
              "    <tr>\n",
              "      <th>53</th>\n",
              "      <td>Queens</td>\n",
              "      <td>4</td>\n",
              "      <td>12</td>\n",
              "      <td>6962.491019</td>\n",
              "      <td>31</td>\n",
              "    </tr>\n",
              "    <tr>\n",
              "      <th>54</th>\n",
              "      <td>Queens</td>\n",
              "      <td>4</td>\n",
              "      <td>13</td>\n",
              "      <td>5787.649148</td>\n",
              "      <td>26</td>\n",
              "    </tr>\n",
              "    <tr>\n",
              "      <th>55</th>\n",
              "      <td>Queens</td>\n",
              "      <td>4</td>\n",
              "      <td>14</td>\n",
              "      <td>2915.089781</td>\n",
              "      <td>13</td>\n",
              "    </tr>\n",
              "    <tr>\n",
              "      <th>56</th>\n",
              "      <td>Queens</td>\n",
              "      <td>4</td>\n",
              "      <td>7A</td>\n",
              "      <td>4371.694147</td>\n",
              "      <td>20</td>\n",
              "    </tr>\n",
              "    <tr>\n",
              "      <th>57</th>\n",
              "      <td>Staten Island</td>\n",
              "      <td>5</td>\n",
              "      <td>01</td>\n",
              "      <td>5360.826683</td>\n",
              "      <td>24</td>\n",
              "    </tr>\n",
              "    <tr>\n",
              "      <th>58</th>\n",
              "      <td>Staten Island</td>\n",
              "      <td>5</td>\n",
              "      <td>02</td>\n",
              "      <td>4412.305036</td>\n",
              "      <td>20</td>\n",
              "    </tr>\n",
              "    <tr>\n",
              "      <th>59</th>\n",
              "      <td>Staten Island</td>\n",
              "      <td>5</td>\n",
              "      <td>03</td>\n",
              "      <td>5810.388462</td>\n",
              "      <td>26</td>\n",
              "    </tr>\n",
              "  </tbody>\n",
              "</table>\n",
              "</div>\n",
              "    <div class=\"colab-df-buttons\">\n",
              "\n",
              "  <div class=\"colab-df-container\">\n",
              "    <button class=\"colab-df-convert\" onclick=\"convertToInteractive('df-dd1c453b-425a-45cc-b259-131d29adfe8f')\"\n",
              "            title=\"Convert this dataframe to an interactive table.\"\n",
              "            style=\"display:none;\">\n",
              "\n",
              "  <svg xmlns=\"http://www.w3.org/2000/svg\" height=\"24px\" viewBox=\"0 -960 960 960\">\n",
              "    <path d=\"M120-120v-720h720v720H120Zm60-500h600v-160H180v160Zm220 220h160v-160H400v160Zm0 220h160v-160H400v160ZM180-400h160v-160H180v160Zm440 0h160v-160H620v160ZM180-180h160v-160H180v160Zm440 0h160v-160H620v160Z\"/>\n",
              "  </svg>\n",
              "    </button>\n",
              "\n",
              "  <style>\n",
              "    .colab-df-container {\n",
              "      display:flex;\n",
              "      gap: 12px;\n",
              "    }\n",
              "\n",
              "    .colab-df-convert {\n",
              "      background-color: #E8F0FE;\n",
              "      border: none;\n",
              "      border-radius: 50%;\n",
              "      cursor: pointer;\n",
              "      display: none;\n",
              "      fill: #1967D2;\n",
              "      height: 32px;\n",
              "      padding: 0 0 0 0;\n",
              "      width: 32px;\n",
              "    }\n",
              "\n",
              "    .colab-df-convert:hover {\n",
              "      background-color: #E2EBFA;\n",
              "      box-shadow: 0px 1px 2px rgba(60, 64, 67, 0.3), 0px 1px 3px 1px rgba(60, 64, 67, 0.15);\n",
              "      fill: #174EA6;\n",
              "    }\n",
              "\n",
              "    .colab-df-buttons div {\n",
              "      margin-bottom: 4px;\n",
              "    }\n",
              "\n",
              "    [theme=dark] .colab-df-convert {\n",
              "      background-color: #3B4455;\n",
              "      fill: #D2E3FC;\n",
              "    }\n",
              "\n",
              "    [theme=dark] .colab-df-convert:hover {\n",
              "      background-color: #434B5C;\n",
              "      box-shadow: 0px 1px 3px 1px rgba(0, 0, 0, 0.15);\n",
              "      filter: drop-shadow(0px 1px 2px rgba(0, 0, 0, 0.3));\n",
              "      fill: #FFFFFF;\n",
              "    }\n",
              "  </style>\n",
              "\n",
              "    <script>\n",
              "      const buttonEl =\n",
              "        document.querySelector('#df-dd1c453b-425a-45cc-b259-131d29adfe8f button.colab-df-convert');\n",
              "      buttonEl.style.display =\n",
              "        google.colab.kernel.accessAllowed ? 'block' : 'none';\n",
              "\n",
              "      async function convertToInteractive(key) {\n",
              "        const element = document.querySelector('#df-dd1c453b-425a-45cc-b259-131d29adfe8f');\n",
              "        const dataTable =\n",
              "          await google.colab.kernel.invokeFunction('convertToInteractive',\n",
              "                                                    [key], {});\n",
              "        if (!dataTable) return;\n",
              "\n",
              "        const docLinkHtml = 'Like what you see? Visit the ' +\n",
              "          '<a target=\"_blank\" href=https://colab.research.google.com/notebooks/data_table.ipynb>data table notebook</a>'\n",
              "          + ' to learn more about interactive tables.';\n",
              "        element.innerHTML = '';\n",
              "        dataTable['output_type'] = 'display_data';\n",
              "        await google.colab.output.renderOutput(dataTable, element);\n",
              "        const docLink = document.createElement('div');\n",
              "        docLink.innerHTML = docLinkHtml;\n",
              "        element.appendChild(docLink);\n",
              "      }\n",
              "    </script>\n",
              "  </div>\n",
              "\n",
              "\n",
              "<div id=\"df-ebfac29e-94c3-4f56-a600-38eb440fe51c\">\n",
              "  <button class=\"colab-df-quickchart\" onclick=\"quickchart('df-ebfac29e-94c3-4f56-a600-38eb440fe51c')\"\n",
              "            title=\"Suggest charts\"\n",
              "            style=\"display:none;\">\n",
              "\n",
              "<svg xmlns=\"http://www.w3.org/2000/svg\" height=\"24px\"viewBox=\"0 0 24 24\"\n",
              "     width=\"24px\">\n",
              "    <g>\n",
              "        <path d=\"M19 3H5c-1.1 0-2 .9-2 2v14c0 1.1.9 2 2 2h14c1.1 0 2-.9 2-2V5c0-1.1-.9-2-2-2zM9 17H7v-7h2v7zm4 0h-2V7h2v10zm4 0h-2v-4h2v4z\"/>\n",
              "    </g>\n",
              "</svg>\n",
              "  </button>\n",
              "\n",
              "<style>\n",
              "  .colab-df-quickchart {\n",
              "      --bg-color: #E8F0FE;\n",
              "      --fill-color: #1967D2;\n",
              "      --hover-bg-color: #E2EBFA;\n",
              "      --hover-fill-color: #174EA6;\n",
              "      --disabled-fill-color: #AAA;\n",
              "      --disabled-bg-color: #DDD;\n",
              "  }\n",
              "\n",
              "  [theme=dark] .colab-df-quickchart {\n",
              "      --bg-color: #3B4455;\n",
              "      --fill-color: #D2E3FC;\n",
              "      --hover-bg-color: #434B5C;\n",
              "      --hover-fill-color: #FFFFFF;\n",
              "      --disabled-bg-color: #3B4455;\n",
              "      --disabled-fill-color: #666;\n",
              "  }\n",
              "\n",
              "  .colab-df-quickchart {\n",
              "    background-color: var(--bg-color);\n",
              "    border: none;\n",
              "    border-radius: 50%;\n",
              "    cursor: pointer;\n",
              "    display: none;\n",
              "    fill: var(--fill-color);\n",
              "    height: 32px;\n",
              "    padding: 0;\n",
              "    width: 32px;\n",
              "  }\n",
              "\n",
              "  .colab-df-quickchart:hover {\n",
              "    background-color: var(--hover-bg-color);\n",
              "    box-shadow: 0 1px 2px rgba(60, 64, 67, 0.3), 0 1px 3px 1px rgba(60, 64, 67, 0.15);\n",
              "    fill: var(--button-hover-fill-color);\n",
              "  }\n",
              "\n",
              "  .colab-df-quickchart-complete:disabled,\n",
              "  .colab-df-quickchart-complete:disabled:hover {\n",
              "    background-color: var(--disabled-bg-color);\n",
              "    fill: var(--disabled-fill-color);\n",
              "    box-shadow: none;\n",
              "  }\n",
              "\n",
              "  .colab-df-spinner {\n",
              "    border: 2px solid var(--fill-color);\n",
              "    border-color: transparent;\n",
              "    border-bottom-color: var(--fill-color);\n",
              "    animation:\n",
              "      spin 1s steps(1) infinite;\n",
              "  }\n",
              "\n",
              "  @keyframes spin {\n",
              "    0% {\n",
              "      border-color: transparent;\n",
              "      border-bottom-color: var(--fill-color);\n",
              "      border-left-color: var(--fill-color);\n",
              "    }\n",
              "    20% {\n",
              "      border-color: transparent;\n",
              "      border-left-color: var(--fill-color);\n",
              "      border-top-color: var(--fill-color);\n",
              "    }\n",
              "    30% {\n",
              "      border-color: transparent;\n",
              "      border-left-color: var(--fill-color);\n",
              "      border-top-color: var(--fill-color);\n",
              "      border-right-color: var(--fill-color);\n",
              "    }\n",
              "    40% {\n",
              "      border-color: transparent;\n",
              "      border-right-color: var(--fill-color);\n",
              "      border-top-color: var(--fill-color);\n",
              "    }\n",
              "    60% {\n",
              "      border-color: transparent;\n",
              "      border-right-color: var(--fill-color);\n",
              "    }\n",
              "    80% {\n",
              "      border-color: transparent;\n",
              "      border-right-color: var(--fill-color);\n",
              "      border-bottom-color: var(--fill-color);\n",
              "    }\n",
              "    90% {\n",
              "      border-color: transparent;\n",
              "      border-bottom-color: var(--fill-color);\n",
              "    }\n",
              "  }\n",
              "</style>\n",
              "\n",
              "  <script>\n",
              "    async function quickchart(key) {\n",
              "      const quickchartButtonEl =\n",
              "        document.querySelector('#' + key + ' button');\n",
              "      quickchartButtonEl.disabled = true;  // To prevent multiple clicks.\n",
              "      quickchartButtonEl.classList.add('colab-df-spinner');\n",
              "      try {\n",
              "        const charts = await google.colab.kernel.invokeFunction(\n",
              "            'suggestCharts', [key], {});\n",
              "      } catch (error) {\n",
              "        console.error('Error during call to suggestCharts:', error);\n",
              "      }\n",
              "      quickchartButtonEl.classList.remove('colab-df-spinner');\n",
              "      quickchartButtonEl.classList.add('colab-df-quickchart-complete');\n",
              "    }\n",
              "    (() => {\n",
              "      let quickchartButtonEl =\n",
              "        document.querySelector('#df-ebfac29e-94c3-4f56-a600-38eb440fe51c button');\n",
              "      quickchartButtonEl.style.display =\n",
              "        google.colab.kernel.accessAllowed ? 'block' : 'none';\n",
              "    })();\n",
              "  </script>\n",
              "</div>\n",
              "\n",
              "  <div id=\"id_5f178536-0732-4d1b-bf7f-70fe133ec499\">\n",
              "    <style>\n",
              "      .colab-df-generate {\n",
              "        background-color: #E8F0FE;\n",
              "        border: none;\n",
              "        border-radius: 50%;\n",
              "        cursor: pointer;\n",
              "        display: none;\n",
              "        fill: #1967D2;\n",
              "        height: 32px;\n",
              "        padding: 0 0 0 0;\n",
              "        width: 32px;\n",
              "      }\n",
              "\n",
              "      .colab-df-generate:hover {\n",
              "        background-color: #E2EBFA;\n",
              "        box-shadow: 0px 1px 2px rgba(60, 64, 67, 0.3), 0px 1px 3px 1px rgba(60, 64, 67, 0.15);\n",
              "        fill: #174EA6;\n",
              "      }\n",
              "\n",
              "      [theme=dark] .colab-df-generate {\n",
              "        background-color: #3B4455;\n",
              "        fill: #D2E3FC;\n",
              "      }\n",
              "\n",
              "      [theme=dark] .colab-df-generate:hover {\n",
              "        background-color: #434B5C;\n",
              "        box-shadow: 0px 1px 3px 1px rgba(0, 0, 0, 0.15);\n",
              "        filter: drop-shadow(0px 1px 2px rgba(0, 0, 0, 0.3));\n",
              "        fill: #FFFFFF;\n",
              "      }\n",
              "    </style>\n",
              "    <button class=\"colab-df-generate\" onclick=\"generateWithVariable('groups')\"\n",
              "            title=\"Generate code using this dataframe.\"\n",
              "            style=\"display:none;\">\n",
              "\n",
              "  <svg xmlns=\"http://www.w3.org/2000/svg\" height=\"24px\"viewBox=\"0 0 24 24\"\n",
              "       width=\"24px\">\n",
              "    <path d=\"M7,19H8.4L18.45,9,17,7.55,7,17.6ZM5,21V16.75L18.45,3.32a2,2,0,0,1,2.83,0l1.4,1.43a1.91,1.91,0,0,1,.58,1.4,1.91,1.91,0,0,1-.58,1.4L9.25,21ZM18.45,9,17,7.55Zm-12,3A5.31,5.31,0,0,0,4.9,8.1,5.31,5.31,0,0,0,1,6.5,5.31,5.31,0,0,0,4.9,4.9,5.31,5.31,0,0,0,6.5,1,5.31,5.31,0,0,0,8.1,4.9,5.31,5.31,0,0,0,12,6.5,5.46,5.46,0,0,0,6.5,12Z\"/>\n",
              "  </svg>\n",
              "    </button>\n",
              "    <script>\n",
              "      (() => {\n",
              "      const buttonEl =\n",
              "        document.querySelector('#id_5f178536-0732-4d1b-bf7f-70fe133ec499 button.colab-df-generate');\n",
              "      buttonEl.style.display =\n",
              "        google.colab.kernel.accessAllowed ? 'block' : 'none';\n",
              "\n",
              "      buttonEl.onclick = () => {\n",
              "        google.colab.notebook.generateWithVariable('groups');\n",
              "      }\n",
              "      })();\n",
              "    </script>\n",
              "  </div>\n",
              "\n",
              "    </div>\n",
              "  </div>\n"
            ],
            "application/vnd.google.colaboratory.intrinsic+json": {
              "type": "dataframe",
              "variable_name": "groups",
              "summary": "{\n  \"name\": \"groups\",\n  \"rows\": 60,\n  \"fields\": [\n    {\n      \"column\": \"borough_name\",\n      \"properties\": {\n        \"dtype\": \"category\",\n        \"num_unique_values\": 5,\n        \"samples\": [\n          \"Bronx\",\n          \"Staten Island\",\n          \"Brooklyn\"\n        ],\n        \"semantic_type\": \"\",\n        \"description\": \"\"\n      }\n    },\n    {\n      \"column\": \"borough_id\",\n      \"properties\": {\n        \"dtype\": \"int32\",\n        \"num_unique_values\": 5,\n        \"samples\": [\n          2,\n          5,\n          3\n        ],\n        \"semantic_type\": \"\",\n        \"description\": \"\"\n      }\n    },\n    {\n      \"column\": \"community_district\",\n      \"properties\": {\n        \"dtype\": \"category\",\n        \"num_unique_values\": 19,\n        \"samples\": [\n          \"01\",\n          \"06\",\n          \"12\"\n        ],\n        \"semantic_type\": \"\",\n        \"description\": \"\"\n      }\n    },\n    {\n      \"column\": \"mean(refuse_tons)\",\n      \"properties\": {\n        \"dtype\": \"number\",\n        \"std\": 1358.8714620824294,\n        \"min\": 1069.761893203884,\n        \"max\": 6962.491019417472,\n        \"num_unique_values\": 60,\n        \"samples\": [\n          1069.761893203884,\n          3254.282850241547,\n          2229.461728395061\n        ],\n        \"semantic_type\": \"\",\n        \"description\": \"\"\n      }\n    },\n    {\n      \"column\": \"bins_needed\",\n      \"properties\": {\n        \"dtype\": \"number\",\n        \"std\": 6,\n        \"min\": 5,\n        \"max\": 31,\n        \"num_unique_values\": 23,\n        \"samples\": [\n          14,\n          7,\n          5\n        ],\n        \"semantic_type\": \"\",\n        \"description\": \"\"\n      }\n    }\n  ]\n}"
            }
          },
          "metadata": {},
          "execution_count": 37
        }
      ]
    },
    {
      "cell_type": "code",
      "source": [
        "# collection point\n",
        "import geopandas as gpd\n",
        "\n",
        "# Convert to GeoDataFrame\n",
        "gdf = gpd.GeoDataFrame(groups, geometry=gpd.points_from_xy(groups['longitude'], groups['latitude']))\n",
        "\n",
        "# Plot Heatmap\n",
        "world = gpd.read_file(gpd.datasets.get_path('naturalearth_lowres'))\n",
        "fig, ax = plt.subplots(figsize=(10, 7))\n",
        "world.plot(ax=ax, color=\"white\", edgecolor=\"black\")\n",
        "gdf.plot(ax=ax, markersize=groups['bins_needed']*10, color=\"red\", alpha=0.5)\n",
        "\n",
        "plt.title(\"Waste Collection Points Heatmap\")\n",
        "plt.show()"
      ],
      "metadata": {
        "colab": {
          "base_uri": "https://localhost:8080/",
          "height": 561
        },
        "id": "V29RSHWxQkn-",
        "outputId": "2fef83d5-ede5-4bb7-d390-eab25d06e3d9"
      },
      "execution_count": 36,
      "outputs": [
        {
          "output_type": "error",
          "ename": "KeyError",
          "evalue": "'longitude'",
          "traceback": [
            "\u001b[0;31m---------------------------------------------------------------------------\u001b[0m",
            "\u001b[0;31mKeyError\u001b[0m                                  Traceback (most recent call last)",
            "\u001b[0;32m/usr/local/lib/python3.11/dist-packages/pandas/core/indexes/base.py\u001b[0m in \u001b[0;36mget_loc\u001b[0;34m(self, key)\u001b[0m\n\u001b[1;32m   3804\u001b[0m         \u001b[0;32mtry\u001b[0m\u001b[0;34m:\u001b[0m\u001b[0;34m\u001b[0m\u001b[0;34m\u001b[0m\u001b[0m\n\u001b[0;32m-> 3805\u001b[0;31m             \u001b[0;32mreturn\u001b[0m \u001b[0mself\u001b[0m\u001b[0;34m.\u001b[0m\u001b[0m_engine\u001b[0m\u001b[0;34m.\u001b[0m\u001b[0mget_loc\u001b[0m\u001b[0;34m(\u001b[0m\u001b[0mcasted_key\u001b[0m\u001b[0;34m)\u001b[0m\u001b[0;34m\u001b[0m\u001b[0;34m\u001b[0m\u001b[0m\n\u001b[0m\u001b[1;32m   3806\u001b[0m         \u001b[0;32mexcept\u001b[0m \u001b[0mKeyError\u001b[0m \u001b[0;32mas\u001b[0m \u001b[0merr\u001b[0m\u001b[0;34m:\u001b[0m\u001b[0;34m\u001b[0m\u001b[0;34m\u001b[0m\u001b[0m\n",
            "\u001b[0;32mindex.pyx\u001b[0m in \u001b[0;36mpandas._libs.index.IndexEngine.get_loc\u001b[0;34m()\u001b[0m\n",
            "\u001b[0;32mindex.pyx\u001b[0m in \u001b[0;36mpandas._libs.index.IndexEngine.get_loc\u001b[0;34m()\u001b[0m\n",
            "\u001b[0;32mpandas/_libs/hashtable_class_helper.pxi\u001b[0m in \u001b[0;36mpandas._libs.hashtable.PyObjectHashTable.get_item\u001b[0;34m()\u001b[0m\n",
            "\u001b[0;32mpandas/_libs/hashtable_class_helper.pxi\u001b[0m in \u001b[0;36mpandas._libs.hashtable.PyObjectHashTable.get_item\u001b[0;34m()\u001b[0m\n",
            "\u001b[0;31mKeyError\u001b[0m: 'longitude'",
            "\nThe above exception was the direct cause of the following exception:\n",
            "\u001b[0;31mKeyError\u001b[0m                                  Traceback (most recent call last)",
            "\u001b[0;32m<ipython-input-36-b126d329cfc8>\u001b[0m in \u001b[0;36m<cell line: 0>\u001b[0;34m()\u001b[0m\n\u001b[1;32m      3\u001b[0m \u001b[0;34m\u001b[0m\u001b[0m\n\u001b[1;32m      4\u001b[0m \u001b[0;31m# Convert to GeoDataFrame\u001b[0m\u001b[0;34m\u001b[0m\u001b[0;34m\u001b[0m\u001b[0m\n\u001b[0;32m----> 5\u001b[0;31m \u001b[0mgdf\u001b[0m \u001b[0;34m=\u001b[0m \u001b[0mgpd\u001b[0m\u001b[0;34m.\u001b[0m\u001b[0mGeoDataFrame\u001b[0m\u001b[0;34m(\u001b[0m\u001b[0mgroups\u001b[0m\u001b[0;34m,\u001b[0m \u001b[0mgeometry\u001b[0m\u001b[0;34m=\u001b[0m\u001b[0mgpd\u001b[0m\u001b[0;34m.\u001b[0m\u001b[0mpoints_from_xy\u001b[0m\u001b[0;34m(\u001b[0m\u001b[0mgroups\u001b[0m\u001b[0;34m[\u001b[0m\u001b[0;34m'longitude'\u001b[0m\u001b[0;34m]\u001b[0m\u001b[0;34m,\u001b[0m \u001b[0mgroups\u001b[0m\u001b[0;34m[\u001b[0m\u001b[0;34m'latitude'\u001b[0m\u001b[0;34m]\u001b[0m\u001b[0;34m)\u001b[0m\u001b[0;34m)\u001b[0m\u001b[0;34m\u001b[0m\u001b[0;34m\u001b[0m\u001b[0m\n\u001b[0m\u001b[1;32m      6\u001b[0m \u001b[0;34m\u001b[0m\u001b[0m\n\u001b[1;32m      7\u001b[0m \u001b[0;31m# Plot Heatmap\u001b[0m\u001b[0;34m\u001b[0m\u001b[0;34m\u001b[0m\u001b[0m\n",
            "\u001b[0;32m/usr/local/lib/python3.11/dist-packages/pandas/core/frame.py\u001b[0m in \u001b[0;36m__getitem__\u001b[0;34m(self, key)\u001b[0m\n\u001b[1;32m   4100\u001b[0m             \u001b[0;32mif\u001b[0m \u001b[0mself\u001b[0m\u001b[0;34m.\u001b[0m\u001b[0mcolumns\u001b[0m\u001b[0;34m.\u001b[0m\u001b[0mnlevels\u001b[0m \u001b[0;34m>\u001b[0m \u001b[0;36m1\u001b[0m\u001b[0;34m:\u001b[0m\u001b[0;34m\u001b[0m\u001b[0;34m\u001b[0m\u001b[0m\n\u001b[1;32m   4101\u001b[0m                 \u001b[0;32mreturn\u001b[0m \u001b[0mself\u001b[0m\u001b[0;34m.\u001b[0m\u001b[0m_getitem_multilevel\u001b[0m\u001b[0;34m(\u001b[0m\u001b[0mkey\u001b[0m\u001b[0;34m)\u001b[0m\u001b[0;34m\u001b[0m\u001b[0;34m\u001b[0m\u001b[0m\n\u001b[0;32m-> 4102\u001b[0;31m             \u001b[0mindexer\u001b[0m \u001b[0;34m=\u001b[0m \u001b[0mself\u001b[0m\u001b[0;34m.\u001b[0m\u001b[0mcolumns\u001b[0m\u001b[0;34m.\u001b[0m\u001b[0mget_loc\u001b[0m\u001b[0;34m(\u001b[0m\u001b[0mkey\u001b[0m\u001b[0;34m)\u001b[0m\u001b[0;34m\u001b[0m\u001b[0;34m\u001b[0m\u001b[0m\n\u001b[0m\u001b[1;32m   4103\u001b[0m             \u001b[0;32mif\u001b[0m \u001b[0mis_integer\u001b[0m\u001b[0;34m(\u001b[0m\u001b[0mindexer\u001b[0m\u001b[0;34m)\u001b[0m\u001b[0;34m:\u001b[0m\u001b[0;34m\u001b[0m\u001b[0;34m\u001b[0m\u001b[0m\n\u001b[1;32m   4104\u001b[0m                 \u001b[0mindexer\u001b[0m \u001b[0;34m=\u001b[0m \u001b[0;34m[\u001b[0m\u001b[0mindexer\u001b[0m\u001b[0;34m]\u001b[0m\u001b[0;34m\u001b[0m\u001b[0;34m\u001b[0m\u001b[0m\n",
            "\u001b[0;32m/usr/local/lib/python3.11/dist-packages/pandas/core/indexes/base.py\u001b[0m in \u001b[0;36mget_loc\u001b[0;34m(self, key)\u001b[0m\n\u001b[1;32m   3810\u001b[0m             ):\n\u001b[1;32m   3811\u001b[0m                 \u001b[0;32mraise\u001b[0m \u001b[0mInvalidIndexError\u001b[0m\u001b[0;34m(\u001b[0m\u001b[0mkey\u001b[0m\u001b[0;34m)\u001b[0m\u001b[0;34m\u001b[0m\u001b[0;34m\u001b[0m\u001b[0m\n\u001b[0;32m-> 3812\u001b[0;31m             \u001b[0;32mraise\u001b[0m \u001b[0mKeyError\u001b[0m\u001b[0;34m(\u001b[0m\u001b[0mkey\u001b[0m\u001b[0;34m)\u001b[0m \u001b[0;32mfrom\u001b[0m \u001b[0merr\u001b[0m\u001b[0;34m\u001b[0m\u001b[0;34m\u001b[0m\u001b[0m\n\u001b[0m\u001b[1;32m   3813\u001b[0m         \u001b[0;32mexcept\u001b[0m \u001b[0mTypeError\u001b[0m\u001b[0;34m:\u001b[0m\u001b[0;34m\u001b[0m\u001b[0;34m\u001b[0m\u001b[0m\n\u001b[1;32m   3814\u001b[0m             \u001b[0;31m# If we have a listlike key, _check_indexing_error will raise\u001b[0m\u001b[0;34m\u001b[0m\u001b[0;34m\u001b[0m\u001b[0m\n",
            "\u001b[0;31mKeyError\u001b[0m: 'longitude'"
          ]
        }
      ]
    }
  ]
}