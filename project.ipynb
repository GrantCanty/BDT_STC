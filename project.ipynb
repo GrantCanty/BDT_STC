{
  "nbformat": 4,
  "nbformat_minor": 0,
  "metadata": {
    "colab": {
      "provenance": [],
      "collapsed_sections": [
        "me_vG3OPjvMt",
        "O-6yNFg6jypx",
        "RcFKCshBj4CL",
        "_b6Vgh1xaqE0",
        "FPa0zISypAH3",
        "H4p631oWdXVm",
        "5Wv0zQKu52-X",
        "r7w-zZ5ZaLah",
        "jFZl6mMT3ndy",
        "wxJKozWb8548",
        "_K9Z0Mmh1isY",
        "2WPo3SnjkYZK"
      ],
      "gpuType": "T4",
      "include_colab_link": true
    },
    "kernelspec": {
      "name": "python3",
      "display_name": "Python 3"
    },
    "language_info": {
      "name": "python"
    },
    "accelerator": "GPU"
  },
  "cells": [
    {
      "cell_type": "markdown",
      "metadata": {
        "id": "view-in-github",
        "colab_type": "text"
      },
      "source": [
        "<a href=\"https://colab.research.google.com/github/GrantCanty/BDT_STC/blob/main/project.ipynb\" target=\"_parent\"><img src=\"https://colab.research.google.com/assets/colab-badge.svg\" alt=\"Open In Colab\"/></a>"
      ]
    },
    {
      "cell_type": "markdown",
      "source": [
        "#Getting Started"
      ],
      "metadata": {
        "id": "me_vG3OPjvMt"
      }
    },
    {
      "cell_type": "markdown",
      "source": [
        "##Import needed modules"
      ],
      "metadata": {
        "id": "O-6yNFg6jypx"
      }
    },
    {
      "cell_type": "code",
      "source": [
        "!pip install opencage\n",
        "!pip install pgeocode\n",
        "!pip install haversine\n",
        "!pip install pyvis"
      ],
      "metadata": {
        "colab": {
          "base_uri": "https://localhost:8080/"
        },
        "id": "aMGviaalXpkU",
        "outputId": "1bca5f02-7b0d-4430-a526-3cbf17f9ada2"
      },
      "execution_count": null,
      "outputs": [
        {
          "output_type": "stream",
          "name": "stdout",
          "text": [
            "Collecting opencage\n",
            "  Downloading opencage-3.0.4-py3-none-any.whl.metadata (7.7 kB)\n",
            "Requirement already satisfied: Requests>=2.31.0 in /usr/local/lib/python3.11/dist-packages (from opencage) (2.32.3)\n",
            "Collecting backoff>=2.2.1 (from opencage)\n",
            "  Downloading backoff-2.2.1-py3-none-any.whl.metadata (14 kB)\n",
            "Requirement already satisfied: tqdm>=4.66.4 in /usr/local/lib/python3.11/dist-packages (from opencage) (4.67.1)\n",
            "Requirement already satisfied: certifi>=2024.07.04 in /usr/local/lib/python3.11/dist-packages (from opencage) (2025.1.31)\n",
            "Requirement already satisfied: aiohttp>=3.10.5 in /usr/local/lib/python3.11/dist-packages (from opencage) (3.11.12)\n",
            "Requirement already satisfied: aiohappyeyeballs>=2.3.0 in /usr/local/lib/python3.11/dist-packages (from aiohttp>=3.10.5->opencage) (2.4.6)\n",
            "Requirement already satisfied: aiosignal>=1.1.2 in /usr/local/lib/python3.11/dist-packages (from aiohttp>=3.10.5->opencage) (1.3.2)\n",
            "Requirement already satisfied: attrs>=17.3.0 in /usr/local/lib/python3.11/dist-packages (from aiohttp>=3.10.5->opencage) (25.1.0)\n",
            "Requirement already satisfied: frozenlist>=1.1.1 in /usr/local/lib/python3.11/dist-packages (from aiohttp>=3.10.5->opencage) (1.5.0)\n",
            "Requirement already satisfied: multidict<7.0,>=4.5 in /usr/local/lib/python3.11/dist-packages (from aiohttp>=3.10.5->opencage) (6.1.0)\n",
            "Requirement already satisfied: propcache>=0.2.0 in /usr/local/lib/python3.11/dist-packages (from aiohttp>=3.10.5->opencage) (0.2.1)\n",
            "Requirement already satisfied: yarl<2.0,>=1.17.0 in /usr/local/lib/python3.11/dist-packages (from aiohttp>=3.10.5->opencage) (1.18.3)\n",
            "Requirement already satisfied: charset-normalizer<4,>=2 in /usr/local/lib/python3.11/dist-packages (from Requests>=2.31.0->opencage) (3.4.1)\n",
            "Requirement already satisfied: idna<4,>=2.5 in /usr/local/lib/python3.11/dist-packages (from Requests>=2.31.0->opencage) (3.10)\n",
            "Requirement already satisfied: urllib3<3,>=1.21.1 in /usr/local/lib/python3.11/dist-packages (from Requests>=2.31.0->opencage) (2.3.0)\n",
            "Downloading opencage-3.0.4-py3-none-any.whl (22 kB)\n",
            "Downloading backoff-2.2.1-py3-none-any.whl (15 kB)\n",
            "Installing collected packages: backoff, opencage\n",
            "Successfully installed backoff-2.2.1 opencage-3.0.4\n",
            "Collecting pgeocode\n",
            "  Downloading pgeocode-0.5.0-py3-none-any.whl.metadata (7.9 kB)\n",
            "Requirement already satisfied: requests in /usr/local/lib/python3.11/dist-packages (from pgeocode) (2.32.3)\n",
            "Requirement already satisfied: numpy in /usr/local/lib/python3.11/dist-packages (from pgeocode) (1.26.4)\n",
            "Requirement already satisfied: pandas in /usr/local/lib/python3.11/dist-packages (from pgeocode) (2.2.2)\n",
            "Requirement already satisfied: python-dateutil>=2.8.2 in /usr/local/lib/python3.11/dist-packages (from pandas->pgeocode) (2.8.2)\n",
            "Requirement already satisfied: pytz>=2020.1 in /usr/local/lib/python3.11/dist-packages (from pandas->pgeocode) (2025.1)\n",
            "Requirement already satisfied: tzdata>=2022.7 in /usr/local/lib/python3.11/dist-packages (from pandas->pgeocode) (2025.1)\n",
            "Requirement already satisfied: charset-normalizer<4,>=2 in /usr/local/lib/python3.11/dist-packages (from requests->pgeocode) (3.4.1)\n",
            "Requirement already satisfied: idna<4,>=2.5 in /usr/local/lib/python3.11/dist-packages (from requests->pgeocode) (3.10)\n",
            "Requirement already satisfied: urllib3<3,>=1.21.1 in /usr/local/lib/python3.11/dist-packages (from requests->pgeocode) (2.3.0)\n",
            "Requirement already satisfied: certifi>=2017.4.17 in /usr/local/lib/python3.11/dist-packages (from requests->pgeocode) (2025.1.31)\n",
            "Requirement already satisfied: six>=1.5 in /usr/local/lib/python3.11/dist-packages (from python-dateutil>=2.8.2->pandas->pgeocode) (1.17.0)\n",
            "Downloading pgeocode-0.5.0-py3-none-any.whl (9.8 kB)\n",
            "Installing collected packages: pgeocode\n",
            "Successfully installed pgeocode-0.5.0\n",
            "Collecting haversine\n",
            "  Downloading haversine-2.9.0-py2.py3-none-any.whl.metadata (5.8 kB)\n",
            "Downloading haversine-2.9.0-py2.py3-none-any.whl (7.7 kB)\n",
            "Installing collected packages: haversine\n",
            "Successfully installed haversine-2.9.0\n",
            "Collecting pyvis\n",
            "  Downloading pyvis-0.3.2-py3-none-any.whl.metadata (1.7 kB)\n",
            "Requirement already satisfied: ipython>=5.3.0 in /usr/local/lib/python3.11/dist-packages (from pyvis) (7.34.0)\n",
            "Requirement already satisfied: jinja2>=2.9.6 in /usr/local/lib/python3.11/dist-packages (from pyvis) (3.1.5)\n",
            "Requirement already satisfied: jsonpickle>=1.4.1 in /usr/local/lib/python3.11/dist-packages (from pyvis) (4.0.1)\n",
            "Requirement already satisfied: networkx>=1.11 in /usr/local/lib/python3.11/dist-packages (from pyvis) (3.4.2)\n",
            "Requirement already satisfied: setuptools>=18.5 in /usr/local/lib/python3.11/dist-packages (from ipython>=5.3.0->pyvis) (75.1.0)\n",
            "Collecting jedi>=0.16 (from ipython>=5.3.0->pyvis)\n",
            "  Downloading jedi-0.19.2-py2.py3-none-any.whl.metadata (22 kB)\n",
            "Requirement already satisfied: decorator in /usr/local/lib/python3.11/dist-packages (from ipython>=5.3.0->pyvis) (4.4.2)\n",
            "Requirement already satisfied: pickleshare in /usr/local/lib/python3.11/dist-packages (from ipython>=5.3.0->pyvis) (0.7.5)\n",
            "Requirement already satisfied: traitlets>=4.2 in /usr/local/lib/python3.11/dist-packages (from ipython>=5.3.0->pyvis) (5.7.1)\n",
            "Requirement already satisfied: prompt-toolkit!=3.0.0,!=3.0.1,<3.1.0,>=2.0.0 in /usr/local/lib/python3.11/dist-packages (from ipython>=5.3.0->pyvis) (3.0.50)\n",
            "Requirement already satisfied: pygments in /usr/local/lib/python3.11/dist-packages (from ipython>=5.3.0->pyvis) (2.18.0)\n",
            "Requirement already satisfied: backcall in /usr/local/lib/python3.11/dist-packages (from ipython>=5.3.0->pyvis) (0.2.0)\n",
            "Requirement already satisfied: matplotlib-inline in /usr/local/lib/python3.11/dist-packages (from ipython>=5.3.0->pyvis) (0.1.7)\n",
            "Requirement already satisfied: pexpect>4.3 in /usr/local/lib/python3.11/dist-packages (from ipython>=5.3.0->pyvis) (4.9.0)\n",
            "Requirement already satisfied: MarkupSafe>=2.0 in /usr/local/lib/python3.11/dist-packages (from jinja2>=2.9.6->pyvis) (3.0.2)\n",
            "Requirement already satisfied: parso<0.9.0,>=0.8.4 in /usr/local/lib/python3.11/dist-packages (from jedi>=0.16->ipython>=5.3.0->pyvis) (0.8.4)\n",
            "Requirement already satisfied: ptyprocess>=0.5 in /usr/local/lib/python3.11/dist-packages (from pexpect>4.3->ipython>=5.3.0->pyvis) (0.7.0)\n",
            "Requirement already satisfied: wcwidth in /usr/local/lib/python3.11/dist-packages (from prompt-toolkit!=3.0.0,!=3.0.1,<3.1.0,>=2.0.0->ipython>=5.3.0->pyvis) (0.2.13)\n",
            "Downloading pyvis-0.3.2-py3-none-any.whl (756 kB)\n",
            "\u001b[2K   \u001b[90m━━━━━━━━━━━━━━━━━━━━━━━━━━━━━━━━━━━━━━━━\u001b[0m \u001b[32m756.0/756.0 kB\u001b[0m \u001b[31m38.3 MB/s\u001b[0m eta \u001b[36m0:00:00\u001b[0m\n",
            "\u001b[?25hDownloading jedi-0.19.2-py2.py3-none-any.whl (1.6 MB)\n",
            "\u001b[2K   \u001b[90m━━━━━━━━━━━━━━━━━━━━━━━━━━━━━━━━━━━━━━━━\u001b[0m \u001b[32m1.6/1.6 MB\u001b[0m \u001b[31m52.3 MB/s\u001b[0m eta \u001b[36m0:00:00\u001b[0m\n",
            "\u001b[?25hInstalling collected packages: jedi, pyvis\n",
            "Successfully installed jedi-0.19.2 pyvis-0.3.2\n"
          ]
        }
      ]
    },
    {
      "cell_type": "code",
      "execution_count": null,
      "metadata": {
        "id": "iAw2eknPhuqc"
      },
      "outputs": [],
      "source": [
        "import duckdb\n",
        "from google.colab import drive\n",
        "import pandas as pd\n",
        "import calendar\n",
        "import gdown\n",
        "import matplotlib.pyplot as plt\n",
        "import seaborn as sns\n",
        "import re\n",
        "import pgeocode\n",
        "import time as t\n",
        "from opencage.geocoder import OpenCageGeocode\n",
        "import numpy as np\n",
        "from packaging import version\n",
        "import tensorflow as tf\n",
        "import sys\n",
        "import sklearn.preprocessing as pre\n",
        "\n",
        "assert version.parse(tf.__version__) >= version.parse(\"2.8.0\")\n",
        "import networkx\n",
        "import itertools\n",
        "import haversine as hs\n",
        "from haversine import Unit\n",
        "from pyvis.network import Network\n",
        "import json\n",
        "from networkx.readwrite import json_graph"
      ]
    },
    {
      "cell_type": "code",
      "source": [
        "if not tf.config.list_physical_devices('GPU'):\n",
        "    print(\"No GPU was detected. Neural nets can be very slow without a GPU.\")\n",
        "    if \"google.colab\" in sys.modules:\n",
        "        print(\"Go to Runtime > Change runtime and select a GPU hardware \"\n",
        "              \"accelerator.\")\n",
        "    if \"kaggle_secrets\" in sys.modules:\n",
        "        print(\"Go to Settings > Accelerator and select GPU.\")"
      ],
      "metadata": {
        "id": "F3opzYCW9vYE"
      },
      "execution_count": null,
      "outputs": []
    },
    {
      "cell_type": "markdown",
      "source": [
        "#Create data warehouse"
      ],
      "metadata": {
        "id": "RcFKCshBj4CL"
      }
    },
    {
      "cell_type": "markdown",
      "source": [
        "##Download files"
      ],
      "metadata": {
        "id": "Y2e07NAJ97N0"
      }
    },
    {
      "cell_type": "code",
      "source": [
        "SHARED_FOLDER_ID = \"13rT3mFZ2AKhQe3BOQkAxn8mnN3-kd3Yt\"\n",
        "gdown.download_folder(f'https://drive.google.com/drive/folders/{SHARED_FOLDER_ID}')\n",
        "conn = duckdb.connect('bdt_project/my_database.db')"
      ],
      "metadata": {
        "id": "STBjTsBRiWZH",
        "colab": {
          "base_uri": "https://localhost:8080/"
        },
        "outputId": "d7e3bf71-e27f-4112-859d-88deba797ea2"
      },
      "execution_count": null,
      "outputs": [
        {
          "output_type": "stream",
          "name": "stderr",
          "text": [
            "Retrieving folder contents\n"
          ]
        },
        {
          "output_type": "stream",
          "name": "stdout",
          "text": [
            "Processing file 15GNjvmlMb9bgIf6VFXlKDoiU-m1oo7Td 1-s2.0-S0303264718301333-main.pdf\n",
            "Processing file 1xczJQ7N_H_UrnMnmrT0NR0bZuLeZVAQZNWvgsUvmoEE BDT - Slide report template\n",
            "Processing file 1GCJjr8yJR23ZWTgM-gX5Z3FFQU42-v70 Borough_And_Community_District_Size.csv\n",
            "Processing file 1lMDe79IhRHAUN3tMVUgQcBbzqlcF50Gw Borough_And_Community_Zip.csv\n",
            "Processing file 1OAr8CDu9FRQ62HRzCgvHcvit9Cfpz4Mx DSNY_Frequencies_20250210.csv\n",
            "Processing file 1ov7qV3Pl1Qx9d4Gt9OGhh-NbQVBP_KMm DSNY_Garages_20250210.csv\n",
            "Processing file 1e_sRi1MpDGDQApu0641nGqHs0Nyfy-2j DSNY_Monthly_Tonnage_Data.csv\n",
            "Processing file 1TZ46-LAHdmNyt_ct4XIas9Ab_NlT3GZL DSNY_Special_Waste_Drop-off_Sites_20250204.csv\n",
            "Processing file 1cXXZSKWFNU2snujiczMLpifFkM5V8Ob_ Location_of_Disposal_Facilities_and_Sites_Used_for_DSNY-Managed_Waste_20250210.csv\n",
            "Processing file 11Ojm0_1719Oun3Mt-w9HYG1hogL9Dpny lstm_1.weights.h5\n",
            "Processing file 157qULRjbPksjBJYJE7L5ar0rAFqGhn5r model_architecture.json\n",
            "Processing file 1-47JasxsUfpjP6NDFrWzRugeXIq_JiZe my_database.db\n",
            "Processing file 1-5pMsQii9m8v0gunEwGMUmhhzTayEp4C my_database.db.wal\n",
            "Processing file 17kZ7i96GNCG-OkOdPf8FbiWX-I9Iooyp New_York_City_Population_by_Borough__1950_-_2040_20250204.csv\n",
            "Processing file 1t9IYm5ekME8iiLPRpQWA8AJRejLlSvna New_York_City_Population_By_Community_Districts_20250204.csv\n",
            "Processing file 1RvLyp4DW2gx_L0y6d8Q9N-X8DrmKhvOU non_scaled_test.csv\n",
            "Processing file 1njgBPWDGzw-Lmh-Y6Dq1HN_h4qBEWX3e NYC_Central_Park_weather_1869-2022.csv\n",
            "Processing file 13QI7r0Mu7qkGmZA22i_Zas5ou0Suz9D4 project.ipynb\n",
            "Processing file 1vp10FXPs9NAIDJ5Hda3uTAZ5WV9WM7Jg Public_Recycling_Bins_20250204.csv\n",
            "Processing file 1iIxXFSzpR-u9jFPisP_5r28K7YP3JcTy Recycling_Diversion_and_Capture_Rates_20250204.csv\n"
          ]
        },
        {
          "output_type": "stream",
          "name": "stderr",
          "text": [
            "Retrieving folder contents completed\n",
            "Building directory structure\n",
            "Building directory structure completed\n",
            "Downloading...\n",
            "From: https://drive.google.com/uc?id=15GNjvmlMb9bgIf6VFXlKDoiU-m1oo7Td\n",
            "To: /content/bdt_project/1-s2.0-S0303264718301333-main.pdf\n",
            "100%|██████████| 2.83M/2.83M [00:00<00:00, 105MB/s]\n",
            "Downloading...\n",
            "From (original): https://drive.google.com/uc?id=1xczJQ7N_H_UrnMnmrT0NR0bZuLeZVAQZNWvgsUvmoEE\n",
            "From (redirected): https://docs.google.com/presentation/d/1xczJQ7N_H_UrnMnmrT0NR0bZuLeZVAQZNWvgsUvmoEE/export?format=pptx\n",
            "To: /content/bdt_project/BDT - Slide report template\n",
            "265kB [00:00, 511kB/s]\n",
            "Downloading...\n",
            "From: https://drive.google.com/uc?id=1GCJjr8yJR23ZWTgM-gX5Z3FFQU42-v70\n",
            "To: /content/bdt_project/Borough_And_Community_District_Size.csv\n",
            "100%|██████████| 946/946 [00:00<00:00, 3.38MB/s]\n",
            "Downloading...\n",
            "From: https://drive.google.com/uc?id=1lMDe79IhRHAUN3tMVUgQcBbzqlcF50Gw\n",
            "To: /content/bdt_project/Borough_And_Community_Zip.csv\n",
            "100%|██████████| 1.20k/1.20k [00:00<00:00, 4.50MB/s]\n",
            "Downloading...\n",
            "From: https://drive.google.com/uc?id=1OAr8CDu9FRQ62HRzCgvHcvit9Cfpz4Mx\n",
            "To: /content/bdt_project/DSNY_Frequencies_20250210.csv\n",
            "100%|██████████| 16.1M/16.1M [00:00<00:00, 37.5MB/s]\n",
            "Downloading...\n",
            "From: https://drive.google.com/uc?id=1ov7qV3Pl1Qx9d4Gt9OGhh-NbQVBP_KMm\n",
            "To: /content/bdt_project/DSNY_Garages_20250210.csv\n",
            "100%|██████████| 9.91k/9.91k [00:00<00:00, 28.0MB/s]\n",
            "Downloading...\n",
            "From: https://drive.google.com/uc?id=1e_sRi1MpDGDQApu0641nGqHs0Nyfy-2j\n",
            "To: /content/bdt_project/DSNY_Monthly_Tonnage_Data.csv\n",
            "100%|██████████| 1.12M/1.12M [00:00<00:00, 133MB/s]\n",
            "Downloading...\n",
            "From: https://drive.google.com/uc?id=1TZ46-LAHdmNyt_ct4XIas9Ab_NlT3GZL\n",
            "To: /content/bdt_project/DSNY_Special_Waste_Drop-off_Sites_20250204.csv\n",
            "100%|██████████| 891/891 [00:00<00:00, 3.76MB/s]\n",
            "Downloading...\n",
            "From: https://drive.google.com/uc?id=1cXXZSKWFNU2snujiczMLpifFkM5V8Ob_\n",
            "To: /content/bdt_project/Location_of_Disposal_Facilities_and_Sites_Used_for_DSNY-Managed_Waste_20250210.csv\n",
            "100%|██████████| 5.70k/5.70k [00:00<00:00, 9.31MB/s]\n",
            "Downloading...\n",
            "From: https://drive.google.com/uc?id=11Ojm0_1719Oun3Mt-w9HYG1hogL9Dpny\n",
            "To: /content/bdt_project/lstm_1.weights.h5\n",
            "100%|██████████| 208k/208k [00:00<00:00, 74.5MB/s]\n",
            "Downloading...\n",
            "From: https://drive.google.com/uc?id=157qULRjbPksjBJYJE7L5ar0rAFqGhn5r\n",
            "To: /content/bdt_project/model_architecture.json\n",
            "100%|██████████| 3.62k/3.62k [00:00<00:00, 13.4MB/s]\n",
            "Downloading...\n",
            "From: https://drive.google.com/uc?id=1-47JasxsUfpjP6NDFrWzRugeXIq_JiZe\n",
            "To: /content/bdt_project/my_database.db\n",
            "100%|██████████| 12.3k/12.3k [00:00<00:00, 10.9MB/s]\n",
            "Downloading...\n",
            "From: https://drive.google.com/uc?id=1-5pMsQii9m8v0gunEwGMUmhhzTayEp4C\n",
            "To: /content/bdt_project/my_database.db.wal\n",
            "100%|██████████| 15.8M/15.8M [00:00<00:00, 42.9MB/s]\n",
            "Downloading...\n",
            "From: https://drive.google.com/uc?id=17kZ7i96GNCG-OkOdPf8FbiWX-I9Iooyp\n",
            "To: /content/bdt_project/New_York_City_Population_by_Borough__1950_-_2040_20250204.csv\n",
            "100%|██████████| 1.34k/1.34k [00:00<00:00, 2.84MB/s]\n",
            "Downloading...\n",
            "From: https://drive.google.com/uc?id=1t9IYm5ekME8iiLPRpQWA8AJRejLlSvna\n",
            "To: /content/bdt_project/New_York_City_Population_By_Community_Districts_20250204.csv\n",
            "100%|██████████| 4.38k/4.38k [00:00<00:00, 15.6MB/s]\n",
            "Downloading...\n",
            "From: https://drive.google.com/uc?id=1RvLyp4DW2gx_L0y6d8Q9N-X8DrmKhvOU\n",
            "To: /content/bdt_project/non_scaled_test.csv\n",
            "100%|██████████| 10.3M/10.3M [00:00<00:00, 25.0MB/s]\n",
            "Downloading...\n",
            "From: https://drive.google.com/uc?id=1njgBPWDGzw-Lmh-Y6Dq1HN_h4qBEWX3e\n",
            "To: /content/bdt_project/NYC_Central_Park_weather_1869-2022.csv\n",
            "100%|██████████| 1.33M/1.33M [00:00<00:00, 101MB/s]\n",
            "Downloading...\n",
            "From: https://drive.google.com/uc?id=13QI7r0Mu7qkGmZA22i_Zas5ou0Suz9D4\n",
            "To: /content/bdt_project/project.ipynb\n",
            "100%|██████████| 242k/242k [00:00<00:00, 97.1MB/s]\n",
            "Downloading...\n",
            "From: https://drive.google.com/uc?id=1vp10FXPs9NAIDJ5Hda3uTAZ5WV9WM7Jg\n",
            "To: /content/bdt_project/Public_Recycling_Bins_20250204.csv\n",
            "100%|██████████| 9.55k/9.55k [00:00<00:00, 22.1MB/s]\n",
            "Downloading...\n",
            "From: https://drive.google.com/uc?id=1iIxXFSzpR-u9jFPisP_5r28K7YP3JcTy\n",
            "To: /content/bdt_project/Recycling_Diversion_and_Capture_Rates_20250204.csv\n",
            "100%|██████████| 145k/145k [00:00<00:00, 61.3MB/s]\n",
            "Download completed\n"
          ]
        }
      ]
    },
    {
      "cell_type": "markdown",
      "source": [
        "##Make tables"
      ],
      "metadata": {
        "id": "9YiVrXxiobGV"
      }
    },
    {
      "cell_type": "markdown",
      "source": [
        "###Make Weather table"
      ],
      "metadata": {
        "id": "3YWYLR88sVHs"
      }
    },
    {
      "cell_type": "code",
      "source": [
        "table_name = \"weather\"\n",
        "conn.execute(f\"\"\"\n",
        "CREATE TABLE IF NOT EXISTS {table_name} (\n",
        "  date DATE,\n",
        "  precipitation FLOAT,\n",
        "  snow_fall FLOAT,\n",
        "  snow_depth FLOAT,\n",
        "  min_temp FLOAT,\n",
        "  max_temp FLOAT,\n",
        ");\"\"\"\n",
        ")"
      ],
      "metadata": {
        "colab": {
          "base_uri": "https://localhost:8080/"
        },
        "id": "Dfzcbc-Qn3Fv",
        "outputId": "1af1d510-d860-47be-9296-216da123cc5d"
      },
      "execution_count": null,
      "outputs": [
        {
          "output_type": "execute_result",
          "data": {
            "text/plain": [
              "<duckdb.duckdb.DuckDBPyConnection at 0x7d3013d50870>"
            ]
          },
          "metadata": {},
          "execution_count": 6
        }
      ]
    },
    {
      "cell_type": "code",
      "source": [
        "# clear table and load data\n",
        "conn.execute(f\"TRUNCATE TABLE {table_name};\")\n",
        "conn.execute(f\"COPY {table_name} FROM '/content/bdt_project/NYC_Central_Park_weather_1869-2022.csv' (AUTO_DETECT TRUE, HEADER TRUE);\")"
      ],
      "metadata": {
        "colab": {
          "base_uri": "https://localhost:8080/"
        },
        "id": "KIWfj6ClzgdG",
        "outputId": "957b5104-e4ca-40e2-afad-49089b1b5e19"
      },
      "execution_count": null,
      "outputs": [
        {
          "output_type": "execute_result",
          "data": {
            "text/plain": [
              "<duckdb.duckdb.DuckDBPyConnection at 0x7d3013d50870>"
            ]
          },
          "metadata": {},
          "execution_count": 7
        }
      ]
    },
    {
      "cell_type": "markdown",
      "source": [
        "###Make tonnage table\n",
        "mgp tons is metal, glass, plastic\n"
      ],
      "metadata": {
        "id": "IZUEKQkpowKR"
      }
    },
    {
      "cell_type": "code",
      "source": [
        "table_name = \"tonnage\"\n",
        "conn.execute(f\"\"\"\n",
        "CREATE TABLE IF NOT EXISTS {table_name} (\n",
        "  date DATE,\n",
        "  borough_name STRING,\n",
        "  community_district STRING,\n",
        "  refuse_tons DOUBLE,\n",
        "  paper_tons DOUBLE,\n",
        "  mgp_tons DOUBLE,\n",
        "  res_organic_tons DOUBLE,\n",
        "  school_organic_tons DOUBLE,\n",
        "  leaves_tons DOUBLE,\n",
        "  xmas_tree_tons DOUBLE,\n",
        "  borough_id INTEGER\n",
        ");\"\"\"\n",
        ")"
      ],
      "metadata": {
        "colab": {
          "base_uri": "https://localhost:8080/"
        },
        "id": "vt_pf-WCo1Bw",
        "outputId": "f5b9e0f4-64bb-41f0-9e22-001b08dde40c"
      },
      "execution_count": null,
      "outputs": [
        {
          "output_type": "execute_result",
          "data": {
            "text/plain": [
              "<duckdb.duckdb.DuckDBPyConnection at 0x7d3013d50870>"
            ]
          },
          "metadata": {},
          "execution_count": 8
        }
      ]
    },
    {
      "cell_type": "code",
      "source": [
        "transform = pd.read_csv('/content/bdt_project/DSNY_Monthly_Tonnage_Data.csv')\n",
        "\n",
        "transform.rename(columns={\n",
        "    'MONTH': 'date',\n",
        "    'BOROUGH': 'borough_name',\n",
        "    'COMMUNITYDISTRICT': 'community_district',\n",
        "    'REFUSETONSCOLLECTED': 'refuse_tons',\n",
        "    'PAPERTONSCOLLECTED': 'paper_tons',\n",
        "    'MGPTONSCOLLECTED': 'mgp_tons',\n",
        "    'RESORGANICSTONS': 'res_organic_tons',\n",
        "    'SCHOOLORGANICTONS': 'school_organic_tons',\n",
        "    'LEAVESORGANICTONS': 'leaves_tons',\n",
        "    'XMASTREETONS': 'xmas_tree_tons',\n",
        "    'BOROUGH_ID': 'borough_id'\n",
        "}, inplace=True)\n",
        "\n",
        "transform['date'] = transform['date'].apply(lambda x: f\"{x} / {calendar.monthrange(int(x[:4]), int(x[-2:]))[1]}\")\n",
        "transform['date'] = pd.to_datetime(transform['date'], format='%Y / %m / %d')\n",
        "\n",
        "transform.to_csv('temp_tonnage_data.csv', index=False)"
      ],
      "metadata": {
        "id": "npZZ6X1azpTj"
      },
      "execution_count": null,
      "outputs": []
    },
    {
      "cell_type": "code",
      "source": [
        "conn.execute(f\"TRUNCATE TABLE {table_name};\")\n",
        "conn.execute(f\"COPY {table_name} FROM 'temp_tonnage_data.csv' (AUTO_DETECT TRUE, HEADER TRUE)\")"
      ],
      "metadata": {
        "colab": {
          "base_uri": "https://localhost:8080/"
        },
        "id": "CfzPZB0zzsbj",
        "outputId": "763a32c1-565e-4330-8174-93b43ab8ed41"
      },
      "execution_count": null,
      "outputs": [
        {
          "output_type": "execute_result",
          "data": {
            "text/plain": [
              "<duckdb.duckdb.DuckDBPyConnection at 0x7d3013d50870>"
            ]
          },
          "metadata": {},
          "execution_count": 10
        }
      ]
    },
    {
      "cell_type": "markdown",
      "source": [
        "###Make recycling and diversion rates tables"
      ],
      "metadata": {
        "id": "VLsHaPxy-aFx"
      }
    },
    {
      "cell_type": "code",
      "source": [
        "table_name = \"recycling\"\n",
        "conn.execute(f\"\"\"\n",
        "CREATE TABLE IF NOT EXISTS {table_name} (\n",
        "  zone STRING,\n",
        "  district STRING,\n",
        "  total_diversion_rate FLOAT,\n",
        "  paper_capture_rate FLOAT,\n",
        "  mgp_capture_rate FLOAT,\n",
        "  total_caputre_rate FLOAT,\n",
        "  date DATE\n",
        ");\"\"\"\n",
        ")"
      ],
      "metadata": {
        "colab": {
          "base_uri": "https://localhost:8080/"
        },
        "id": "b4UDl0mt-zj-",
        "outputId": "fb6e1ee3-4aed-4e4d-b557-0c70ed7184b2"
      },
      "execution_count": null,
      "outputs": [
        {
          "output_type": "execute_result",
          "data": {
            "text/plain": [
              "<duckdb.duckdb.DuckDBPyConnection at 0x7d3013d50870>"
            ]
          },
          "metadata": {},
          "execution_count": 11
        }
      ]
    },
    {
      "cell_type": "code",
      "source": [
        "transform = pd.read_csv('/content/bdt_project/Recycling_Diversion_and_Capture_Rates_20250204.csv')\n",
        "\n",
        "transform.rename(columns={\n",
        "    'Zone': 'zone',\n",
        "    'District': 'district',\n",
        "    'Fiscal Month Number': 'month',\n",
        "    'Fiscal Year': 'year',\n",
        "    'Month Name': 'month_name',\n",
        "    'Diversion Rate-Total (Total Recycling / Total Waste)': 'total_diversion_rate',\n",
        "    'Capture Rate-Paper (Total Paper / Max Paper)': 'paper_capture_rate',\n",
        "    'Capture Rate-MGP (Total MGP / Max MGP)': 'mgp_capture_rate',\n",
        "    'Capture Rate-Total ((Total Recycling - Leaves (Recycling)) / (Max Paper + Max MGP))x100': 'total_caputre_rate'\n",
        "}, inplace=True)\n",
        "\n",
        "transform['month'] = transform['month'].apply(lambda x: (x + 6) % 12)\n",
        "transform['month'] = transform['month'].apply(lambda x: 12 if x == 0 else x)\n",
        "\n",
        "transform['date'] = transform.apply(lambda x: f\"{x['year']}-{x['month']}-{calendar.monthrange(x['year'], x['month'])[1] }\", axis=1)\n",
        "transform['date'] = pd.to_datetime(transform['date'], format='%Y-%m-%d')\n",
        "transform.drop(columns=['month', 'month_name', 'year'], inplace=True)\n",
        "\n",
        "transform.to_csv('temp_recycling_data.csv', index=False)"
      ],
      "metadata": {
        "id": "WwSw-XAK_wBE"
      },
      "execution_count": null,
      "outputs": []
    },
    {
      "cell_type": "code",
      "source": [
        "conn.execute(f\"TRUNCATE TABLE {table_name};\")\n",
        "conn.execute(f\"COPY {table_name} FROM 'temp_recycling_data.csv' (AUTO_DETECT TRUE, HEADER TRUE)\")"
      ],
      "metadata": {
        "colab": {
          "base_uri": "https://localhost:8080/"
        },
        "id": "MsGnhObMISxm",
        "outputId": "ea1c5dfa-0c65-422f-f8a7-2d1b7d638ca3"
      },
      "execution_count": null,
      "outputs": [
        {
          "output_type": "execute_result",
          "data": {
            "text/plain": [
              "<duckdb.duckdb.DuckDBPyConnection at 0x7d3013d50870>"
            ]
          },
          "metadata": {},
          "execution_count": 13
        }
      ]
    },
    {
      "cell_type": "markdown",
      "source": [
        "###Make population table"
      ],
      "metadata": {
        "id": "cuOh_4RdzzcM"
      }
    },
    {
      "cell_type": "code",
      "source": [
        "table_name = \"population\"\n",
        "conn.execute(f\"\"\"\n",
        "CREATE TABLE IF NOT EXISTS {table_name} (\n",
        "  Borough STRING,\n",
        "  CD_Number INTEGER,\n",
        "  CD_Name STRING,\n",
        "  Population_1970 INTEGER,\n",
        "  Population_1980 INTEGER,\n",
        "  Population_1990 INTEGER,\n",
        "  Population_2000 INTEGER,\n",
        "  Population_2010 INTEGER,\n",
        ");\"\"\"\n",
        ")"
      ],
      "metadata": {
        "colab": {
          "base_uri": "https://localhost:8080/"
        },
        "id": "g0BdGppN0Vqf",
        "outputId": "d1502079-f2dd-4089-980c-0213a4076231"
      },
      "execution_count": null,
      "outputs": [
        {
          "output_type": "execute_result",
          "data": {
            "text/plain": [
              "<duckdb.duckdb.DuckDBPyConnection at 0x7d3013d50870>"
            ]
          },
          "metadata": {},
          "execution_count": 14
        }
      ]
    },
    {
      "cell_type": "code",
      "source": [
        "transform = pd.read_csv('/content/bdt_project/New_York_City_Population_By_Community_Districts_20250204.csv')\n",
        "\n",
        "transform.rename(columns={\n",
        "    'Borough': 'Borough',\n",
        "    'CD Number': 'CD_Number',\n",
        "    'CD Name': 'CD_Name',\n",
        "    '1970 Population': 'Population_1970',\n",
        "    '1980 Population': 'Population_1980',\n",
        "    '1990 Population': 'Population_1990',\n",
        "    '2000 Population': 'Population_2000',\n",
        "    '2010 Population': 'Population_2010'\n",
        "}, inplace=True)\n",
        "\n",
        "transform.to_csv('temp_community_population.csv', index=False)"
      ],
      "metadata": {
        "id": "s7WDgcIL9Cao"
      },
      "execution_count": null,
      "outputs": []
    },
    {
      "cell_type": "code",
      "source": [
        "conn.execute(f\"TRUNCATE TABLE {table_name};\")\n",
        "conn.execute(f\"COPY {table_name} FROM 'temp_community_population.csv' (AUTO_DETECT TRUE, HEADER TRUE)\")"
      ],
      "metadata": {
        "colab": {
          "base_uri": "https://localhost:8080/"
        },
        "id": "NPfANQvj9uCA",
        "outputId": "afd7eef7-2c46-4af6-83b2-eb1d806c1c1b"
      },
      "execution_count": null,
      "outputs": [
        {
          "output_type": "execute_result",
          "data": {
            "text/plain": [
              "<duckdb.duckdb.DuckDBPyConnection at 0x7d3013d50870>"
            ]
          },
          "metadata": {},
          "execution_count": 16
        }
      ]
    },
    {
      "cell_type": "markdown",
      "source": [
        "###Make Area Table"
      ],
      "metadata": {
        "id": "0d7kjEj6NOIm"
      }
    },
    {
      "cell_type": "code",
      "source": [
        "table_name = \"area\"\n",
        "conn.execute(f\"\"\"\n",
        "CREATE TABLE IF NOT EXISTS {table_name} (\n",
        "  Borough STRING,\n",
        "  CD_Number INTEGER,\n",
        "  Square_Miles FLOAT\n",
        ");\"\"\"\n",
        ")"
      ],
      "metadata": {
        "colab": {
          "base_uri": "https://localhost:8080/"
        },
        "id": "5LzybXtnNUk8",
        "outputId": "ebfbe666-f10c-44e5-eb66-1f08e8d47132"
      },
      "execution_count": null,
      "outputs": [
        {
          "output_type": "execute_result",
          "data": {
            "text/plain": [
              "<duckdb.duckdb.DuckDBPyConnection at 0x7d3013d50870>"
            ]
          },
          "metadata": {},
          "execution_count": 17
        }
      ]
    },
    {
      "cell_type": "code",
      "source": [
        "transform = pd.read_csv('/content/bdt_project/Borough_And_Community_District_Size.csv')\n",
        "\n",
        "transform.rename(columns={\n",
        "    'Borough': 'Borough',\n",
        "    'CD Number': 'CD_Number',\n",
        "    'Square Miles': 'Square_Miles'\n",
        "}, inplace=True)\n",
        "\n",
        "transform.to_csv('temp_size.csv', index=False)"
      ],
      "metadata": {
        "id": "J3C1af48Nffd"
      },
      "execution_count": null,
      "outputs": []
    },
    {
      "cell_type": "code",
      "source": [
        "conn.execute(f\"TRUNCATE TABLE {table_name};\")\n",
        "conn.execute(f\"COPY {table_name} FROM 'temp_size.csv' (AUTO_DETECT TRUE, HEADER TRUE)\")"
      ],
      "metadata": {
        "colab": {
          "base_uri": "https://localhost:8080/"
        },
        "id": "l2r_f9VTN7_D",
        "outputId": "1caf34ef-1a05-432b-b24f-61425070b871"
      },
      "execution_count": null,
      "outputs": [
        {
          "output_type": "execute_result",
          "data": {
            "text/plain": [
              "<duckdb.duckdb.DuckDBPyConnection at 0x7d3013d50870>"
            ]
          },
          "metadata": {},
          "execution_count": 19
        }
      ]
    },
    {
      "cell_type": "markdown",
      "source": [
        "###Make Bins table"
      ],
      "metadata": {
        "id": "RtmO8TDMXsFx"
      }
    },
    {
      "cell_type": "code",
      "source": [
        "table_name = \"bins\"\n",
        "conn.execute(f\"\"\"\n",
        "CREATE TABLE IF NOT EXISTS {table_name} (\n",
        "  dsny_zone STRING,\n",
        "  dsny_district VARCHAR,\n",
        "  site_type STRING,\n",
        "  site_location VARCHAR,\n",
        "  partner STRING,\n",
        "  paper_bins INTEGER,\n",
        "  mgp_bins INTEGER\n",
        ");\"\"\"\n",
        ")"
      ],
      "metadata": {
        "colab": {
          "base_uri": "https://localhost:8080/"
        },
        "id": "Is6DM7-qXuDv",
        "outputId": "a4932c20-225a-4c3e-96fc-74d9f46cbec5"
      },
      "execution_count": null,
      "outputs": [
        {
          "output_type": "execute_result",
          "data": {
            "text/plain": [
              "<duckdb.duckdb.DuckDBPyConnection at 0x7d3013d50870>"
            ]
          },
          "metadata": {},
          "execution_count": 20
        }
      ]
    },
    {
      "cell_type": "code",
      "source": [
        "transform = pd.read_csv('/content/bdt_project/Public_Recycling_Bins_20250204.csv')\n",
        "\n",
        "transform.rename(columns={\n",
        "    'DSNY Zone': 'dsny_zone',\n",
        "    'DSNY District': 'dsny_district',\n",
        "    'Site type': 'site_type',\n",
        "    'Site Location': 'site_location',\n",
        "    'Partner': 'partner',\n",
        "    'Paper Bins': 'paper_bins',\n",
        "    'MGP Bins': 'mgp_bins'\n",
        "}, inplace=True)\n",
        "\n",
        "transform.to_csv('temp_public_recycling_bins.csv', index=False)"
      ],
      "metadata": {
        "id": "W2ImTQCNYMEa"
      },
      "execution_count": null,
      "outputs": []
    },
    {
      "cell_type": "code",
      "source": [
        "conn.execute(f\"TRUNCATE TABLE {table_name};\")\n",
        "conn.execute(f\"COPY {table_name} FROM 'temp_public_recycling_bins.csv' (AUTO_DETECT TRUE, HEADER TRUE)\")"
      ],
      "metadata": {
        "colab": {
          "base_uri": "https://localhost:8080/"
        },
        "id": "glsZhtaYZWZN",
        "outputId": "05d0d673-bff8-4ac5-bba5-aef630e0df22"
      },
      "execution_count": null,
      "outputs": [
        {
          "output_type": "execute_result",
          "data": {
            "text/plain": [
              "<duckdb.duckdb.DuckDBPyConnection at 0x7d3013d50870>"
            ]
          },
          "metadata": {},
          "execution_count": 22
        }
      ]
    },
    {
      "cell_type": "markdown",
      "source": [
        "###Make Garages Table"
      ],
      "metadata": {
        "id": "6xqaiQTFkPX0"
      }
    },
    {
      "cell_type": "code",
      "source": [
        "table_name = \"garages\"\n",
        "conn.execute(f\"\"\"\n",
        "  CREATE TABLE IF NOT EXISTS {table_name} (\n",
        "    address STRING,\n",
        "    boro INTEGER,\n",
        "    borocd INTEGER,\n",
        "    city STRING,\n",
        "    distrtict_code VARCHAR,\n",
        "    name VARCHAR,\n",
        "    object_id INTEGER,\n",
        "    state STRING,\n",
        "    zip INTEGER,\n",
        "    longitude FLOAT,\n",
        "    latitude FLOAT\n",
        ");\"\"\"\n",
        ")"
      ],
      "metadata": {
        "colab": {
          "base_uri": "https://localhost:8080/"
        },
        "id": "g8Ap6O9Bq2ND",
        "outputId": "022e990e-9bf1-4f84-e25c-e3a308ae967a"
      },
      "execution_count": null,
      "outputs": [
        {
          "output_type": "execute_result",
          "data": {
            "text/plain": [
              "<duckdb.duckdb.DuckDBPyConnection at 0x7d3013d50870>"
            ]
          },
          "metadata": {},
          "execution_count": 23
        }
      ]
    },
    {
      "cell_type": "code",
      "source": [
        "transform = pd.read_csv('/content/bdt_project/DSNY_Garages_20250210.csv')\n",
        "\n",
        "#transform.new_column = transform.apply(lambda row: f\"POINT({row['longitude']} {row['latitude']})\", axis=1)\n",
        "transform.loc[transform['point'] != ' ', 'longitude'] = ' '\n",
        "transform.loc[transform['point'] != ' ', 'latitude'] = ' '\n",
        "\n",
        "def add_lat_and_long(row):\n",
        "  #print(row['point'][7:-1].split(' '))\n",
        "  row['longitude'] = row['point'][7:-1].split(' ')[0]\n",
        "  row['latitude'] = row['point'][7:-1].split(' ')[1]\n",
        "  #print(long, lat)\n",
        "  return row\n",
        "\n",
        "transform = transform.apply(add_lat_and_long, axis=1)"
      ],
      "metadata": {
        "id": "DvlI6CCRr5ax"
      },
      "execution_count": null,
      "outputs": []
    },
    {
      "cell_type": "code",
      "source": [
        "transform.drop(columns=['BBL', 'BIN', 'TYPE', 'point'], inplace=True)\n",
        "\n",
        "transform.rename(columns={\n",
        "    'ADDRESS': 'address',\n",
        "    'BORO': 'boro',\n",
        "    'BOROCD': 'borocd',\n",
        "    'CITY': 'city',\n",
        "    'DISTRICTCODE': 'distrtict_code',\n",
        "    'NAME': 'name',\n",
        "    'OBJECTID': 'object_id',\n",
        "    'STATE': 'state',\n",
        "    'ZIP': 'zip',\n",
        "}, inplace=True)\n",
        "\n",
        "transform.to_csv('temp_public_garages.csv', index=False)"
      ],
      "metadata": {
        "id": "3Zr5agR11-mE"
      },
      "execution_count": null,
      "outputs": []
    },
    {
      "cell_type": "code",
      "source": [
        "conn.execute(f\"TRUNCATE TABLE {table_name};\")\n",
        "conn.execute(f\"COPY {table_name} FROM 'temp_public_garages.csv' (AUTO_DETECT TRUE, HEADER TRUE)\")"
      ],
      "metadata": {
        "colab": {
          "base_uri": "https://localhost:8080/"
        },
        "id": "BBPPSbVQ6n5w",
        "outputId": "bc6afdaa-cda8-49a8-d1d9-cc6b20fa535e"
      },
      "execution_count": null,
      "outputs": [
        {
          "output_type": "execute_result",
          "data": {
            "text/plain": [
              "<duckdb.duckdb.DuckDBPyConnection at 0x7d3013d50870>"
            ]
          },
          "metadata": {},
          "execution_count": 26
        }
      ]
    },
    {
      "cell_type": "markdown",
      "source": [
        "###Make Zip Codes table"
      ],
      "metadata": {
        "id": "fSIE9VEVkSnp"
      }
    },
    {
      "cell_type": "code",
      "source": [
        "table_name = 'zip_codes'\n",
        "\n",
        "conn.execute(f\"\"\"\n",
        "  CREATE TABLE IF NOT EXISTS {table_name} (\n",
        "  Borough STRING,\n",
        "  Borough_ID INTEGER,\n",
        "  CD_Number INTEGER,\n",
        "  Zip_Code STRING\n",
        ");\"\"\")"
      ],
      "metadata": {
        "colab": {
          "base_uri": "https://localhost:8080/"
        },
        "id": "JU5vmAEG-_r2",
        "outputId": "a0a11b8f-41f9-430f-ddbf-5ec048522a1f"
      },
      "execution_count": null,
      "outputs": [
        {
          "output_type": "execute_result",
          "data": {
            "text/plain": [
              "<duckdb.duckdb.DuckDBPyConnection at 0x7d3013d50870>"
            ]
          },
          "metadata": {},
          "execution_count": 27
        }
      ]
    },
    {
      "cell_type": "code",
      "source": [
        "transform = pd.read_csv('/content/bdt_project/Borough_And_Community_Zip.csv')\n",
        "\n",
        "transform.rename(columns={\n",
        "    'Borough': 'Borough',\n",
        "    'Borough_ID': 'Borough_ID',\n",
        "    'CD Number': 'CD_Number',\n",
        "    'zip': 'Zip_Code'\n",
        "}, inplace=True)\n",
        "\n",
        "transform.to_csv('temp_zips.csv', index=False)"
      ],
      "metadata": {
        "id": "JnjLAb0x_Xr5"
      },
      "execution_count": null,
      "outputs": []
    },
    {
      "cell_type": "code",
      "source": [
        "conn.execute(f\"TRUNCATE TABLE {table_name};\")\n",
        "conn.execute(f\"COPY {table_name} FROM 'temp_zips.csv' (AUTO_DETECT TRUE, HEADER TRUE)\")"
      ],
      "metadata": {
        "colab": {
          "base_uri": "https://localhost:8080/"
        },
        "id": "I0Dshul9_a4-",
        "outputId": "f0a311f2-d50b-434b-cf82-ec13e0d8bda8"
      },
      "execution_count": null,
      "outputs": [
        {
          "output_type": "execute_result",
          "data": {
            "text/plain": [
              "<duckdb.duckdb.DuckDBPyConnection at 0x7d3013d50870>"
            ]
          },
          "metadata": {},
          "execution_count": 29
        }
      ]
    },
    {
      "cell_type": "markdown",
      "source": [
        "###Make Location of Dispoal Facilities Tables"
      ],
      "metadata": {
        "id": "5NTg7EUmlIQ5"
      }
    },
    {
      "cell_type": "code",
      "source": [
        "table_name = 'disposal_facilities'\n",
        "\n",
        "conn.execute(f\"\"\"\n",
        "  CREATE TABLE IF NOT EXISTS {table_name} (\n",
        "    name VARCHAR,\n",
        "    unique_id INTEGER,\n",
        "    type STRING,\n",
        "    address STRING,\n",
        "    borough STRING,\n",
        "    state STRING,\n",
        "    zip INTEGER,\n",
        "    latitude FLOAT,\n",
        "    longitude FLOAT\n",
        ");\"\"\")"
      ],
      "metadata": {
        "colab": {
          "base_uri": "https://localhost:8080/"
        },
        "id": "Tm5OTo_V71AL",
        "outputId": "16a460b4-f8e0-40ce-cf5f-57ce76e746be"
      },
      "execution_count": null,
      "outputs": [
        {
          "output_type": "execute_result",
          "data": {
            "text/plain": [
              "<duckdb.duckdb.DuckDBPyConnection at 0x7d3013d50870>"
            ]
          },
          "metadata": {},
          "execution_count": 30
        }
      ]
    },
    {
      "cell_type": "code",
      "source": [
        "transform = pd.read_csv('/content/bdt_project/Location_of_Disposal_Facilities_and_Sites_Used_for_DSNY-Managed_Waste_20250210.csv')\n",
        "transform.drop(columns=['Point'], inplace=True)\n",
        "\n",
        "transform.rename(columns={\n",
        "    'Name': 'address',\n",
        "    'Unique ID': 'boro',\n",
        "    'Type': 'borocd',\n",
        "    'Street Address': 'city',\n",
        "    'Borough/City': 'distrtict_code',\n",
        "    'State': 'name',\n",
        "    'Zipcod': 'object_id',\n",
        "    'Latitude': 'state',\n",
        "    'Longitude': 'zip',\n",
        "}, inplace=True)\n",
        "\n",
        "\n",
        "transform.to_csv('temp_disposal_facilities.csv', index=False)"
      ],
      "metadata": {
        "id": "KV5ZDN-l8kT8"
      },
      "execution_count": null,
      "outputs": []
    },
    {
      "cell_type": "code",
      "source": [
        "conn.execute(f\"TRUNCATE TABLE {table_name};\")\n",
        "conn.execute(f\"COPY {table_name} FROM 'temp_disposal_facilities.csv' (AUTO_DETECT TRUE, HEADER TRUE)\")"
      ],
      "metadata": {
        "colab": {
          "base_uri": "https://localhost:8080/"
        },
        "id": "G6iZaT0n9dpC",
        "outputId": "cf7dee6b-7700-42f9-f78d-07994adde5fe"
      },
      "execution_count": null,
      "outputs": [
        {
          "output_type": "execute_result",
          "data": {
            "text/plain": [
              "<duckdb.duckdb.DuckDBPyConnection at 0x7d3013d50870>"
            ]
          },
          "metadata": {},
          "execution_count": 32
        }
      ]
    },
    {
      "cell_type": "markdown",
      "source": [
        "##Data Validation\n",
        "write a function that checks each column to see if there are missing values"
      ],
      "metadata": {
        "id": "_b6Vgh1xaqE0"
      }
    },
    {
      "cell_type": "code",
      "source": [
        "\"\"\"tables = conn.execute(\"SHOW ALL;\").fetchdf()['name']\n",
        "\n",
        "# Loop through each table\n",
        "for table_name in tables:\n",
        "    print(f\"📌 Table Name: {table_name}\")\n",
        "\n",
        "    # Get column names and types\n",
        "    columns_info = conn.execute(f\"PRAGMA table_info('{table_name}')\").fetchall()\n",
        "    columns = [col[1] for col in columns_info]  # Column names\n",
        "    column_types = {col[1]: col[2] for col in columns_info}  # Column name -> Data type\n",
        "\n",
        "    # Query to count NULL values\n",
        "    null_query = \"SELECT \" + \", \".join([f\"SUM(CASE WHEN {col} IS NULL THEN 1 ELSE 0 END) AS {col}_nulls\" for col in columns]) + f\" FROM {table_name}\"\n",
        "    missing_values = conn.execute(null_query).fetchdf()\n",
        "    print(missing_values)\n",
        "\n",
        "    # Fetch full table data\n",
        "    df = conn.execute(f\"SELECT * FROM {table_name}\").fetchdf()\n",
        "\n",
        "    # Loop through numeric columns and plot histograms & boxplots\n",
        "    for col in columns:\n",
        "        if column_types[col] in ('INTEGER', 'BIGINT', 'DOUBLE', 'FLOAT', 'DECIMAL'):  # Check if numeric\n",
        "            print(f\"🔹 Plotting distribution for column: {col}\")\n",
        "\n",
        "            # Create figure for plots\n",
        "            fig, axes = plt.subplots(1, 2, figsize=(12, 4))\n",
        "\n",
        "            # Histogram with KDE\n",
        "            sns.histplot(df[col].dropna(), kde=True, ax=axes[0], bins=20, color='blue')\n",
        "            axes[0].set_title(f\"Histogram: {col}\")\n",
        "\n",
        "            # Boxplot\n",
        "            sns.boxplot(x=df[col].dropna(), ax=axes[1], color='orange')\n",
        "            axes[1].set_title(f\"Boxplot: {col}\")\n",
        "\n",
        "            plt.show()\"\"\""
      ],
      "metadata": {
        "colab": {
          "base_uri": "https://localhost:8080/"
        },
        "id": "CGosYD2DauWt",
        "outputId": "0636fc5a-164b-4c89-d2c9-aa28d48856e5"
      },
      "execution_count": null,
      "outputs": [
        {
          "output_type": "execute_result",
          "data": {
            "text/plain": [
              "'tables = conn.execute(\"SHOW ALL;\").fetchdf()[\\'name\\']\\n\\n# Loop through each table\\nfor table_name in tables:\\n    print(f\"📌 Table Name: {table_name}\")\\n\\n    # Get column names and types\\n    columns_info = conn.execute(f\"PRAGMA table_info(\\'{table_name}\\')\").fetchall()\\n    columns = [col[1] for col in columns_info]  # Column names\\n    column_types = {col[1]: col[2] for col in columns_info}  # Column name -> Data type\\n\\n    # Query to count NULL values\\n    null_query = \"SELECT \" + \", \".join([f\"SUM(CASE WHEN {col} IS NULL THEN 1 ELSE 0 END) AS {col}_nulls\" for col in columns]) + f\" FROM {table_name}\"\\n    missing_values = conn.execute(null_query).fetchdf()\\n    print(missing_values)\\n\\n    # Fetch full table data\\n    df = conn.execute(f\"SELECT * FROM {table_name}\").fetchdf()\\n\\n    # Loop through numeric columns and plot histograms & boxplots\\n    for col in columns:\\n        if column_types[col] in (\\'INTEGER\\', \\'BIGINT\\', \\'DOUBLE\\', \\'FLOAT\\', \\'DECIMAL\\'):  # Check if numeric\\n            print(f\"🔹 Plotting distribution for column: {col}\")\\n\\n            # Create figure for plots\\n            fig, axes = plt.subplots(1, 2, figsize=(12, 4))\\n\\n            # Histogram with KDE\\n            sns.histplot(df[col].dropna(), kde=True, ax=axes[0], bins=20, color=\\'blue\\')\\n            axes[0].set_title(f\"Histogram: {col}\")\\n\\n            # Boxplot\\n            sns.boxplot(x=df[col].dropna(), ax=axes[1], color=\\'orange\\')\\n            axes[1].set_title(f\"Boxplot: {col}\")\\n\\n            plt.show()'"
            ],
            "application/vnd.google.colaboratory.intrinsic+json": {
              "type": "string"
            }
          },
          "metadata": {},
          "execution_count": 33
        }
      ]
    },
    {
      "cell_type": "markdown",
      "source": [
        "#Clean Data"
      ],
      "metadata": {
        "id": "pUw60XWjiQi1"
      }
    },
    {
      "cell_type": "markdown",
      "source": [
        "##Clean Bins Data"
      ],
      "metadata": {
        "id": "FPa0zISypAH3"
      }
    },
    {
      "cell_type": "code",
      "source": [
        "bins = conn.execute(\"SELECT * FROM bins\").fetchdf()\n",
        "\n",
        "bins = bins.dropna()\n",
        "\n",
        "bins.to_csv('temp_bins.csv', index=False)"
      ],
      "metadata": {
        "id": "ZiQ3QXOQpC1X"
      },
      "execution_count": null,
      "outputs": []
    },
    {
      "cell_type": "code",
      "source": [
        "# clear out data before saving new data\n",
        "conn.execute(\"TRUNCATE TABLE bins;\")\n",
        "conn.execute(f\"COPY bins FROM 'temp_bins.csv' (AUTO_DETECT TRUE, HEADER TRUE);\")"
      ],
      "metadata": {
        "colab": {
          "base_uri": "https://localhost:8080/"
        },
        "id": "xw-kAk54pmhK",
        "outputId": "e29b7dc7-2044-441e-a3fe-49bec5d58fdf"
      },
      "execution_count": null,
      "outputs": [
        {
          "output_type": "execute_result",
          "data": {
            "text/plain": [
              "<duckdb.duckdb.DuckDBPyConnection at 0x7d3013d50870>"
            ]
          },
          "metadata": {},
          "execution_count": 35
        }
      ]
    },
    {
      "cell_type": "markdown",
      "source": [
        "##Clean Weather Data"
      ],
      "metadata": {
        "id": "H4p631oWdXVm"
      }
    },
    {
      "cell_type": "markdown",
      "source": [
        "###Snow Depth Projections\n",
        "take yesterday's snow depth and add today's snowfall"
      ],
      "metadata": {
        "id": "LUzZzDWpscy0"
      }
    },
    {
      "cell_type": "code",
      "source": [
        "weather = conn.execute(\"SELECT * FROM weather\").fetchdf()\n",
        "weather['snow_fall'] = weather['snow_fall'].fillna(0)\n",
        "weather['snow_depth_t-1'] = weather['snow_depth'].shift(1)\n",
        "weather['snow_depth_t-1'] = weather['snow_depth_t-1'].fillna(0)"
      ],
      "metadata": {
        "id": "eb4oqL2Vsgb2"
      },
      "execution_count": null,
      "outputs": []
    },
    {
      "cell_type": "code",
      "source": [
        "weather['snow_depth'] = weather['snow_depth'].fillna(weather['snow_depth_t-1'] + weather['snow_fall'])\n",
        "weather.drop(columns=['snow_depth_t-1'], inplace=True)\n",
        "\n",
        "# weather.head(16649)"
      ],
      "metadata": {
        "id": "6MmVwQhqbn8Z"
      },
      "execution_count": null,
      "outputs": []
    },
    {
      "cell_type": "markdown",
      "source": [
        "###Clean Max & Min Missing Temps"
      ],
      "metadata": {
        "id": "5Wv0zQKu52-X"
      }
    },
    {
      "cell_type": "markdown",
      "source": [
        "do average of future few years for max and min temp. we would look at the past but the missing data is from 1869, the first year when data started being collected. no way to look at past data in this case"
      ],
      "metadata": {
        "id": "sXkPOam_8ywY"
      }
    },
    {
      "cell_type": "code",
      "source": [
        "# Ensure that 'date' is in datetime format\n",
        "weather['date'] = pd.to_datetime(weather['date'])\n",
        "\n",
        "# Extract the year and month from the 'date' column\n",
        "weather['year'] = weather['date'].dt.year\n",
        "weather['month'] = weather['date'].dt.month\n",
        "\n",
        "# Function to fill missing values using data from the next 3 years for the same month\n",
        "def fill_missing_with_future_years_mean(row, temp_column):\n",
        "    # Get the year and month of the row with missing value\n",
        "    year = row['year']\n",
        "    month = row['month']\n",
        "\n",
        "    # Filter data for the next 3 years (including the current row's year)\n",
        "    future_years_data = weather[(weather['year'] >= year) & (weather['year'] <= year + 2) & (weather['month'] == month)]\n",
        "\n",
        "    # Calculate the mean of the next 3 years for that month\n",
        "    mean_value = future_years_data[temp_column].mean() if not future_years_data[temp_column].isnull().all() else None\n",
        "\n",
        "    return mean_value\n",
        "\n",
        "# Apply the function to fill missing values for 'max_temp' and 'min_temp'\n",
        "for idx, row in weather[weather['max_temp'].isnull()].iterrows():\n",
        "    weather.at[idx, 'max_temp'] = fill_missing_with_future_years_mean(row, 'max_temp')\n",
        "\n",
        "for idx, row in weather[weather['min_temp'].isnull()].iterrows():\n",
        "    weather.at[idx, 'min_temp'] = fill_missing_with_future_years_mean(row, 'min_temp')\n",
        "\n",
        "# drop the 'year' and 'month' columns\n",
        "weather = weather.drop(columns=['year', 'month'])\n",
        "\n",
        "\n",
        "# Check the result\n",
        "#weather.head(124)"
      ],
      "metadata": {
        "id": "Fdi94YQg57uS"
      },
      "execution_count": null,
      "outputs": []
    },
    {
      "cell_type": "markdown",
      "source": [
        "make csv file and save csv to database"
      ],
      "metadata": {
        "id": "XtU4M2ab9qo1"
      }
    },
    {
      "cell_type": "code",
      "source": [
        "weather.to_csv('temp_weather.csv', index=False)"
      ],
      "metadata": {
        "id": "ulsoE4iQ9eBJ"
      },
      "execution_count": null,
      "outputs": []
    },
    {
      "cell_type": "code",
      "source": [
        "# clear out data before saving new data\n",
        "conn.execute(\"TRUNCATE TABLE weather;\")\n",
        "conn.execute(f\"COPY weather FROM 'temp_weather.csv' (AUTO_DETECT TRUE, HEADER TRUE);\")"
      ],
      "metadata": {
        "colab": {
          "base_uri": "https://localhost:8080/"
        },
        "id": "uagNwGFY9nhA",
        "outputId": "b2491cc3-9cdf-4ccb-90cd-0ced17e87173"
      },
      "execution_count": null,
      "outputs": [
        {
          "output_type": "execute_result",
          "data": {
            "text/plain": [
              "<duckdb.duckdb.DuckDBPyConnection at 0x7d3013d50870>"
            ]
          },
          "metadata": {},
          "execution_count": 40
        }
      ]
    },
    {
      "cell_type": "markdown",
      "source": [
        "##Clean Tonnage Data"
      ],
      "metadata": {
        "id": "bChvmyL49vU7"
      }
    },
    {
      "cell_type": "code",
      "source": [
        "tonnage = conn.execute(\"SELECT * FROM tonnage\").fetchdf()"
      ],
      "metadata": {
        "id": "jrjbpCIx9yFP"
      },
      "execution_count": null,
      "outputs": []
    },
    {
      "cell_type": "code",
      "source": [
        "tonnage['xmas_tree_tons'] = tonnage['xmas_tree_tons'].fillna(0)\n",
        "tonnage['leaves_tons'] = tonnage['leaves_tons'].fillna(0)"
      ],
      "metadata": {
        "id": "8VoI2JPf95FK"
      },
      "execution_count": null,
      "outputs": []
    },
    {
      "cell_type": "markdown",
      "source": [
        "borough_id\n",
        "Staten Island = 5, Queens = 4, Brooklyn = 3, Bronx = 2, Manhattan = 1"
      ],
      "metadata": {
        "id": "5AT2_xQVAt3b"
      }
    },
    {
      "cell_type": "code",
      "source": [
        "tonnage['borough_id'] = tonnage['borough_name'].apply(lambda x: 1 if x == 'Manhattan' else (2 if x == 'Bronx' else (3 if x == 'Brooklyn' else (4 if x == 'Queens' else 5))))"
      ],
      "metadata": {
        "id": "5PYge0C0As7A"
      },
      "execution_count": null,
      "outputs": []
    },
    {
      "cell_type": "markdown",
      "source": [
        "finds rows where there is a missing value for refuse_tons and replaces null value with avg of its borough_id"
      ],
      "metadata": {
        "id": "Q8IIVlJKGS_9"
      }
    },
    {
      "cell_type": "code",
      "source": [
        "missing_vals = tonnage[tonnage['refuse_tons'].isnull()]\n",
        "\n",
        "for idx, missing_val in missing_vals.iterrows():\n",
        "    borough_id = missing_val['borough_id']\n",
        "    community_district = missing_val['community_district']\n",
        "\n",
        "    mean_refuse_tons = tonnage[tonnage['borough_id'] == 4]['refuse_tons'].mean()\n",
        "\n",
        "    # Update the original tonnage DataFrame with the mean value for 'refuse_tons'\n",
        "    tonnage.loc[idx, 'refuse_tons'] = mean_refuse_tons"
      ],
      "metadata": {
        "id": "utBxBsFN-Zvj"
      },
      "execution_count": null,
      "outputs": []
    },
    {
      "cell_type": "markdown",
      "source": [
        "replace missing school organic tons with 0 if between june and august. else, median of borough_id and community_district"
      ],
      "metadata": {
        "id": "YnXkrIOlHD2I"
      }
    },
    {
      "cell_type": "code",
      "source": [
        "tonnage['month'] = tonnage['date'].dt.month\n",
        "\n",
        "# Function to replace missing values based on conditions\n",
        "def replace_missing_school_organic(row):\n",
        "    if pd.isnull(row['school_organic_tons']):\n",
        "        if row['month'] in [6, 7, 8]:  # June, July, August\n",
        "            return 0\n",
        "        else:\n",
        "            # Get the median for the specific borough_id and community_district\n",
        "            median_value = tonnage[(tonnage['borough_id'] == row['borough_id']) &\n",
        "                                   (tonnage['community_district'] == row['community_district'])]['school_organic_tons'].median()\n",
        "            return median_value if pd.notnull(median_value) else 0\n",
        "    return row['school_organic_tons']\n",
        "\n",
        "# Apply the function row by row\n",
        "tonnage['school_organic_tons'] = tonnage.apply(replace_missing_school_organic, axis=1)"
      ],
      "metadata": {
        "id": "X5hHikIaIiDf"
      },
      "execution_count": null,
      "outputs": []
    },
    {
      "cell_type": "code",
      "source": [
        "def replace_missing_res_organic(row):\n",
        "  if pd.isnull(row['res_organic_tons']):\n",
        "    median_value = tonnage[(tonnage['borough_id'] == row['borough_id']) & (tonnage['community_district'] == row['community_district'])]['res_organic_tons'].median()\n",
        "    return median_value if pd.notnull(median_value) else 0\n",
        "  return row['res_organic_tons']\n",
        "\n",
        "tonnage['res_organic_tons'] = tonnage.apply(replace_missing_res_organic, axis=1)"
      ],
      "metadata": {
        "id": "w01iNPC3hUdO"
      },
      "execution_count": null,
      "outputs": []
    },
    {
      "cell_type": "code",
      "source": [
        "def replace_missing_paper(row):\n",
        "  if pd.isnull(row['paper_tons']):\n",
        "    median_value = tonnage[(tonnage['borough_id'] == row['borough_id']) & (tonnage['community_district'] == row['community_district'])]['paper_tons'].median()\n",
        "    return median_value if pd.notnull(median_value) else 0\n",
        "  return row['paper_tons']\n",
        "\n",
        "tonnage['paper_tons'] = tonnage.apply(replace_missing_paper, axis=1)"
      ],
      "metadata": {
        "id": "Rzg5fSF8mBMI"
      },
      "execution_count": null,
      "outputs": []
    },
    {
      "cell_type": "code",
      "source": [
        "def replace_missing_mgp(row):\n",
        "  if pd.isnull(row['mgp_tons']):\n",
        "    median_value = tonnage[(tonnage['borough_id'] == row['borough_id']) & (tonnage['community_district'] == row['community_district'])]['mgp_tons'].median()\n",
        "    return median_value if pd.notnull(median_value) else 0\n",
        "  return row['mgp_tons']\n",
        "\n",
        "tonnage['mgp_tons'] = tonnage.apply(replace_missing_mgp, axis=1)"
      ],
      "metadata": {
        "id": "Ewq3rOE6nKcW"
      },
      "execution_count": null,
      "outputs": []
    },
    {
      "cell_type": "code",
      "source": [
        "tonnage.drop(columns=['month'], inplace=True)\n",
        "\n",
        "tonnage.to_csv('temp_tonnage.csv', index=False)"
      ],
      "metadata": {
        "id": "yqwDDYBvkpt1"
      },
      "execution_count": null,
      "outputs": []
    },
    {
      "cell_type": "code",
      "source": [
        "# clear out data before saving new data\n",
        "conn.execute(\"TRUNCATE TABLE tonnage;\")\n",
        "conn.execute(f\"COPY tonnage FROM 'temp_tonnage.csv' (AUTO_DETECT TRUE, HEADER TRUE);\")"
      ],
      "metadata": {
        "colab": {
          "base_uri": "https://localhost:8080/"
        },
        "id": "BBj9nDqAk7tT",
        "outputId": "996f711f-7a85-4f77-96f9-f2c39a6f2ba3"
      },
      "execution_count": null,
      "outputs": [
        {
          "output_type": "execute_result",
          "data": {
            "text/plain": [
              "<duckdb.duckdb.DuckDBPyConnection at 0x7d3013d50870>"
            ]
          },
          "metadata": {},
          "execution_count": 50
        }
      ]
    },
    {
      "cell_type": "markdown",
      "source": [
        "#Data Processing"
      ],
      "metadata": {
        "id": "r7w-zZ5ZaLah"
      }
    },
    {
      "cell_type": "markdown",
      "source": [
        "##normalize frequency of data\n",
        "making all data daily frequency so it can be properly ingested by our ml model"
      ],
      "metadata": {
        "id": "be4_1uDk3STj"
      }
    },
    {
      "cell_type": "markdown",
      "source": [
        "###normalize tonnage frequency"
      ],
      "metadata": {
        "id": "jFZl6mMT3ndy"
      }
    },
    {
      "cell_type": "markdown",
      "source": [
        "gives us the daily rates for each waste type"
      ],
      "metadata": {
        "id": "Ov9EQ2Gl9EwY"
      }
    },
    {
      "cell_type": "code",
      "source": [
        "tons = conn.execute(\"SELECT date, borough_name, borough_id, community_district, mode(refuse_tons), mode(paper_tons), mode(mgp_tons), mode(res_organic_tons), mode(school_organic_tons), mode(leaves_tons), mode(xmas_tree_tons) FROM tonnage GROUP BY date, borough_name, borough_id, community_district ORDER BY date, borough_id, community_district\").fetchdf()\n",
        "tons_daily = tons.copy()\n",
        "tons_daily['date'] = pd.to_datetime(tons_daily['date'])  # Convert to datetime if not already\n",
        "tons_daily['day'] = pd.to_datetime(tons_daily['date']).dt.day\n",
        "\n",
        "# poor reporting in earlier data. only using data from 2000 and newer\n",
        "tons_daily = tons_daily[tons_daily['date'] >= \"2000-01-01\"]\n",
        "\n",
        "tons_daily['daily_refuse'] = tons_daily['\"mode\"(refuse_tons)'] / tons_daily['day']\n",
        "tons_daily['daily_paper'] = tons_daily['\"mode\"(paper_tons)'] / tons_daily['day']\n",
        "tons_daily['daily_mgp'] = tons_daily['\"mode\"(mgp_tons)'] / tons_daily['day']\n",
        "tons_daily['daily_res_organic'] = tons_daily['\"mode\"(res_organic_tons)'] / tons_daily['day']\n",
        "tons_daily['daily_school_organic'] = tons_daily['\"mode\"(school_organic_tons)'] / tons_daily['day']\n",
        "tons_daily['daily_leaves'] = tons_daily['\"mode\"(leaves_tons)'] / tons_daily['day']\n",
        "tons_daily['daily_xmas'] = tons_daily['\"mode\"(xmas_tree_tons)'] / tons_daily['day']\n",
        "\n",
        "tons_daily.drop(columns=['\"mode\"(refuse_tons)', '\"mode\"(paper_tons)', '\"mode\"(mgp_tons)', '\"mode\"(res_organic_tons)', '\"mode\"(school_organic_tons)', '\"mode\"(leaves_tons)', '\"mode\"(xmas_tree_tons)'], inplace=True)"
      ],
      "metadata": {
        "id": "5d3_Sy7T3hyM"
      },
      "execution_count": null,
      "outputs": []
    },
    {
      "cell_type": "code",
      "source": [
        "df = tons_daily.copy()\n",
        "df['date'] = pd.to_datetime(df['date'])\n",
        "\n",
        "# Extract year & month\n",
        "df['year'] = df['date'].dt.year\n",
        "df['month'] = df['date'].dt.month\n",
        "\n",
        "# Generate full daily date range for each (year, month)\n",
        "expanded_rows = []\n",
        "for _, row in df.iterrows():\n",
        "    start_date = pd.Timestamp(year=row['year'], month=row['month'], day=1)\n",
        "    end_date = row['date']  # The original month-end date\n",
        "\n",
        "    # Create a daily date range\n",
        "    daily_dates = pd.date_range(start=start_date, end=end_date, freq='D')\n",
        "\n",
        "    # Expand while keeping borough_id & community_id\n",
        "    for day in daily_dates:\n",
        "        expanded_rows.append({'date': day, 'borough_id': row['borough_id'], 'community_district': row['community_district']})\n",
        "\n",
        "# Create new DataFrame\n",
        "df_daily = pd.DataFrame(expanded_rows)"
      ],
      "metadata": {
        "id": "iPldviVwCzXd"
      },
      "execution_count": null,
      "outputs": []
    },
    {
      "cell_type": "code",
      "source": [
        "# sorting data set by date, then borough_id, then community_district\n",
        "df_sorted = df_daily.sort_values(by=['date', 'borough_id', 'community_district'])\n",
        "df_sorted = df_sorted.reset_index(drop=True)"
      ],
      "metadata": {
        "id": "FEcI6aGTDK6X"
      },
      "execution_count": null,
      "outputs": []
    },
    {
      "cell_type": "code",
      "source": [
        "## working\n",
        "\n",
        "# Ensure date columns are in datetime format\n",
        "df_sorted['date'] = pd.to_datetime(df_sorted['date'])\n",
        "tons_daily['date'] = pd.to_datetime(tons_daily['date'])\n",
        "\n",
        "# Extract Year and Month for merging\n",
        "df_sorted['year'] = df_sorted['date'].dt.year\n",
        "df_sorted['month'] = df_sorted['date'].dt.month\n",
        "tons_daily['year'] = tons_daily['date'].dt.year\n",
        "tons_daily['month'] = tons_daily['date'].dt.month\n",
        "\n",
        "# Perform the merge on matching columns\n",
        "tonnage_df = df_sorted.merge(\n",
        "    tons_daily[['year', 'month', 'borough_id', 'community_district', 'date', 'daily_refuse', 'daily_paper', 'daily_mgp', 'daily_res_organic', 'daily_school_organic', 'daily_leaves', 'daily_xmas']],\n",
        "    on=['year', 'month', 'borough_id', 'community_district'],\n",
        "    how='left'\n",
        ")\n",
        "\n",
        "# Drop any duplicated 'date' columns from the merge (if they exist)\n",
        "tonnage_df.drop(columns=['date_y'], inplace=True)\n",
        "\n",
        "# Fill missing daily values (if applicable)\n",
        "tonnage_df['daily_refuse'] = tonnage_df['daily_refuse'].fillna(0)\n",
        "tonnage_df['daily_paper'] = tonnage_df['daily_paper'].fillna(0)\n",
        "tonnage_df['daily_mgp'] = tonnage_df['daily_mgp'].fillna(0)\n",
        "tonnage_df['daily_res_organic'] = tonnage_df['daily_res_organic'].fillna(0)\n",
        "tonnage_df['daily_school_organic'] = tonnage_df['daily_school_organic'].fillna(0)\n",
        "tonnage_df['daily_leaves'] = tonnage_df['daily_leaves'].fillna(0)\n",
        "tonnage_df['daily_xmas'] = tonnage_df['daily_xmas'].fillna(0)\n",
        "\n",
        "# Calculate cumulative sums for each category, resetting each month\n",
        "tonnage_df['refuse'] = tonnage_df.groupby(['borough_id', 'community_district', 'year', 'month'])['daily_refuse'].cumsum()\n",
        "tonnage_df['paper'] = tonnage_df.groupby(['borough_id', 'community_district', 'year', 'month'])['daily_paper'].cumsum()\n",
        "tonnage_df['mgp'] = tonnage_df.groupby(['borough_id', 'community_district', 'year', 'month'])['daily_mgp'].cumsum()\n",
        "tonnage_df['res_organic'] = tonnage_df.groupby(['borough_id', 'community_district', 'year', 'month'])['daily_res_organic'].cumsum()\n",
        "tonnage_df['school_organic'] = tonnage_df.groupby(['borough_id', 'community_district', 'year', 'month'])['daily_school_organic'].cumsum()\n",
        "tonnage_df['leaves'] = tonnage_df.groupby(['borough_id', 'community_district', 'year', 'month'])['daily_leaves'].cumsum()\n",
        "tonnage_df['xmas'] = tonnage_df.groupby(['borough_id', 'community_district', 'year', 'month'])['daily_xmas'].cumsum()\n",
        "\n",
        "# Drop temporary columns that are no longer needed\n",
        "tonnage_df.drop(columns=['year', 'month', 'daily_refuse', 'daily_paper', 'daily_mgp',\n",
        "                         'daily_res_organic', 'daily_school_organic', 'daily_leaves', 'daily_xmas'], inplace=True)\n",
        "\n",
        "tonnage_df.rename(columns={\n",
        "    'date_x': 'date'\n",
        "}, inplace=True)\n",
        "\n",
        "# Display the result\n",
        "# tonnage_df\n"
      ],
      "metadata": {
        "id": "okH_T1q4QaK5"
      },
      "execution_count": null,
      "outputs": []
    },
    {
      "cell_type": "markdown",
      "source": [
        "###normalize population data frequency"
      ],
      "metadata": {
        "id": "tCgppZJ3T_MK"
      }
    },
    {
      "cell_type": "code",
      "source": [
        "populations = conn.execute(\"SELECT * FROM population\").fetchdf()"
      ],
      "metadata": {
        "id": "F4qaHU3PUbeZ"
      },
      "execution_count": null,
      "outputs": []
    },
    {
      "cell_type": "code",
      "source": [
        "area = conn.execute(\"SELECT * FROM area\").fetchdf()"
      ],
      "metadata": {
        "id": "H60TbNYosTMI"
      },
      "execution_count": null,
      "outputs": []
    },
    {
      "cell_type": "code",
      "source": [
        "# add the change in population from each year\n",
        "df_population_change = pd.DataFrame({\n",
        "    'Borough': populations['Borough'],\n",
        "    'community_district': populations['CD_Number'],\n",
        "    'CD_Name': populations['CD_Name'],\n",
        "    'Change_1970_1980': populations['Population_1980'] - populations['Population_1970'],\n",
        "    'Change_1980_1990': populations['Population_1990'] - populations['Population_1980'],\n",
        "    'Change_1990_2000': populations['Population_2000'] - populations['Population_1990'],\n",
        "    'Change_2000_2010': populations['Population_2010'] - populations['Population_2000']\n",
        "})"
      ],
      "metadata": {
        "id": "7CeQ8me2V_PA"
      },
      "execution_count": null,
      "outputs": []
    },
    {
      "cell_type": "markdown",
      "source": [
        "project the growth from 2000 to 2010 onto the data on a yearly basis. growth continues after 2010 as we have no newer values to use"
      ],
      "metadata": {
        "id": "zJGHBfrwuWc0"
      }
    },
    {
      "cell_type": "code",
      "source": [
        "df_population = populations.copy()\n",
        "\n",
        "df_population['Change_2000_2010'] = df_population['Population_2010'] - df_population['Population_2000']\n",
        "\n",
        "# Calculate the annual growth rate (growth per year between 2000 and 2010). keep using this factor for growth after 2010 as well\n",
        "df_population['Annual_Growth_Rate'] = df_population['Change_2000_2010'] / 10\n",
        "\n",
        "# Set the starting year to 2000 and the target years 2000-2025\n",
        "start_year = 2000\n",
        "end_year = 2025\n",
        "\n",
        "# Create a list to hold the daily projected data\n",
        "daily_data = []\n",
        "\n",
        "# Loop through each row of the population DataFrame to project data for each Borough and CD\n",
        "for _, row in df_population.iterrows():\n",
        "    # Starting population from 2000\n",
        "    population_2000 = row['Population_2000']\n",
        "    growth_rate = row['Annual_Growth_Rate']\n",
        "\n",
        "    # Loop through each year and calculate the projected population for each day\n",
        "    for year in range(start_year, end_year + 1):\n",
        "        # Generate a date range for the current year (January 1 to December 31)\n",
        "        date_range = pd.date_range(start=f'{year}-01-01', end=f'{year}-12-31', freq='D')\n",
        "\n",
        "        # Calculate the projected population for this year (using the annual growth rate)\n",
        "        projected_population = population_2000 + (year - start_year) * growth_rate\n",
        "\n",
        "        # get the value for area of the resulting borough and cd_number\n",
        "        area_value = area.loc[(area['Borough'] == row['Borough']) & (area['CD_Number'] == row['CD_Number']), 'Square_Miles'].values[0]\n",
        "\n",
        "        # Create a DataFrame for this year's daily population data\n",
        "        temp_df = pd.DataFrame({\n",
        "            'date': date_range,\n",
        "            'Borough': row['Borough'],\n",
        "            'community_district': row['CD_Number'],\n",
        "            'CD_Name': row['CD_Name'],\n",
        "            'Projected_Population': projected_population,\n",
        "            'projected_density': projected_population / area_value\n",
        "        })\n",
        "\n",
        "        # Append the data to the list\n",
        "        daily_data.append(temp_df)\n",
        "\n",
        "# Concatenate all the daily data into one DataFrame\n",
        "population_df = pd.concat(daily_data, ignore_index=True)"
      ],
      "metadata": {
        "id": "pvkuiklNWUKf"
      },
      "execution_count": null,
      "outputs": []
    },
    {
      "cell_type": "markdown",
      "source": [],
      "metadata": {
        "id": "ZjmB2f3SmtAI"
      }
    },
    {
      "cell_type": "code",
      "source": [
        "population_df['borough_id'] = population_df['Borough'].apply(lambda x: 1 if x == 'Manhattan' else (2 if x == 'Bronx' else (3 if x == 'Brooklyn' else (4 if x == 'Queens' else 5))))\n",
        "population_df.drop(columns=['Borough', \"CD_Name\"], inplace=True)"
      ],
      "metadata": {
        "id": "93J6vhS9msvg"
      },
      "execution_count": null,
      "outputs": []
    },
    {
      "cell_type": "markdown",
      "source": [],
      "metadata": {
        "id": "sFP2SWCCaJHH"
      }
    },
    {
      "cell_type": "markdown",
      "source": [
        "##Data Preprocessing Before the Model"
      ],
      "metadata": {
        "id": "Y2qwcgwicQ5R"
      }
    },
    {
      "cell_type": "code",
      "source": [
        "weather_df = conn.execute(\"SELECT * FROM weather\").fetchdf()\n",
        "weather_df = weather_df[weather_df[\"date\"] >= \"2000-01-01\"]"
      ],
      "metadata": {
        "id": "fe4Ey5xzekM6"
      },
      "execution_count": null,
      "outputs": []
    },
    {
      "cell_type": "code",
      "source": [
        "# asserting community_district row in tonnage_df as an int\n",
        "# necessary to ensure that merge works correctly\n",
        "print(len(tonnage))\n",
        "tonnage_df = tonnage_df.dropna()\n",
        "print(len(tonnage))\n",
        "\n",
        "tonnage_df['community_district'] = pd.to_numeric(tonnage_df['community_district'], errors='coerce')\n",
        "\n",
        "print(len(tonnage))\n",
        "tonnage_df = tonnage_df.dropna()\n",
        "print(len(tonnage))\n",
        "\n",
        "tonnage_df['community_district'] = tonnage_df['community_district'].astype(int)"
      ],
      "metadata": {
        "colab": {
          "base_uri": "https://localhost:8080/"
        },
        "id": "7UjpvXvkrFE-",
        "outputId": "6a159d9b-15d7-4a07-fd68-90c227376ea0"
      },
      "execution_count": null,
      "outputs": [
        {
          "output_type": "stream",
          "name": "stdout",
          "text": [
            "24122\n",
            "24122\n",
            "24122\n",
            "24122\n"
          ]
        },
        {
          "output_type": "stream",
          "name": "stderr",
          "text": [
            "<ipython-input-61-d72f820da649>:13: SettingWithCopyWarning: \n",
            "A value is trying to be set on a copy of a slice from a DataFrame.\n",
            "Try using .loc[row_indexer,col_indexer] = value instead\n",
            "\n",
            "See the caveats in the documentation: https://pandas.pydata.org/pandas-docs/stable/user_guide/indexing.html#returning-a-view-versus-a-copy\n",
            "  tonnage_df['community_district'] = tonnage_df['community_district'].astype(int)\n"
          ]
        }
      ]
    },
    {
      "cell_type": "code",
      "source": [
        "# merge weather_df and population_df together\n",
        "df = pd.merge(weather_df, population_df, on=['date'] , how='left')\n",
        "\n",
        "# merge the result with tonnage_df\n",
        "df = pd.merge(df, tonnage_df, on=['date', 'borough_id', 'community_district'], how='left')\n",
        "\n",
        "# Ensure the 'date' column is datetime type\n",
        "df['date'] = pd.to_datetime(df['date'])"
      ],
      "metadata": {
        "id": "lOx0fOYdcXH-"
      },
      "execution_count": null,
      "outputs": []
    },
    {
      "cell_type": "markdown",
      "source": [
        "###Data Splitting and Scaling"
      ],
      "metadata": {
        "id": "F6slPNHEzZhH"
      }
    },
    {
      "cell_type": "code",
      "source": [
        "# ensure values are sorted properly\n",
        "df.sort_values('date')\n",
        "\n",
        "split_date = \"2020-01-01\"\n",
        "train_df = df[df['date'] < split_date]\n",
        "\n",
        "train_df = train_df[train_df['date'] >= \"2008-01-01\"]\n",
        "test_df = df[df['date'] >= split_date]"
      ],
      "metadata": {
        "id": "Rh6R-3vCzbFj"
      },
      "execution_count": null,
      "outputs": []
    },
    {
      "cell_type": "code",
      "source": [
        "test_df.to_csv(\"non_scaled_test.csv\")"
      ],
      "metadata": {
        "id": "BRzBh5UeI-HE"
      },
      "execution_count": null,
      "outputs": []
    },
    {
      "cell_type": "code",
      "source": [
        "scaler = pre.StandardScaler()\n",
        "scaled_train = scaler.fit_transform(train_df[['borough_id', 'community_district', 'refuse', 'paper', 'mgp', 'res_organic', 'school_organic', 'leaves', 'xmas', 'precipitation', 'snow_fall', 'snow_depth', 'max_temp', 'min_temp', 'Projected_Population', 'projected_density']])\n",
        "\n",
        "scaled_test = scaler.transform(test_df[['borough_id', 'community_district', 'refuse', 'paper', 'mgp', 'res_organic', 'school_organic', 'leaves', 'xmas', 'precipitation', 'snow_fall', 'snow_depth', 'max_temp', 'min_temp', 'Projected_Population', 'projected_density']])"
      ],
      "metadata": {
        "id": "thonDUWt2hxG"
      },
      "execution_count": null,
      "outputs": []
    },
    {
      "cell_type": "code",
      "source": [
        "#np.savetxt(\"temp_scaled_train.csv\", scaled_train, delimiter=\",\")\n",
        "#np.savetxt('temp_scaled_test.csv', scaled_test, delimiter=\",\")"
      ],
      "metadata": {
        "id": "Zx_NNRHcCm10"
      },
      "execution_count": null,
      "outputs": []
    },
    {
      "cell_type": "code",
      "source": [
        "target_cols = ['refuse', 'paper', 'mgp', 'res_organic', 'school_organic', 'leaves', 'xmas']\n",
        "\n",
        "X_train_full = scaled_train\n",
        "y_train_no_scale = train_df[target_cols].values\n",
        "\n",
        "X_test_full = scaled_test\n",
        "y_test_no_scale = test_df[target_cols].values"
      ],
      "metadata": {
        "id": "-4MoVshOB9BS"
      },
      "execution_count": null,
      "outputs": []
    },
    {
      "cell_type": "code",
      "source": [
        "y_scaler = pre.StandardScaler()\n",
        "\n",
        "\n",
        "y_train_reduced = y_scaler.fit_transform(y_train_no_scale)\n",
        "y_test_reduced = y_scaler.transform(y_test_no_scale)"
      ],
      "metadata": {
        "id": "rjHjXTlbAzGL"
      },
      "execution_count": null,
      "outputs": []
    },
    {
      "cell_type": "code",
      "source": [
        "y_mean = y_scaler.mean_\n",
        "y_std = y_scaler.scale_\n",
        "print(f\"Mean: {y_mean}, Std: {y_std}\")"
      ],
      "metadata": {
        "colab": {
          "base_uri": "https://localhost:8080/"
        },
        "id": "-2Mc37-kFX-E",
        "outputId": "c6e7dec6-16ee-460b-bd59-2c3d6b0d44d7"
      },
      "execution_count": null,
      "outputs": [
        {
          "output_type": "stream",
          "name": "stdout",
          "text": [
            "Mean: [1862.341449 218.667119 180.291553 33.772147 20.242175 0.695124 1.156125], Std: [1314.639668 187.954391 138.788594 42.238737 25.925356 9.291520 6.146090]\n"
          ]
        }
      ]
    },
    {
      "cell_type": "markdown",
      "source": [
        "#Make ML Model"
      ],
      "metadata": {
        "id": "Ja5craJU9jp0"
      }
    },
    {
      "cell_type": "markdown",
      "source": [
        "###Functions for testing"
      ],
      "metadata": {
        "id": "36B_0QGC8yzf"
      }
    },
    {
      "cell_type": "markdown",
      "source": [
        "Sequencing, and Reshaping"
      ],
      "metadata": {
        "id": "BoROVnRujgUt"
      }
    },
    {
      "cell_type": "code",
      "source": [
        "def create_sequences(X, y, time_steps):\n",
        "    X_seq, y_seq = [], []\n",
        "    for i in range(len(X) - time_steps):\n",
        "        X_seq.append(X[i:i+time_steps])  # Input sequence\n",
        "        y_seq.append(y[i+time_steps])    # Target at future time step\n",
        "    return np.array(X_seq), np.array(y_seq)"
      ],
      "metadata": {
        "id": "NSlpENWEjoZE"
      },
      "execution_count": null,
      "outputs": []
    },
    {
      "cell_type": "code",
      "source": [
        "time_steps = 32\n",
        "\n",
        "X_train, y_train = create_sequences(X_train_full, y_train_reduced, time_steps)\n",
        "X_test, y_test = create_sequences(X_test_full, y_test_reduced, time_steps)"
      ],
      "metadata": {
        "id": "fk9Akdo3jsTa"
      },
      "execution_count": null,
      "outputs": []
    },
    {
      "cell_type": "code",
      "source": [
        "X_train = X_train.reshape((X_train.shape[0], X_train.shape[1], X_train.shape[2]))\n",
        "X_test = X_test.reshape((X_test.shape[0], X_test.shape[1], X_test.shape[2]))"
      ],
      "metadata": {
        "id": "D-GILJNDjpIM"
      },
      "execution_count": null,
      "outputs": []
    },
    {
      "cell_type": "code",
      "source": [
        "print(X_train.shape)\n",
        "print(y_train.shape)\n",
        "print(X_test.shape)\n",
        "print(y_test.shape)"
      ],
      "metadata": {
        "colab": {
          "base_uri": "https://localhost:8080/"
        },
        "id": "T-KoDtGRQIH8",
        "outputId": "22b52347-b6aa-4ef1-ea61-718fb4f17150"
      },
      "execution_count": null,
      "outputs": [
        {
          "output_type": "stream",
          "name": "stdout",
          "text": [
            "(258565, 32, 16)\n",
            "(258565, 7)\n",
            "(64514, 32, 16)\n",
            "(64514, 7)\n"
          ]
        }
      ]
    },
    {
      "cell_type": "code",
      "source": [
        "# reduce ram usage\n",
        "\n",
        "X_train = X_train.astype('float16')\n",
        "y_train = y_train.astype('float16')\n",
        "X_test = X_test.astype('float16')\n",
        "y_test = y_test.astype('float16')"
      ],
      "metadata": {
        "id": "_g2xTSa7j21U"
      },
      "execution_count": null,
      "outputs": []
    },
    {
      "cell_type": "code",
      "source": [
        "def fit_and_evaluate(model, X_train, y_train, X_test, y_test, learning_rate, epochs):\n",
        "    early_stopping_cb = tf.keras.callbacks.EarlyStopping(\n",
        "        monitor=\"val_mae\", patience=50, restore_best_weights=True)\n",
        "\n",
        "    opt = tf.keras.optimizers.Adam(learning_rate=learning_rate)\n",
        "\n",
        "    model.compile(loss=\"mae\", optimizer=opt, metrics=[\"mae\"])\n",
        "\n",
        "    history = model.fit(X_train, y_train, validation_data=(X_test, y_test), epochs=epochs,\n",
        "                        callbacks=[early_stopping_cb])\n",
        "\n",
        "    # Evaluate on test set\n",
        "    valid_loss, valid_mae = model.evaluate(X_test, y_test)\n",
        "\n",
        "    # Generate predictions\n",
        "    predictions = model.predict(X_test)\n",
        "\n",
        "    return valid_mae, predictions"
      ],
      "metadata": {
        "id": "eWOqEWsX81OT"
      },
      "execution_count": null,
      "outputs": []
    },
    {
      "cell_type": "markdown",
      "source": [
        "###building model"
      ],
      "metadata": {
        "id": "gG2iBJpxak6Q"
      }
    },
    {
      "cell_type": "code",
      "source": [
        "target_cols_len = len(target_cols)"
      ],
      "metadata": {
        "id": "1doxcbmP8A8K"
      },
      "execution_count": null,
      "outputs": []
    },
    {
      "cell_type": "code",
      "source": [
        "tf.random.set_seed(42)  # extra code – ensures reproducibility\n",
        "lstm_model = tf.keras.models.Sequential([\n",
        "    tf.keras.layers.LSTM(45, return_sequences=True, activation='tanh', input_shape=[X_train.shape[1], X_train.shape[2]]),\n",
        "    tf.keras.layers.LSTM(15, return_sequences=False, activation='tanh'),\n",
        "    tf.keras.layers.Dense(target_cols_len)\n",
        "])\n",
        "\n",
        "lstm_model.load_weights(\"bdt_project/lstm_1.weights.h5\")\n",
        "preds = lstm_model.predict(X_test)"
      ],
      "metadata": {
        "id": "1GnNOUrNahiR",
        "colab": {
          "base_uri": "https://localhost:8080/"
        },
        "outputId": "e972b9f7-ce8e-453c-b986-21dd1e302112"
      },
      "execution_count": null,
      "outputs": [
        {
          "output_type": "stream",
          "name": "stderr",
          "text": [
            "/usr/local/lib/python3.11/dist-packages/keras/src/layers/rnn/rnn.py:200: UserWarning: Do not pass an `input_shape`/`input_dim` argument to a layer. When using Sequential models, prefer using an `Input(shape)` object as the first layer in the model instead.\n",
            "  super().__init__(**kwargs)\n"
          ]
        },
        {
          "output_type": "stream",
          "name": "stdout",
          "text": [
            "\u001b[1m2017/2017\u001b[0m \u001b[32m━━━━━━━━━━━━━━━━━━━━\u001b[0m\u001b[37m\u001b[0m \u001b[1m6s\u001b[0m 3ms/step\n"
          ]
        }
      ]
    },
    {
      "cell_type": "code",
      "source": [
        "lstm_model.summary()"
      ],
      "metadata": {
        "colab": {
          "base_uri": "https://localhost:8080/",
          "height": 232
        },
        "id": "PeZYsYmNO_Mc",
        "outputId": "7acb56fc-4649-4edb-d7ff-199203594c58"
      },
      "execution_count": null,
      "outputs": [
        {
          "output_type": "display_data",
          "data": {
            "text/plain": [
              "\u001b[1mModel: \"sequential\"\u001b[0m\n"
            ],
            "text/html": [
              "<pre style=\"white-space:pre;overflow-x:auto;line-height:normal;font-family:Menlo,'DejaVu Sans Mono',consolas,'Courier New',monospace\"><span style=\"font-weight: bold\">Model: \"sequential\"</span>\n",
              "</pre>\n"
            ]
          },
          "metadata": {}
        },
        {
          "output_type": "display_data",
          "data": {
            "text/plain": [
              "┏━━━━━━━━━━━━━━━━━━━━━━━━━━━━━━━━━━━━━━┳━━━━━━━━━━━━━━━━━━━━━━━━━━━━━┳━━━━━━━━━━━━━━━━━┓\n",
              "┃\u001b[1m \u001b[0m\u001b[1mLayer (type)                        \u001b[0m\u001b[1m \u001b[0m┃\u001b[1m \u001b[0m\u001b[1mOutput Shape               \u001b[0m\u001b[1m \u001b[0m┃\u001b[1m \u001b[0m\u001b[1m        Param #\u001b[0m\u001b[1m \u001b[0m┃\n",
              "┡━━━━━━━━━━━━━━━━━━━━━━━━━━━━━━━━━━━━━━╇━━━━━━━━━━━━━━━━━━━━━━━━━━━━━╇━━━━━━━━━━━━━━━━━┩\n",
              "│ lstm (\u001b[38;5;33mLSTM\u001b[0m)                          │ (\u001b[38;5;45mNone\u001b[0m, \u001b[38;5;34m32\u001b[0m, \u001b[38;5;34m45\u001b[0m)              │          \u001b[38;5;34m11,160\u001b[0m │\n",
              "├──────────────────────────────────────┼─────────────────────────────┼─────────────────┤\n",
              "│ lstm_1 (\u001b[38;5;33mLSTM\u001b[0m)                        │ (\u001b[38;5;45mNone\u001b[0m, \u001b[38;5;34m15\u001b[0m)                  │           \u001b[38;5;34m3,660\u001b[0m │\n",
              "├──────────────────────────────────────┼─────────────────────────────┼─────────────────┤\n",
              "│ dense (\u001b[38;5;33mDense\u001b[0m)                        │ (\u001b[38;5;45mNone\u001b[0m, \u001b[38;5;34m7\u001b[0m)                   │             \u001b[38;5;34m112\u001b[0m │\n",
              "└──────────────────────────────────────┴─────────────────────────────┴─────────────────┘\n"
            ],
            "text/html": [
              "<pre style=\"white-space:pre;overflow-x:auto;line-height:normal;font-family:Menlo,'DejaVu Sans Mono',consolas,'Courier New',monospace\">┏━━━━━━━━━━━━━━━━━━━━━━━━━━━━━━━━━━━━━━┳━━━━━━━━━━━━━━━━━━━━━━━━━━━━━┳━━━━━━━━━━━━━━━━━┓\n",
              "┃<span style=\"font-weight: bold\"> Layer (type)                         </span>┃<span style=\"font-weight: bold\"> Output Shape                </span>┃<span style=\"font-weight: bold\">         Param # </span>┃\n",
              "┡━━━━━━━━━━━━━━━━━━━━━━━━━━━━━━━━━━━━━━╇━━━━━━━━━━━━━━━━━━━━━━━━━━━━━╇━━━━━━━━━━━━━━━━━┩\n",
              "│ lstm (<span style=\"color: #0087ff; text-decoration-color: #0087ff\">LSTM</span>)                          │ (<span style=\"color: #00d7ff; text-decoration-color: #00d7ff\">None</span>, <span style=\"color: #00af00; text-decoration-color: #00af00\">32</span>, <span style=\"color: #00af00; text-decoration-color: #00af00\">45</span>)              │          <span style=\"color: #00af00; text-decoration-color: #00af00\">11,160</span> │\n",
              "├──────────────────────────────────────┼─────────────────────────────┼─────────────────┤\n",
              "│ lstm_1 (<span style=\"color: #0087ff; text-decoration-color: #0087ff\">LSTM</span>)                        │ (<span style=\"color: #00d7ff; text-decoration-color: #00d7ff\">None</span>, <span style=\"color: #00af00; text-decoration-color: #00af00\">15</span>)                  │           <span style=\"color: #00af00; text-decoration-color: #00af00\">3,660</span> │\n",
              "├──────────────────────────────────────┼─────────────────────────────┼─────────────────┤\n",
              "│ dense (<span style=\"color: #0087ff; text-decoration-color: #0087ff\">Dense</span>)                        │ (<span style=\"color: #00d7ff; text-decoration-color: #00d7ff\">None</span>, <span style=\"color: #00af00; text-decoration-color: #00af00\">7</span>)                   │             <span style=\"color: #00af00; text-decoration-color: #00af00\">112</span> │\n",
              "└──────────────────────────────────────┴─────────────────────────────┴─────────────────┘\n",
              "</pre>\n"
            ]
          },
          "metadata": {}
        },
        {
          "output_type": "display_data",
          "data": {
            "text/plain": [
              "\u001b[1m Total params: \u001b[0m\u001b[38;5;34m14,932\u001b[0m (58.33 KB)\n"
            ],
            "text/html": [
              "<pre style=\"white-space:pre;overflow-x:auto;line-height:normal;font-family:Menlo,'DejaVu Sans Mono',consolas,'Courier New',monospace\"><span style=\"font-weight: bold\"> Total params: </span><span style=\"color: #00af00; text-decoration-color: #00af00\">14,932</span> (58.33 KB)\n",
              "</pre>\n"
            ]
          },
          "metadata": {}
        },
        {
          "output_type": "display_data",
          "data": {
            "text/plain": [
              "\u001b[1m Trainable params: \u001b[0m\u001b[38;5;34m14,932\u001b[0m (58.33 KB)\n"
            ],
            "text/html": [
              "<pre style=\"white-space:pre;overflow-x:auto;line-height:normal;font-family:Menlo,'DejaVu Sans Mono',consolas,'Courier New',monospace\"><span style=\"font-weight: bold\"> Trainable params: </span><span style=\"color: #00af00; text-decoration-color: #00af00\">14,932</span> (58.33 KB)\n",
              "</pre>\n"
            ]
          },
          "metadata": {}
        },
        {
          "output_type": "display_data",
          "data": {
            "text/plain": [
              "\u001b[1m Non-trainable params: \u001b[0m\u001b[38;5;34m0\u001b[0m (0.00 B)\n"
            ],
            "text/html": [
              "<pre style=\"white-space:pre;overflow-x:auto;line-height:normal;font-family:Menlo,'DejaVu Sans Mono',consolas,'Courier New',monospace\"><span style=\"font-weight: bold\"> Non-trainable params: </span><span style=\"color: #00af00; text-decoration-color: #00af00\">0</span> (0.00 B)\n",
              "</pre>\n"
            ]
          },
          "metadata": {}
        }
      ]
    },
    {
      "cell_type": "markdown",
      "source": [
        "###evaluate model"
      ],
      "metadata": {
        "id": "wxJKozWb8548"
      }
    },
    {
      "cell_type": "code",
      "source": [
        "# size of X_train in bytes\n",
        "print(X_train.itemsize * X_train.size)"
      ],
      "metadata": {
        "colab": {
          "base_uri": "https://localhost:8080/"
        },
        "id": "xFyfw8VHQswP",
        "outputId": "67fcd56c-d2a2-4f03-d14b-384d612b4eda"
      },
      "execution_count": null,
      "outputs": [
        {
          "output_type": "stream",
          "name": "stdout",
          "text": [
            "264770560\n"
          ]
        }
      ]
    },
    {
      "cell_type": "code",
      "source": [
        "# mae, preds = fit_and_evaluate(lstm_model, X_train, y_train, X_test, y_test, .00062, 15)"
      ],
      "metadata": {
        "id": "ZSWC6gje-Kj-"
      },
      "execution_count": null,
      "outputs": []
    },
    {
      "cell_type": "code",
      "source": [
        "# print(f\"Validation MAE: {mae}\")"
      ],
      "metadata": {
        "id": "sOkAheWZgU90"
      },
      "execution_count": null,
      "outputs": []
    },
    {
      "cell_type": "code",
      "source": [
        "#lstm_model.save_weights(\"bdt_project/lstm_1.weights.h5\")"
      ],
      "metadata": {
        "id": "zGL-tCToYudC"
      },
      "execution_count": null,
      "outputs": []
    },
    {
      "cell_type": "code",
      "source": [
        "test_indices = test_df.reset_index(drop=True).index\n",
        "\n",
        "# The target for each sequence is from index: i + time_steps\n",
        "target_indices = test_indices[time_steps:]  # This corresponds to your y_test\n",
        "\n",
        "# Get borough and community district values for these indices:\n",
        "metadata = test_df[['borough_id', 'community_district', 'date']].reset_index(drop=True).iloc[time_steps:]\n",
        "pred_df = pd.DataFrame(preds, columns=target_cols)\n",
        "pred_df = pd.concat([metadata.reset_index(drop=True), pred_df], axis=1)\n",
        "print(pred_df.head())"
      ],
      "metadata": {
        "colab": {
          "base_uri": "https://localhost:8080/"
        },
        "id": "L23wpgIGirkR",
        "outputId": "075653c0-eeda-478f-b497-2a33b9ad2ee0"
      },
      "execution_count": null,
      "outputs": [
        {
          "output_type": "stream",
          "name": "stdout",
          "text": [
            "   borough_id  community_district       date    refuse     paper       mgp  \\\n",
            "0           1                   3 2020-01-01 -1.346792 -1.105178 -1.212131   \n",
            "1           1                   4 2020-01-01 -1.358142 -1.060596 -1.192124   \n",
            "2           1                   5 2020-01-01 -1.373314 -1.100222 -1.255674   \n",
            "3           1                   6 2020-01-01 -1.328378 -1.065388 -1.170138   \n",
            "4           1                   7 2020-01-01 -1.325456 -0.955367 -1.098219   \n",
            "\n",
            "   res_organic  school_organic    leaves      xmas  \n",
            "0    -0.790601       -0.718171 -0.074801  0.009099  \n",
            "1    -0.777133       -0.744224 -0.074790 -0.041275  \n",
            "2    -0.795108       -0.772141 -0.074789 -0.070894  \n",
            "3    -0.772680       -0.763949 -0.074818  0.058129  \n",
            "4    -0.783617       -0.729486 -0.074832  0.166270  \n"
          ]
        }
      ]
    },
    {
      "cell_type": "code",
      "source": [
        "np.set_printoptions(formatter={'float_kind':'{:f}'.format})\n",
        "\n",
        "# inverse scale the predictions and y_testing values for comparison\n",
        "pred_df[target_cols] = y_scaler.inverse_transform(pred_df[target_cols])\n",
        "y_pred_final = pred_df[target_cols]\n",
        "y_pred_final = y_pred_final.to_numpy()\n",
        "y_test_final = y_scaler.inverse_transform(y_test)\n",
        "\n",
        "# print first few results\n",
        "print(y_pred_final[:5], '\\n')\n",
        "print(y_test_final[:5])"
      ],
      "metadata": {
        "colab": {
          "base_uri": "https://localhost:8080/"
        },
        "id": "zES7OAcPINYN",
        "outputId": "ed15fb4b-59c2-4476-99f5-d62605db7a43"
      },
      "execution_count": null,
      "outputs": [
        {
          "output_type": "stream",
          "name": "stdout",
          "text": [
            "[[91.795303 10.944081 12.061557 0.378181 1.623335 0.000109 1.212046]\n",
            " [76.873550 19.323538 14.838382 0.947048 0.947909 0.000212 0.902444]\n",
            " [56.928242 11.875493 6.018283 0.187782 0.224142 0.000218 0.720407]\n",
            " [116.002823 18.422705 17.889774 1.135120 0.436533 -0.000050 1.513390]\n",
            " [119.843887 39.101719 27.871235 0.673137 1.329987 -0.000183 2.178033]] \n",
            "\n",
            "[[92.312500 12.414062 11.789062 0.646973 1.742188 -0.000189 0.645508]\n",
            " [74.312500 17.546875 14.789062 1.147461 0.757812 -0.000189 0.958008]\n",
            " [42.343750 9.539062 6.542969 0.147095 0.007801 -0.000189 0.722656]\n",
            " [89.312500 19.921875 15.789062 1.241211 0.007801 -0.000189 1.322266]\n",
            " [151.375000 36.781250 27.671875 1.366211 1.601562 -0.000189 2.613281]]\n"
          ]
        }
      ]
    },
    {
      "cell_type": "code",
      "source": [
        "print(pred_df.shape)\n",
        "print(y_pred_final.shape)\n",
        "print(type(y_pred_final))\n",
        "print(y_test_final.shape)\n",
        "print(type(y_test_final))\n"
      ],
      "metadata": {
        "colab": {
          "base_uri": "https://localhost:8080/"
        },
        "id": "WEKRhuy9u72X",
        "outputId": "d349d253-4eba-44e3-91b2-1ac924c596da"
      },
      "execution_count": null,
      "outputs": [
        {
          "output_type": "stream",
          "name": "stdout",
          "text": [
            "(64514, 10)\n",
            "(64514, 7)\n",
            "<class 'numpy.ndarray'>\n",
            "(64514, 7)\n",
            "<class 'numpy.ndarray'>\n"
          ]
        }
      ]
    },
    {
      "cell_type": "code",
      "source": [
        "plt.scatter(y_test[:, 0], y_pred_final[:, 0], label=\"refuse\")"
      ],
      "metadata": {
        "colab": {
          "base_uri": "https://localhost:8080/",
          "height": 451
        },
        "id": "MGbfrw8qJmLL",
        "outputId": "a92bfded-7cff-4d88-845c-1e23cf686f76"
      },
      "execution_count": null,
      "outputs": [
        {
          "output_type": "execute_result",
          "data": {
            "text/plain": [
              "<matplotlib.collections.PathCollection at 0x7d2f89e44110>"
            ]
          },
          "metadata": {},
          "execution_count": 85
        },
        {
          "output_type": "display_data",
          "data": {
            "text/plain": [
              "<Figure size 640x480 with 1 Axes>"
            ],
            "image/png": "[encoded data removed]"
          },
          "metadata": {}
        }
      ]
    },
    {
      "cell_type": "code",
      "source": [
        "from sklearn.metrics import r2_score\n",
        "\n",
        "r2_score(y_test_final[:, 0], y_pred_final[:, 0])"
      ],
      "metadata": {
        "colab": {
          "base_uri": "https://localhost:8080/"
        },
        "id": "00X0b8ElgFu-",
        "outputId": "e58e6319-9aa3-4997-bdcc-480cb3b81e66"
      },
      "execution_count": null,
      "outputs": [
        {
          "output_type": "execute_result",
          "data": {
            "text/plain": [
              "0.9887686371803284"
            ]
          },
          "metadata": {},
          "execution_count": 86
        }
      ]
    },
    {
      "cell_type": "markdown",
      "source": [
        "#Build a graph"
      ],
      "metadata": {
        "id": "MF6wh5X2R3tL"
      }
    },
    {
      "cell_type": "markdown",
      "source": [
        "##Processing data to be ready for a graph"
      ],
      "metadata": {
        "id": "_K9Z0Mmh1isY"
      }
    },
    {
      "cell_type": "markdown",
      "source": [
        "###Recycling Bins"
      ],
      "metadata": {
        "id": "cl0j0RtmOruO"
      }
    },
    {
      "cell_type": "markdown",
      "source": [
        "Staten Island = 5, Queens = 4, Brooklyn = 3, Bronx = 2, Manhattan = 1"
      ],
      "metadata": {
        "id": "f5qHTRP6UopP"
      }
    },
    {
      "cell_type": "code",
      "source": [
        "locations = pd.DataFrame()\n",
        "recycling_bins = conn.execute(\"SELECT * FROM bins\").fetchdf()\n",
        "\n",
        "# switch from abreviation to true value\n",
        "recycling_bins['borough'] = recycling_bins['dsny_zone'].apply(lambda x: 'Manhattan' if x == 'MAN' else ('Bronx' if x == 'BX' else ('Brooklyn' if x == 'BKN' else ('Queens' if x == 'QE' else ('Queens' if x == 'QW' else( 'Staten Island'))))))\n",
        "\n",
        "# give numeric value for true value\n",
        "recycling_bins['borough_id'] = recycling_bins['dsny_zone'].apply(lambda x: 1 if x == 'Manhattan' else (2 if x == 'Bronx' else (3 if x == 'Brooklyn' else (4 if x == 'Queens' else 5))))\n",
        "\n",
        "# clean up address formatting. better for making queries to the address api\n",
        "recycling_bins['site_location'] = recycling_bins['site_location'].apply(lambda x: x.split(' -')[0])\n",
        "\n",
        "# drop duplicate values from the dataset\n",
        "recycling_bins = recycling_bins.drop_duplicates(subset=['site_location'], keep='first')"
      ],
      "metadata": {
        "id": "1cYPKcQteNQk"
      },
      "execution_count": null,
      "outputs": []
    },
    {
      "cell_type": "code",
      "source": [
        "OPENCAGE_API_KEY = \"596740f709444a94a58777ea23b70c5e\"\n",
        "geocoder = OpenCageGeocode(OPENCAGE_API_KEY)\n",
        "\n",
        "def get_lat_lon_opencage(address):\n",
        "    result = geocoder.geocode(address)\n",
        "    if result:\n",
        "        return result[0][\"geometry\"][\"lat\"], result[0][\"geometry\"][\"lng\"]\n",
        "    print(\"no result\")\n",
        "    return None\n"
      ],
      "metadata": {
        "id": "gkmENouzPcoG"
      },
      "execution_count": null,
      "outputs": []
    },
    {
      "cell_type": "code",
      "source": [
        "for index, row in recycling_bins.iterrows():\n",
        "  point = f\"{row['site_location']}, {row['borough']}, NY\"\n",
        "\n",
        "  # clean up address formatting\n",
        "  point = point.replace('/', ' ')\n",
        "\n",
        "  # some address start with a letter and then integers. ex: 'b17'. splits up chars and numbers\n",
        "  match = re.match(r\"([a-z]+)([0-9]+)\", point, re.I)\n",
        "  if match:\n",
        "    # gets chars and numbers\n",
        "    items = match.groups()\n",
        "    # split on the character. keep the remainder of the string\n",
        "    point = point.split(items[0], 1)[1]\n",
        "  #t.sleep(1)\n",
        "  location = get_lat_lon_opencage(point)\n",
        "  # print(f\"{location} - {point}\")\n",
        "  if location:\n",
        "    locations.loc[index, 'latitude'] = location[0]\n",
        "    locations.loc[index, 'longitude'] = location[1]\n",
        "    locations.loc[index, 'type'] = 'recycling_bin'\n",
        "\n",
        "    match = re.match(r\"([a-z]+)([0-9]+)\", row['dsny_district'], re.I)\n",
        "    items = match.groups()\n",
        "    locations.loc[index, 'cd_number'] = int(items[1])"
      ],
      "metadata": {
        "id": "6DcWk2YsKDrr"
      },
      "execution_count": null,
      "outputs": []
    },
    {
      "cell_type": "code",
      "source": [
        "# dropping duplicates\n",
        "# duplicates are just a general value for the address. specific address can't be found\n",
        "locations = locations.drop_duplicates(subset=['latitude', 'longitude'], keep=False)"
      ],
      "metadata": {
        "id": "QHAPpuRHKrOZ"
      },
      "execution_count": null,
      "outputs": []
    },
    {
      "cell_type": "code",
      "source": [
        "locations['borough_id'] = recycling_bins['borough_id']\n",
        "locations['borough'] = recycling_bins['borough']"
      ],
      "metadata": {
        "id": "FRTx815mfmWV",
        "colab": {
          "base_uri": "https://localhost:8080/"
        },
        "outputId": "d37290aa-9f1e-4d5e-8283-8c4640e4bafe"
      },
      "execution_count": null,
      "outputs": [
        {
          "output_type": "stream",
          "name": "stderr",
          "text": [
            "<ipython-input-91-02022c336e0f>:1: SettingWithCopyWarning: \n",
            "A value is trying to be set on a copy of a slice from a DataFrame.\n",
            "Try using .loc[row_indexer,col_indexer] = value instead\n",
            "\n",
            "See the caveats in the documentation: https://pandas.pydata.org/pandas-docs/stable/user_guide/indexing.html#returning-a-view-versus-a-copy\n",
            "  locations['borough_id'] = recycling_bins['borough_id']\n",
            "<ipython-input-91-02022c336e0f>:2: SettingWithCopyWarning: \n",
            "A value is trying to be set on a copy of a slice from a DataFrame.\n",
            "Try using .loc[row_indexer,col_indexer] = value instead\n",
            "\n",
            "See the caveats in the documentation: https://pandas.pydata.org/pandas-docs/stable/user_guide/indexing.html#returning-a-view-versus-a-copy\n",
            "  locations['borough'] = recycling_bins['borough']\n"
          ]
        }
      ]
    },
    {
      "cell_type": "markdown",
      "source": [
        "###Garages Data"
      ],
      "metadata": {
        "id": "mT3WTewMO1zm"
      }
    },
    {
      "cell_type": "code",
      "source": [
        "garages = conn.execute(\"SELECT * FROM garages\").fetchdf()\n",
        "\n",
        "for index, row in garages.iterrows():\n",
        "  garages.loc[index, 'borocd'] = (int(str(garages['borocd'][index])[1:]))\n",
        "  garages.loc[index, 'type'] = 'garage'\n",
        "\n",
        "garages.rename(columns={'boro': 'borough_id', 'borocd': 'cd_number'}, inplace=True)"
      ],
      "metadata": {
        "id": "fHcA_yIghujD"
      },
      "execution_count": null,
      "outputs": []
    },
    {
      "cell_type": "markdown",
      "source": [
        "###Merge Garages & Recycling Bins"
      ],
      "metadata": {
        "id": "yMxqt9ZBO7Ta"
      }
    },
    {
      "cell_type": "code",
      "source": [
        "common_cols = list(set(locations.columns).intersection(garages.columns))\n",
        "locations_shared = locations[common_cols]\n",
        "garages_shared = garages[common_cols]\n",
        "\n",
        "merged = pd.concat([locations_shared, garages_shared], ignore_index=True)\n",
        "merged['cd_number'] = merged['cd_number'].astype(int)"
      ],
      "metadata": {
        "id": "Dv_sf-pKxk0I"
      },
      "execution_count": null,
      "outputs": []
    },
    {
      "cell_type": "code",
      "source": [
        "# removes outlier\n",
        "merged = merged[merged['longitude'] >= -75]\n",
        "merged.reset_index(inplace=True, drop=True)"
      ],
      "metadata": {
        "id": "blhN_lZyZkoT"
      },
      "execution_count": null,
      "outputs": []
    },
    {
      "cell_type": "markdown",
      "source": [
        "###Adding points to the graph for waste pick up points"
      ],
      "metadata": {
        "id": "atk6WLjuMH-D"
      }
    },
    {
      "cell_type": "markdown",
      "source": [
        "bins_per_comm['bins_needed'] = bins_per_comm['mean(refuse_tons)'] / 800\n",
        "\n",
        "gives us a manageable amount of bins to explore. if we add too many bins, it takes too long for graph algorithims to be effective"
      ],
      "metadata": {
        "id": "rtHQsL0FgM4k"
      }
    },
    {
      "cell_type": "code",
      "source": [
        "bins_per_comm = conn.execute(\"SELECT borough_name, borough_id, community_district, mean(refuse_tons)  from tonnage GROUP BY borough_name, borough_id, community_district ORDER BY borough_id, community_district;\").fetchdf()\n",
        "bins_per_comm['bins_needed'] = bins_per_comm['mean(refuse_tons)'] / 800\n",
        "bins_per_comm['bins_needed'] = np.ceil(bins_per_comm['bins_needed']).astype(int)"
      ],
      "metadata": {
        "id": "N0T3fXGPMNAc"
      },
      "execution_count": null,
      "outputs": []
    },
    {
      "cell_type": "code",
      "source": [
        "pred_df_date = pred_df[pred_df['date'] == '2020-01-15'][['borough_id', 'community_district', 'date', 'refuse']]\n",
        "pred_df_date.reset_index(inplace=True, drop=True)"
      ],
      "metadata": {
        "id": "rdRGQzYVyb2d"
      },
      "execution_count": null,
      "outputs": []
    },
    {
      "cell_type": "code",
      "source": [
        "# reduce non int values from community_district\n",
        "bins_per_comm = bins_per_comm.drop(bins_per_comm[bins_per_comm['community_district'] == '7A'].index)\n",
        "bins_per_comm.reset_index(inplace=True, drop=True)\n",
        "\n",
        "bins_per_comm['community_district'] = bins_per_comm['community_district'].astype(int)"
      ],
      "metadata": {
        "id": "-oVlJAhJGnr3"
      },
      "execution_count": null,
      "outputs": []
    },
    {
      "cell_type": "code",
      "source": [
        "zips = conn.execute(\"SELECT * FROM zip_codes\").fetchdf()"
      ],
      "metadata": {
        "id": "ORDSVSsRSOX4"
      },
      "execution_count": null,
      "outputs": []
    },
    {
      "cell_type": "code",
      "source": [
        "def get_lat_lon_from_zip(zip_code, country=\"US\"):\n",
        "    nomi = pgeocode.Nominatim(country)\n",
        "    location = nomi.query_postal_code(zip_code)\n",
        "    if location.latitude and location.longitude:\n",
        "        return location.latitude, location.longitude\n",
        "    else:\n",
        "        return None"
      ],
      "metadata": {
        "id": "kEIrx9nhStmb"
      },
      "execution_count": null,
      "outputs": []
    },
    {
      "cell_type": "code",
      "source": [
        "merged_copy = merged.copy()\n",
        "merged_copy['waste_amt'] = np.zeros(len(merged_copy))\n",
        "\n",
        "# go through each row of bins_per_comm, get its borough id, cd_num & bins_needed\n",
        "# loop through the number of bins needed, find the coordinates of the row's zip code, and add random noise for spacing\n",
        "# add the coordinates and other data as a new row to the merged_copy\n",
        "for index, row in bins_per_comm.iterrows():\n",
        "  borough_id = row['borough_id']\n",
        "  cd_number = row['community_district']\n",
        "  bins_needed = row['bins_needed']\n",
        "  vals = merged[(merged['borough_id'] == borough_id) & (merged['cd_number'] == cd_number)]\n",
        "  #print(borough_id, cd_number)\n",
        "  #print(vals)\n",
        "  waste = pred_df_date[(pred_df_date['borough_id'] == borough_id) & (pred_df_date['community_district'] == cd_number)]['refuse'].values[0] / bins_needed\n",
        "\n",
        "  for _ in range(bins_needed):\n",
        "    zip = zips[(zips['Borough_ID'] == borough_id) & (zips['CD_Number'] == cd_number)]['Zip_Code'].values[0]\n",
        "    coorinates = get_lat_lon_from_zip(zip)\n",
        "    lat = coorinates[0] + np.random.uniform(-0.02, 0.02)\n",
        "    lon = coorinates[1] + np.random.uniform(-0.02, 0.02)\n",
        "    #print(lat, lon)\n",
        "\n",
        "    merged_copy.loc[len(merged_copy)] = {'borough_id': borough_id, 'type': 'waste_bin', 'cd_number': cd_number, 'longitude': lon, 'latitude': lat, 'waste_amt': waste }"
      ],
      "metadata": {
        "id": "uQaCO2BgMdDh"
      },
      "execution_count": null,
      "outputs": []
    },
    {
      "cell_type": "code",
      "source": [
        "# copy values from merged_copy back to merged\n",
        "merged = merged_copy.copy()"
      ],
      "metadata": {
        "id": "4zJfX86rKDbv"
      },
      "execution_count": null,
      "outputs": []
    },
    {
      "cell_type": "code",
      "source": [
        "merged.head(455)"
      ],
      "metadata": {
        "colab": {
          "base_uri": "https://localhost:8080/",
          "height": 424
        },
        "id": "kdOMznMZ2XBo",
        "outputId": "e3477170-d4f9-433e-afcf-adccfdc4db0a"
      },
      "execution_count": null,
      "outputs": [
        {
          "output_type": "execute_result",
          "data": {
            "text/plain": [
              "     cd_number  longitude  borough_id           type   latitude   waste_amt\n",
              "0            2 -73.988736           5  recycling_bin  40.689939    0.000000\n",
              "1            2 -73.988201           5  recycling_bin  40.690874    0.000000\n",
              "2            2 -73.988580           5  recycling_bin  40.692760    0.000000\n",
              "3            2 -73.989387           5  recycling_bin  40.693898    0.000000\n",
              "4            2 -73.973354           5  recycling_bin  40.682831    0.000000\n",
              "..         ...        ...         ...            ...        ...         ...\n",
              "450         14 -73.754363           4      waste_bin  40.616015  341.071381\n",
              "451          1 -74.093383           5      waste_bin  40.640228  310.418876\n",
              "452          1 -74.097936           5      waste_bin  40.645174  310.418876\n",
              "453          1 -74.110652           5      waste_bin  40.618464  310.418876\n",
              "454          1 -74.077261           5      waste_bin  40.640593  310.418876\n",
              "\n",
              "[455 rows x 6 columns]"
            ],
            "text/html": [
              "\n",
              "  <div id=\"df-e3fed3b6-9042-459f-b4a3-2ea1a964f0c7\" class=\"colab-df-container\">\n",
              "    <div>\n",
              "<style scoped>\n",
              "    .dataframe tbody tr th:only-of-type {\n",
              "        vertical-align: middle;\n",
              "    }\n",
              "\n",
              "    .dataframe tbody tr th {\n",
              "        vertical-align: top;\n",
              "    }\n",
              "\n",
              "    .dataframe thead th {\n",
              "        text-align: right;\n",
              "    }\n",
              "</style>\n",
              "<table border=\"1\" class=\"dataframe\">\n",
              "  <thead>\n",
              "    <tr style=\"text-align: right;\">\n",
              "      <th></th>\n",
              "      <th>cd_number</th>\n",
              "      <th>longitude</th>\n",
              "      <th>borough_id</th>\n",
              "      <th>type</th>\n",
              "      <th>latitude</th>\n",
              "      <th>waste_amt</th>\n",
              "    </tr>\n",
              "  </thead>\n",
              "  <tbody>\n",
              "    <tr>\n",
              "      <th>0</th>\n",
              "      <td>2</td>\n",
              "      <td>-73.988736</td>\n",
              "      <td>5</td>\n",
              "      <td>recycling_bin</td>\n",
              "      <td>40.689939</td>\n",
              "      <td>0.000000</td>\n",
              "    </tr>\n",
              "    <tr>\n",
              "      <th>1</th>\n",
              "      <td>2</td>\n",
              "      <td>-73.988201</td>\n",
              "      <td>5</td>\n",
              "      <td>recycling_bin</td>\n",
              "      <td>40.690874</td>\n",
              "      <td>0.000000</td>\n",
              "    </tr>\n",
              "    <tr>\n",
              "      <th>2</th>\n",
              "      <td>2</td>\n",
              "      <td>-73.988580</td>\n",
              "      <td>5</td>\n",
              "      <td>recycling_bin</td>\n",
              "      <td>40.692760</td>\n",
              "      <td>0.000000</td>\n",
              "    </tr>\n",
              "    <tr>\n",
              "      <th>3</th>\n",
              "      <td>2</td>\n",
              "      <td>-73.989387</td>\n",
              "      <td>5</td>\n",
              "      <td>recycling_bin</td>\n",
              "      <td>40.693898</td>\n",
              "      <td>0.000000</td>\n",
              "    </tr>\n",
              "    <tr>\n",
              "      <th>4</th>\n",
              "      <td>2</td>\n",
              "      <td>-73.973354</td>\n",
              "      <td>5</td>\n",
              "      <td>recycling_bin</td>\n",
              "      <td>40.682831</td>\n",
              "      <td>0.000000</td>\n",
              "    </tr>\n",
              "    <tr>\n",
              "      <th>...</th>\n",
              "      <td>...</td>\n",
              "      <td>...</td>\n",
              "      <td>...</td>\n",
              "      <td>...</td>\n",
              "      <td>...</td>\n",
              "      <td>...</td>\n",
              "    </tr>\n",
              "    <tr>\n",
              "      <th>450</th>\n",
              "      <td>14</td>\n",
              "      <td>-73.754363</td>\n",
              "      <td>4</td>\n",
              "      <td>waste_bin</td>\n",
              "      <td>40.616015</td>\n",
              "      <td>341.071381</td>\n",
              "    </tr>\n",
              "    <tr>\n",
              "      <th>451</th>\n",
              "      <td>1</td>\n",
              "      <td>-74.093383</td>\n",
              "      <td>5</td>\n",
              "      <td>waste_bin</td>\n",
              "      <td>40.640228</td>\n",
              "      <td>310.418876</td>\n",
              "    </tr>\n",
              "    <tr>\n",
              "      <th>452</th>\n",
              "      <td>1</td>\n",
              "      <td>-74.097936</td>\n",
              "      <td>5</td>\n",
              "      <td>waste_bin</td>\n",
              "      <td>40.645174</td>\n",
              "      <td>310.418876</td>\n",
              "    </tr>\n",
              "    <tr>\n",
              "      <th>453</th>\n",
              "      <td>1</td>\n",
              "      <td>-74.110652</td>\n",
              "      <td>5</td>\n",
              "      <td>waste_bin</td>\n",
              "      <td>40.618464</td>\n",
              "      <td>310.418876</td>\n",
              "    </tr>\n",
              "    <tr>\n",
              "      <th>454</th>\n",
              "      <td>1</td>\n",
              "      <td>-74.077261</td>\n",
              "      <td>5</td>\n",
              "      <td>waste_bin</td>\n",
              "      <td>40.640593</td>\n",
              "      <td>310.418876</td>\n",
              "    </tr>\n",
              "  </tbody>\n",
              "</table>\n",
              "<p>455 rows × 6 columns</p>\n",
              "</div>\n",
              "    <div class=\"colab-df-buttons\">\n",
              "\n",
              "  <div class=\"colab-df-container\">\n",
              "    <button class=\"colab-df-convert\" onclick=\"convertToInteractive('df-e3fed3b6-9042-459f-b4a3-2ea1a964f0c7')\"\n",
              "            title=\"Convert this dataframe to an interactive table.\"\n",
              "            style=\"display:none;\">\n",
              "\n",
              "  <svg xmlns=\"http://www.w3.org/2000/svg\" height=\"24px\" viewBox=\"0 -960 960 960\">\n",
              "    <path d=\"M120-120v-720h720v720H120Zm60-500h600v-160H180v160Zm220 220h160v-160H400v160Zm0 220h160v-160H400v160ZM180-400h160v-160H180v160Zm440 0h160v-160H620v160ZM180-180h160v-160H180v160Zm440 0h160v-160H620v160Z\"/>\n",
              "  </svg>\n",
              "    </button>\n",
              "\n",
              "  <style>\n",
              "    .colab-df-container {\n",
              "      display:flex;\n",
              "      gap: 12px;\n",
              "    }\n",
              "\n",
              "    .colab-df-convert {\n",
              "      background-color: #E8F0FE;\n",
              "      border: none;\n",
              "      border-radius: 50%;\n",
              "      cursor: pointer;\n",
              "      display: none;\n",
              "      fill: #1967D2;\n",
              "      height: 32px;\n",
              "      padding: 0 0 0 0;\n",
              "      width: 32px;\n",
              "    }\n",
              "\n",
              "    .colab-df-convert:hover {\n",
              "      background-color: #E2EBFA;\n",
              "      box-shadow: 0px 1px 2px rgba(60, 64, 67, 0.3), 0px 1px 3px 1px rgba(60, 64, 67, 0.15);\n",
              "      fill: #174EA6;\n",
              "    }\n",
              "\n",
              "    .colab-df-buttons div {\n",
              "      margin-bottom: 4px;\n",
              "    }\n",
              "\n",
              "    [theme=dark] .colab-df-convert {\n",
              "      background-color: #3B4455;\n",
              "      fill: #D2E3FC;\n",
              "    }\n",
              "\n",
              "    [theme=dark] .colab-df-convert:hover {\n",
              "      background-color: #434B5C;\n",
              "      box-shadow: 0px 1px 3px 1px rgba(0, 0, 0, 0.15);\n",
              "      filter: drop-shadow(0px 1px 2px rgba(0, 0, 0, 0.3));\n",
              "      fill: #FFFFFF;\n",
              "    }\n",
              "  </style>\n",
              "\n",
              "    <script>\n",
              "      const buttonEl =\n",
              "        document.querySelector('#df-e3fed3b6-9042-459f-b4a3-2ea1a964f0c7 button.colab-df-convert');\n",
              "      buttonEl.style.display =\n",
              "        google.colab.kernel.accessAllowed ? 'block' : 'none';\n",
              "\n",
              "      async function convertToInteractive(key) {\n",
              "        const element = document.querySelector('#df-e3fed3b6-9042-459f-b4a3-2ea1a964f0c7');\n",
              "        const dataTable =\n",
              "          await google.colab.kernel.invokeFunction('convertToInteractive',\n",
              "                                                    [key], {});\n",
              "        if (!dataTable) return;\n",
              "\n",
              "        const docLinkHtml = 'Like what you see? Visit the ' +\n",
              "          '<a target=\"_blank\" href=https://colab.research.google.com/notebooks/data_table.ipynb>data table notebook</a>'\n",
              "          + ' to learn more about interactive tables.';\n",
              "        element.innerHTML = '';\n",
              "        dataTable['output_type'] = 'display_data';\n",
              "        await google.colab.output.renderOutput(dataTable, element);\n",
              "        const docLink = document.createElement('div');\n",
              "        docLink.innerHTML = docLinkHtml;\n",
              "        element.appendChild(docLink);\n",
              "      }\n",
              "    </script>\n",
              "  </div>\n",
              "\n",
              "\n",
              "<div id=\"df-78a0a9ca-7d2f-47fc-ac4e-cf02930b0aee\">\n",
              "  <button class=\"colab-df-quickchart\" onclick=\"quickchart('df-78a0a9ca-7d2f-47fc-ac4e-cf02930b0aee')\"\n",
              "            title=\"Suggest charts\"\n",
              "            style=\"display:none;\">\n",
              "\n",
              "<svg xmlns=\"http://www.w3.org/2000/svg\" height=\"24px\"viewBox=\"0 0 24 24\"\n",
              "     width=\"24px\">\n",
              "    <g>\n",
              "        <path d=\"M19 3H5c-1.1 0-2 .9-2 2v14c0 1.1.9 2 2 2h14c1.1 0 2-.9 2-2V5c0-1.1-.9-2-2-2zM9 17H7v-7h2v7zm4 0h-2V7h2v10zm4 0h-2v-4h2v4z\"/>\n",
              "    </g>\n",
              "</svg>\n",
              "  </button>\n",
              "\n",
              "<style>\n",
              "  .colab-df-quickchart {\n",
              "      --bg-color: #E8F0FE;\n",
              "      --fill-color: #1967D2;\n",
              "      --hover-bg-color: #E2EBFA;\n",
              "      --hover-fill-color: #174EA6;\n",
              "      --disabled-fill-color: #AAA;\n",
              "      --disabled-bg-color: #DDD;\n",
              "  }\n",
              "\n",
              "  [theme=dark] .colab-df-quickchart {\n",
              "      --bg-color: #3B4455;\n",
              "      --fill-color: #D2E3FC;\n",
              "      --hover-bg-color: #434B5C;\n",
              "      --hover-fill-color: #FFFFFF;\n",
              "      --disabled-bg-color: #3B4455;\n",
              "      --disabled-fill-color: #666;\n",
              "  }\n",
              "\n",
              "  .colab-df-quickchart {\n",
              "    background-color: var(--bg-color);\n",
              "    border: none;\n",
              "    border-radius: 50%;\n",
              "    cursor: pointer;\n",
              "    display: none;\n",
              "    fill: var(--fill-color);\n",
              "    height: 32px;\n",
              "    padding: 0;\n",
              "    width: 32px;\n",
              "  }\n",
              "\n",
              "  .colab-df-quickchart:hover {\n",
              "    background-color: var(--hover-bg-color);\n",
              "    box-shadow: 0 1px 2px rgba(60, 64, 67, 0.3), 0 1px 3px 1px rgba(60, 64, 67, 0.15);\n",
              "    fill: var(--button-hover-fill-color);\n",
              "  }\n",
              "\n",
              "  .colab-df-quickchart-complete:disabled,\n",
              "  .colab-df-quickchart-complete:disabled:hover {\n",
              "    background-color: var(--disabled-bg-color);\n",
              "    fill: var(--disabled-fill-color);\n",
              "    box-shadow: none;\n",
              "  }\n",
              "\n",
              "  .colab-df-spinner {\n",
              "    border: 2px solid var(--fill-color);\n",
              "    border-color: transparent;\n",
              "    border-bottom-color: var(--fill-color);\n",
              "    animation:\n",
              "      spin 1s steps(1) infinite;\n",
              "  }\n",
              "\n",
              "  @keyframes spin {\n",
              "    0% {\n",
              "      border-color: transparent;\n",
              "      border-bottom-color: var(--fill-color);\n",
              "      border-left-color: var(--fill-color);\n",
              "    }\n",
              "    20% {\n",
              "      border-color: transparent;\n",
              "      border-left-color: var(--fill-color);\n",
              "      border-top-color: var(--fill-color);\n",
              "    }\n",
              "    30% {\n",
              "      border-color: transparent;\n",
              "      border-left-color: var(--fill-color);\n",
              "      border-top-color: var(--fill-color);\n",
              "      border-right-color: var(--fill-color);\n",
              "    }\n",
              "    40% {\n",
              "      border-color: transparent;\n",
              "      border-right-color: var(--fill-color);\n",
              "      border-top-color: var(--fill-color);\n",
              "    }\n",
              "    60% {\n",
              "      border-color: transparent;\n",
              "      border-right-color: var(--fill-color);\n",
              "    }\n",
              "    80% {\n",
              "      border-color: transparent;\n",
              "      border-right-color: var(--fill-color);\n",
              "      border-bottom-color: var(--fill-color);\n",
              "    }\n",
              "    90% {\n",
              "      border-color: transparent;\n",
              "      border-bottom-color: var(--fill-color);\n",
              "    }\n",
              "  }\n",
              "</style>\n",
              "\n",
              "  <script>\n",
              "    async function quickchart(key) {\n",
              "      const quickchartButtonEl =\n",
              "        document.querySelector('#' + key + ' button');\n",
              "      quickchartButtonEl.disabled = true;  // To prevent multiple clicks.\n",
              "      quickchartButtonEl.classList.add('colab-df-spinner');\n",
              "      try {\n",
              "        const charts = await google.colab.kernel.invokeFunction(\n",
              "            'suggestCharts', [key], {});\n",
              "      } catch (error) {\n",
              "        console.error('Error during call to suggestCharts:', error);\n",
              "      }\n",
              "      quickchartButtonEl.classList.remove('colab-df-spinner');\n",
              "      quickchartButtonEl.classList.add('colab-df-quickchart-complete');\n",
              "    }\n",
              "    (() => {\n",
              "      let quickchartButtonEl =\n",
              "        document.querySelector('#df-78a0a9ca-7d2f-47fc-ac4e-cf02930b0aee button');\n",
              "      quickchartButtonEl.style.display =\n",
              "        google.colab.kernel.accessAllowed ? 'block' : 'none';\n",
              "    })();\n",
              "  </script>\n",
              "</div>\n",
              "\n",
              "    </div>\n",
              "  </div>\n"
            ],
            "application/vnd.google.colaboratory.intrinsic+json": {
              "type": "dataframe",
              "variable_name": "merged",
              "summary": "{\n  \"name\": \"merged\",\n  \"rows\": 472,\n  \"fields\": [\n    {\n      \"column\": \"cd_number\",\n      \"properties\": {\n        \"dtype\": \"number\",\n        \"std\": 4,\n        \"min\": 1,\n        \"max\": 18,\n        \"num_unique_values\": 18,\n        \"samples\": [\n          2,\n          8,\n          12\n        ],\n        \"semantic_type\": \"\",\n        \"description\": \"\"\n      }\n    },\n    {\n      \"column\": \"longitude\",\n      \"properties\": {\n        \"dtype\": \"number\",\n        \"std\": 0.09601622716423011,\n        \"min\": -74.23119111816945,\n        \"max\": -73.71755354099342,\n        \"num_unique_values\": 472,\n        \"samples\": [\n          -73.8276772,\n          -74.0964,\n          -73.930545\n        ],\n        \"semantic_type\": \"\",\n        \"description\": \"\"\n      }\n    },\n    {\n      \"column\": \"borough_id\",\n      \"properties\": {\n        \"dtype\": \"number\",\n        \"std\": 1,\n        \"min\": 1,\n        \"max\": 5,\n        \"num_unique_values\": 5,\n        \"samples\": [\n          4,\n          3,\n          2\n        ],\n        \"semantic_type\": \"\",\n        \"description\": \"\"\n      }\n    },\n    {\n      \"column\": \"type\",\n      \"properties\": {\n        \"dtype\": \"category\",\n        \"num_unique_values\": 3,\n        \"samples\": [\n          \"recycling_bin\",\n          \"garage\",\n          \"waste_bin\"\n        ],\n        \"semantic_type\": \"\",\n        \"description\": \"\"\n      }\n    },\n    {\n      \"column\": \"latitude\",\n      \"properties\": {\n        \"dtype\": \"number\",\n        \"std\": 0.08549992014911922,\n        \"min\": 40.518508827786555,\n        \"max\": 40.912857,\n        \"num_unique_values\": 472,\n        \"samples\": [\n          40.7510959,\n          40.622329,\n          40.8134113\n        ],\n        \"semantic_type\": \"\",\n        \"description\": \"\"\n      }\n    },\n    {\n      \"column\": \"waste_amt\",\n      \"properties\": {\n        \"dtype\": \"number\",\n        \"std\": 156.4242419370135,\n        \"min\": 0.0,\n        \"max\": 383.3052455357143,\n        \"num_unique_values\": 60,\n        \"samples\": [\n          0.0,\n          326.050048828125,\n          373.2404479980469\n        ],\n        \"semantic_type\": \"\",\n        \"description\": \"\"\n      }\n    }\n  ]\n}"
            }
          },
          "metadata": {},
          "execution_count": 102
        }
      ]
    },
    {
      "cell_type": "code",
      "source": [
        "# if value is above 300, it needs to be picked up\n",
        "merged['pickup'] = merged['waste_amt'].apply(lambda x: True if x > 300 else(False))"
      ],
      "metadata": {
        "id": "dlHUpv8a4zx4"
      },
      "execution_count": null,
      "outputs": []
    },
    {
      "cell_type": "markdown",
      "source": [
        "##Graph"
      ],
      "metadata": {
        "id": "6BdT53le1eZd"
      }
    },
    {
      "cell_type": "markdown",
      "source": [
        "###Build the Graph"
      ],
      "metadata": {
        "id": "4GMgjfuwCLNT"
      }
    },
    {
      "cell_type": "code",
      "source": [
        "G = networkx.Graph()\n",
        "for i in range(len(merged)):\n",
        "  G.add_node(i, longitude=merged.loc[i, 'longitude'], latitude=merged.loc[i, 'latitude'], borough=merged.loc[i, 'borough_id'], cd_number=merged.loc[i, 'cd_number'], point_type=merged.loc[i, 'type'], waste_amt=merged.loc[i, 'waste_amt'], pickup=merged.loc[i, 'pickup'])\n"
      ],
      "metadata": {
        "id": "7h-CgBwQqHoT"
      },
      "execution_count": null,
      "outputs": []
    },
    {
      "cell_type": "code",
      "source": [
        "# connect vertices as long as they are part of the same borough and are not both garages\n",
        "for u, v in itertools.combinations(G.nodes, 2):\n",
        "  if (G.nodes[u]['borough'] == G.nodes[v]['borough'] and not (G.nodes[u]['point_type'] == 'garage' and G.nodes[v]['point_type'] == 'garage')):\n",
        "        G.add_edge(u, v)\n",
        "        loc1 = (G.nodes[u]['latitude'], G.nodes[u]['longitude'])\n",
        "        loc2 = (G.nodes[v]['latitude'], G.nodes[v]['longitude'])\n",
        "        distance = hs.haversine(loc1, loc2, unit=Unit.KILOMETERS)\n",
        "        G.edges[u, v]['weight'] = distance"
      ],
      "metadata": {
        "id": "2-rNTJKOsORm"
      },
      "execution_count": null,
      "outputs": []
    },
    {
      "cell_type": "code",
      "source": [
        "#G.remove_edges_from(list(G.edges()))\n",
        "G.nodes(data=True)"
      ],
      "metadata": {
        "colab": {
          "base_uri": "https://localhost:8080/"
        },
        "id": "04qUOBcozEve",
        "outputId": "4b52de66-37f1-4b1a-f1d3-96a0436cd85d"
      },
      "execution_count": null,
      "outputs": [
        {
          "output_type": "execute_result",
          "data": {
            "text/plain": [
              "NodeDataView({0: {'longitude': -73.9887364, 'latitude': 40.6899394, 'borough': 5, 'cd_number': 2, 'point_type': 'recycling_bin', 'waste_amt': 0.0, 'pickup': False}, 1: {'longitude': -73.9882009, 'latitude': 40.6908743, 'borough': 5, 'cd_number': 2, 'point_type': 'recycling_bin', 'waste_amt': 0.0, 'pickup': False}, 2: {'longitude': -73.9885801, 'latitude': 40.6927596, 'borough': 5, 'cd_number': 2, 'point_type': 'recycling_bin', 'waste_amt': 0.0, 'pickup': False}, 3: {'longitude': -73.989387, 'latitude': 40.693898, 'borough': 5, 'cd_number': 2, 'point_type': 'recycling_bin', 'waste_amt': 0.0, 'pickup': False}, 4: {'longitude': -73.9733542, 'latitude': 40.6828309, 'borough': 5, 'cd_number': 2, 'point_type': 'recycling_bin', 'waste_amt': 0.0, 'pickup': False}, 5: {'longitude': -74.00171, 'latitude': 40.64994, 'borough': 5, 'cd_number': 2, 'point_type': 'recycling_bin', 'waste_amt': 0.0, 'pickup': False}, 6: {'longitude': -73.97552, 'latitude': 40.686757, 'borough': 5, 'cd_number': 2, 'point_type': 'recycling_bin', 'waste_amt': 0.0, 'pickup': False}, 7: {'longitude': -73.9885, 'latitude': 40.703823, 'borough': 5, 'cd_number': 2, 'point_type': 'recycling_bin', 'waste_amt': 0.0, 'pickup': False}, 8: {'longitude': -73.9999297, 'latitude': 40.6982888, 'borough': 5, 'cd_number': 2, 'point_type': 'recycling_bin', 'waste_amt': 0.0, 'pickup': False}, 9: {'longitude': -73.987348, 'latitude': 40.691458, 'borough': 5, 'cd_number': 2, 'point_type': 'recycling_bin', 'waste_amt': 0.0, 'pickup': False}, 10: {'longitude': -73.9664761, 'latitude': 40.6833334, 'borough': 5, 'cd_number': 2, 'point_type': 'recycling_bin', 'waste_amt': 0.0, 'pickup': False}, 11: {'longitude': -73.973027, 'latitude': 40.684145, 'borough': 5, 'cd_number': 2, 'point_type': 'recycling_bin', 'waste_amt': 0.0, 'pickup': False}, 12: {'longitude': -73.9767911, 'latitude': 40.6871933, 'borough': 5, 'cd_number': 2, 'point_type': 'recycling_bin', 'waste_amt': 0.0, 'pickup': False}, 13: {'longitude': -73.962753, 'latitude': 40.6726, 'borough': 5, 'cd_number': 2, 'point_type': 'recycling_bin', 'waste_amt': 0.0, 'pickup': False}, 14: {'longitude': -73.9717891, 'latitude': 40.6930826, 'borough': 5, 'cd_number': 2, 'point_type': 'recycling_bin', 'waste_amt': 0.0, 'pickup': False}, 15: {'longitude': -73.932835, 'latitude': 40.697247, 'borough': 5, 'cd_number': 2, 'point_type': 'recycling_bin', 'waste_amt': 0.0, 'pickup': False}, 16: {'longitude': -73.9683779, 'latitude': 40.6931119, 'borough': 5, 'cd_number': 2, 'point_type': 'recycling_bin', 'waste_amt': 0.0, 'pickup': False}, 17: {'longitude': -73.966099, 'latitude': 40.716206, 'borough': 5, 'cd_number': 2, 'point_type': 'recycling_bin', 'waste_amt': 0.0, 'pickup': False}, 18: {'longitude': -73.994709, 'latitude': 40.702993, 'borough': 5, 'cd_number': 2, 'point_type': 'recycling_bin', 'waste_amt': 0.0, 'pickup': False}, 19: {'longitude': -73.987509, 'latitude': 40.70446, 'borough': 5, 'cd_number': 2, 'point_type': 'recycling_bin', 'waste_amt': 0.0, 'pickup': False}, 20: {'longitude': -73.966341, 'latitude': 40.695575, 'borough': 5, 'cd_number': 2, 'point_type': 'recycling_bin', 'waste_amt': 0.0, 'pickup': False}, 21: {'longitude': -73.962802, 'latitude': 40.691285, 'borough': 5, 'cd_number': 2, 'point_type': 'recycling_bin', 'waste_amt': 0.0, 'pickup': False}, 22: {'longitude': -73.980429, 'latitude': 40.689901, 'borough': 5, 'cd_number': 2, 'point_type': 'recycling_bin', 'waste_amt': 0.0, 'pickup': False}, 23: {'longitude': -73.988622, 'latitude': 40.699951, 'borough': 5, 'cd_number': 2, 'point_type': 'recycling_bin', 'waste_amt': 0.0, 'pickup': False}, 24: {'longitude': -73.9908936, 'latitude': 40.6923237, 'borough': 5, 'cd_number': 2, 'point_type': 'recycling_bin', 'waste_amt': 0.0, 'pickup': False}, 25: {'longitude': -73.9644364, 'latitude': 40.6829028, 'borough': 5, 'cd_number': 2, 'point_type': 'recycling_bin', 'waste_amt': 0.0, 'pickup': False}, 26: {'longitude': -73.959785, 'latitude': 40.682908, 'borough': 5, 'cd_number': 2, 'point_type': 'recycling_bin', 'waste_amt': 0.0, 'pickup': False}, 27: {'longitude': -73.961748, 'latitude': 40.691542, 'borough': 5, 'cd_number': 2, 'point_type': 'recycling_bin', 'waste_amt': 0.0, 'pickup': False}, 28: {'longitude': -73.9348989, 'latitude': 40.6738837, 'borough': 5, 'cd_number': 8, 'point_type': 'recycling_bin', 'waste_amt': 0.0, 'pickup': False}, 29: {'longitude': -73.9614326, 'latitude': 40.6651476, 'borough': 5, 'cd_number': 9, 'point_type': 'recycling_bin', 'waste_amt': 0.0, 'pickup': False}, 30: {'longitude': -73.9650225, 'latitude': 40.6652981, 'borough': 5, 'cd_number': 9, 'point_type': 'recycling_bin', 'waste_amt': 0.0, 'pickup': False}, 31: {'longitude': -73.8892384, 'latitude': 40.8149687, 'borough': 5, 'cd_number': 2, 'point_type': 'recycling_bin', 'waste_amt': 0.0, 'pickup': False}, 32: {'longitude': -73.8832046, 'latitude': 40.8178714, 'borough': 5, 'cd_number': 2, 'point_type': 'recycling_bin', 'waste_amt': 0.0, 'pickup': False}, 33: {'longitude': -73.930545, 'latitude': 40.8134113, 'borough': 5, 'cd_number': 4, 'point_type': 'recycling_bin', 'waste_amt': 0.0, 'pickup': False}, 34: {'longitude': -73.8771541, 'latitude': 40.8622431, 'borough': 5, 'cd_number': 6, 'point_type': 'recycling_bin', 'waste_amt': 0.0, 'pickup': False}, 35: {'longitude': -73.8771379, 'latitude': 40.8493044, 'borough': 5, 'cd_number': 6, 'point_type': 'recycling_bin', 'waste_amt': 0.0, 'pickup': False}, 36: {'longitude': -73.9038791, 'latitude': 40.9033611, 'borough': 5, 'cd_number': 8, 'point_type': 'recycling_bin', 'waste_amt': 0.0, 'pickup': False}, 37: {'longitude': -73.906968, 'latitude': 40.912857, 'borough': 5, 'cd_number': 8, 'point_type': 'recycling_bin', 'waste_amt': 0.0, 'pickup': False}, 38: {'longitude': -73.989155, 'latitude': 40.74303, 'borough': 5, 'cd_number': 8, 'point_type': 'recycling_bin', 'waste_amt': 0.0, 'pickup': False}, 39: {'longitude': -73.8438552, 'latitude': 40.8392643, 'borough': 5, 'cd_number': 10, 'point_type': 'recycling_bin', 'waste_amt': 0.0, 'pickup': False}, 40: {'longitude': -73.8015795, 'latitude': 40.8653278, 'borough': 5, 'cd_number': 10, 'point_type': 'recycling_bin', 'waste_amt': 0.0, 'pickup': False}, 41: {'longitude': -74.008883, 'latitude': 40.718267, 'borough': 5, 'cd_number': 1, 'point_type': 'recycling_bin', 'waste_amt': 0.0, 'pickup': False}, 42: {'longitude': -74.0129447, 'latitude': 40.7012718, 'borough': 5, 'cd_number': 1, 'point_type': 'recycling_bin', 'waste_amt': 0.0, 'pickup': False}, 43: {'longitude': -74.018276, 'latitude': 40.6886535, 'borough': 5, 'cd_number': 1, 'point_type': 'recycling_bin', 'waste_amt': 0.0, 'pickup': False}, 44: {'longitude': -73.9911909, 'latitude': 40.7482239, 'borough': 5, 'cd_number': 2, 'point_type': 'recycling_bin', 'waste_amt': 0.0, 'pickup': False}, 45: {'longitude': -74.00263, 'latitude': 40.735677, 'borough': 5, 'cd_number': 2, 'point_type': 'recycling_bin', 'waste_amt': 0.0, 'pickup': False}, 46: {'longitude': -74.0124181, 'latitude': 40.7331703, 'borough': 5, 'cd_number': 2, 'point_type': 'recycling_bin', 'waste_amt': 0.0, 'pickup': False}, 47: {'longitude': -74.0107648, 'latitude': 40.7382578, 'borough': 5, 'cd_number': 2, 'point_type': 'recycling_bin', 'waste_amt': 0.0, 'pickup': False}, 48: {'longitude': -74.0089389, 'latitude': 40.7431579, 'borough': 5, 'cd_number': 2, 'point_type': 'recycling_bin', 'waste_amt': 0.0, 'pickup': False}, 49: {'longitude': -74.0127072, 'latitude': 40.7295142, 'borough': 5, 'cd_number': 2, 'point_type': 'recycling_bin', 'waste_amt': 0.0, 'pickup': False}, 50: {'longitude': -73.9479825, 'latitude': 40.817202, 'borough': 5, 'cd_number': 10, 'point_type': 'recycling_bin', 'waste_amt': 0.0, 'pickup': False}, 51: {'longitude': -73.9393357, 'latitude': 40.8128392, 'borough': 5, 'cd_number': 10, 'point_type': 'recycling_bin', 'waste_amt': 0.0, 'pickup': False}, 52: {'longitude': -73.9176102, 'latitude': 40.793939, 'borough': 5, 'cd_number': 11, 'point_type': 'recycling_bin', 'waste_amt': 0.0, 'pickup': False}, 53: {'longitude': -73.964303, 'latitude': 40.794786, 'borough': 5, 'cd_number': 11, 'point_type': 'recycling_bin', 'waste_amt': 0.0, 'pickup': False}, 54: {'longitude': -73.928206, 'latitude': 40.863614, 'borough': 5, 'cd_number': 12, 'point_type': 'recycling_bin', 'waste_amt': 0.0, 'pickup': False}, 55: {'longitude': -73.8276772, 'latitude': 40.7510959, 'borough': 5, 'cd_number': 7, 'point_type': 'recycling_bin', 'waste_amt': 0.0, 'pickup': False}, 56: {'longitude': -73.8147441, 'latitude': 40.7381166, 'borough': 5, 'cd_number': 8, 'point_type': 'recycling_bin', 'waste_amt': 0.0, 'pickup': False}, 57: {'longitude': -73.960229, 'latitude': 40.756311, 'borough': 5, 'cd_number': 11, 'point_type': 'recycling_bin', 'waste_amt': 0.0, 'pickup': False}, 58: {'longitude': -73.7969783, 'latitude': 40.7296892, 'borough': 5, 'cd_number': 12, 'point_type': 'recycling_bin', 'waste_amt': 0.0, 'pickup': False}, 59: {'longitude': -73.7744228, 'latitude': 40.6741003, 'borough': 5, 'cd_number': 12, 'point_type': 'recycling_bin', 'waste_amt': 0.0, 'pickup': False}, 60: {'longitude': -73.7698212, 'latitude': 40.6873031, 'borough': 5, 'cd_number': 12, 'point_type': 'recycling_bin', 'waste_amt': 0.0, 'pickup': False}, 61: {'longitude': -73.7334848, 'latitude': 40.7391885, 'borough': 5, 'cd_number': 13, 'point_type': 'recycling_bin', 'waste_amt': 0.0, 'pickup': False}, 62: {'longitude': -73.840036, 'latitude': 40.655689, 'borough': 5, 'cd_number': 14, 'point_type': 'recycling_bin', 'waste_amt': 0.0, 'pickup': False}, 63: {'longitude': -73.8367169, 'latitude': 40.6544339, 'borough': 5, 'cd_number': 14, 'point_type': 'recycling_bin', 'waste_amt': 0.0, 'pickup': False}, 64: {'longitude': -73.994118, 'latitude': 40.735313, 'borough': 5, 'cd_number': 14, 'point_type': 'recycling_bin', 'waste_amt': 0.0, 'pickup': False}, 65: {'longitude': -73.992224, 'latitude': 40.737916, 'borough': 5, 'cd_number': 14, 'point_type': 'recycling_bin', 'waste_amt': 0.0, 'pickup': False}, 66: {'longitude': -73.995914, 'latitude': 40.732847, 'borough': 5, 'cd_number': 14, 'point_type': 'recycling_bin', 'waste_amt': 0.0, 'pickup': False}, 67: {'longitude': -73.8467461, 'latitude': 40.7458769, 'borough': 5, 'cd_number': 4, 'point_type': 'recycling_bin', 'waste_amt': 0.0, 'pickup': False}, 68: {'longitude': -73.8491284, 'latitude': 40.7453847, 'borough': 5, 'cd_number': 4, 'point_type': 'recycling_bin', 'waste_amt': 0.0, 'pickup': False}, 69: {'longitude': -73.8654874, 'latitude': 40.7318714, 'borough': 5, 'cd_number': 6, 'point_type': 'recycling_bin', 'waste_amt': 0.0, 'pickup': False}, 70: {'longitude': -74.0744369, 'latitude': 40.6375677, 'borough': 5, 'cd_number': 1, 'point_type': 'recycling_bin', 'waste_amt': 0.0, 'pickup': False}, 71: {'longitude': -74.11961, 'latitude': 40.636769, 'borough': 5, 'cd_number': 1, 'point_type': 'recycling_bin', 'waste_amt': 0.0, 'pickup': False}, 72: {'longitude': -74.1036657, 'latitude': 40.6167679, 'borough': 5, 'cd_number': 1, 'point_type': 'recycling_bin', 'waste_amt': 0.0, 'pickup': False}, 73: {'longitude': -74.0964, 'latitude': 40.622329, 'borough': 5, 'cd_number': 1, 'point_type': 'recycling_bin', 'waste_amt': 0.0, 'pickup': False}, 74: {'longitude': -74.108932, 'latitude': 40.634721, 'borough': 5, 'cd_number': 1, 'point_type': 'recycling_bin', 'waste_amt': 0.0, 'pickup': False}, 75: {'longitude': -74.1031948, 'latitude': 40.6424825, 'borough': 5, 'cd_number': 1, 'point_type': 'recycling_bin', 'waste_amt': 0.0, 'pickup': False}, 76: {'longitude': -74.160092, 'latitude': 40.604255, 'borough': 5, 'cd_number': 2, 'point_type': 'recycling_bin', 'waste_amt': 0.0, 'pickup': False}, 77: {'longitude': -74.1391276, 'latitude': 40.5883791, 'borough': 5, 'cd_number': 2, 'point_type': 'recycling_bin', 'waste_amt': 0.0, 'pickup': False}, 78: {'longitude': -73.988402, 'latitude': 40.71189, 'borough': 5, 'cd_number': 2, 'point_type': 'recycling_bin', 'waste_amt': 0.0, 'pickup': False}, 79: {'longitude': -74.077356, 'latitude': 40.6379196, 'borough': 5, 'cd_number': 2, 'point_type': 'recycling_bin', 'waste_amt': 0.0, 'pickup': False}, 80: {'longitude': -74.0722394, 'latitude': 40.5845855, 'borough': 5, 'cd_number': 2, 'point_type': 'recycling_bin', 'waste_amt': 0.0, 'pickup': False}, 81: {'longitude': -74.1136528, 'latitude': 40.5725558, 'borough': 5, 'cd_number': 2, 'point_type': 'recycling_bin', 'waste_amt': 0.0, 'pickup': False}, 82: {'longitude': -74.161917, 'latitude': 40.527495, 'borough': 5, 'cd_number': 2, 'point_type': 'recycling_bin', 'waste_amt': 0.0, 'pickup': False}, 83: {'longitude': -74.150353, 'latitude': 40.6022757, 'borough': 5, 'cd_number': 2, 'point_type': 'recycling_bin', 'waste_amt': 0.0, 'pickup': False}, 84: {'longitude': -74.176625, 'latitude': 40.529913, 'borough': 5, 'cd_number': 3, 'point_type': 'recycling_bin', 'waste_amt': 0.0, 'pickup': False}, 85: {'longitude': -73.917913, 'latitude': 40.869667, 'borough': 5, 'cd_number': 3, 'point_type': 'recycling_bin', 'waste_amt': 0.0, 'pickup': False}, 86: {'longitude': -74.1261469, 'latitude': 40.5436508, 'borough': 5, 'cd_number': 3, 'point_type': 'recycling_bin', 'waste_amt': 0.0, 'pickup': False}, 87: {'longitude': -73.8115234375, 'latitude': 40.665435791015625, 'borough': 4, 'cd_number': 10, 'point_type': 'garage', 'waste_amt': 0.0, 'pickup': False}, 88: {'longitude': -73.88949584960938, 'latitude': 40.841880798339844, 'borough': 2, 'cd_number': 6, 'point_type': 'garage', 'waste_amt': 0.0, 'pickup': False}, 89: {'longitude': -73.9329833984375, 'latitude': 40.80454635620117, 'borough': 1, 'cd_number': 11, 'point_type': 'garage', 'waste_amt': 0.0, 'pickup': False}, 90: {'longitude': -73.7335433959961, 'latitude': 40.74365997314453, 'borough': 4, 'cd_number': 11, 'point_type': 'garage', 'waste_amt': 0.0, 'pickup': False}, 91: {'longitude': -73.7348861694336, 'latitude': 40.7429313659668, 'borough': 4, 'cd_number': 11, 'point_type': 'garage', 'waste_amt': 0.0, 'pickup': False}, 92: {'longitude': -74.07750701904297, 'latitude': 40.63441848754883, 'borough': 5, 'cd_number': 1, 'point_type': 'garage', 'waste_amt': 0.0, 'pickup': False}, 93: {'longitude': -74.19654846191406, 'latitude': 40.575347900390625, 'borough': 5, 'cd_number': 3, 'point_type': 'garage', 'waste_amt': 0.0, 'pickup': False}, 94: {'longitude': -73.80992889404297, 'latitude': 40.66512680053711, 'borough': 4, 'cd_number': 10, 'point_type': 'garage', 'waste_amt': 0.0, 'pickup': False}, 95: {'longitude': -73.91927337646484, 'latitude': 40.64251708984375, 'borough': 3, 'cd_number': 18, 'point_type': 'garage', 'waste_amt': 0.0, 'pickup': False}, 96: {'longitude': -73.90690612792969, 'latitude': 40.73382568359375, 'borough': 4, 'cd_number': 2, 'point_type': 'garage', 'waste_amt': 0.0, 'pickup': False}, 97: {'longitude': -73.92887878417969, 'latitude': 40.81925582885742, 'borough': 2, 'cd_number': 4, 'point_type': 'garage', 'waste_amt': 0.0, 'pickup': False}, 98: {'longitude': -73.98680877685547, 'latitude': 40.70957946777344, 'borough': 1, 'cd_number': 3, 'point_type': 'garage', 'waste_amt': 0.0, 'pickup': False}, 99: {'longitude': -74.17049407958984, 'latitude': 40.58671951293945, 'borough': 5, 'cd_number': 2, 'point_type': 'garage', 'waste_amt': 0.0, 'pickup': False}, 100: {'longitude': -74.01992797851562, 'latitude': 40.64920425415039, 'borough': 3, 'cd_number': 7, 'point_type': 'garage', 'waste_amt': 0.0, 'pickup': False}, 101: {'longitude': -73.99365997314453, 'latitude': 40.71318817138672, 'borough': 1, 'cd_number': 3, 'point_type': 'garage', 'waste_amt': 0.0, 'pickup': False}, 102: {'longitude': -73.99411010742188, 'latitude': 40.7695198059082, 'borough': 1, 'cd_number': 4, 'point_type': 'garage', 'waste_amt': 0.0, 'pickup': False}, 103: {'longitude': -73.98519134521484, 'latitude': 40.709716796875, 'borough': 1, 'cd_number': 3, 'point_type': 'garage', 'waste_amt': 0.0, 'pickup': False}, 104: {'longitude': -73.91547393798828, 'latitude': 40.800777435302734, 'borough': 2, 'cd_number': 1, 'point_type': 'garage', 'waste_amt': 0.0, 'pickup': False}, 105: {'longitude': -73.84293365478516, 'latitude': 40.82653045654297, 'borough': 2, 'cd_number': 9, 'point_type': 'garage', 'waste_amt': 0.0, 'pickup': False}, 106: {'longitude': -73.95340728759766, 'latitude': 40.69783020019531, 'borough': 3, 'cd_number': 3, 'point_type': 'garage', 'waste_amt': 0.0, 'pickup': False}, 107: {'longitude': -73.99432373046875, 'latitude': 40.67098617553711, 'borough': 3, 'cd_number': 6, 'point_type': 'garage', 'waste_amt': 0.0, 'pickup': False}, 108: {'longitude': -73.84243774414062, 'latitude': 40.82405471801758, 'borough': 2, 'cd_number': 9, 'point_type': 'garage', 'waste_amt': 0.0, 'pickup': False}, 109: {'longitude': -73.93521118164062, 'latitude': 40.762046813964844, 'borough': 4, 'cd_number': 1, 'point_type': 'garage', 'waste_amt': 0.0, 'pickup': False}, 110: {'longitude': -73.8896255493164, 'latitude': 40.84194564819336, 'borough': 2, 'cd_number': 6, 'point_type': 'garage', 'waste_amt': 0.0, 'pickup': False}, 111: {'longitude': -73.9931640625, 'latitude': 40.77189254760742, 'borough': 1, 'cd_number': 4, 'point_type': 'garage', 'waste_amt': 0.0, 'pickup': False}, 112: {'longitude': -73.93202209472656, 'latitude': 40.59169006347656, 'borough': 3, 'cd_number': 15, 'point_type': 'garage', 'waste_amt': 0.0, 'pickup': False}, 113: {'longitude': -74.01023864746094, 'latitude': 40.726768493652344, 'borough': 1, 'cd_number': 2, 'point_type': 'garage', 'waste_amt': 0.0, 'pickup': False}, 114: {'longitude': -73.92204284667969, 'latitude': 40.721778869628906, 'borough': 4, 'cd_number': 5, 'point_type': 'garage', 'waste_amt': 0.0, 'pickup': False}, 115: {'longitude': -73.84275817871094, 'latitude': 40.825286865234375, 'borough': 2, 'cd_number': 9, 'point_type': 'garage', 'waste_amt': 0.0, 'pickup': False}, 116: {'longitude': -73.9828109741211, 'latitude': 40.62310791015625, 'borough': 3, 'cd_number': 12, 'point_type': 'garage', 'waste_amt': 0.0, 'pickup': False}, 117: {'longitude': -73.8699951171875, 'latitude': 40.66101837158203, 'borough': 3, 'cd_number': 5, 'point_type': 'garage', 'waste_amt': 0.0, 'pickup': False}, 118: {'longitude': -73.78044128417969, 'latitude': 40.60145950317383, 'borough': 4, 'cd_number': 14, 'point_type': 'garage', 'waste_amt': 0.0, 'pickup': False}, 119: {'longitude': -73.84463500976562, 'latitude': 40.770225524902344, 'borough': 4, 'cd_number': 7, 'point_type': 'garage', 'waste_amt': 0.0, 'pickup': False}, 120: {'longitude': -73.91484832763672, 'latitude': 40.801292419433594, 'borough': 2, 'cd_number': 1, 'point_type': 'garage', 'waste_amt': 0.0, 'pickup': False}, 121: {'longitude': -73.91643524169922, 'latitude': 40.80095672607422, 'borough': 2, 'cd_number': 1, 'point_type': 'garage', 'waste_amt': 0.0, 'pickup': False}, 122: {'longitude': -73.92630767822266, 'latitude': 40.70908737182617, 'borough': 3, 'cd_number': 1, 'point_type': 'garage', 'waste_amt': 0.0, 'pickup': False}, 123: {'longitude': -73.91795349121094, 'latitude': 40.80145263671875, 'borough': 2, 'cd_number': 1, 'point_type': 'garage', 'waste_amt': 0.0, 'pickup': False}, 124: {'longitude': -73.92938995361328, 'latitude': 40.71230697631836, 'borough': 3, 'cd_number': 1, 'point_type': 'garage', 'waste_amt': 0.0, 'pickup': False}, 125: {'longitude': -73.86016845703125, 'latitude': 40.66460418701172, 'borough': 3, 'cd_number': 5, 'point_type': 'garage', 'waste_amt': 0.0, 'pickup': False}, 126: {'longitude': -73.80833435058594, 'latitude': 40.664833068847656, 'borough': 4, 'cd_number': 10, 'point_type': 'garage', 'waste_amt': 0.0, 'pickup': False}, 127: {'longitude': -73.88976287841797, 'latitude': 40.81305694580078, 'borough': 2, 'cd_number': 2, 'point_type': 'garage', 'waste_amt': 0.0, 'pickup': False}, 128: {'longitude': -74.01042175292969, 'latitude': 40.725521087646484, 'borough': 1, 'cd_number': 2, 'point_type': 'garage', 'waste_amt': 0.0, 'pickup': False}, 129: {'longitude': -73.90830993652344, 'latitude': 40.732887268066406, 'borough': 4, 'cd_number': 2, 'point_type': 'garage', 'waste_amt': 0.0, 'pickup': False}, 130: {'longitude': -73.78441619873047, 'latitude': 40.665096282958984, 'borough': 4, 'cd_number': 12, 'point_type': 'garage', 'waste_amt': 0.0, 'pickup': False}, 131: {'longitude': -73.81648254394531, 'latitude': 40.69672775268555, 'borough': 4, 'cd_number': 9, 'point_type': 'garage', 'waste_amt': 0.0, 'pickup': False}, 132: {'longitude': -73.99386596679688, 'latitude': 40.77075958251953, 'borough': 1, 'cd_number': 4, 'point_type': 'garage', 'waste_amt': 0.0, 'pickup': False}, 133: {'longitude': -73.921630859375, 'latitude': 40.840065002441406, 'borough': 2, 'cd_number': 4, 'point_type': 'garage', 'waste_amt': 0.0, 'pickup': False}, 134: {'longitude': -73.99253845214844, 'latitude': 40.76970291137695, 'borough': 1, 'cd_number': 4, 'point_type': 'garage', 'waste_amt': 0.0, 'pickup': False}, 135: {'longitude': -73.9372329711914, 'latitude': 40.802764892578125, 'borough': 1, 'cd_number': 11, 'point_type': 'garage', 'waste_amt': 0.0, 'pickup': False}, 136: {'longitude': -73.84770202636719, 'latitude': 40.770931243896484, 'borough': 4, 'cd_number': 7, 'point_type': 'garage', 'waste_amt': 0.0, 'pickup': False}, 137: {'longitude': -74.01004028320312, 'latitude': 40.72801208496094, 'borough': 1, 'cd_number': 2, 'point_type': 'garage', 'waste_amt': 0.0, 'pickup': False}, 138: {'longitude': -73.94395446777344, 'latitude': 40.78568649291992, 'borough': 1, 'cd_number': 11, 'point_type': 'garage', 'waste_amt': 0.0, 'pickup': False}, 139: {'longitude': -74.0207748413086, 'latitude': 40.6502799987793, 'borough': 3, 'cd_number': 7, 'point_type': 'garage', 'waste_amt': 0.0, 'pickup': False}, 140: {'longitude': -73.90001678466797, 'latitude': 40.652587890625, 'borough': 3, 'cd_number': 18, 'point_type': 'garage', 'waste_amt': 0.0, 'pickup': False}, 141: {'longitude': -74.00482940673828, 'latitude': 40.685394287109375, 'borough': 3, 'cd_number': 6, 'point_type': 'garage', 'waste_amt': 0.0, 'pickup': False}, 142: {'longitude': -73.91325378417969, 'latitude': 40.86933898925781, 'borough': 1, 'cd_number': 12, 'point_type': 'garage', 'waste_amt': 0.0, 'pickup': False}, 143: {'longitude': -73.88223266601562, 'latitude': 40.836280822753906, 'borough': 2, 'cd_number': 3, 'point_type': 'garage', 'waste_amt': 0.0, 'pickup': False}, 144: {'longitude': -73.92870330810547, 'latitude': 40.710121154785156, 'borough': 3, 'cd_number': 1, 'point_type': 'garage', 'waste_amt': 0.0, 'pickup': False}, 145: {'longitude': -73.93610382080078, 'latitude': 40.80845642089844, 'borough': 1, 'cd_number': 11, 'point_type': 'garage', 'waste_amt': 0.0, 'pickup': False}, 146: {'longitude': -73.7813949584961, 'latitude': 40.600440979003906, 'borough': 4, 'cd_number': 14, 'point_type': 'garage', 'waste_amt': 0.0, 'pickup': False}, 147: {'longitude': -73.90091705322266, 'latitude': 40.65389633178711, 'borough': 3, 'cd_number': 18, 'point_type': 'garage', 'waste_amt': 0.0, 'pickup': False}, 148: {'longitude': -74.08454132080078, 'latitude': 40.63639450073242, 'borough': 5, 'cd_number': 1, 'point_type': 'garage', 'waste_amt': 0.0, 'pickup': False}, 149: {'longitude': -73.9119644165039, 'latitude': 40.868560791015625, 'borough': 1, 'cd_number': 12, 'point_type': 'garage', 'waste_amt': 0.0, 'pickup': False}, 150: {'longitude': -73.99650573730469, 'latitude': 40.669593811035156, 'borough': 3, 'cd_number': 6, 'point_type': 'garage', 'waste_amt': 0.0, 'pickup': False}, 151: {'longitude': -73.84628295898438, 'latitude': 40.77029800415039, 'borough': 4, 'cd_number': 7, 'point_type': 'garage', 'waste_amt': 0.0, 'pickup': False}, 152: {'longitude': -73.93197631835938, 'latitude': 40.67680740356445, 'borough': 3, 'cd_number': 8, 'point_type': 'garage', 'waste_amt': 0.0, 'pickup': False}, 153: {'longitude': -73.84505462646484, 'latitude': 40.82988357543945, 'borough': 2, 'cd_number': 9, 'point_type': 'garage', 'waste_amt': 0.0, 'pickup': False}, 154: {'longitude': -73.94749450683594, 'latitude': 40.65656280517578, 'borough': 3, 'cd_number': 9, 'point_type': 'garage', 'waste_amt': 0.0, 'pickup': False}, 155: {'longitude': -73.90846252441406, 'latitude': 40.73423767089844, 'borough': 4, 'cd_number': 2, 'point_type': 'garage', 'waste_amt': 0.0, 'pickup': False}, 156: {'longitude': -73.88983917236328, 'latitude': 40.654319763183594, 'borough': 3, 'cd_number': 5, 'point_type': 'garage', 'waste_amt': 0.0, 'pickup': False}, 157: {'longitude': -73.89388275146484, 'latitude': 40.851322174072266, 'borough': 2, 'cd_number': 6, 'point_type': 'garage', 'waste_amt': 0.0, 'pickup': False}, 158: {'longitude': -73.99602508544922, 'latitude': 40.58951950073242, 'borough': 3, 'cd_number': 11, 'point_type': 'garage', 'waste_amt': 0.0, 'pickup': False}, 159: {'longitude': -73.98802185058594, 'latitude': 40.57844543457031, 'borough': 3, 'cd_number': 13, 'point_type': 'garage', 'waste_amt': 0.0, 'pickup': False}, 160: {'longitude': -73.9180908203125, 'latitude': 40.80270004272461, 'borough': 2, 'cd_number': 1, 'point_type': 'garage', 'waste_amt': 0.0, 'pickup': False}, 161: {'longitude': -74.19449615478516, 'latitude': 40.57019805908203, 'borough': 5, 'cd_number': 3, 'point_type': 'garage', 'waste_amt': 0.0, 'pickup': False}, 162: {'longitude': -73.8266372680664, 'latitude': 40.88834762573242, 'borough': 2, 'cd_number': 12, 'point_type': 'garage', 'waste_amt': 0.0, 'pickup': False}, 163: {'longitude': -73.84642791748047, 'latitude': 40.76907730102539, 'borough': 4, 'cd_number': 7, 'point_type': 'garage', 'waste_amt': 0.0, 'pickup': False}, 164: {'longitude': -73.90530395507812, 'latitude': 40.733543395996094, 'borough': 4, 'cd_number': 2, 'point_type': 'garage', 'waste_amt': 0.0, 'pickup': False}, 165: {'longitude': -73.92798614501953, 'latitude': 40.61806869506836, 'borough': 3, 'cd_number': 18, 'point_type': 'garage', 'waste_amt': 0.0, 'pickup': False}, 166: {'longitude': -73.92252349853516, 'latitude': 40.72056198120117, 'borough': 4, 'cd_number': 5, 'point_type': 'garage', 'waste_amt': 0.0, 'pickup': False}, 167: {'longitude': -74.01448972675439, 'latitude': 40.732594694928856, 'borough': 1, 'cd_number': 1, 'point_type': 'waste_bin', 'waste_amt': 362.69927978515625, 'pickup': True}, 168: {'longitude': -74.00494024372065, 'latitude': 40.71719270010697, 'borough': 1, 'cd_number': 1, 'point_type': 'waste_bin', 'waste_amt': 362.69927978515625, 'pickup': True}, 169: {'longitude': -73.99525291088845, 'latitude': 40.737059675967984, 'borough': 1, 'cd_number': 2, 'point_type': 'waste_bin', 'waste_amt': 318.74643961588544, 'pickup': True}, 170: {'longitude': -74.0050373066197, 'latitude': 40.77207328059706, 'borough': 1, 'cd_number': 2, 'point_type': 'waste_bin', 'waste_amt': 318.74643961588544, 'pickup': True}, 171: {'longitude': -74.01174502757357, 'latitude': 40.744949941482105, 'borough': 1, 'cd_number': 2, 'point_type': 'waste_bin', 'waste_amt': 318.74643961588544, 'pickup': True}, 172: {'longitude': -73.9842276765778, 'latitude': 40.70254963953686, 'borough': 1, 'cd_number': 3, 'point_type': 'waste_bin', 'waste_amt': 257.7369873046875, 'pickup': False}, 173: {'longitude': -74.00906334884262, 'latitude': 40.70642477126335, 'borough': 1, 'cd_number': 3, 'point_type': 'waste_bin', 'waste_amt': 257.7369873046875, 'pickup': False}, 174: {'longitude': -74.00410316350613, 'latitude': 40.73813056436866, 'borough': 1, 'cd_number': 3, 'point_type': 'waste_bin', 'waste_amt': 257.7369873046875, 'pickup': False}, 175: {'longitude': -74.01315329397237, 'latitude': 40.71961669451578, 'borough': 1, 'cd_number': 3, 'point_type': 'waste_bin', 'waste_amt': 257.7369873046875, 'pickup': False}, 176: {'longitude': -74.01698114647553, 'latitude': 40.71154937606589, 'borough': 1, 'cd_number': 3, 'point_type': 'waste_bin', 'waste_amt': 257.7369873046875, 'pickup': False}, 177: {'longitude': -74.01062940296528, 'latitude': 40.76202471319084, 'borough': 1, 'cd_number': 4, 'point_type': 'waste_bin', 'waste_amt': 381.0725911458333, 'pickup': True}, 178: {'longitude': -74.0035990503385, 'latitude': 40.75531691137323, 'borough': 1, 'cd_number': 4, 'point_type': 'waste_bin', 'waste_amt': 381.0725911458333, 'pickup': True}, 179: {'longitude': -73.97809934087876, 'latitude': 40.73350818426134, 'borough': 1, 'cd_number': 4, 'point_type': 'waste_bin', 'waste_amt': 381.0725911458333, 'pickup': True}, 180: {'longitude': -73.98443995740949, 'latitude': 40.71371628500754, 'borough': 1, 'cd_number': 5, 'point_type': 'waste_bin', 'waste_amt': 326.050048828125, 'pickup': True}, 181: {'longitude': -74.00873273346608, 'latitude': 40.73638480513435, 'borough': 1, 'cd_number': 5, 'point_type': 'waste_bin', 'waste_amt': 326.050048828125, 'pickup': True}, 182: {'longitude': -73.96575506229124, 'latitude': 40.736277446873636, 'borough': 1, 'cd_number': 6, 'point_type': 'waste_bin', 'waste_amt': 284.52109375, 'pickup': False}, 183: {'longitude': -73.96545304506894, 'latitude': 40.74004214567884, 'borough': 1, 'cd_number': 6, 'point_type': 'waste_bin', 'waste_amt': 284.52109375, 'pickup': False}, 184: {'longitude': -73.97910794477235, 'latitude': 40.737417814690424, 'borough': 1, 'cd_number': 6, 'point_type': 'waste_bin', 'waste_amt': 284.52109375, 'pickup': False}, 185: {'longitude': -73.98168088511329, 'latitude': 40.75396438644536, 'borough': 1, 'cd_number': 6, 'point_type': 'waste_bin', 'waste_amt': 284.52109375, 'pickup': False}, 186: {'longitude': -73.97149439950712, 'latitude': 40.739778690258525, 'borough': 1, 'cd_number': 6, 'point_type': 'waste_bin', 'waste_amt': 284.52109375, 'pickup': False}, 187: {'longitude': -73.9666229409492, 'latitude': 40.78609172009766, 'borough': 1, 'cd_number': 7, 'point_type': 'waste_bin', 'waste_amt': 324.82188197544644, 'pickup': True}, 188: {'longitude': -73.99543272605115, 'latitude': 40.80447326142729, 'borough': 1, 'cd_number': 7, 'point_type': 'waste_bin', 'waste_amt': 324.82188197544644, 'pickup': True}, 189: {'longitude': -73.98368444978499, 'latitude': 40.77288421528728, 'borough': 1, 'cd_number': 7, 'point_type': 'waste_bin', 'waste_amt': 324.82188197544644, 'pickup': True}, 190: {'longitude': -73.96871703915114, 'latitude': 40.77919004268991, 'borough': 1, 'cd_number': 7, 'point_type': 'waste_bin', 'waste_amt': 324.82188197544644, 'pickup': True}, 191: {'longitude': -73.97638080588544, 'latitude': 40.78317601138681, 'borough': 1, 'cd_number': 7, 'point_type': 'waste_bin', 'waste_amt': 324.82188197544644, 'pickup': True}, 192: {'longitude': -73.96547881985691, 'latitude': 40.78303040751574, 'borough': 1, 'cd_number': 7, 'point_type': 'waste_bin', 'waste_amt': 324.82188197544644, 'pickup': True}, 193: {'longitude': -73.97922837848105, 'latitude': 40.7671859834368, 'borough': 1, 'cd_number': 7, 'point_type': 'waste_bin', 'waste_amt': 324.82188197544644, 'pickup': True}, 194: {'longitude': -73.97270991631099, 'latitude': 40.772708085192924, 'borough': 1, 'cd_number': 8, 'point_type': 'waste_bin', 'waste_amt': 324.7403564453125, 'pickup': True}, 195: {'longitude': -73.93598354810027, 'latitude': 40.7746959898794, 'borough': 1, 'cd_number': 8, 'point_type': 'waste_bin', 'waste_amt': 324.7403564453125, 'pickup': True}, 196: {'longitude': -73.94191369167106, 'latitude': 40.789219002074645, 'borough': 1, 'cd_number': 8, 'point_type': 'waste_bin', 'waste_amt': 324.7403564453125, 'pickup': True}, 197: {'longitude': -73.96408452165718, 'latitude': 40.787017157906085, 'borough': 1, 'cd_number': 8, 'point_type': 'waste_bin', 'waste_amt': 324.7403564453125, 'pickup': True}, 198: {'longitude': -73.95895107181462, 'latitude': 40.77044342538698, 'borough': 1, 'cd_number': 8, 'point_type': 'waste_bin', 'waste_amt': 324.7403564453125, 'pickup': True}, 199: {'longitude': -73.93704629021522, 'latitude': 40.761463824214346, 'borough': 1, 'cd_number': 8, 'point_type': 'waste_bin', 'waste_amt': 324.7403564453125, 'pickup': True}, 200: {'longitude': -73.96741466598839, 'latitude': 40.7917639925327, 'borough': 1, 'cd_number': 8, 'point_type': 'waste_bin', 'waste_amt': 324.7403564453125, 'pickup': True}, 201: {'longitude': -73.94221692368637, 'latitude': 40.76782074492998, 'borough': 1, 'cd_number': 8, 'point_type': 'waste_bin', 'waste_amt': 324.7403564453125, 'pickup': True}, 202: {'longitude': -73.93238206666355, 'latitude': 40.82054252908105, 'borough': 1, 'cd_number': 9, 'point_type': 'waste_bin', 'waste_amt': 258.8755798339844, 'pickup': False}, 203: {'longitude': -73.94111832873922, 'latitude': 40.811461992748356, 'borough': 1, 'cd_number': 9, 'point_type': 'waste_bin', 'waste_amt': 258.8755798339844, 'pickup': False}, 204: {'longitude': -73.93520337760769, 'latitude': 40.83754666700297, 'borough': 1, 'cd_number': 9, 'point_type': 'waste_bin', 'waste_amt': 258.8755798339844, 'pickup': False}, 205: {'longitude': -73.94341103658492, 'latitude': 40.83040793534005, 'borough': 1, 'cd_number': 9, 'point_type': 'waste_bin', 'waste_amt': 258.8755798339844, 'pickup': False}, 206: {'longitude': -73.929464970821, 'latitude': 40.814872946556534, 'borough': 1, 'cd_number': 10, 'point_type': 'waste_bin', 'waste_amt': 327.8336486816406, 'pickup': True}, 207: {'longitude': -73.94404570491926, 'latitude': 40.80386077421058, 'borough': 1, 'cd_number': 10, 'point_type': 'waste_bin', 'waste_amt': 327.8336486816406, 'pickup': True}, 208: {'longitude': -73.93100678786189, 'latitude': 40.802221605492164, 'borough': 1, 'cd_number': 10, 'point_type': 'waste_bin', 'waste_amt': 327.8336486816406, 'pickup': True}, 209: {'longitude': -73.95669511512216, 'latitude': 40.823287303047124, 'borough': 1, 'cd_number': 10, 'point_type': 'waste_bin', 'waste_amt': 327.8336486816406, 'pickup': True}, 210: {'longitude': -73.94420015291291, 'latitude': 40.784314399591196, 'borough': 1, 'cd_number': 11, 'point_type': 'waste_bin', 'waste_amt': 271.11639404296875, 'pickup': False}, 211: {'longitude': -73.95434771508724, 'latitude': 40.803014986520196, 'borough': 1, 'cd_number': 11, 'point_type': 'waste_bin', 'waste_amt': 271.11639404296875, 'pickup': False}, 212: {'longitude': -73.91802285656519, 'latitude': 40.804854919623025, 'borough': 1, 'cd_number': 11, 'point_type': 'waste_bin', 'waste_amt': 271.11639404296875, 'pickup': False}, 213: {'longitude': -73.93228489486502, 'latitude': 40.8069530760978, 'borough': 1, 'cd_number': 11, 'point_type': 'waste_bin', 'waste_amt': 271.11639404296875, 'pickup': False}, 214: {'longitude': -73.93373659209739, 'latitude': 40.84863821991679, 'borough': 1, 'cd_number': 12, 'point_type': 'waste_bin', 'waste_amt': 322.38270786830356, 'pickup': True}, 215: {'longitude': -73.95054018690664, 'latitude': 40.84379279614112, 'borough': 1, 'cd_number': 12, 'point_type': 'waste_bin', 'waste_amt': 322.38270786830356, 'pickup': True}, 216: {'longitude': -73.91633998944081, 'latitude': 40.85308888335431, 'borough': 1, 'cd_number': 12, 'point_type': 'waste_bin', 'waste_amt': 322.38270786830356, 'pickup': True}, 217: {'longitude': -73.94949485759987, 'latitude': 40.856826016140076, 'borough': 1, 'cd_number': 12, 'point_type': 'waste_bin', 'waste_amt': 322.38270786830356, 'pickup': True}, 218: {'longitude': -73.9403706919497, 'latitude': 40.860849440934246, 'borough': 1, 'cd_number': 12, 'point_type': 'waste_bin', 'waste_amt': 322.38270786830356, 'pickup': True}, 219: {'longitude': -73.92528789004459, 'latitude': 40.84628291332263, 'borough': 1, 'cd_number': 12, 'point_type': 'waste_bin', 'waste_amt': 322.38270786830356, 'pickup': True}, 220: {'longitude': -73.9547430787321, 'latitude': 40.858636722605674, 'borough': 1, 'cd_number': 12, 'point_type': 'waste_bin', 'waste_amt': 322.38270786830356, 'pickup': True}, 221: {'longitude': -73.91707071673764, 'latitude': 40.809524287608916, 'borough': 2, 'cd_number': 1, 'point_type': 'waste_bin', 'waste_amt': 323.24766031901044, 'pickup': True}, 222: {'longitude': -73.92944050959852, 'latitude': 40.79707545443412, 'borough': 2, 'cd_number': 1, 'point_type': 'waste_bin', 'waste_amt': 323.24766031901044, 'pickup': True}, 223: {'longitude': -73.90292034975863, 'latitude': 40.805077902208744, 'borough': 2, 'cd_number': 1, 'point_type': 'waste_bin', 'waste_amt': 323.24766031901044, 'pickup': True}, 224: {'longitude': -73.90106016828385, 'latitude': 40.809281047673295, 'borough': 2, 'cd_number': 2, 'point_type': 'waste_bin', 'waste_amt': 341.539794921875, 'pickup': True}, 225: {'longitude': -73.90100958351809, 'latitude': 40.81960193931794, 'borough': 2, 'cd_number': 2, 'point_type': 'waste_bin', 'waste_amt': 341.539794921875, 'pickup': True}, 226: {'longitude': -73.89927537939077, 'latitude': 40.848326664626995, 'borough': 2, 'cd_number': 3, 'point_type': 'waste_bin', 'waste_amt': 347.8765869140625, 'pickup': True}, 227: {'longitude': -73.91203080974891, 'latitude': 40.81734731194143, 'borough': 2, 'cd_number': 3, 'point_type': 'waste_bin', 'waste_amt': 347.8765869140625, 'pickup': True}, 228: {'longitude': -73.8997444423401, 'latitude': 40.81502631784422, 'borough': 2, 'cd_number': 3, 'point_type': 'waste_bin', 'waste_amt': 347.8765869140625, 'pickup': True}, 229: {'longitude': -73.92062923452104, 'latitude': 40.85221750394332, 'borough': 2, 'cd_number': 4, 'point_type': 'waste_bin', 'waste_amt': 309.77065022786456, 'pickup': True}, 230: {'longitude': -73.92442144252009, 'latitude': 40.84560857996282, 'borough': 2, 'cd_number': 4, 'point_type': 'waste_bin', 'waste_amt': 309.77065022786456, 'pickup': True}, 231: {'longitude': -73.91452162745637, 'latitude': 40.852984031803054, 'borough': 2, 'cd_number': 4, 'point_type': 'waste_bin', 'waste_amt': 309.77065022786456, 'pickup': True}, 232: {'longitude': -73.9061213585106, 'latitude': 40.82328356223054, 'borough': 2, 'cd_number': 4, 'point_type': 'waste_bin', 'waste_amt': 309.77065022786456, 'pickup': True}, 233: {'longitude': -73.91079977101748, 'latitude': 40.82880484412342, 'borough': 2, 'cd_number': 4, 'point_type': 'waste_bin', 'waste_amt': 309.77065022786456, 'pickup': True}, 234: {'longitude': -73.90427921961061, 'latitude': 40.850051772651476, 'borough': 2, 'cd_number': 4, 'point_type': 'waste_bin', 'waste_amt': 309.77065022786456, 'pickup': True}, 235: {'longitude': -73.91119553816124, 'latitude': 40.86680841631308, 'borough': 2, 'cd_number': 5, 'point_type': 'waste_bin', 'waste_amt': 311.8240966796875, 'pickup': True}, 236: {'longitude': -73.91960898867022, 'latitude': 40.84706070255779, 'borough': 2, 'cd_number': 5, 'point_type': 'waste_bin', 'waste_amt': 311.8240966796875, 'pickup': True}, 237: {'longitude': -73.93269313367443, 'latitude': 40.85262609518903, 'borough': 2, 'cd_number': 5, 'point_type': 'waste_bin', 'waste_amt': 311.8240966796875, 'pickup': True}, 238: {'longitude': -73.90092616782239, 'latitude': 40.844688676049955, 'borough': 2, 'cd_number': 5, 'point_type': 'waste_bin', 'waste_amt': 311.8240966796875, 'pickup': True}, 239: {'longitude': -73.90012529322955, 'latitude': 40.8380723989024, 'borough': 2, 'cd_number': 5, 'point_type': 'waste_bin', 'waste_amt': 311.8240966796875, 'pickup': True}, 240: {'longitude': -73.88201530711522, 'latitude': 40.85390309090414, 'borough': 2, 'cd_number': 6, 'point_type': 'waste_bin', 'waste_amt': 344.3775634765625, 'pickup': True}, 241: {'longitude': -73.88328305685957, 'latitude': 40.8403287319663, 'borough': 2, 'cd_number': 6, 'point_type': 'waste_bin', 'waste_amt': 344.3775634765625, 'pickup': True}, 242: {'longitude': -73.90843768605235, 'latitude': 40.853625872237885, 'borough': 2, 'cd_number': 6, 'point_type': 'waste_bin', 'waste_amt': 344.3775634765625, 'pickup': True}, 243: {'longitude': -73.91471359704691, 'latitude': 40.853642486253285, 'borough': 2, 'cd_number': 7, 'point_type': 'waste_bin', 'waste_amt': 337.00595703125, 'pickup': True}, 244: {'longitude': -73.90834170369072, 'latitude': 40.856256745278216, 'borough': 2, 'cd_number': 7, 'point_type': 'waste_bin', 'waste_amt': 337.00595703125, 'pickup': True}, 245: {'longitude': -73.89302276868922, 'latitude': 40.87685317166399, 'borough': 2, 'cd_number': 7, 'point_type': 'waste_bin', 'waste_amt': 337.00595703125, 'pickup': True}, 246: {'longitude': -73.88250868204504, 'latitude': 40.85605272126304, 'borough': 2, 'cd_number': 7, 'point_type': 'waste_bin', 'waste_amt': 337.00595703125, 'pickup': True}, 247: {'longitude': -73.91472175448497, 'latitude': 40.85798516481736, 'borough': 2, 'cd_number': 7, 'point_type': 'waste_bin', 'waste_amt': 337.00595703125, 'pickup': True}, 248: {'longitude': -73.90383527450767, 'latitude': 40.886248841846964, 'borough': 2, 'cd_number': 8, 'point_type': 'waste_bin', 'waste_amt': 274.31353759765625, 'pickup': False}, 249: {'longitude': -73.90559657450312, 'latitude': 40.894684318965886, 'borough': 2, 'cd_number': 8, 'point_type': 'waste_bin', 'waste_amt': 274.31353759765625, 'pickup': False}, 250: {'longitude': -73.91523821613376, 'latitude': 40.89780320181564, 'borough': 2, 'cd_number': 8, 'point_type': 'waste_bin', 'waste_amt': 274.31353759765625, 'pickup': False}, 251: {'longitude': -73.88711236604446, 'latitude': 40.90308854252954, 'borough': 2, 'cd_number': 8, 'point_type': 'waste_bin', 'waste_amt': 274.31353759765625, 'pickup': False}, 252: {'longitude': -73.8521354366222, 'latitude': 40.824249684670995, 'borough': 2, 'cd_number': 9, 'point_type': 'waste_bin', 'waste_amt': 301.148681640625, 'pickup': True}, 253: {'longitude': -73.86771614624902, 'latitude': 40.826004353774664, 'borough': 2, 'cd_number': 9, 'point_type': 'waste_bin', 'waste_amt': 301.148681640625, 'pickup': True}, 254: {'longitude': -73.87703258110561, 'latitude': 40.81971850626478, 'borough': 2, 'cd_number': 9, 'point_type': 'waste_bin', 'waste_amt': 301.148681640625, 'pickup': True}, 255: {'longitude': -73.85884008610961, 'latitude': 40.81097308777821, 'borough': 2, 'cd_number': 9, 'point_type': 'waste_bin', 'waste_amt': 301.148681640625, 'pickup': True}, 256: {'longitude': -73.8739650975943, 'latitude': 40.84807685284767, 'borough': 2, 'cd_number': 9, 'point_type': 'waste_bin', 'waste_amt': 301.148681640625, 'pickup': True}, 257: {'longitude': -73.8530794392574, 'latitude': 40.81041426461155, 'borough': 2, 'cd_number': 9, 'point_type': 'waste_bin', 'waste_amt': 301.148681640625, 'pickup': True}, 258: {'longitude': -73.83407337074208, 'latitude': 40.84364097680675, 'borough': 2, 'cd_number': 10, 'point_type': 'waste_bin', 'waste_amt': 302.4971008300781, 'pickup': True}, 259: {'longitude': -73.81867322527673, 'latitude': 40.84040850615021, 'borough': 2, 'cd_number': 10, 'point_type': 'waste_bin', 'waste_amt': 302.4971008300781, 'pickup': True}, 260: {'longitude': -73.81515969433781, 'latitude': 40.808929978708946, 'borough': 2, 'cd_number': 10, 'point_type': 'waste_bin', 'waste_amt': 302.4971008300781, 'pickup': True}, 261: {'longitude': -73.81046471323816, 'latitude': 40.81458386011387, 'borough': 2, 'cd_number': 10, 'point_type': 'waste_bin', 'waste_amt': 302.4971008300781, 'pickup': True}, 262: {'longitude': -73.83921154273975, 'latitude': 40.87366112315623, 'borough': 2, 'cd_number': 11, 'point_type': 'waste_bin', 'waste_amt': 367.95977783203125, 'pickup': True}, 263: {'longitude': -73.85903398069803, 'latitude': 40.887587558926285, 'borough': 2, 'cd_number': 11, 'point_type': 'waste_bin', 'waste_amt': 367.95977783203125, 'pickup': True}, 264: {'longitude': -73.8599020003216, 'latitude': 40.86176639551226, 'borough': 2, 'cd_number': 11, 'point_type': 'waste_bin', 'waste_amt': 367.95977783203125, 'pickup': True}, 265: {'longitude': -73.86185568209419, 'latitude': 40.8596644161789, 'borough': 2, 'cd_number': 11, 'point_type': 'waste_bin', 'waste_amt': 367.95977783203125, 'pickup': True}, 266: {'longitude': -73.81997995602126, 'latitude': 40.85716236617938, 'borough': 2, 'cd_number': 12, 'point_type': 'waste_bin', 'waste_amt': 360.7711181640625, 'pickup': True}, 267: {'longitude': -73.81652778431251, 'latitude': 40.88925251067277, 'borough': 2, 'cd_number': 12, 'point_type': 'waste_bin', 'waste_amt': 360.7711181640625, 'pickup': True}, 268: {'longitude': -73.81915393771317, 'latitude': 40.85749251133826, 'borough': 2, 'cd_number': 12, 'point_type': 'waste_bin', 'waste_amt': 360.7711181640625, 'pickup': True}, 269: {'longitude': -73.83076299192616, 'latitude': 40.85463774070772, 'borough': 2, 'cd_number': 12, 'point_type': 'waste_bin', 'waste_amt': 360.7711181640625, 'pickup': True}, 270: {'longitude': -73.82020117049667, 'latitude': 40.880254929114535, 'borough': 2, 'cd_number': 12, 'point_type': 'waste_bin', 'waste_amt': 360.7711181640625, 'pickup': True}, 271: {'longitude': -73.97184902352456, 'latitude': 40.690829073492225, 'borough': 3, 'cd_number': 1, 'point_type': 'waste_bin', 'waste_amt': 383.3052455357143, 'pickup': True}, 272: {'longitude': -73.99236024227956, 'latitude': 40.68115467262304, 'borough': 3, 'cd_number': 1, 'point_type': 'waste_bin', 'waste_amt': 383.3052455357143, 'pickup': True}, 273: {'longitude': -73.97575410760732, 'latitude': 40.71067122883471, 'borough': 3, 'cd_number': 1, 'point_type': 'waste_bin', 'waste_amt': 383.3052455357143, 'pickup': True}, 274: {'longitude': -73.97941402100456, 'latitude': 40.68478616669694, 'borough': 3, 'cd_number': 1, 'point_type': 'waste_bin', 'waste_amt': 383.3052455357143, 'pickup': True}, 275: {'longitude': -73.98370093926528, 'latitude': 40.682207627327045, 'borough': 3, 'cd_number': 1, 'point_type': 'waste_bin', 'waste_amt': 383.3052455357143, 'pickup': True}, 276: {'longitude': -73.98597983958643, 'latitude': 40.69337624809924, 'borough': 3, 'cd_number': 1, 'point_type': 'waste_bin', 'waste_amt': 383.3052455357143, 'pickup': True}, 277: {'longitude': -73.98662964726846, 'latitude': 40.70398066796942, 'borough': 3, 'cd_number': 1, 'point_type': 'waste_bin', 'waste_amt': 383.3052455357143, 'pickup': True}, 278: {'longitude': -73.95481686335668, 'latitude': 40.698669788968765, 'borough': 3, 'cd_number': 2, 'point_type': 'waste_bin', 'waste_amt': 295.8331604003906, 'pickup': False}, 279: {'longitude': -73.98273238028484, 'latitude': 40.675201952086056, 'borough': 3, 'cd_number': 2, 'point_type': 'waste_bin', 'waste_amt': 295.8331604003906, 'pickup': False}, 280: {'longitude': -73.96277807031515, 'latitude': 40.70373864157356, 'borough': 3, 'cd_number': 2, 'point_type': 'waste_bin', 'waste_amt': 295.8331604003906, 'pickup': False}, 281: {'longitude': -73.98275465717073, 'latitude': 40.68505086534419, 'borough': 3, 'cd_number': 2, 'point_type': 'waste_bin', 'waste_amt': 295.8331604003906, 'pickup': False}, 282: {'longitude': -73.9584650251608, 'latitude': 40.680265386581056, 'borough': 3, 'cd_number': 3, 'point_type': 'waste_bin', 'waste_amt': 308.1524251302083, 'pickup': True}, 283: {'longitude': -73.95018650907379, 'latitude': 40.68532437021755, 'borough': 3, 'cd_number': 3, 'point_type': 'waste_bin', 'waste_amt': 308.1524251302083, 'pickup': True}, 284: {'longitude': -73.94312353737817, 'latitude': 40.69815272175596, 'borough': 3, 'cd_number': 3, 'point_type': 'waste_bin', 'waste_amt': 308.1524251302083, 'pickup': True}, 285: {'longitude': -73.93510077209437, 'latitude': 40.69791253969866, 'borough': 3, 'cd_number': 3, 'point_type': 'waste_bin', 'waste_amt': 308.1524251302083, 'pickup': True}, 286: {'longitude': -73.9386940658201, 'latitude': 40.66139032728645, 'borough': 3, 'cd_number': 3, 'point_type': 'waste_bin', 'waste_amt': 308.1524251302083, 'pickup': True}, 287: {'longitude': -73.96132127755065, 'latitude': 40.69110422792844, 'borough': 3, 'cd_number': 3, 'point_type': 'waste_bin', 'waste_amt': 308.1524251302083, 'pickup': True}, 288: {'longitude': -73.92861669152904, 'latitude': 40.69265530395634, 'borough': 3, 'cd_number': 4, 'point_type': 'waste_bin', 'waste_amt': 272.2015380859375, 'pickup': False}, 289: {'longitude': -73.92971952627633, 'latitude': 40.70370407294495, 'borough': 3, 'cd_number': 4, 'point_type': 'waste_bin', 'waste_amt': 272.2015380859375, 'pickup': False}, 290: {'longitude': -73.92258604180198, 'latitude': 40.69675854082329, 'borough': 3, 'cd_number': 4, 'point_type': 'waste_bin', 'waste_amt': 272.2015380859375, 'pickup': False}, 291: {'longitude': -73.91794721057376, 'latitude': 40.686954511217664, 'borough': 3, 'cd_number': 4, 'point_type': 'waste_bin', 'waste_amt': 272.2015380859375, 'pickup': False}, 292: {'longitude': -73.91190925376716, 'latitude': 40.69300189881561, 'borough': 3, 'cd_number': 4, 'point_type': 'waste_bin', 'waste_amt': 272.2015380859375, 'pickup': False}, 293: {'longitude': -73.91318890394902, 'latitude': 40.680496324144535, 'borough': 3, 'cd_number': 5, 'point_type': 'waste_bin', 'waste_amt': 353.4231770833333, 'pickup': True}, 294: {'longitude': -73.90350525409944, 'latitude': 40.65985356399291, 'borough': 3, 'cd_number': 5, 'point_type': 'waste_bin', 'waste_amt': 353.4231770833333, 'pickup': True}, 295: {'longitude': -73.88052558522175, 'latitude': 40.666952476561995, 'borough': 3, 'cd_number': 5, 'point_type': 'waste_bin', 'waste_amt': 353.4231770833333, 'pickup': True}, 296: {'longitude': -73.90870961093152, 'latitude': 40.67277247494766, 'borough': 3, 'cd_number': 5, 'point_type': 'waste_bin', 'waste_amt': 353.4231770833333, 'pickup': True}, 297: {'longitude': -73.91151917941828, 'latitude': 40.65898689659963, 'borough': 3, 'cd_number': 5, 'point_type': 'waste_bin', 'waste_amt': 353.4231770833333, 'pickup': True}, 298: {'longitude': -73.90054550517452, 'latitude': 40.6561998925949, 'borough': 3, 'cd_number': 5, 'point_type': 'waste_bin', 'waste_amt': 353.4231770833333, 'pickup': True}, 299: {'longitude': -73.96878597502531, 'latitude': 40.68653013590448, 'borough': 3, 'cd_number': 6, 'point_type': 'waste_bin', 'waste_amt': 241.86196899414062, 'pickup': False}, 300: {'longitude': -73.96466343291688, 'latitude': 40.64716336975457, 'borough': 3, 'cd_number': 6, 'point_type': 'waste_bin', 'waste_amt': 241.86196899414062, 'pickup': False}, 301: {'longitude': -73.97558546077158, 'latitude': 40.683607623001635, 'borough': 3, 'cd_number': 6, 'point_type': 'waste_bin', 'waste_amt': 241.86196899414062, 'pickup': False}, 302: {'longitude': -73.9722173661067, 'latitude': 40.683374749789834, 'borough': 3, 'cd_number': 6, 'point_type': 'waste_bin', 'waste_amt': 241.86196899414062, 'pickup': False}, 303: {'longitude': -74.02083596766474, 'latitude': 40.65686218431834, 'borough': 3, 'cd_number': 7, 'point_type': 'waste_bin', 'waste_amt': 302.2271728515625, 'pickup': True}, 304: {'longitude': -73.98462467583704, 'latitude': 40.66564041715943, 'borough': 3, 'cd_number': 7, 'point_type': 'waste_bin', 'waste_amt': 302.2271728515625, 'pickup': True}, 305: {'longitude': -74.00442129769233, 'latitude': 40.63978568192691, 'borough': 3, 'cd_number': 7, 'point_type': 'waste_bin', 'waste_amt': 302.2271728515625, 'pickup': True}, 306: {'longitude': -73.98321532231151, 'latitude': 40.666810386553465, 'borough': 3, 'cd_number': 7, 'point_type': 'waste_bin', 'waste_amt': 302.2271728515625, 'pickup': True}, 307: {'longitude': -74.01719202049937, 'latitude': 40.66710265933776, 'borough': 3, 'cd_number': 7, 'point_type': 'waste_bin', 'waste_amt': 302.2271728515625, 'pickup': True}, 308: {'longitude': -73.93852170583799, 'latitude': 40.66127708390481, 'borough': 3, 'cd_number': 8, 'point_type': 'waste_bin', 'waste_amt': 299.486572265625, 'pickup': False}, 309: {'longitude': -73.94699237704214, 'latitude': 40.678191244491686, 'borough': 3, 'cd_number': 8, 'point_type': 'waste_bin', 'waste_amt': 299.486572265625, 'pickup': False}, 310: {'longitude': -73.94512182446458, 'latitude': 40.67109710502847, 'borough': 3, 'cd_number': 8, 'point_type': 'waste_bin', 'waste_amt': 299.486572265625, 'pickup': False}, 311: {'longitude': -73.93925946600339, 'latitude': 40.65203504352676, 'borough': 3, 'cd_number': 8, 'point_type': 'waste_bin', 'waste_amt': 299.486572265625, 'pickup': False}, 312: {'longitude': -73.95454663694144, 'latitude': 40.65663310965958, 'borough': 3, 'cd_number': 9, 'point_type': 'waste_bin', 'waste_amt': 362.1917419433594, 'pickup': True}, 313: {'longitude': -73.95556817770446, 'latitude': 40.64512852937515, 'borough': 3, 'cd_number': 9, 'point_type': 'waste_bin', 'waste_amt': 362.1917419433594, 'pickup': True}, 314: {'longitude': -73.94609946910525, 'latitude': 40.663233815119234, 'borough': 3, 'cd_number': 9, 'point_type': 'waste_bin', 'waste_amt': 362.1917419433594, 'pickup': True}, 315: {'longitude': -73.95764225015785, 'latitude': 40.64475974612871, 'borough': 3, 'cd_number': 9, 'point_type': 'waste_bin', 'waste_amt': 362.1917419433594, 'pickup': True}, 316: {'longitude': -74.02676320903963, 'latitude': 40.61205051107306, 'borough': 3, 'cd_number': 10, 'point_type': 'waste_bin', 'waste_amt': 332.9857177734375, 'pickup': True}, 317: {'longitude': -74.02311819524341, 'latitude': 40.64297236790788, 'borough': 3, 'cd_number': 10, 'point_type': 'waste_bin', 'waste_amt': 332.9857177734375, 'pickup': True}, 318: {'longitude': -74.01815031797634, 'latitude': 40.61945648855383, 'borough': 3, 'cd_number': 10, 'point_type': 'waste_bin', 'waste_amt': 332.9857177734375, 'pickup': True}, 319: {'longitude': -74.04446288408793, 'latitude': 40.608738867057696, 'borough': 3, 'cd_number': 10, 'point_type': 'waste_bin', 'waste_amt': 332.9857177734375, 'pickup': True}, 320: {'longitude': -74.03208673299649, 'latitude': 40.6256104044306, 'borough': 3, 'cd_number': 10, 'point_type': 'waste_bin', 'waste_amt': 332.9857177734375, 'pickup': True}, 321: {'longitude': -73.9934000430726, 'latitude': 40.60636160737127, 'borough': 3, 'cd_number': 11, 'point_type': 'waste_bin', 'waste_amt': 350.8585728236607, 'pickup': True}, 322: {'longitude': -74.00864427288974, 'latitude': 40.611439236464086, 'borough': 3, 'cd_number': 11, 'point_type': 'waste_bin', 'waste_amt': 350.8585728236607, 'pickup': True}, 323: {'longitude': -74.0086201866342, 'latitude': 40.58945949605939, 'borough': 3, 'cd_number': 11, 'point_type': 'waste_bin', 'waste_amt': 350.8585728236607, 'pickup': True}, 324: {'longitude': -73.983039965222, 'latitude': 40.62145577576659, 'borough': 3, 'cd_number': 11, 'point_type': 'waste_bin', 'waste_amt': 350.8585728236607, 'pickup': True}, 325: {'longitude': -73.98356841539723, 'latitude': 40.588791657054216, 'borough': 3, 'cd_number': 11, 'point_type': 'waste_bin', 'waste_amt': 350.8585728236607, 'pickup': True}, 326: {'longitude': -73.99906519484749, 'latitude': 40.59788028243426, 'borough': 3, 'cd_number': 11, 'point_type': 'waste_bin', 'waste_amt': 350.8585728236607, 'pickup': True}, 327: {'longitude': -73.9958913652255, 'latitude': 40.58812754341761, 'borough': 3, 'cd_number': 11, 'point_type': 'waste_bin', 'waste_amt': 350.8585728236607, 'pickup': True}, 328: {'longitude': -73.98543517715352, 'latitude': 40.61681203027127, 'borough': 3, 'cd_number': 12, 'point_type': 'waste_bin', 'waste_amt': 373.2404479980469, 'pickup': True}, 329: {'longitude': -73.99950527269696, 'latitude': 40.64590933677013, 'borough': 3, 'cd_number': 12, 'point_type': 'waste_bin', 'waste_amt': 373.2404479980469, 'pickup': True}, 330: {'longitude': -73.99210024362573, 'latitude': 40.620171951544044, 'borough': 3, 'cd_number': 12, 'point_type': 'waste_bin', 'waste_amt': 373.2404479980469, 'pickup': True}, 331: {'longitude': -74.01533808390546, 'latitude': 40.618051318740214, 'borough': 3, 'cd_number': 12, 'point_type': 'waste_bin', 'waste_amt': 373.2404479980469, 'pickup': True}, 332: {'longitude': -74.01121280469208, 'latitude': 40.63305592013347, 'borough': 3, 'cd_number': 12, 'point_type': 'waste_bin', 'waste_amt': 373.2404479980469, 'pickup': True}, 333: {'longitude': -73.99682922861403, 'latitude': 40.652007161251575, 'borough': 3, 'cd_number': 12, 'point_type': 'waste_bin', 'waste_amt': 373.2404479980469, 'pickup': True}, 334: {'longitude': -74.0029799635465, 'latitude': 40.651861444900945, 'borough': 3, 'cd_number': 12, 'point_type': 'waste_bin', 'waste_amt': 373.2404479980469, 'pickup': True}, 335: {'longitude': -73.9944402287759, 'latitude': 40.6293784917411, 'borough': 3, 'cd_number': 12, 'point_type': 'waste_bin', 'waste_amt': 373.2404479980469, 'pickup': True}, 336: {'longitude': -73.99395314889927, 'latitude': 40.56308781011897, 'borough': 3, 'cd_number': 13, 'point_type': 'waste_bin', 'waste_amt': 316.5369873046875, 'pickup': True}, 337: {'longitude': -74.00217819647717, 'latitude': 40.558828255777314, 'borough': 3, 'cd_number': 13, 'point_type': 'waste_bin', 'waste_amt': 316.5369873046875, 'pickup': True}, 338: {'longitude': -74.00287722301506, 'latitude': 40.590794171919036, 'borough': 3, 'cd_number': 13, 'point_type': 'waste_bin', 'waste_amt': 316.5369873046875, 'pickup': True}, 339: {'longitude': -73.96067404320019, 'latitude': 40.61978479332626, 'borough': 3, 'cd_number': 14, 'point_type': 'waste_bin', 'waste_amt': 319.62290736607144, 'pickup': True}, 340: {'longitude': -73.94332510679756, 'latitude': 40.61475198680337, 'borough': 3, 'cd_number': 14, 'point_type': 'waste_bin', 'waste_amt': 319.62290736607144, 'pickup': True}, 341: {'longitude': -73.9292274357473, 'latitude': 40.6087486771777, 'borough': 3, 'cd_number': 14, 'point_type': 'waste_bin', 'waste_amt': 319.62290736607144, 'pickup': True}, 342: {'longitude': -73.96165994400302, 'latitude': 40.61413738122716, 'borough': 3, 'cd_number': 14, 'point_type': 'waste_bin', 'waste_amt': 319.62290736607144, 'pickup': True}, 343: {'longitude': -73.93433401069521, 'latitude': 40.64797656412288, 'borough': 3, 'cd_number': 14, 'point_type': 'waste_bin', 'waste_amt': 319.62290736607144, 'pickup': True}, 344: {'longitude': -73.93084155473505, 'latitude': 40.6224443583929, 'borough': 3, 'cd_number': 14, 'point_type': 'waste_bin', 'waste_amt': 319.62290736607144, 'pickup': True}, 345: {'longitude': -73.9507837156091, 'latitude': 40.616873203703435, 'borough': 3, 'cd_number': 14, 'point_type': 'waste_bin', 'waste_amt': 319.62290736607144, 'pickup': True}, 346: {'longitude': -73.93794512582467, 'latitude': 40.61816641899833, 'borough': 3, 'cd_number': 15, 'point_type': 'waste_bin', 'waste_amt': 355.7475179036458, 'pickup': True}, 347: {'longitude': -73.93545305356744, 'latitude': 40.595377877255885, 'borough': 3, 'cd_number': 15, 'point_type': 'waste_bin', 'waste_amt': 355.7475179036458, 'pickup': True}, 348: {'longitude': -73.96437294546844, 'latitude': 40.58618688527946, 'borough': 3, 'cd_number': 15, 'point_type': 'waste_bin', 'waste_amt': 355.7475179036458, 'pickup': True}, 349: {'longitude': -73.94773550673006, 'latitude': 40.60686029562727, 'borough': 3, 'cd_number': 15, 'point_type': 'waste_bin', 'waste_amt': 355.7475179036458, 'pickup': True}, 350: {'longitude': -73.94839405182607, 'latitude': 40.59273477575849, 'borough': 3, 'cd_number': 15, 'point_type': 'waste_bin', 'waste_amt': 355.7475179036458, 'pickup': True}, 351: {'longitude': -73.93983139165421, 'latitude': 40.58115831045348, 'borough': 3, 'cd_number': 15, 'point_type': 'waste_bin', 'waste_amt': 355.7475179036458, 'pickup': True}, 352: {'longitude': -73.91013594375673, 'latitude': 40.67052143512759, 'borough': 3, 'cd_number': 16, 'point_type': 'waste_bin', 'waste_amt': 336.69207763671875, 'pickup': True}, 353: {'longitude': -73.90587792441299, 'latitude': 40.677388272667386, 'borough': 3, 'cd_number': 16, 'point_type': 'waste_bin', 'waste_amt': 336.69207763671875, 'pickup': True}, 354: {'longitude': -73.92102448109901, 'latitude': 40.656340291260406, 'borough': 3, 'cd_number': 16, 'point_type': 'waste_bin', 'waste_amt': 336.69207763671875, 'pickup': True}, 355: {'longitude': -73.94591227674772, 'latitude': 40.6678249560262, 'borough': 3, 'cd_number': 17, 'point_type': 'waste_bin', 'waste_amt': 328.5767008463542, 'pickup': True}, 356: {'longitude': -73.95149021355824, 'latitude': 40.64296996599973, 'borough': 3, 'cd_number': 17, 'point_type': 'waste_bin', 'waste_amt': 328.5767008463542, 'pickup': True}, 357: {'longitude': -73.94741629037807, 'latitude': 40.65151559430101, 'borough': 3, 'cd_number': 17, 'point_type': 'waste_bin', 'waste_amt': 328.5767008463542, 'pickup': True}, 358: {'longitude': -73.94966431487971, 'latitude': 40.642791727678606, 'borough': 3, 'cd_number': 17, 'point_type': 'waste_bin', 'waste_amt': 328.5767008463542, 'pickup': True}, 359: {'longitude': -73.92692582736184, 'latitude': 40.64169294447322, 'borough': 3, 'cd_number': 17, 'point_type': 'waste_bin', 'waste_amt': 328.5767008463542, 'pickup': True}, 360: {'longitude': -73.93029095684834, 'latitude': 40.639807255005785, 'borough': 3, 'cd_number': 17, 'point_type': 'waste_bin', 'waste_amt': 328.5767008463542, 'pickup': True}, 361: {'longitude': -73.89552996220336, 'latitude': 40.644860367796696, 'borough': 3, 'cd_number': 18, 'point_type': 'waste_bin', 'waste_amt': 356.48353794642856, 'pickup': True}, 362: {'longitude': -73.89808586708473, 'latitude': 40.64518297251637, 'borough': 3, 'cd_number': 18, 'point_type': 'waste_bin', 'waste_amt': 356.48353794642856, 'pickup': True}, 363: {'longitude': -73.90042092076102, 'latitude': 40.621913694074394, 'borough': 3, 'cd_number': 18, 'point_type': 'waste_bin', 'waste_amt': 356.48353794642856, 'pickup': True}, 364: {'longitude': -73.91046360223524, 'latitude': 40.639677976067965, 'borough': 3, 'cd_number': 18, 'point_type': 'waste_bin', 'waste_amt': 356.48353794642856, 'pickup': True}, 365: {'longitude': -73.92127583939144, 'latitude': 40.62571050564965, 'borough': 3, 'cd_number': 18, 'point_type': 'waste_bin', 'waste_amt': 356.48353794642856, 'pickup': True}, 366: {'longitude': -73.91996242677244, 'latitude': 40.65344181172463, 'borough': 3, 'cd_number': 18, 'point_type': 'waste_bin', 'waste_amt': 356.48353794642856, 'pickup': True}, 367: {'longitude': -73.9169618506321, 'latitude': 40.63700737575867, 'borough': 3, 'cd_number': 18, 'point_type': 'waste_bin', 'waste_amt': 356.48353794642856, 'pickup': True}, 368: {'longitude': -73.93534536350037, 'latitude': 40.738926486090065, 'borough': 4, 'cd_number': 1, 'point_type': 'waste_bin', 'waste_amt': 315.66135660807294, 'pickup': True}, 369: {'longitude': -73.95259717263315, 'latitude': 40.751266910183574, 'borough': 4, 'cd_number': 1, 'point_type': 'waste_bin', 'waste_amt': 315.66135660807294, 'pickup': True}, 370: {'longitude': -73.93190226217945, 'latitude': 40.728722568749745, 'borough': 4, 'cd_number': 1, 'point_type': 'waste_bin', 'waste_amt': 315.66135660807294, 'pickup': True}, 371: {'longitude': -73.93038840956751, 'latitude': 40.75592276192363, 'borough': 4, 'cd_number': 1, 'point_type': 'waste_bin', 'waste_amt': 315.66135660807294, 'pickup': True}, 372: {'longitude': -73.94887933940073, 'latitude': 40.72733260335331, 'borough': 4, 'cd_number': 1, 'point_type': 'waste_bin', 'waste_amt': 315.66135660807294, 'pickup': True}, 373: {'longitude': -73.93143612888508, 'latitude': 40.75321639834694, 'borough': 4, 'cd_number': 1, 'point_type': 'waste_bin', 'waste_amt': 315.66135660807294, 'pickup': True}, 374: {'longitude': -73.92125366545928, 'latitude': 40.75683441135322, 'borough': 4, 'cd_number': 2, 'point_type': 'waste_bin', 'waste_amt': 362.9566650390625, 'pickup': True}, 375: {'longitude': -73.92082248414529, 'latitude': 40.73195682939085, 'borough': 4, 'cd_number': 2, 'point_type': 'waste_bin', 'waste_amt': 362.9566650390625, 'pickup': True}, 376: {'longitude': -73.93477089255268, 'latitude': 40.75155664061437, 'borough': 4, 'cd_number': 2, 'point_type': 'waste_bin', 'waste_amt': 362.9566650390625, 'pickup': True}, 377: {'longitude': -73.92407665097333, 'latitude': 40.744985843035565, 'borough': 4, 'cd_number': 2, 'point_type': 'waste_bin', 'waste_amt': 362.9566650390625, 'pickup': True}, 378: {'longitude': -73.85939539311838, 'latitude': 40.73490025423784, 'borough': 4, 'cd_number': 3, 'point_type': 'waste_bin', 'waste_amt': 364.3019205729167, 'pickup': True}, 379: {'longitude': -73.86773602114654, 'latitude': 40.731969394104226, 'borough': 4, 'cd_number': 3, 'point_type': 'waste_bin', 'waste_amt': 364.3019205729167, 'pickup': True}, 380: {'longitude': -73.84648055478758, 'latitude': 40.75067113388783, 'borough': 4, 'cd_number': 3, 'point_type': 'waste_bin', 'waste_amt': 364.3019205729167, 'pickup': True}, 381: {'longitude': -73.86206437688259, 'latitude': 40.74436415950093, 'borough': 4, 'cd_number': 3, 'point_type': 'waste_bin', 'waste_amt': 364.3019205729167, 'pickup': True}, 382: {'longitude': -73.87046618880251, 'latitude': 40.72564952902597, 'borough': 4, 'cd_number': 3, 'point_type': 'waste_bin', 'waste_amt': 364.3019205729167, 'pickup': True}, 383: {'longitude': -73.84576281453555, 'latitude': 40.72755257497349, 'borough': 4, 'cd_number': 3, 'point_type': 'waste_bin', 'waste_amt': 364.3019205729167, 'pickup': True}, 384: {'longitude': -73.86436793120983, 'latitude': 40.73850083207527, 'borough': 4, 'cd_number': 4, 'point_type': 'waste_bin', 'waste_amt': 319.98801676432294, 'pickup': True}, 385: {'longitude': -73.8578903868215, 'latitude': 40.722227443053335, 'borough': 4, 'cd_number': 4, 'point_type': 'waste_bin', 'waste_amt': 319.98801676432294, 'pickup': True}, 386: {'longitude': -73.86950066160286, 'latitude': 40.748617623049164, 'borough': 4, 'cd_number': 4, 'point_type': 'waste_bin', 'waste_amt': 319.98801676432294, 'pickup': True}, 387: {'longitude': -73.8804159526677, 'latitude': 40.7162151390837, 'borough': 4, 'cd_number': 4, 'point_type': 'waste_bin', 'waste_amt': 319.98801676432294, 'pickup': True}, 388: {'longitude': -73.88328073513482, 'latitude': 40.71905993298809, 'borough': 4, 'cd_number': 4, 'point_type': 'waste_bin', 'waste_amt': 319.98801676432294, 'pickup': True}, 389: {'longitude': -73.89579745257765, 'latitude': 40.74985935379363, 'borough': 4, 'cd_number': 4, 'point_type': 'waste_bin', 'waste_amt': 319.98801676432294, 'pickup': True}, 390: {'longitude': -73.88608158267674, 'latitude': 40.72998238431146, 'borough': 4, 'cd_number': 5, 'point_type': 'waste_bin', 'waste_amt': 314.12060546875, 'pickup': True}, 391: {'longitude': -73.88101357721696, 'latitude': 40.697852785916325, 'borough': 4, 'cd_number': 5, 'point_type': 'waste_bin', 'waste_amt': 314.12060546875, 'pickup': True}, 392: {'longitude': -73.86681318586416, 'latitude': 40.6985157243707, 'borough': 4, 'cd_number': 5, 'point_type': 'waste_bin', 'waste_amt': 314.12060546875, 'pickup': True}, 393: {'longitude': -73.88478263746374, 'latitude': 40.73329911291697, 'borough': 4, 'cd_number': 5, 'point_type': 'waste_bin', 'waste_amt': 314.12060546875, 'pickup': True}, 394: {'longitude': -73.88950333192075, 'latitude': 40.71784352717898, 'borough': 4, 'cd_number': 5, 'point_type': 'waste_bin', 'waste_amt': 314.12060546875, 'pickup': True}, 395: {'longitude': -73.87808929738786, 'latitude': 40.70088016287314, 'borough': 4, 'cd_number': 5, 'point_type': 'waste_bin', 'waste_amt': 314.12060546875, 'pickup': True}, 396: {'longitude': -73.89900438286833, 'latitude': 40.7338155662654, 'borough': 4, 'cd_number': 5, 'point_type': 'waste_bin', 'waste_amt': 314.12060546875, 'pickup': True}, 397: {'longitude': -73.84013819651776, 'latitude': 40.72623926857171, 'borough': 4, 'cd_number': 6, 'point_type': 'waste_bin', 'waste_amt': 351.696533203125, 'pickup': True}, 398: {'longitude': -73.83478095266685, 'latitude': 40.722341315202726, 'borough': 4, 'cd_number': 6, 'point_type': 'waste_bin', 'waste_amt': 351.696533203125, 'pickup': True}, 399: {'longitude': -73.83181420850819, 'latitude': 40.739084196785015, 'borough': 4, 'cd_number': 6, 'point_type': 'waste_bin', 'waste_amt': 351.696533203125, 'pickup': True}, 400: {'longitude': -73.84844284846375, 'latitude': 40.73183010183055, 'borough': 4, 'cd_number': 6, 'point_type': 'waste_bin', 'waste_amt': 351.696533203125, 'pickup': True}, 401: {'longitude': -73.80777320226434, 'latitude': 40.78035417705238, 'borough': 4, 'cd_number': 7, 'point_type': 'waste_bin', 'waste_amt': 321.69140625, 'pickup': True}, 402: {'longitude': -73.8273653294838, 'latitude': 40.76915724504619, 'borough': 4, 'cd_number': 7, 'point_type': 'waste_bin', 'waste_amt': 321.69140625, 'pickup': True}, 403: {'longitude': -73.8184736804002, 'latitude': 40.7667915127599, 'borough': 4, 'cd_number': 7, 'point_type': 'waste_bin', 'waste_amt': 321.69140625, 'pickup': True}, 404: {'longitude': -73.84061269349766, 'latitude': 40.785375317536726, 'borough': 4, 'cd_number': 7, 'point_type': 'waste_bin', 'waste_amt': 321.69140625, 'pickup': True}, 405: {'longitude': -73.82814774196298, 'latitude': 40.7535070944644, 'borough': 4, 'cd_number': 7, 'point_type': 'waste_bin', 'waste_amt': 321.69140625, 'pickup': True}, 406: {'longitude': -73.81800890062185, 'latitude': 40.75017994961113, 'borough': 4, 'cd_number': 7, 'point_type': 'waste_bin', 'waste_amt': 321.69140625, 'pickup': True}, 407: {'longitude': -73.80751641342223, 'latitude': 40.77320365489351, 'borough': 4, 'cd_number': 7, 'point_type': 'waste_bin', 'waste_amt': 321.69140625, 'pickup': True}, 408: {'longitude': -73.82312336173742, 'latitude': 40.781589864362886, 'borough': 4, 'cd_number': 7, 'point_type': 'waste_bin', 'waste_amt': 321.69140625, 'pickup': True}, 409: {'longitude': -73.83201221472623, 'latitude': 40.76468934126546, 'borough': 4, 'cd_number': 7, 'point_type': 'waste_bin', 'waste_amt': 321.69140625, 'pickup': True}, 410: {'longitude': -73.78921367457555, 'latitude': 40.73599727868269, 'borough': 4, 'cd_number': 8, 'point_type': 'waste_bin', 'waste_amt': 355.1700439453125, 'pickup': True}, 411: {'longitude': -73.8120127618258, 'latitude': 40.72470540560046, 'borough': 4, 'cd_number': 8, 'point_type': 'waste_bin', 'waste_amt': 355.1700439453125, 'pickup': True}, 412: {'longitude': -73.77797201105511, 'latitude': 40.72475319905953, 'borough': 4, 'cd_number': 8, 'point_type': 'waste_bin', 'waste_amt': 355.1700439453125, 'pickup': True}, 413: {'longitude': -73.79066290621135, 'latitude': 40.7197832917735, 'borough': 4, 'cd_number': 8, 'point_type': 'waste_bin', 'waste_amt': 355.1700439453125, 'pickup': True}, 414: {'longitude': -73.77591408398783, 'latitude': 40.72675358112967, 'borough': 4, 'cd_number': 8, 'point_type': 'waste_bin', 'waste_amt': 355.1700439453125, 'pickup': True}, 415: {'longitude': -73.82022797895654, 'latitude': 40.6882428498864, 'borough': 4, 'cd_number': 9, 'point_type': 'waste_bin', 'waste_amt': 290.84918212890625, 'pickup': False}, 416: {'longitude': -73.82255211044902, 'latitude': 40.67929072424617, 'borough': 4, 'cd_number': 9, 'point_type': 'waste_bin', 'waste_amt': 290.84918212890625, 'pickup': False}, 417: {'longitude': -73.85349606483848, 'latitude': 40.70241394250396, 'borough': 4, 'cd_number': 9, 'point_type': 'waste_bin', 'waste_amt': 290.84918212890625, 'pickup': False}, 418: {'longitude': -73.847446937231, 'latitude': 40.68677003519855, 'borough': 4, 'cd_number': 9, 'point_type': 'waste_bin', 'waste_amt': 290.84918212890625, 'pickup': False}, 419: {'longitude': -73.8317482386466, 'latitude': 40.702057190291924, 'borough': 4, 'cd_number': 9, 'point_type': 'waste_bin', 'waste_amt': 290.84918212890625, 'pickup': False}, 420: {'longitude': -73.84820428149439, 'latitude': 40.69019778203579, 'borough': 4, 'cd_number': 9, 'point_type': 'waste_bin', 'waste_amt': 290.84918212890625, 'pickup': False}, 421: {'longitude': -73.80560838841524, 'latitude': 40.692156159172114, 'borough': 4, 'cd_number': 10, 'point_type': 'waste_bin', 'waste_amt': 310.4443115234375, 'pickup': True}, 422: {'longitude': -73.80334827813736, 'latitude': 40.67050458721227, 'borough': 4, 'cd_number': 10, 'point_type': 'waste_bin', 'waste_amt': 310.4443115234375, 'pickup': True}, 423: {'longitude': -73.82308442253819, 'latitude': 40.65615053219665, 'borough': 4, 'cd_number': 10, 'point_type': 'waste_bin', 'waste_amt': 310.4443115234375, 'pickup': True}, 424: {'longitude': -73.8055632548669, 'latitude': 40.670229585272814, 'borough': 4, 'cd_number': 10, 'point_type': 'waste_bin', 'waste_amt': 310.4443115234375, 'pickup': True}, 425: {'longitude': -73.83866092087891, 'latitude': 40.6823407158957, 'borough': 4, 'cd_number': 10, 'point_type': 'waste_bin', 'waste_amt': 310.4443115234375, 'pickup': True}, 426: {'longitude': -73.74312182115936, 'latitude': 40.75088318806026, 'borough': 4, 'cd_number': 11, 'point_type': 'waste_bin', 'waste_amt': 295.49993896484375, 'pickup': False}, 427: {'longitude': -73.73353506240798, 'latitude': 40.74664213261891, 'borough': 4, 'cd_number': 11, 'point_type': 'waste_bin', 'waste_amt': 295.49993896484375, 'pickup': False}, 428: {'longitude': -73.74047775745925, 'latitude': 40.773735147752085, 'borough': 4, 'cd_number': 11, 'point_type': 'waste_bin', 'waste_amt': 295.49993896484375, 'pickup': False}, 429: {'longitude': -73.72368672677835, 'latitude': 40.746260458008706, 'borough': 4, 'cd_number': 11, 'point_type': 'waste_bin', 'waste_amt': 295.49993896484375, 'pickup': False}, 430: {'longitude': -73.75370724266355, 'latitude': 40.69487993562089, 'borough': 4, 'cd_number': 12, 'point_type': 'waste_bin', 'waste_amt': 332.1392415364583, 'pickup': True}, 431: {'longitude': -73.74204723229478, 'latitude': 40.6794640849739, 'borough': 4, 'cd_number': 12, 'point_type': 'waste_bin', 'waste_amt': 332.1392415364583, 'pickup': True}, 432: {'longitude': -73.76329587939647, 'latitude': 40.68196511426677, 'borough': 4, 'cd_number': 12, 'point_type': 'waste_bin', 'waste_amt': 332.1392415364583, 'pickup': True}, 433: {'longitude': -73.75120952597973, 'latitude': 40.69170395913806, 'borough': 4, 'cd_number': 12, 'point_type': 'waste_bin', 'waste_amt': 332.1392415364583, 'pickup': True}, 434: {'longitude': -73.74244350948929, 'latitude': 40.7074651122296, 'borough': 4, 'cd_number': 12, 'point_type': 'waste_bin', 'waste_amt': 332.1392415364583, 'pickup': True}, 435: {'longitude': -73.75708102383012, 'latitude': 40.68759855765334, 'borough': 4, 'cd_number': 12, 'point_type': 'waste_bin', 'waste_amt': 332.1392415364583, 'pickup': True}, 436: {'longitude': -73.7802541086205, 'latitude': 40.7031253785147, 'borough': 4, 'cd_number': 12, 'point_type': 'waste_bin', 'waste_amt': 332.1392415364583, 'pickup': True}, 437: {'longitude': -73.78134435671178, 'latitude': 40.69517967407104, 'borough': 4, 'cd_number': 12, 'point_type': 'waste_bin', 'waste_amt': 332.1392415364583, 'pickup': True}, 438: {'longitude': -73.74404591704221, 'latitude': 40.70214442860648, 'borough': 4, 'cd_number': 12, 'point_type': 'waste_bin', 'waste_amt': 332.1392415364583, 'pickup': True}, 439: {'longitude': -73.75112871449612, 'latitude': 40.66311050210681, 'borough': 4, 'cd_number': 13, 'point_type': 'waste_bin', 'waste_amt': 267.3042907714844, 'pickup': False}, 440: {'longitude': -73.74349639321383, 'latitude': 40.65552556356077, 'borough': 4, 'cd_number': 13, 'point_type': 'waste_bin', 'waste_amt': 267.3042907714844, 'pickup': False}, 441: {'longitude': -73.73531151877359, 'latitude': 40.65277869792811, 'borough': 4, 'cd_number': 13, 'point_type': 'waste_bin', 'waste_amt': 267.3042907714844, 'pickup': False}, 442: {'longitude': -73.73085337352234, 'latitude': 40.6512755132279, 'borough': 4, 'cd_number': 13, 'point_type': 'waste_bin', 'waste_amt': 267.3042907714844, 'pickup': False}, 443: {'longitude': -73.71755354099342, 'latitude': 40.652343553800264, 'borough': 4, 'cd_number': 13, 'point_type': 'waste_bin', 'waste_amt': 267.3042907714844, 'pickup': False}, 444: {'longitude': -73.73679339182826, 'latitude': 40.66570996166005, 'borough': 4, 'cd_number': 13, 'point_type': 'waste_bin', 'waste_amt': 267.3042907714844, 'pickup': False}, 445: {'longitude': -73.73260047079567, 'latitude': 40.64613953095943, 'borough': 4, 'cd_number': 13, 'point_type': 'waste_bin', 'waste_amt': 267.3042907714844, 'pickup': False}, 446: {'longitude': -73.7392616584566, 'latitude': 40.65435009025868, 'borough': 4, 'cd_number': 13, 'point_type': 'waste_bin', 'waste_amt': 267.3042907714844, 'pickup': False}, 447: {'longitude': -73.75799744841271, 'latitude': 40.620177014511455, 'borough': 4, 'cd_number': 14, 'point_type': 'waste_bin', 'waste_amt': 341.0713806152344, 'pickup': True}, 448: {'longitude': -73.76369470663239, 'latitude': 40.60007738089946, 'borough': 4, 'cd_number': 14, 'point_type': 'waste_bin', 'waste_amt': 341.0713806152344, 'pickup': True}, 449: {'longitude': -73.76385179082045, 'latitude': 40.603061754665326, 'borough': 4, 'cd_number': 14, 'point_type': 'waste_bin', 'waste_amt': 341.0713806152344, 'pickup': True}, 450: {'longitude': -73.7543626571654, 'latitude': 40.61601472291908, 'borough': 4, 'cd_number': 14, 'point_type': 'waste_bin', 'waste_amt': 341.0713806152344, 'pickup': True}, 451: {'longitude': -74.09338277970672, 'latitude': 40.64022797479058, 'borough': 5, 'cd_number': 1, 'point_type': 'waste_bin', 'waste_amt': 310.4188755580357, 'pickup': True}, 452: {'longitude': -74.09793568683031, 'latitude': 40.645173906392, 'borough': 5, 'cd_number': 1, 'point_type': 'waste_bin', 'waste_amt': 310.4188755580357, 'pickup': True}, 453: {'longitude': -74.11065245453568, 'latitude': 40.61846360363532, 'borough': 5, 'cd_number': 1, 'point_type': 'waste_bin', 'waste_amt': 310.4188755580357, 'pickup': True}, 454: {'longitude': -74.077260639823, 'latitude': 40.640592645254586, 'borough': 5, 'cd_number': 1, 'point_type': 'waste_bin', 'waste_amt': 310.4188755580357, 'pickup': True}, 455: {'longitude': -74.11037075068472, 'latitude': 40.633933518263056, 'borough': 5, 'cd_number': 1, 'point_type': 'waste_bin', 'waste_amt': 310.4188755580357, 'pickup': True}, 456: {'longitude': -74.08554101599289, 'latitude': 40.61501294016936, 'borough': 5, 'cd_number': 1, 'point_type': 'waste_bin', 'waste_amt': 310.4188755580357, 'pickup': True}, 457: {'longitude': -74.10217843742046, 'latitude': 40.62439512580663, 'borough': 5, 'cd_number': 1, 'point_type': 'waste_bin', 'waste_amt': 310.4188755580357, 'pickup': True}, 458: {'longitude': -74.11221589528537, 'latitude': 40.56507714638349, 'borough': 5, 'cd_number': 2, 'point_type': 'waste_bin', 'waste_amt': 297.98541259765625, 'pickup': False}, 459: {'longitude': -74.11476951529161, 'latitude': 40.56459077319434, 'borough': 5, 'cd_number': 2, 'point_type': 'waste_bin', 'waste_amt': 297.98541259765625, 'pickup': False}, 460: {'longitude': -74.13231520373292, 'latitude': 40.55247456051533, 'borough': 5, 'cd_number': 2, 'point_type': 'waste_bin', 'waste_amt': 297.98541259765625, 'pickup': False}, 461: {'longitude': -74.11753262835481, 'latitude': 40.56296826360582, 'borough': 5, 'cd_number': 2, 'point_type': 'waste_bin', 'waste_amt': 297.98541259765625, 'pickup': False}, 462: {'longitude': -74.09981523631568, 'latitude': 40.56741939696262, 'borough': 5, 'cd_number': 2, 'point_type': 'waste_bin', 'waste_amt': 297.98541259765625, 'pickup': False}, 463: {'longitude': -74.13768209383258, 'latitude': 40.57918426027785, 'borough': 5, 'cd_number': 2, 'point_type': 'waste_bin', 'waste_amt': 297.98541259765625, 'pickup': False}, 464: {'longitude': -74.2003656796367, 'latitude': 40.52657569951663, 'borough': 5, 'cd_number': 3, 'point_type': 'waste_bin', 'waste_amt': 313.62591552734375, 'pickup': True}, 465: {'longitude': -74.23119111816945, 'latitude': 40.518508827786555, 'borough': 5, 'cd_number': 3, 'point_type': 'waste_bin', 'waste_amt': 313.62591552734375, 'pickup': True}, 466: {'longitude': -74.19394386153606, 'latitude': 40.55168843755035, 'borough': 5, 'cd_number': 3, 'point_type': 'waste_bin', 'waste_amt': 313.62591552734375, 'pickup': True}, 467: {'longitude': -74.19732307281785, 'latitude': 40.523416189343045, 'borough': 5, 'cd_number': 3, 'point_type': 'waste_bin', 'waste_amt': 313.62591552734375, 'pickup': True}, 468: {'longitude': -74.19664901709838, 'latitude': 40.55359830162795, 'borough': 5, 'cd_number': 3, 'point_type': 'waste_bin', 'waste_amt': 313.62591552734375, 'pickup': True}, 469: {'longitude': -74.22224388958169, 'latitude': 40.53140600189741, 'borough': 5, 'cd_number': 3, 'point_type': 'waste_bin', 'waste_amt': 313.62591552734375, 'pickup': True}, 470: {'longitude': -74.22885403489687, 'latitude': 40.54954810962658, 'borough': 5, 'cd_number': 3, 'point_type': 'waste_bin', 'waste_amt': 313.62591552734375, 'pickup': True}, 471: {'longitude': -74.2206556840197, 'latitude': 40.538955167597095, 'borough': 5, 'cd_number': 3, 'point_type': 'waste_bin', 'waste_amt': 313.62591552734375, 'pickup': True}})"
            ]
          },
          "metadata": {},
          "execution_count": 106
        }
      ]
    },
    {
      "cell_type": "code",
      "source": [
        "import json\n",
        "from networkx.readwrite import json_graph\n",
        "\n",
        "class CustomJSONizer(json.JSONEncoder):\n",
        "    def default(self, obj):\n",
        "        return super().encode(bool(obj)) \\\n",
        "            if isinstance(obj, np.bool_) \\\n",
        "            else super().default(obj)\n",
        "\n",
        "def convert_attributes(G):\n",
        "    for node, data in G.nodes(data=True):\n",
        "        for key, value in data.items():\n",
        "            if isinstance(value, (np.int64, np.float64)):  # Check for NumPy types\n",
        "                G.nodes[node][key] = value.item()  # Convert to native Python type\n",
        "\n",
        "    for u, v, data in G.edges(data=True):\n",
        "        for key, value in data.items():\n",
        "            if isinstance(value, (np.int64, np.float64)):\n",
        "                G.edges[u, v][key] = value.item()\n",
        "\n",
        "# Convert attributes to JSON-safe types\n",
        "convert_attributes(G)\n",
        "\n",
        "# Convert graph to JSON-compatible format\n",
        "graph_data = json_graph.node_link_data(G)\n",
        "\n",
        "# Save to JSON file\n",
        "with open(\"graph.json\", \"w\") as f:\n",
        "    json.dump(graph_data, f, cls=CustomJSONizer, indent=4)"
      ],
      "metadata": {
        "id": "YZguGQGO-U7M",
        "colab": {
          "base_uri": "https://localhost:8080/"
        },
        "outputId": "5a4dabf3-596c-4b0c-9656-e7f3b18c4710"
      },
      "execution_count": null,
      "outputs": [
        {
          "output_type": "stream",
          "name": "stderr",
          "text": [
            "/usr/local/lib/python3.11/dist-packages/networkx/readwrite/json_graph/node_link.py:142: FutureWarning: \n",
            "The default value will be `edges=\"edges\" in NetworkX 3.6.\n",
            "\n",
            "To make this warning go away, explicitly set the edges kwarg, e.g.:\n",
            "\n",
            "  nx.node_link_data(G, edges=\"links\") to preserve current behavior, or\n",
            "  nx.node_link_data(G, edges=\"edges\") for forward compatibility.\n",
            "  warnings.warn(\n"
          ]
        }
      ]
    },
    {
      "cell_type": "markdown",
      "source": [
        "###Routing"
      ],
      "metadata": {
        "id": "IgmrFySMPQbA"
      }
    },
    {
      "cell_type": "markdown",
      "source": [
        "need to add fill vals of each bin, create subset of graph"
      ],
      "metadata": {
        "id": "3sbZ9JgNgzfN"
      }
    },
    {
      "cell_type": "markdown",
      "source": [
        "####routes with just a subset"
      ],
      "metadata": {
        "id": "2WPo3SnjkYZK"
      }
    },
    {
      "cell_type": "code",
      "source": [
        "borough_nodes_1 = [n for n, data in G.nodes(data=True) if data.get('borough') == 1]\n",
        "G_borough_1 = G.subgraph(borough_nodes_1)\n",
        "garages_1 = [n for n, data in G_borough_1.nodes(data=True) if data.get('point_type') == 'garage']\n",
        "waste_bins_1 = [n for n, data in G_borough_1.nodes(data=True) if data.get('point_type') == 'waste_bin' and data.get('pickup') == True]\n",
        "print(f'waste bin vertices in borough 1: {len(waste_bins_1)}')"
      ],
      "metadata": {
        "id": "d-MAxnVZY-mJ",
        "colab": {
          "base_uri": "https://localhost:8080/"
        },
        "outputId": "11494c05-8baf-4cb6-b7c7-dd0c8280fca5"
      },
      "execution_count": null,
      "outputs": [
        {
          "output_type": "stream",
          "name": "stdout",
          "text": [
            "waste bin vertices in borough 1: 36\n"
          ]
        }
      ]
    },
    {
      "cell_type": "code",
      "source": [
        "points_of_interest = garages_1 + waste_bins_1\n",
        "pairwise_distances = {}\n",
        "pairwise_paths = {}\n",
        "\n",
        "for source in points_of_interest:\n",
        "    pairwise_distances[source] = {}\n",
        "    pairwise_paths[source] = {}\n",
        "    for target in points_of_interest:\n",
        "        if source != target:\n",
        "            distance = networkx.shortest_path_length(G, source=source, target=target, weight='weight')\n",
        "            path = networkx.shortest_path(G, source=source, target=target, weight='weight')\n",
        "            pairwise_distances[source][target] = distance\n",
        "            pairwise_paths[source][target] = path"
      ],
      "metadata": {
        "id": "Fp3fsHs7MQYi"
      },
      "execution_count": null,
      "outputs": []
    },
    {
      "cell_type": "code",
      "source": [
        "def nearest_neighbor_tsp(start, nodes, distances):\n",
        "    tour = [start]\n",
        "    unvisited = set(nodes)\n",
        "    unvisited.remove(start)\n",
        "    current = start\n",
        "\n",
        "    while unvisited:\n",
        "        next_node = min(unvisited, key=lambda node: distances[current][node])\n",
        "        tour.append(next_node)\n",
        "        unvisited.remove(next_node)\n",
        "        current = next_node\n",
        "\n",
        "    tour.append(start)  # return to start\n",
        "    return tour\n",
        "\n",
        "# Example usage:\n",
        "start_garage = garages_1[0]  # choose a starting garage\n",
        "points = garages_1 + waste_bins_1\n",
        "tsp_route = nearest_neighbor_tsp(start_garage, points, pairwise_distances)\n",
        "# print(\"TSP Route:\", tsp_route)"
      ],
      "metadata": {
        "id": "kY78ucjtUpGK"
      },
      "execution_count": null,
      "outputs": []
    },
    {
      "cell_type": "code",
      "source": [
        "waste_bin_assignments = {}\n",
        "for wb in waste_bins_1:\n",
        "    nearest_garages = [g for g in garages_1 if g in pairwise_distances and wb in pairwise_distances[g]]\n",
        "    if nearest_garages:\n",
        "        waste_bin_assignments[wb] = min(nearest_garages, key=lambda g: pairwise_distances[g][wb])\n",
        "\n",
        "garage_routes = {g: [] for g in garages_1}\n",
        "for wb, g in waste_bin_assignments.items():\n",
        "    garage_routes[g].append(wb)\n",
        "\n",
        "# Step 3: Solve TSP for each garage\n",
        "def nearest_neighbor_tsp(start, nodes, distances):\n",
        "    tour = [start]\n",
        "    unvisited = set(nodes)\n",
        "    unvisited.remove(start)\n",
        "    current = start\n",
        "\n",
        "    while unvisited:\n",
        "        next_node = min(unvisited, key=lambda node: distances[current][node])\n",
        "        tour.append(next_node)\n",
        "        unvisited.remove(next_node)\n",
        "        current = next_node\n",
        "\n",
        "    tour.append(start)  # return to start\n",
        "    return tour\n",
        "\n",
        "# Step 4: Compute routes for each garage\n",
        "all_routes = {}\n",
        "for garage, bins in garage_routes.items():\n",
        "    points = [garage] + bins  # Garage + assigned waste bins\n",
        "    tsp_route = nearest_neighbor_tsp(garage, points, pairwise_distances)\n",
        "\n",
        "    # Convert TSP route to full path using pairwise_paths\n",
        "    full_route = []\n",
        "    for i in range(len(tsp_route) - 1):\n",
        "        if len(tsp_route) > 2:\n",
        "          segment = pairwise_paths[tsp_route[i]][tsp_route[i + 1]]\n",
        "          if i > 0:  # Avoid duplicate nodes between segments\n",
        "              segment = segment[1:]\n",
        "          full_route.extend(segment)\n",
        "\n",
        "    all_routes[garage] = full_route  # Store route per garage\n",
        "\n",
        "# Step 5: Print or visualize routes\n",
        "summ = 0\n",
        "for garage, route in all_routes.items():\n",
        "  if route != []:\n",
        "    summ += len(route) - 2\n",
        "    print(f\"Route for Garage {garage}: {route}\")\n",
        "print(f'num of nodes in routes: {summ}')"
      ],
      "metadata": {
        "colab": {
          "base_uri": "https://localhost:8080/"
        },
        "id": "rEXbb1hpRk2s",
        "outputId": "d71e4855-ffb0-4d05-d122-dcc30cd6126f"
      },
      "execution_count": null,
      "outputs": [
        {
          "output_type": "stream",
          "name": "stdout",
          "text": [
            "Route for Garage 134: [134, 169, 170, 191, 201, 198, 177, 179, 134]\n",
            "Route for Garage 135: [135, 206, 135]\n",
            "Route for Garage 137: [137, 181, 180, 178, 171, 137]\n",
            "Route for Garage 138: [138, 195, 200, 197, 194, 199, 196, 189, 138]\n",
            "Route for Garage 142: [142, 217, 216, 218, 214, 219, 215, 220, 142]\n",
            "Route for Garage 145: [145, 208, 207, 145]\n",
            "Route for Garage 89: [89, 209, 89]\n",
            "Route for Garage 101: [101, 167, 168, 101]\n",
            "Route for Garage 111: [111, 193, 188, 192, 190, 187, 111]\n",
            "num of nodes in routes: 36\n"
          ]
        }
      ]
    },
    {
      "cell_type": "code",
      "source": [
        "assigned_waste_bins = set(waste_bin_assignments.keys())\n",
        "all_waste_bins = set(waste_bins_1)\n",
        "print(\"Unassigned waste bins:\", all_waste_bins - assigned_waste_bins)"
      ],
      "metadata": {
        "colab": {
          "base_uri": "https://localhost:8080/"
        },
        "id": "p6xAgKife7uO",
        "outputId": "279e7568-d9d9-45f6-d806-5d0b9910d927"
      },
      "execution_count": null,
      "outputs": [
        {
          "output_type": "stream",
          "name": "stdout",
          "text": [
            "Unassigned waste bins: set()\n"
          ]
        }
      ]
    },
    {
      "cell_type": "markdown",
      "source": [
        "####routes with the whole graph"
      ],
      "metadata": {
        "id": "VBzFeQdykdkN"
      }
    },
    {
      "cell_type": "code",
      "source": [
        "garages = [n for n, data in G.nodes(data=True) if data.get('point_type') == 'garage']\n",
        "waste_bins = [n for n, data in G.nodes(data=True) if data.get('point_type') == 'waste_bin' and data.get('pickup') == True]\n",
        "print(f'waste bin to be picked up: {len(waste_bins)}')"
      ],
      "metadata": {
        "colab": {
          "base_uri": "https://localhost:8080/"
        },
        "id": "sv6Xd1M-jsQA",
        "outputId": "8761d9ae-cbf4-4763-ebd2-b468dfc3ecc2"
      },
      "execution_count": null,
      "outputs": [
        {
          "output_type": "stream",
          "name": "stdout",
          "text": [
            "waste bin to be picked up: 242\n"
          ]
        }
      ]
    },
    {
      "cell_type": "code",
      "source": [
        "points_of_interest = garages + waste_bins\n",
        "pairwise_distances = {}\n",
        "pairwise_paths = {}\n",
        "\n",
        "for source in points_of_interest:\n",
        "    print(source)\n",
        "    pairwise_distances[source] = {}\n",
        "    pairwise_paths[source] = {}\n",
        "    for target in points_of_interest:\n",
        "        if source != target:\n",
        "            try:\n",
        "                distance = networkx.shortest_path_length(G, source=source, target=target, weight='weight')\n",
        "                path = networkx.shortest_path(G, source=source, target=target, weight='weight')\n",
        "                pairwise_distances[source][target] = distance\n",
        "                pairwise_paths[source][target] = path\n",
        "            except networkx.NetworkXNoPath:\n",
        "                # Handle unreachable pairs: either skip or assign a default value\n",
        "                pairwise_distances[source][target] = float('inf')\n",
        "                pairwise_paths[source][target] = None\n"
      ],
      "metadata": {
        "colab": {
          "base_uri": "https://localhost:8080/"
        },
        "id": "p9MX00l6knI4",
        "outputId": "ad60555f-9de1-4702-b3b3-bb6184e4270b"
      },
      "execution_count": null,
      "outputs": [
        {
          "output_type": "stream",
          "name": "stdout",
          "text": [
            "87\n",
            "88\n",
            "89\n",
            "90\n",
            "91\n",
            "92\n",
            "93\n",
            "94\n",
            "95\n",
            "96\n",
            "97\n",
            "98\n",
            "99\n",
            "100\n",
            "101\n",
            "102\n",
            "103\n",
            "104\n",
            "105\n",
            "106\n",
            "107\n",
            "108\n",
            "109\n",
            "110\n",
            "111\n",
            "112\n",
            "113\n",
            "114\n",
            "115\n",
            "116\n",
            "117\n",
            "118\n",
            "119\n",
            "120\n",
            "121\n",
            "122\n",
            "123\n",
            "124\n",
            "125\n",
            "126\n",
            "127\n",
            "128\n",
            "129\n",
            "130\n",
            "131\n",
            "132\n",
            "133\n",
            "134\n",
            "135\n",
            "136\n",
            "137\n",
            "138\n",
            "139\n",
            "140\n",
            "141\n",
            "142\n",
            "143\n",
            "144\n",
            "145\n",
            "146\n",
            "147\n",
            "148\n",
            "149\n",
            "150\n",
            "151\n",
            "152\n",
            "153\n",
            "154\n",
            "155\n",
            "156\n",
            "157\n",
            "158\n",
            "159\n",
            "160\n",
            "161\n",
            "162\n",
            "163\n",
            "164\n",
            "165\n",
            "166\n",
            "167\n",
            "168\n",
            "169\n",
            "170\n",
            "171\n",
            "177\n",
            "178\n",
            "179\n",
            "180\n",
            "181\n",
            "187\n",
            "188\n",
            "189\n",
            "190\n",
            "191\n",
            "192\n",
            "193\n",
            "194\n",
            "195\n",
            "196\n",
            "197\n",
            "198\n",
            "199\n",
            "200\n",
            "201\n",
            "206\n",
            "207\n",
            "208\n",
            "209\n",
            "214\n",
            "215\n",
            "216\n",
            "217\n",
            "218\n",
            "219\n",
            "220\n",
            "221\n",
            "222\n",
            "223\n",
            "224\n",
            "225\n",
            "226\n",
            "227\n",
            "228\n",
            "229\n",
            "230\n",
            "231\n",
            "232\n",
            "233\n",
            "234\n",
            "235\n",
            "236\n",
            "237\n",
            "238\n",
            "239\n",
            "240\n",
            "241\n",
            "242\n",
            "243\n",
            "244\n",
            "245\n",
            "246\n",
            "247\n",
            "252\n",
            "253\n",
            "254\n",
            "255\n",
            "256\n",
            "257\n",
            "258\n",
            "259\n",
            "260\n",
            "261\n",
            "262\n",
            "263\n",
            "264\n",
            "265\n",
            "266\n",
            "267\n",
            "268\n",
            "269\n",
            "270\n",
            "271\n",
            "272\n",
            "273\n",
            "274\n",
            "275\n",
            "276\n",
            "277\n",
            "282\n",
            "283\n",
            "284\n",
            "285\n",
            "286\n",
            "287\n",
            "293\n",
            "294\n",
            "295\n",
            "296\n",
            "297\n",
            "298\n",
            "303\n",
            "304\n",
            "305\n",
            "306\n",
            "307\n",
            "312\n",
            "313\n",
            "314\n",
            "315\n",
            "316\n",
            "317\n",
            "318\n",
            "319\n",
            "320\n",
            "321\n",
            "322\n",
            "323\n",
            "324\n",
            "325\n",
            "326\n",
            "327\n",
            "328\n",
            "329\n",
            "330\n",
            "331\n",
            "332\n",
            "333\n",
            "334\n",
            "335\n",
            "336\n",
            "337\n",
            "338\n",
            "339\n",
            "340\n",
            "341\n",
            "342\n",
            "343\n",
            "344\n",
            "345\n",
            "346\n",
            "347\n",
            "348\n",
            "349\n",
            "350\n",
            "351\n",
            "352\n",
            "353\n",
            "354\n",
            "355\n",
            "356\n",
            "357\n",
            "358\n",
            "359\n",
            "360\n",
            "361\n",
            "362\n",
            "363\n",
            "364\n",
            "365\n",
            "366\n",
            "367\n",
            "368\n",
            "369\n",
            "370\n",
            "371\n",
            "372\n",
            "373\n",
            "374\n",
            "375\n",
            "376\n",
            "377\n",
            "378\n",
            "379\n",
            "380\n",
            "381\n",
            "382\n",
            "383\n",
            "384\n",
            "385\n",
            "386\n",
            "387\n",
            "388\n",
            "389\n",
            "390\n",
            "391\n",
            "392\n",
            "393\n",
            "394\n",
            "395\n",
            "396\n",
            "397\n",
            "398\n",
            "399\n",
            "400\n",
            "401\n",
            "402\n",
            "403\n",
            "404\n",
            "405\n",
            "406\n",
            "407\n",
            "408\n",
            "409\n",
            "410\n",
            "411\n",
            "412\n",
            "413\n",
            "414\n",
            "421\n",
            "422\n",
            "423\n",
            "424\n",
            "425\n",
            "430\n",
            "431\n",
            "432\n",
            "433\n",
            "434\n",
            "435\n",
            "436\n",
            "437\n",
            "438\n",
            "447\n",
            "448\n",
            "449\n",
            "450\n",
            "451\n",
            "452\n",
            "453\n",
            "454\n",
            "455\n",
            "456\n",
            "457\n",
            "464\n",
            "465\n",
            "466\n",
            "467\n",
            "468\n",
            "469\n",
            "470\n",
            "471\n"
          ]
        }
      ]
    },
    {
      "cell_type": "code",
      "source": [
        "def nearest_neighbor_tsp(start, nodes, distances):\n",
        "    tour = [start]\n",
        "    unvisited = set(nodes)\n",
        "    unvisited.remove(start)\n",
        "    current = start\n",
        "\n",
        "    while unvisited:\n",
        "        # Find the nearest reachable node\n",
        "        reachable_nodes = [node for node in unvisited if node in distances[current] and distances[current][node] != float('inf')]\n",
        "\n",
        "        if not reachable_nodes:\n",
        "            print(f\"Warning: No reachable nodes from {current}, stopping early.\")\n",
        "            break  # No valid next node, stop the tour\n",
        "\n",
        "        next_node = min(reachable_nodes, key=lambda node: distances[current][node])\n",
        "        tour.append(next_node)\n",
        "        unvisited.remove(next_node)\n",
        "        current = next_node\n",
        "\n",
        "    tour.append(start)  # Return to start if possible\n",
        "    return tour\n",
        "\n",
        "\n",
        "# Example usage:\n",
        "start_garage = garages[0]  # choose a starting garage\n",
        "points = garages + waste_bins\n",
        "tsp_route = nearest_neighbor_tsp(start_garage, points, pairwise_distances)\n",
        "# print(\"TSP Route:\", tsp_route)"
      ],
      "metadata": {
        "colab": {
          "base_uri": "https://localhost:8080/"
        },
        "id": "6BIHtRjNlG79",
        "outputId": "04ccba55-e84a-4dcc-fb45-09bf01e72560"
      },
      "execution_count": null,
      "outputs": [
        {
          "output_type": "stream",
          "name": "stdout",
          "text": [
            "Warning: No reachable nodes from 146, stopping early.\n"
          ]
        }
      ]
    },
    {
      "cell_type": "code",
      "source": [
        "waste_bin_assignments = {}\n",
        "for wb in waste_bins:\n",
        "    # Filter for garages that have a valid distance (i.e., not `float('inf')`)\n",
        "    nearest_garages = [g for g in garages if g in pairwise_distances and wb in pairwise_distances[g] and pairwise_distances[g][wb] != float('inf')]\n",
        "\n",
        "    if nearest_garages:\n",
        "        waste_bin_assignments[wb] = min(nearest_garages, key=lambda g: pairwise_distances[g][wb])\n",
        "    else:\n",
        "        print(f\"Warning: No reachable garage found for waste bin {wb}. Skipping.\")\n",
        "\n",
        "\n",
        "garage_routes = {g: [] for g in garages}\n",
        "for wb, g in waste_bin_assignments.items():\n",
        "    garage_routes[g].append(wb)\n",
        "\n",
        "# Step 3: Solve TSP for each garage\n",
        "def nearest_neighbor_tsp(start, nodes, distances):\n",
        "    tour = [start]\n",
        "    unvisited = set(nodes)\n",
        "    unvisited.remove(start)\n",
        "    current = start\n",
        "\n",
        "    while unvisited:\n",
        "        next_node = min(unvisited, key=lambda node: distances[current][node])\n",
        "        tour.append(next_node)\n",
        "        unvisited.remove(next_node)\n",
        "        current = next_node\n",
        "\n",
        "    tour.append(start)  # return to start\n",
        "    return tour\n",
        "\n",
        "# Step 4: Compute routes for each garage\n",
        "all_routes = {}\n",
        "for garage, bins in garage_routes.items():\n",
        "    points = [garage] + bins  # Garage + assigned waste bins\n",
        "    tsp_route = nearest_neighbor_tsp(garage, points, pairwise_distances)\n",
        "\n",
        "    # Convert TSP route to full path using pairwise_paths\n",
        "    full_route = []\n",
        "    for i in range(len(tsp_route) - 1):\n",
        "        if len(tsp_route) > 2:\n",
        "          segment = pairwise_paths[tsp_route[i]][tsp_route[i + 1]]\n",
        "          if i > 0:  # Avoid duplicate nodes between segments\n",
        "              segment = segment[1:]\n",
        "          full_route.extend(segment)\n",
        "\n",
        "    all_routes[garage] = full_route  # Store route per garage"
      ],
      "metadata": {
        "colab": {
          "base_uri": "https://localhost:8080/"
        },
        "id": "rHnPt53mlKR1",
        "outputId": "bc0f18d3-47bf-41dd-ddc8-5d06478d4eec"
      },
      "execution_count": null,
      "outputs": [
        {
          "output_type": "stream",
          "name": "stdout",
          "text": [
            "Route for Garage 87: [87, 423, 87]\n",
            "Route for Garage 88: [88, 256, 88]\n",
            "Route for Garage 89: [89, 208, 89]\n",
            "Route for Garage 91: [91, 414, 412, 410, 434, 438, 91]\n",
            "Route for Garage 92: [92, 454, 456, 92]\n",
            "Route for Garage 95: [95, 367, 364, 359, 360, 343, 366, 354, 95]\n",
            "Route for Garage 97: [97, 227, 97]\n",
            "Route for Garage 100: [100, 317, 332, 305, 329, 334, 320, 100]\n",
            "Route for Garage 101: [101, 179, 101]\n",
            "Route for Garage 102: [102, 177, 178, 102]\n",
            "Route for Garage 103: [103, 180, 103]\n",
            "Route for Garage 106: [106, 284, 283, 282, 287, 271, 273, 106]\n",
            "Route for Garage 107: [107, 304, 306, 275, 274, 272, 107]\n",
            "Route for Garage 108: [108, 257, 255, 260, 261, 108]\n",
            "Route for Garage 109: [109, 371, 373, 376, 374, 369, 109]\n",
            "Route for Garage 110: [110, 239, 110]\n",
            "Route for Garage 111: [111, 189, 191, 188, 111]\n",
            "Route for Garage 112: [112, 347, 350, 351, 112]\n",
            "Route for Garage 114: [114, 370, 368, 372, 114]\n",
            "Route for Garage 115: [115, 252, 115]\n",
            "Route for Garage 116: [116, 324, 328, 330, 335, 331, 318, 322, 342, 339, 116]\n",
            "Route for Garage 117: [117, 295, 117]\n",
            "Route for Garage 118: [118, 449, 448, 450, 447, 118]\n",
            "Route for Garage 119: [119, 409, 402, 403, 407, 401, 408, 406, 119]\n",
            "Route for Garage 120: [120, 223, 120]\n",
            "Route for Garage 122: [122, 285, 122]\n",
            "Route for Garage 123: [123, 222, 123]\n",
            "Route for Garage 126: [126, 424, 422, 126]\n",
            "Route for Garage 127: [127, 228, 225, 232, 224, 254, 127]\n",
            "Route for Garage 128: [128, 168, 128]\n",
            "Route for Garage 129: [129, 375, 129]\n",
            "Route for Garage 130: [130, 432, 435, 433, 430, 431, 130]\n",
            "Route for Garage 131: [131, 421, 437, 436, 413, 411, 398, 397, 383, 392, 425, 131]\n",
            "Route for Garage 132: [132, 170, 132]\n",
            "Route for Garage 133: [133, 230, 236, 229, 231, 243, 237, 233, 133]\n",
            "Route for Garage 134: [134, 193, 194, 134]\n",
            "Route for Garage 135: [135, 207, 135]\n",
            "Route for Garage 136: [136, 404, 136]\n",
            "Route for Garage 137: [137, 167, 181, 171, 169, 137]\n",
            "Route for Garage 138: [138, 196, 195, 201, 199, 198, 190, 192, 187, 197, 200, 138]\n",
            "Route for Garage 139: [139, 303, 139]\n",
            "Route for Garage 140: [140, 362, 361, 140]\n",
            "Route for Garage 141: [141, 276, 277, 141]\n",
            "Route for Garage 142: [142, 218, 217, 220, 142]\n",
            "Route for Garage 143: [143, 241, 253, 143]\n",
            "Route for Garage 145: [145, 206, 209, 215, 145]\n",
            "Route for Garage 147: [147, 298, 294, 297, 147]\n",
            "Route for Garage 148: [148, 451, 452, 455, 457, 453, 148]\n",
            "Route for Garage 149: [149, 216, 219, 214, 149]\n",
            "Route for Garage 150: [150, 307, 333, 150]\n",
            "Route for Garage 152: [152, 293, 353, 296, 352, 152]\n",
            "Route for Garage 153: [153, 258, 269, 259, 153]\n",
            "Route for Garage 154: [154, 357, 312, 314, 355, 286, 358, 356, 313, 315, 154]\n",
            "Route for Garage 155: [155, 377, 155]\n",
            "Route for Garage 157: [157, 226, 238, 234, 242, 244, 247, 235, 245, 246, 240, 265, 264, 157]\n",
            "Route for Garage 158: [158, 327, 338, 323, 326, 321, 325, 316, 319, 158]\n",
            "Route for Garage 159: [159, 336, 337, 348, 159]\n",
            "Route for Garage 160: [160, 221, 160]\n",
            "Route for Garage 161: [161, 468, 466, 471, 469, 465, 464, 467, 470, 161]\n",
            "Route for Garage 162: [162, 267, 270, 262, 263, 266, 268, 162]\n",
            "Route for Garage 163: [163, 380, 381, 386, 400, 399, 405, 163]\n",
            "Route for Garage 164: [164, 396, 390, 393, 379, 382, 385, 378, 384, 388, 387, 394, 395, 389, 164]\n",
            "Route for Garage 165: [165, 344, 346, 340, 345, 349, 341, 365, 363, 165]\n",
            "Route for Garage 166: [166, 391, 166]\n",
            "num of nodes in routes: 242\n"
          ]
        }
      ]
    },
    {
      "cell_type": "code",
      "source": [
        "assigned_waste_bins = set(waste_bin_assignments.keys())\n",
        "all_waste_bins = set(waste_bins)\n",
        "print(\"Unassigned waste bins:\", all_waste_bins - assigned_waste_bins)"
      ],
      "metadata": {
        "colab": {
          "base_uri": "https://localhost:8080/"
        },
        "id": "3pGbTIc9lNhR",
        "outputId": "b5aceecf-5fd5-4915-ff38-e26f270f77d9"
      },
      "execution_count": null,
      "outputs": [
        {
          "output_type": "stream",
          "name": "stdout",
          "text": [
            "Unassigned waste bins: set()\n"
          ]
        }
      ]
    },
    {
      "cell_type": "markdown",
      "source": [
        "####reduce to active routes"
      ],
      "metadata": {
        "id": "9jkTdQKbkhYO"
      }
    },
    {
      "cell_type": "code",
      "source": [
        "# drop garages without a route\n",
        "garages_with_routes = {garage: route for garage, route in all_routes.items() if route}"
      ],
      "metadata": {
        "id": "wxUtpn2Tbemp"
      },
      "execution_count": null,
      "outputs": []
    },
    {
      "cell_type": "markdown",
      "source": [
        "###Visualization"
      ],
      "metadata": {
        "id": "6YyJ4P-jPMi0"
      }
    },
    {
      "cell_type": "code",
      "source": [
        "net = Network(notebook=True, height=\"800px\", width=\"100%\", directed=True)\n",
        "\n",
        "# Add all nodes from G (or you can limit to nodes in your routes)\n",
        "for node, data in G.nodes(data=True):\n",
        "    # Distinguish garages from waste bins\n",
        "    if data.get('point_type') == 'garage':\n",
        "        # Use a different color and shape for garages\n",
        "        node_color = \"green\"\n",
        "        node_shape = \"triangle\"\n",
        "    else:\n",
        "        node_color = \"blue\"\n",
        "        node_shape = \"dot\"\n",
        "\n",
        "    net.add_node(\n",
        "        node,\n",
        "        label=f\"type: {data.get('point_type')} \\n borough: {data.get('borough')} \\n community: {data.get('cd_number')}\\n\" + (f\"needs pickup: {data.get('pickup')}\" if data.get('point_type') == 'waste_bin' else \"\"),\n",
        "        #title=f\"CD: {data.get('cd_number', 'NA')}, Borough: {data.get('borough', 'NA')}\",\n",
        "        color=node_color,\n",
        "        shape=node_shape\n",
        "    )\n",
        "\n",
        "# Add edges for each route in all_routes.\n",
        "# Optionally, you can give each route its own color.\n",
        "route_colors = [\"red\", \"orange\", \"purple\", \"brown\", \"pink\", \"magenta\", \"cyan\", \"lime\"]\n",
        "for i, (garage, full_route) in enumerate(all_routes.items()):\n",
        "    # Cycle through route colors\n",
        "    edge_color = route_colors[i % len(route_colors)]\n",
        "    # For each consecutive pair in the route, add an edge.\n",
        "    for j in range(len(full_route) - 1):\n",
        "        u = full_route[j]\n",
        "        v = full_route[j + 1]\n",
        "        net.add_edge(u, v, color=edge_color)\n",
        "\n",
        "# Show the interactive graph\n",
        "net.show(\"waste_collection_graph.html\")"
      ],
      "metadata": {
        "colab": {
          "base_uri": "https://localhost:8080/",
          "height": 73
        },
        "id": "C3rI-bqBc45G",
        "outputId": "2d0c21b6-c863-43b0-a04e-44e1d84a4a38"
      },
      "execution_count": null,
      "outputs": [
        {
          "output_type": "stream",
          "name": "stdout",
          "text": [
            "Warning: When  cdn_resources is 'local' jupyter notebook has issues displaying graphics on chrome/safari. Use cdn_resources='in_line' or cdn_resources='remote' if you have issues viewing graphics in a notebook.\n",
            "waste_collection_graph.html\n"
          ]
        },
        {
          "output_type": "execute_result",
          "data": {
            "text/plain": [
              "<IPython.lib.display.IFrame at 0x7d2f75aeb910>"
            ],
            "text/html": [
              "\n",
              "        <iframe\n",
              "            width=\"100%\"\n",
              "            height=\"800px\"\n",
              "            src=\"waste_collection_graph.html\"\n",
              "            frameborder=\"0\"\n",
              "            allowfullscreen\n",
              "            \n",
              "        ></iframe>\n",
              "        "
            ]
          },
          "metadata": {},
          "execution_count": 134
        }
      ]
    },
    {
      "cell_type": "code",
      "source": [
        "# create graph from route\n",
        "route_graph = networkx.Graph()\n",
        "for node in full_route:\n",
        "    # This adds the node along with all its attributes from G\n",
        "    route_graph.add_node(node, **G.nodes[node])\n",
        "\n",
        "edges = [(full_route[i], full_route[i+1]) for i in range(len(full_route)-1)]\n",
        "route_graph.add_edges_from(edges)\n",
        "\n",
        "# Convert NetworkX Graph to Pyvis\n",
        "net = Network(notebook=True, height=\"800px\", width=\"100%\", directed=True)\n",
        "\n",
        "# Add Nodes\n",
        "for node, data in G.nodes(data=True):\n",
        "    net.add_node(node, label=f\"Stop {node}\\nBins: {data.get('bins_needed', 0)}\",\n",
        "                 title=f\"CD: {data['cd_number']}, Borough: {data['borough']}\",\n",
        "                 size=data.get('bins_needed', 1) * 5, color=\"blue\")\n",
        "\n",
        "# Add Edges\n",
        "for u, v in route_graph.edges():\n",
        "    # edge data in route_graph is retrieved\n",
        "    net.add_edge(u, v, color=\"red\")\n",
        "\n",
        "# Show Interactive Graph\n",
        "net.show(\"waste_collection_graph.html\")"
      ],
      "metadata": {
        "colab": {
          "base_uri": "https://localhost:8080/",
          "height": 73
        },
        "id": "XSfTXIgxPKbQ",
        "outputId": "1aacabab-883f-4013-bb95-7afa8dfe6f9e"
      },
      "execution_count": null,
      "outputs": [
        {
          "output_type": "stream",
          "name": "stdout",
          "text": [
            "Warning: When  cdn_resources is 'local' jupyter notebook has issues displaying graphics on chrome/safari. Use cdn_resources='in_line' or cdn_resources='remote' if you have issues viewing graphics in a notebook.\n",
            "waste_collection_graph.html\n"
          ]
        },
        {
          "output_type": "execute_result",
          "data": {
            "text/plain": [
              "<IPython.lib.display.IFrame at 0x7e1504f28ed0>"
            ],
            "text/html": [
              "\n",
              "        <iframe\n",
              "            width=\"100%\"\n",
              "            height=\"800px\"\n",
              "            src=\"waste_collection_graph.html\"\n",
              "            frameborder=\"0\"\n",
              "            allowfullscreen\n",
              "            \n",
              "        ></iframe>\n",
              "        "
            ]
          },
          "metadata": {},
          "execution_count": 289
        }
      ]
    },
    {
      "cell_type": "code",
      "source": [
        "# Plot total waste collection per borough\n",
        "#import seaborn as sns\n",
        "#import matplotlib.pyplot as plt\n",
        "\n",
        "plt.figure(figsize=(10, 5))\n",
        "sns.barplot(data=bins_per_comm, x=\"borough_name\", y=\"mean(refuse_tons)\", palette=\"coolwarm\")\n",
        "plt.title(\"Average Waste Collected Per Borough\")\n",
        "plt.ylabel(\"Mean Refuse Tons\")\n",
        "plt.xlabel(\"Borough\")\n",
        "plt.xticks(rotation=45)\n",
        "plt.show()"
      ],
      "metadata": {
        "colab": {
          "base_uri": "https://localhost:8080/",
          "height": 657
        },
        "id": "uqdA7M2UQi-7",
        "outputId": "f8f411ec-0c73-4c4b-a4e3-8ab1b3327490"
      },
      "execution_count": null,
      "outputs": [
        {
          "output_type": "stream",
          "name": "stderr",
          "text": [
            "<ipython-input-290-86e3912fc351>:6: FutureWarning: \n",
            "\n",
            "Passing `palette` without assigning `hue` is deprecated and will be removed in v0.14.0. Assign the `x` variable to `hue` and set `legend=False` for the same effect.\n",
            "\n",
            "  sns.barplot(data=bins_per_comm, x=\"borough_name\", y=\"mean(refuse_tons)\", palette=\"coolwarm\")\n"
          ]
        },
        {
          "output_type": "display_data",
          "data": {
            "text/plain": [
              "<Figure size 1000x500 with 1 Axes>"
            ],
            "image/png": "[encoded data removed]"
          },
          "metadata": {}
        }
      ]
    },
    {
      "cell_type": "code",
      "source": [
        "# collection point\n",
        "import geopandas as gpd\n",
        "\n",
        "# Convert to GeoDataFrame\n",
        "gdf = gpd.GeoDataFrame(merged, geometry=gpd.points_from_xy(merged['longitude'], merged['latitude']))\n",
        "\n",
        "# Plot Heatmap\n",
        "url = \"https://naciscdn.org/naturalearth/110m/cultural/ne_110m_admin_0_countries.zip\"\n",
        "world = gpd.read_file(url)\n",
        "fig, ax = plt.subplots(figsize=(10, 7))\n",
        "world.plot(ax=ax, color=\"white\", edgecolor=\"black\")\n",
        "gdf.plot(ax=ax, color=\"red\", alpha=0.5)\n",
        "\n",
        "min_x, max_x = gdf['longitude'].min() - .05, gdf['longitude'].max() + .05\n",
        "min_y, max_y = gdf['latitude'].min() - .05, gdf['latitude'].max() + .05\n",
        "\n",
        "ax.set_xlim(min_x, max_x)\n",
        "ax.set_ylim(min_y, max_y)\n",
        "\n",
        "plt.title(\"Waste Collection Points Heatmap\")\n",
        "plt.show()"
      ],
      "metadata": {
        "colab": {
          "base_uri": "https://localhost:8080/",
          "height": 622
        },
        "id": "V29RSHWxQkn-",
        "outputId": "b2402a35-8f91-4f41-91cf-125682db0068"
      },
      "execution_count": null,
      "outputs": [
        {
          "output_type": "display_data",
          "data": {
            "text/plain": [
              "<Figure size 1000x700 with 1 Axes>"
            ],
            "image/png": "[encoded data removed]"
          },
          "metadata": {}
        }
      ]
    },
    {
      "cell_type": "markdown",
      "source": [
        "#kafka"
      ],
      "metadata": {
        "id": "8tsTJqZ7JSqs"
      }
    },
    {
      "cell_type": "code",
      "source": [
        "model_json = lstm_model.to_json()\n",
        "with open(\"model_architecture.json\", \"w\") as json_file:\n",
        "    json_file.write(model_json)"
      ],
      "metadata": {
        "id": "hc1LH64iJUBA"
      },
      "execution_count": null,
      "outputs": []
    }
  ]
}